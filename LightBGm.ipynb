{
 "cells": [
  {
   "cell_type": "code",
   "execution_count": 7,
   "metadata": {},
   "outputs": [],
   "source": [
    "import numpy as np\n",
    "import pandas as pd\n",
    "from sklearn.model_selection import train_test_split\n",
    "import lightgbm as lgb\n",
    "from sklearn.metrics import roc_auc_score\n",
    "import matplotlib.pyplot as plt"
   ]
  },
  {
   "cell_type": "code",
   "execution_count": 18,
   "metadata": {},
   "outputs": [],
   "source": [
    "df=pd.read_csv('feature_time_48k_2048_load_1.csv')\n",
    "df.columns\n",
    "\n",
    "feature_df=df[['max', 'min', 'mean', 'sd', 'rms', 'skewness', 'kurtosis', 'crest',\n",
    "       'form',]]\n",
    "X=np.asarray(feature_df)\n",
    "y=np.asarray(df['fault'])\n"
   ]
  },
  {
   "cell_type": "code",
   "execution_count": 30,
   "metadata": {},
   "outputs": [],
   "source": [
    "from sklearn.preprocessing import LabelEncoder\n",
    "le=LabelEncoder()\n",
    "X_train,X_test,y_train,y_test=train_test_split(X,y,test_size=0.2, random_state=42)\n",
    "y_train = le.fit_transform(y_train)\n",
    "y_test = le.fit_transform(y_test)"
   ]
  },
  {
   "cell_type": "code",
   "execution_count": null,
   "metadata": {},
   "outputs": [],
   "source": [
    "%pip install optuna"
   ]
  },
  {
   "cell_type": "code",
   "execution_count": 31,
   "metadata": {},
   "outputs": [],
   "source": [
    "import lightgbm as lgb\n",
    "from lightgbm import early_stopping\n"
   ]
  },
  {
   "cell_type": "code",
   "execution_count": 55,
   "metadata": {},
   "outputs": [
    {
     "name": "stderr",
     "output_type": "stream",
     "text": [
      "[I 2024-10-05 14:58:04,138] A new study created in memory with name: no-name-a09b5575-32f0-4bd8-a410-ed1098307456\n",
      "C:\\Users\\nilarghya\\AppData\\Local\\Temp\\ipykernel_19804\\1114577306.py:14: FutureWarning: suggest_loguniform has been deprecated in v3.0.0. This feature will be removed in v6.0.0. See https://github.com/optuna/optuna/releases/tag/v3.0.0. Use suggest_float(..., log=True) instead.\n",
      "  'learning_rate': trial.suggest_loguniform('learning_rate', 1e-3, 1e-1),\n",
      "C:\\Users\\nilarghya\\AppData\\Local\\Temp\\ipykernel_19804\\1114577306.py:18: FutureWarning: suggest_loguniform has been deprecated in v3.0.0. This feature will be removed in v6.0.0. See https://github.com/optuna/optuna/releases/tag/v3.0.0. Use suggest_float(..., log=True) instead.\n",
      "  'lambda_l1': trial.suggest_loguniform('lambda_l1', 1e-8, 10.0),\n",
      "C:\\Users\\nilarghya\\AppData\\Local\\Temp\\ipykernel_19804\\1114577306.py:19: FutureWarning: suggest_loguniform has been deprecated in v3.0.0. This feature will be removed in v6.0.0. See https://github.com/optuna/optuna/releases/tag/v3.0.0. Use suggest_float(..., log=True) instead.\n",
      "  'lambda_l2': trial.suggest_loguniform('lambda_l2', 1e-8, 10.0),\n",
      "C:\\Users\\nilarghya\\AppData\\Local\\Temp\\ipykernel_19804\\1114577306.py:20: FutureWarning: suggest_uniform has been deprecated in v3.0.0. This feature will be removed in v6.0.0. See https://github.com/optuna/optuna/releases/tag/v3.0.0. Use suggest_float instead.\n",
      "  'feature_fraction': trial.suggest_uniform('feature_fraction', 0.5, 1.0),\n",
      "C:\\Users\\nilarghya\\AppData\\Local\\Temp\\ipykernel_19804\\1114577306.py:21: FutureWarning: suggest_uniform has been deprecated in v3.0.0. This feature will be removed in v6.0.0. See https://github.com/optuna/optuna/releases/tag/v3.0.0. Use suggest_float instead.\n",
      "  'bagging_fraction': trial.suggest_uniform('bagging_fraction', 0.5, 1.0),\n"
     ]
    },
    {
     "name": "stdout",
     "output_type": "stream",
     "text": [
      "Training until validation scores don't improve for 20 rounds\n",
      "[10]\tvalid_0's multi_logloss: 1.71084\n",
      "[20]\tvalid_0's multi_logloss: 1.34926\n",
      "[30]\tvalid_0's multi_logloss: 1.10578\n",
      "[40]\tvalid_0's multi_logloss: 0.934154\n",
      "[50]\tvalid_0's multi_logloss: 0.799593\n",
      "[60]\tvalid_0's multi_logloss: 0.697662\n",
      "[70]\tvalid_0's multi_logloss: 0.61514\n",
      "[80]\tvalid_0's multi_logloss: 0.552223\n",
      "[90]\tvalid_0's multi_logloss: 0.502547\n",
      "[100]\tvalid_0's multi_logloss: 0.459984\n",
      "[110]\tvalid_0's multi_logloss: 0.426221\n",
      "[120]\tvalid_0's multi_logloss: 0.397132\n",
      "[130]\tvalid_0's multi_logloss: 0.374055\n",
      "[140]\tvalid_0's multi_logloss: 0.354964\n",
      "[150]\tvalid_0's multi_logloss: 0.338816\n",
      "[160]\tvalid_0's multi_logloss: 0.325488\n",
      "[170]\tvalid_0's multi_logloss: 0.314208\n",
      "[180]\tvalid_0's multi_logloss: 0.304693\n",
      "[190]\tvalid_0's multi_logloss: 0.29758\n",
      "[200]\tvalid_0's multi_logloss: 0.291518\n",
      "Did not meet early stopping. Best iteration is:\n",
      "[200]\tvalid_0's multi_logloss: 0.291518\n"
     ]
    },
    {
     "name": "stderr",
     "output_type": "stream",
     "text": [
      "[I 2024-10-05 14:58:06,399] Trial 0 finished with value: 0.07826086956521738 and parameters: {'learning_rate': 0.014951631690659953, 'num_leaves': 48, 'max_depth': 10, 'min_data_in_leaf': 66, 'lambda_l1': 6.098940547543696e-07, 'lambda_l2': 2.41851459842098, 'feature_fraction': 0.8410784813228489, 'bagging_fraction': 0.6298337336419392, 'bagging_freq': 7}. Best is trial 0 with value: 0.07826086956521738.\n",
      "C:\\Users\\nilarghya\\AppData\\Local\\Temp\\ipykernel_19804\\1114577306.py:14: FutureWarning: suggest_loguniform has been deprecated in v3.0.0. This feature will be removed in v6.0.0. See https://github.com/optuna/optuna/releases/tag/v3.0.0. Use suggest_float(..., log=True) instead.\n",
      "  'learning_rate': trial.suggest_loguniform('learning_rate', 1e-3, 1e-1),\n",
      "C:\\Users\\nilarghya\\AppData\\Local\\Temp\\ipykernel_19804\\1114577306.py:18: FutureWarning: suggest_loguniform has been deprecated in v3.0.0. This feature will be removed in v6.0.0. See https://github.com/optuna/optuna/releases/tag/v3.0.0. Use suggest_float(..., log=True) instead.\n",
      "  'lambda_l1': trial.suggest_loguniform('lambda_l1', 1e-8, 10.0),\n",
      "C:\\Users\\nilarghya\\AppData\\Local\\Temp\\ipykernel_19804\\1114577306.py:19: FutureWarning: suggest_loguniform has been deprecated in v3.0.0. This feature will be removed in v6.0.0. See https://github.com/optuna/optuna/releases/tag/v3.0.0. Use suggest_float(..., log=True) instead.\n",
      "  'lambda_l2': trial.suggest_loguniform('lambda_l2', 1e-8, 10.0),\n",
      "C:\\Users\\nilarghya\\AppData\\Local\\Temp\\ipykernel_19804\\1114577306.py:20: FutureWarning: suggest_uniform has been deprecated in v3.0.0. This feature will be removed in v6.0.0. See https://github.com/optuna/optuna/releases/tag/v3.0.0. Use suggest_float instead.\n",
      "  'feature_fraction': trial.suggest_uniform('feature_fraction', 0.5, 1.0),\n",
      "C:\\Users\\nilarghya\\AppData\\Local\\Temp\\ipykernel_19804\\1114577306.py:21: FutureWarning: suggest_uniform has been deprecated in v3.0.0. This feature will be removed in v6.0.0. See https://github.com/optuna/optuna/releases/tag/v3.0.0. Use suggest_float instead.\n",
      "  'bagging_fraction': trial.suggest_uniform('bagging_fraction', 0.5, 1.0),\n"
     ]
    },
    {
     "name": "stdout",
     "output_type": "stream",
     "text": [
      "Training until validation scores don't improve for 20 rounds\n",
      "[10]\tvalid_0's multi_logloss: 1.89642\n",
      "[20]\tvalid_0's multi_logloss: 1.61833\n",
      "[30]\tvalid_0's multi_logloss: 1.41104\n",
      "[40]\tvalid_0's multi_logloss: 1.24809\n",
      "[50]\tvalid_0's multi_logloss: 1.11639\n",
      "[60]\tvalid_0's multi_logloss: 1.00731\n",
      "[70]\tvalid_0's multi_logloss: 0.915019\n",
      "[80]\tvalid_0's multi_logloss: 0.835275\n",
      "[90]\tvalid_0's multi_logloss: 0.768352\n",
      "[100]\tvalid_0's multi_logloss: 0.709529\n",
      "[110]\tvalid_0's multi_logloss: 0.657332\n",
      "[120]\tvalid_0's multi_logloss: 0.611236\n",
      "[130]\tvalid_0's multi_logloss: 0.570389\n",
      "[140]\tvalid_0's multi_logloss: 0.534317\n",
      "[150]\tvalid_0's multi_logloss: 0.503638\n",
      "[160]\tvalid_0's multi_logloss: 0.475605\n",
      "[170]\tvalid_0's multi_logloss: 0.449523\n",
      "[180]\tvalid_0's multi_logloss: 0.427207\n",
      "[190]\tvalid_0's multi_logloss: 0.40756\n",
      "[200]\tvalid_0's multi_logloss: 0.389663\n",
      "Did not meet early stopping. Best iteration is:\n",
      "[200]\tvalid_0's multi_logloss: 0.389663\n"
     ]
    },
    {
     "name": "stderr",
     "output_type": "stream",
     "text": [
      "[I 2024-10-05 14:58:08,575] Trial 1 finished with value: 0.08478260869565213 and parameters: {'learning_rate': 0.00814919856503571, 'num_leaves': 207, 'max_depth': 11, 'min_data_in_leaf': 67, 'lambda_l1': 0.04384503066520351, 'lambda_l2': 7.042299900590663e-06, 'feature_fraction': 0.7836445727924901, 'bagging_fraction': 0.6040069991114005, 'bagging_freq': 1}. Best is trial 0 with value: 0.07826086956521738.\n",
      "C:\\Users\\nilarghya\\AppData\\Local\\Temp\\ipykernel_19804\\1114577306.py:14: FutureWarning: suggest_loguniform has been deprecated in v3.0.0. This feature will be removed in v6.0.0. See https://github.com/optuna/optuna/releases/tag/v3.0.0. Use suggest_float(..., log=True) instead.\n",
      "  'learning_rate': trial.suggest_loguniform('learning_rate', 1e-3, 1e-1),\n",
      "C:\\Users\\nilarghya\\AppData\\Local\\Temp\\ipykernel_19804\\1114577306.py:18: FutureWarning: suggest_loguniform has been deprecated in v3.0.0. This feature will be removed in v6.0.0. See https://github.com/optuna/optuna/releases/tag/v3.0.0. Use suggest_float(..., log=True) instead.\n",
      "  'lambda_l1': trial.suggest_loguniform('lambda_l1', 1e-8, 10.0),\n",
      "C:\\Users\\nilarghya\\AppData\\Local\\Temp\\ipykernel_19804\\1114577306.py:19: FutureWarning: suggest_loguniform has been deprecated in v3.0.0. This feature will be removed in v6.0.0. See https://github.com/optuna/optuna/releases/tag/v3.0.0. Use suggest_float(..., log=True) instead.\n",
      "  'lambda_l2': trial.suggest_loguniform('lambda_l2', 1e-8, 10.0),\n",
      "C:\\Users\\nilarghya\\AppData\\Local\\Temp\\ipykernel_19804\\1114577306.py:20: FutureWarning: suggest_uniform has been deprecated in v3.0.0. This feature will be removed in v6.0.0. See https://github.com/optuna/optuna/releases/tag/v3.0.0. Use suggest_float instead.\n",
      "  'feature_fraction': trial.suggest_uniform('feature_fraction', 0.5, 1.0),\n",
      "C:\\Users\\nilarghya\\AppData\\Local\\Temp\\ipykernel_19804\\1114577306.py:21: FutureWarning: suggest_uniform has been deprecated in v3.0.0. This feature will be removed in v6.0.0. See https://github.com/optuna/optuna/releases/tag/v3.0.0. Use suggest_float instead.\n",
      "  'bagging_fraction': trial.suggest_uniform('bagging_fraction', 0.5, 1.0),\n"
     ]
    },
    {
     "name": "stdout",
     "output_type": "stream",
     "text": [
      "Training until validation scores don't improve for 20 rounds\n",
      "[10]\tvalid_0's multi_logloss: 1.01562\n",
      "[20]\tvalid_0's multi_logloss: 0.622014\n",
      "[30]\tvalid_0's multi_logloss: 0.437492\n",
      "[40]\tvalid_0's multi_logloss: 0.340454\n",
      "[50]\tvalid_0's multi_logloss: 0.291385\n",
      "[60]\tvalid_0's multi_logloss: 0.26401\n",
      "[70]\tvalid_0's multi_logloss: 0.252549\n",
      "[80]\tvalid_0's multi_logloss: 0.249168\n",
      "[90]\tvalid_0's multi_logloss: 0.243991\n",
      "[100]\tvalid_0's multi_logloss: 0.247393\n",
      "[110]\tvalid_0's multi_logloss: 0.251661\n"
     ]
    },
    {
     "name": "stderr",
     "output_type": "stream",
     "text": [
      "[I 2024-10-05 14:58:09,998] Trial 2 finished with value: 0.07391304347826089 and parameters: {'learning_rate': 0.04543056578239468, 'num_leaves': 121, 'max_depth': 5, 'min_data_in_leaf': 83, 'lambda_l1': 0.02433419635910594, 'lambda_l2': 1.2141689616186146e-07, 'feature_fraction': 0.9345361642698484, 'bagging_fraction': 0.8114793028866031, 'bagging_freq': 5}. Best is trial 2 with value: 0.07391304347826089.\n"
     ]
    },
    {
     "name": "stdout",
     "output_type": "stream",
     "text": [
      "Early stopping, best iteration is:\n",
      "[94]\tvalid_0's multi_logloss: 0.243423\n"
     ]
    },
    {
     "name": "stderr",
     "output_type": "stream",
     "text": [
      "C:\\Users\\nilarghya\\AppData\\Local\\Temp\\ipykernel_19804\\1114577306.py:14: FutureWarning: suggest_loguniform has been deprecated in v3.0.0. This feature will be removed in v6.0.0. See https://github.com/optuna/optuna/releases/tag/v3.0.0. Use suggest_float(..., log=True) instead.\n",
      "  'learning_rate': trial.suggest_loguniform('learning_rate', 1e-3, 1e-1),\n",
      "C:\\Users\\nilarghya\\AppData\\Local\\Temp\\ipykernel_19804\\1114577306.py:18: FutureWarning: suggest_loguniform has been deprecated in v3.0.0. This feature will be removed in v6.0.0. See https://github.com/optuna/optuna/releases/tag/v3.0.0. Use suggest_float(..., log=True) instead.\n",
      "  'lambda_l1': trial.suggest_loguniform('lambda_l1', 1e-8, 10.0),\n",
      "C:\\Users\\nilarghya\\AppData\\Local\\Temp\\ipykernel_19804\\1114577306.py:19: FutureWarning: suggest_loguniform has been deprecated in v3.0.0. This feature will be removed in v6.0.0. See https://github.com/optuna/optuna/releases/tag/v3.0.0. Use suggest_float(..., log=True) instead.\n",
      "  'lambda_l2': trial.suggest_loguniform('lambda_l2', 1e-8, 10.0),\n",
      "C:\\Users\\nilarghya\\AppData\\Local\\Temp\\ipykernel_19804\\1114577306.py:20: FutureWarning: suggest_uniform has been deprecated in v3.0.0. This feature will be removed in v6.0.0. See https://github.com/optuna/optuna/releases/tag/v3.0.0. Use suggest_float instead.\n",
      "  'feature_fraction': trial.suggest_uniform('feature_fraction', 0.5, 1.0),\n",
      "C:\\Users\\nilarghya\\AppData\\Local\\Temp\\ipykernel_19804\\1114577306.py:21: FutureWarning: suggest_uniform has been deprecated in v3.0.0. This feature will be removed in v6.0.0. See https://github.com/optuna/optuna/releases/tag/v3.0.0. Use suggest_float instead.\n",
      "  'bagging_fraction': trial.suggest_uniform('bagging_fraction', 0.5, 1.0),\n"
     ]
    },
    {
     "name": "stdout",
     "output_type": "stream",
     "text": [
      "Training until validation scores don't improve for 20 rounds\n",
      "[10]\tvalid_0's multi_logloss: 2.10804\n",
      "[20]\tvalid_0's multi_logloss: 1.94606\n",
      "[30]\tvalid_0's multi_logloss: 1.80961\n",
      "[40]\tvalid_0's multi_logloss: 1.6924\n",
      "[50]\tvalid_0's multi_logloss: 1.5887\n",
      "[60]\tvalid_0's multi_logloss: 1.49652\n",
      "[70]\tvalid_0's multi_logloss: 1.41391\n",
      "[80]\tvalid_0's multi_logloss: 1.33972\n",
      "[90]\tvalid_0's multi_logloss: 1.27198\n",
      "[100]\tvalid_0's multi_logloss: 1.21046\n",
      "[110]\tvalid_0's multi_logloss: 1.15343\n",
      "[120]\tvalid_0's multi_logloss: 1.10074\n",
      "[130]\tvalid_0's multi_logloss: 1.05145\n",
      "[140]\tvalid_0's multi_logloss: 1.00601\n",
      "[150]\tvalid_0's multi_logloss: 0.963335\n",
      "[160]\tvalid_0's multi_logloss: 0.924279\n",
      "[170]\tvalid_0's multi_logloss: 0.887543\n",
      "[180]\tvalid_0's multi_logloss: 0.852908\n",
      "[190]\tvalid_0's multi_logloss: 0.820308\n"
     ]
    },
    {
     "name": "stderr",
     "output_type": "stream",
     "text": [
      "[I 2024-10-05 14:58:12,706] Trial 3 finished with value: 0.08913043478260874 and parameters: {'learning_rate': 0.0032438313967293954, 'num_leaves': 222, 'max_depth': 12, 'min_data_in_leaf': 42, 'lambda_l1': 6.646773062646736e-07, 'lambda_l2': 0.008676710634035585, 'feature_fraction': 0.8214067234266744, 'bagging_fraction': 0.7397454544890236, 'bagging_freq': 6}. Best is trial 2 with value: 0.07391304347826089.\n"
     ]
    },
    {
     "name": "stdout",
     "output_type": "stream",
     "text": [
      "[200]\tvalid_0's multi_logloss: 0.790057\n",
      "Did not meet early stopping. Best iteration is:\n",
      "[200]\tvalid_0's multi_logloss: 0.790057\n"
     ]
    },
    {
     "name": "stderr",
     "output_type": "stream",
     "text": [
      "C:\\Users\\nilarghya\\AppData\\Local\\Temp\\ipykernel_19804\\1114577306.py:14: FutureWarning: suggest_loguniform has been deprecated in v3.0.0. This feature will be removed in v6.0.0. See https://github.com/optuna/optuna/releases/tag/v3.0.0. Use suggest_float(..., log=True) instead.\n",
      "  'learning_rate': trial.suggest_loguniform('learning_rate', 1e-3, 1e-1),\n",
      "C:\\Users\\nilarghya\\AppData\\Local\\Temp\\ipykernel_19804\\1114577306.py:18: FutureWarning: suggest_loguniform has been deprecated in v3.0.0. This feature will be removed in v6.0.0. See https://github.com/optuna/optuna/releases/tag/v3.0.0. Use suggest_float(..., log=True) instead.\n",
      "  'lambda_l1': trial.suggest_loguniform('lambda_l1', 1e-8, 10.0),\n",
      "C:\\Users\\nilarghya\\AppData\\Local\\Temp\\ipykernel_19804\\1114577306.py:19: FutureWarning: suggest_loguniform has been deprecated in v3.0.0. This feature will be removed in v6.0.0. See https://github.com/optuna/optuna/releases/tag/v3.0.0. Use suggest_float(..., log=True) instead.\n",
      "  'lambda_l2': trial.suggest_loguniform('lambda_l2', 1e-8, 10.0),\n",
      "C:\\Users\\nilarghya\\AppData\\Local\\Temp\\ipykernel_19804\\1114577306.py:20: FutureWarning: suggest_uniform has been deprecated in v3.0.0. This feature will be removed in v6.0.0. See https://github.com/optuna/optuna/releases/tag/v3.0.0. Use suggest_float instead.\n",
      "  'feature_fraction': trial.suggest_uniform('feature_fraction', 0.5, 1.0),\n",
      "C:\\Users\\nilarghya\\AppData\\Local\\Temp\\ipykernel_19804\\1114577306.py:21: FutureWarning: suggest_uniform has been deprecated in v3.0.0. This feature will be removed in v6.0.0. See https://github.com/optuna/optuna/releases/tag/v3.0.0. Use suggest_float instead.\n",
      "  'bagging_fraction': trial.suggest_uniform('bagging_fraction', 0.5, 1.0),\n"
     ]
    },
    {
     "name": "stdout",
     "output_type": "stream",
     "text": [
      "Training until validation scores don't improve for 20 rounds\n",
      "[10]\tvalid_0's multi_logloss: 1.46342\n",
      "[20]\tvalid_0's multi_logloss: 1.07594\n",
      "[30]\tvalid_0's multi_logloss: 0.840258\n",
      "[40]\tvalid_0's multi_logloss: 0.679756\n",
      "[50]\tvalid_0's multi_logloss: 0.566925\n",
      "[60]\tvalid_0's multi_logloss: 0.485127\n",
      "[70]\tvalid_0's multi_logloss: 0.42394\n",
      "[80]\tvalid_0's multi_logloss: 0.378693\n",
      "[90]\tvalid_0's multi_logloss: 0.343911\n",
      "[100]\tvalid_0's multi_logloss: 0.318048\n",
      "[110]\tvalid_0's multi_logloss: 0.300131\n",
      "[120]\tvalid_0's multi_logloss: 0.286036\n",
      "[130]\tvalid_0's multi_logloss: 0.275517\n",
      "[140]\tvalid_0's multi_logloss: 0.26915\n",
      "[150]\tvalid_0's multi_logloss: 0.26477\n",
      "[160]\tvalid_0's multi_logloss: 0.261382\n",
      "[170]\tvalid_0's multi_logloss: 0.257841\n",
      "[180]\tvalid_0's multi_logloss: 0.255631\n",
      "[190]\tvalid_0's multi_logloss: 0.254603\n",
      "[200]\tvalid_0's multi_logloss: 0.253364\n",
      "Did not meet early stopping. Best iteration is:\n",
      "[200]\tvalid_0's multi_logloss: 0.253364\n"
     ]
    },
    {
     "name": "stderr",
     "output_type": "stream",
     "text": [
      "[I 2024-10-05 14:58:14,282] Trial 4 finished with value: 0.07391304347826089 and parameters: {'learning_rate': 0.022863756551006736, 'num_leaves': 60, 'max_depth': 4, 'min_data_in_leaf': 89, 'lambda_l1': 9.556394341519437e-05, 'lambda_l2': 0.530018753797574, 'feature_fraction': 0.9238026847044554, 'bagging_fraction': 0.6328894449108002, 'bagging_freq': 1}. Best is trial 2 with value: 0.07391304347826089.\n",
      "C:\\Users\\nilarghya\\AppData\\Local\\Temp\\ipykernel_19804\\1114577306.py:14: FutureWarning: suggest_loguniform has been deprecated in v3.0.0. This feature will be removed in v6.0.0. See https://github.com/optuna/optuna/releases/tag/v3.0.0. Use suggest_float(..., log=True) instead.\n",
      "  'learning_rate': trial.suggest_loguniform('learning_rate', 1e-3, 1e-1),\n",
      "C:\\Users\\nilarghya\\AppData\\Local\\Temp\\ipykernel_19804\\1114577306.py:18: FutureWarning: suggest_loguniform has been deprecated in v3.0.0. This feature will be removed in v6.0.0. See https://github.com/optuna/optuna/releases/tag/v3.0.0. Use suggest_float(..., log=True) instead.\n",
      "  'lambda_l1': trial.suggest_loguniform('lambda_l1', 1e-8, 10.0),\n",
      "C:\\Users\\nilarghya\\AppData\\Local\\Temp\\ipykernel_19804\\1114577306.py:19: FutureWarning: suggest_loguniform has been deprecated in v3.0.0. This feature will be removed in v6.0.0. See https://github.com/optuna/optuna/releases/tag/v3.0.0. Use suggest_float(..., log=True) instead.\n",
      "  'lambda_l2': trial.suggest_loguniform('lambda_l2', 1e-8, 10.0),\n",
      "C:\\Users\\nilarghya\\AppData\\Local\\Temp\\ipykernel_19804\\1114577306.py:20: FutureWarning: suggest_uniform has been deprecated in v3.0.0. This feature will be removed in v6.0.0. See https://github.com/optuna/optuna/releases/tag/v3.0.0. Use suggest_float instead.\n",
      "  'feature_fraction': trial.suggest_uniform('feature_fraction', 0.5, 1.0),\n",
      "C:\\Users\\nilarghya\\AppData\\Local\\Temp\\ipykernel_19804\\1114577306.py:21: FutureWarning: suggest_uniform has been deprecated in v3.0.0. This feature will be removed in v6.0.0. See https://github.com/optuna/optuna/releases/tag/v3.0.0. Use suggest_float instead.\n",
      "  'bagging_fraction': trial.suggest_uniform('bagging_fraction', 0.5, 1.0),\n"
     ]
    },
    {
     "name": "stdout",
     "output_type": "stream",
     "text": [
      "Training until validation scores don't improve for 20 rounds\n",
      "[10]\tvalid_0's multi_logloss: 0.907303\n",
      "[20]\tvalid_0's multi_logloss: 0.547863\n",
      "[30]\tvalid_0's multi_logloss: 0.390018\n",
      "[40]\tvalid_0's multi_logloss: 0.317589\n",
      "[50]\tvalid_0's multi_logloss: 0.280037\n",
      "[60]\tvalid_0's multi_logloss: 0.261457\n",
      "[70]\tvalid_0's multi_logloss: 0.255824\n",
      "[80]\tvalid_0's multi_logloss: 0.253422\n",
      "[90]\tvalid_0's multi_logloss: 0.251236\n",
      "[100]\tvalid_0's multi_logloss: 0.25261\n",
      "[110]\tvalid_0's multi_logloss: 0.253195\n",
      "Early stopping, best iteration is:\n",
      "[91]\tvalid_0's multi_logloss: 0.250582\n"
     ]
    },
    {
     "name": "stderr",
     "output_type": "stream",
     "text": [
      "[I 2024-10-05 14:58:15,312] Trial 5 finished with value: 0.06521739130434778 and parameters: {'learning_rate': 0.053579200419262236, 'num_leaves': 164, 'max_depth': 3, 'min_data_in_leaf': 60, 'lambda_l1': 0.0004248085758851102, 'lambda_l2': 2.365336284824762e-08, 'feature_fraction': 0.9536606109774236, 'bagging_fraction': 0.6708056640477734, 'bagging_freq': 1}. Best is trial 5 with value: 0.06521739130434778.\n",
      "C:\\Users\\nilarghya\\AppData\\Local\\Temp\\ipykernel_19804\\1114577306.py:14: FutureWarning: suggest_loguniform has been deprecated in v3.0.0. This feature will be removed in v6.0.0. See https://github.com/optuna/optuna/releases/tag/v3.0.0. Use suggest_float(..., log=True) instead.\n",
      "  'learning_rate': trial.suggest_loguniform('learning_rate', 1e-3, 1e-1),\n",
      "C:\\Users\\nilarghya\\AppData\\Local\\Temp\\ipykernel_19804\\1114577306.py:18: FutureWarning: suggest_loguniform has been deprecated in v3.0.0. This feature will be removed in v6.0.0. See https://github.com/optuna/optuna/releases/tag/v3.0.0. Use suggest_float(..., log=True) instead.\n",
      "  'lambda_l1': trial.suggest_loguniform('lambda_l1', 1e-8, 10.0),\n",
      "C:\\Users\\nilarghya\\AppData\\Local\\Temp\\ipykernel_19804\\1114577306.py:19: FutureWarning: suggest_loguniform has been deprecated in v3.0.0. This feature will be removed in v6.0.0. See https://github.com/optuna/optuna/releases/tag/v3.0.0. Use suggest_float(..., log=True) instead.\n",
      "  'lambda_l2': trial.suggest_loguniform('lambda_l2', 1e-8, 10.0),\n",
      "C:\\Users\\nilarghya\\AppData\\Local\\Temp\\ipykernel_19804\\1114577306.py:20: FutureWarning: suggest_uniform has been deprecated in v3.0.0. This feature will be removed in v6.0.0. See https://github.com/optuna/optuna/releases/tag/v3.0.0. Use suggest_float instead.\n",
      "  'feature_fraction': trial.suggest_uniform('feature_fraction', 0.5, 1.0),\n",
      "C:\\Users\\nilarghya\\AppData\\Local\\Temp\\ipykernel_19804\\1114577306.py:21: FutureWarning: suggest_uniform has been deprecated in v3.0.0. This feature will be removed in v6.0.0. See https://github.com/optuna/optuna/releases/tag/v3.0.0. Use suggest_float instead.\n",
      "  'bagging_fraction': trial.suggest_uniform('bagging_fraction', 0.5, 1.0),\n"
     ]
    },
    {
     "name": "stdout",
     "output_type": "stream",
     "text": [
      "Training until validation scores don't improve for 20 rounds\n",
      "[10]\tvalid_0's multi_logloss: 1.4904\n",
      "[20]\tvalid_0's multi_logloss: 1.10048\n",
      "[30]\tvalid_0's multi_logloss: 0.865446\n",
      "[40]\tvalid_0's multi_logloss: 0.702905\n",
      "[50]\tvalid_0's multi_logloss: 0.587045\n",
      "[60]\tvalid_0's multi_logloss: 0.500997\n",
      "[70]\tvalid_0's multi_logloss: 0.438031\n",
      "[80]\tvalid_0's multi_logloss: 0.39064\n",
      "[90]\tvalid_0's multi_logloss: 0.355122\n",
      "[100]\tvalid_0's multi_logloss: 0.326781\n",
      "[110]\tvalid_0's multi_logloss: 0.308809\n",
      "[120]\tvalid_0's multi_logloss: 0.292979\n",
      "[130]\tvalid_0's multi_logloss: 0.279465\n",
      "[140]\tvalid_0's multi_logloss: 0.27127\n",
      "[150]\tvalid_0's multi_logloss: 0.267313\n",
      "[160]\tvalid_0's multi_logloss: 0.260476\n",
      "[170]\tvalid_0's multi_logloss: 0.257138\n",
      "[180]\tvalid_0's multi_logloss: 0.254012\n",
      "[190]\tvalid_0's multi_logloss: 0.25156\n",
      "[200]\tvalid_0's multi_logloss: 0.251506\n",
      "Did not meet early stopping. Best iteration is:\n",
      "[193]\tvalid_0's multi_logloss: 0.250881\n"
     ]
    },
    {
     "name": "stderr",
     "output_type": "stream",
     "text": [
      "[I 2024-10-05 14:58:17,218] Trial 6 finished with value: 0.06956521739130439 and parameters: {'learning_rate': 0.020227368522710294, 'num_leaves': 80, 'max_depth': 6, 'min_data_in_leaf': 59, 'lambda_l1': 0.00506321473241782, 'lambda_l2': 0.00870666659160145, 'feature_fraction': 0.5812082175700932, 'bagging_fraction': 0.587946905928588, 'bagging_freq': 3}. Best is trial 5 with value: 0.06521739130434778.\n",
      "C:\\Users\\nilarghya\\AppData\\Local\\Temp\\ipykernel_19804\\1114577306.py:14: FutureWarning: suggest_loguniform has been deprecated in v3.0.0. This feature will be removed in v6.0.0. See https://github.com/optuna/optuna/releases/tag/v3.0.0. Use suggest_float(..., log=True) instead.\n",
      "  'learning_rate': trial.suggest_loguniform('learning_rate', 1e-3, 1e-1),\n",
      "C:\\Users\\nilarghya\\AppData\\Local\\Temp\\ipykernel_19804\\1114577306.py:18: FutureWarning: suggest_loguniform has been deprecated in v3.0.0. This feature will be removed in v6.0.0. See https://github.com/optuna/optuna/releases/tag/v3.0.0. Use suggest_float(..., log=True) instead.\n",
      "  'lambda_l1': trial.suggest_loguniform('lambda_l1', 1e-8, 10.0),\n",
      "C:\\Users\\nilarghya\\AppData\\Local\\Temp\\ipykernel_19804\\1114577306.py:19: FutureWarning: suggest_loguniform has been deprecated in v3.0.0. This feature will be removed in v6.0.0. See https://github.com/optuna/optuna/releases/tag/v3.0.0. Use suggest_float(..., log=True) instead.\n",
      "  'lambda_l2': trial.suggest_loguniform('lambda_l2', 1e-8, 10.0),\n",
      "C:\\Users\\nilarghya\\AppData\\Local\\Temp\\ipykernel_19804\\1114577306.py:20: FutureWarning: suggest_uniform has been deprecated in v3.0.0. This feature will be removed in v6.0.0. See https://github.com/optuna/optuna/releases/tag/v3.0.0. Use suggest_float instead.\n",
      "  'feature_fraction': trial.suggest_uniform('feature_fraction', 0.5, 1.0),\n",
      "C:\\Users\\nilarghya\\AppData\\Local\\Temp\\ipykernel_19804\\1114577306.py:21: FutureWarning: suggest_uniform has been deprecated in v3.0.0. This feature will be removed in v6.0.0. See https://github.com/optuna/optuna/releases/tag/v3.0.0. Use suggest_float instead.\n",
      "  'bagging_fraction': trial.suggest_uniform('bagging_fraction', 0.5, 1.0),\n"
     ]
    },
    {
     "name": "stdout",
     "output_type": "stream",
     "text": [
      "Training until validation scores don't improve for 20 rounds\n",
      "[10]\tvalid_0's multi_logloss: 2.18262\n",
      "[20]\tvalid_0's multi_logloss: 2.07404\n",
      "[30]\tvalid_0's multi_logloss: 1.97671\n",
      "[40]\tvalid_0's multi_logloss: 1.89002\n",
      "[50]\tvalid_0's multi_logloss: 1.81086\n",
      "[60]\tvalid_0's multi_logloss: 1.73794\n",
      "[70]\tvalid_0's multi_logloss: 1.6708\n",
      "[80]\tvalid_0's multi_logloss: 1.60747\n",
      "[90]\tvalid_0's multi_logloss: 1.54943\n",
      "[100]\tvalid_0's multi_logloss: 1.49454\n",
      "[110]\tvalid_0's multi_logloss: 1.44386\n",
      "[120]\tvalid_0's multi_logloss: 1.39607\n",
      "[130]\tvalid_0's multi_logloss: 1.35107\n",
      "[140]\tvalid_0's multi_logloss: 1.3084\n",
      "[150]\tvalid_0's multi_logloss: 1.26833\n",
      "[160]\tvalid_0's multi_logloss: 1.23024\n",
      "[170]\tvalid_0's multi_logloss: 1.19397\n",
      "[180]\tvalid_0's multi_logloss: 1.15957\n",
      "[190]\tvalid_0's multi_logloss: 1.12704\n"
     ]
    },
    {
     "name": "stderr",
     "output_type": "stream",
     "text": [
      "[I 2024-10-05 14:58:19,896] Trial 7 finished with value: 0.09130434782608698 and parameters: {'learning_rate': 0.0020208063025611337, 'num_leaves': 203, 'max_depth': 11, 'min_data_in_leaf': 53, 'lambda_l1': 0.00012450627288078083, 'lambda_l2': 1.442270543055911e-08, 'feature_fraction': 0.9464533153059216, 'bagging_fraction': 0.6425238985339397, 'bagging_freq': 1}. Best is trial 5 with value: 0.06521739130434778.\n"
     ]
    },
    {
     "name": "stdout",
     "output_type": "stream",
     "text": [
      "[200]\tvalid_0's multi_logloss: 1.09592\n",
      "Did not meet early stopping. Best iteration is:\n",
      "[200]\tvalid_0's multi_logloss: 1.09592\n"
     ]
    },
    {
     "name": "stderr",
     "output_type": "stream",
     "text": [
      "C:\\Users\\nilarghya\\AppData\\Local\\Temp\\ipykernel_19804\\1114577306.py:14: FutureWarning: suggest_loguniform has been deprecated in v3.0.0. This feature will be removed in v6.0.0. See https://github.com/optuna/optuna/releases/tag/v3.0.0. Use suggest_float(..., log=True) instead.\n",
      "  'learning_rate': trial.suggest_loguniform('learning_rate', 1e-3, 1e-1),\n",
      "C:\\Users\\nilarghya\\AppData\\Local\\Temp\\ipykernel_19804\\1114577306.py:18: FutureWarning: suggest_loguniform has been deprecated in v3.0.0. This feature will be removed in v6.0.0. See https://github.com/optuna/optuna/releases/tag/v3.0.0. Use suggest_float(..., log=True) instead.\n",
      "  'lambda_l1': trial.suggest_loguniform('lambda_l1', 1e-8, 10.0),\n",
      "C:\\Users\\nilarghya\\AppData\\Local\\Temp\\ipykernel_19804\\1114577306.py:19: FutureWarning: suggest_loguniform has been deprecated in v3.0.0. This feature will be removed in v6.0.0. See https://github.com/optuna/optuna/releases/tag/v3.0.0. Use suggest_float(..., log=True) instead.\n",
      "  'lambda_l2': trial.suggest_loguniform('lambda_l2', 1e-8, 10.0),\n",
      "C:\\Users\\nilarghya\\AppData\\Local\\Temp\\ipykernel_19804\\1114577306.py:20: FutureWarning: suggest_uniform has been deprecated in v3.0.0. This feature will be removed in v6.0.0. See https://github.com/optuna/optuna/releases/tag/v3.0.0. Use suggest_float instead.\n",
      "  'feature_fraction': trial.suggest_uniform('feature_fraction', 0.5, 1.0),\n",
      "C:\\Users\\nilarghya\\AppData\\Local\\Temp\\ipykernel_19804\\1114577306.py:21: FutureWarning: suggest_uniform has been deprecated in v3.0.0. This feature will be removed in v6.0.0. See https://github.com/optuna/optuna/releases/tag/v3.0.0. Use suggest_float instead.\n",
      "  'bagging_fraction': trial.suggest_uniform('bagging_fraction', 0.5, 1.0),\n"
     ]
    },
    {
     "name": "stdout",
     "output_type": "stream",
     "text": [
      "Training until validation scores don't improve for 20 rounds\n",
      "[10]\tvalid_0's multi_logloss: 1.81276\n",
      "[20]\tvalid_0's multi_logloss: 1.47732\n",
      "[30]\tvalid_0's multi_logloss: 1.23875\n",
      "[40]\tvalid_0's multi_logloss: 1.05749\n",
      "[50]\tvalid_0's multi_logloss: 0.916931\n",
      "[60]\tvalid_0's multi_logloss: 0.805926\n",
      "[70]\tvalid_0's multi_logloss: 0.716882\n",
      "[80]\tvalid_0's multi_logloss: 0.644799\n",
      "[90]\tvalid_0's multi_logloss: 0.586478\n",
      "[100]\tvalid_0's multi_logloss: 0.538437\n",
      "[110]\tvalid_0's multi_logloss: 0.498182\n",
      "[120]\tvalid_0's multi_logloss: 0.464553\n",
      "[130]\tvalid_0's multi_logloss: 0.43649\n",
      "[140]\tvalid_0's multi_logloss: 0.412888\n",
      "[150]\tvalid_0's multi_logloss: 0.392571\n",
      "[160]\tvalid_0's multi_logloss: 0.374313\n",
      "[170]\tvalid_0's multi_logloss: 0.360082\n",
      "[180]\tvalid_0's multi_logloss: 0.347157\n",
      "[190]\tvalid_0's multi_logloss: 0.336736\n"
     ]
    },
    {
     "name": "stderr",
     "output_type": "stream",
     "text": [
      "[I 2024-10-05 14:58:22,113] Trial 8 finished with value: 0.08478260869565213 and parameters: {'learning_rate': 0.01311229981445465, 'num_leaves': 95, 'max_depth': 7, 'min_data_in_leaf': 39, 'lambda_l1': 0.0015631563711296598, 'lambda_l2': 8.439904596181503, 'feature_fraction': 0.8496792906265558, 'bagging_fraction': 0.9367679057382903, 'bagging_freq': 4}. Best is trial 5 with value: 0.06521739130434778.\n"
     ]
    },
    {
     "name": "stdout",
     "output_type": "stream",
     "text": [
      "[200]\tvalid_0's multi_logloss: 0.327782\n",
      "Did not meet early stopping. Best iteration is:\n",
      "[200]\tvalid_0's multi_logloss: 0.327782\n"
     ]
    },
    {
     "name": "stderr",
     "output_type": "stream",
     "text": [
      "C:\\Users\\nilarghya\\AppData\\Local\\Temp\\ipykernel_19804\\1114577306.py:14: FutureWarning: suggest_loguniform has been deprecated in v3.0.0. This feature will be removed in v6.0.0. See https://github.com/optuna/optuna/releases/tag/v3.0.0. Use suggest_float(..., log=True) instead.\n",
      "  'learning_rate': trial.suggest_loguniform('learning_rate', 1e-3, 1e-1),\n",
      "C:\\Users\\nilarghya\\AppData\\Local\\Temp\\ipykernel_19804\\1114577306.py:18: FutureWarning: suggest_loguniform has been deprecated in v3.0.0. This feature will be removed in v6.0.0. See https://github.com/optuna/optuna/releases/tag/v3.0.0. Use suggest_float(..., log=True) instead.\n",
      "  'lambda_l1': trial.suggest_loguniform('lambda_l1', 1e-8, 10.0),\n",
      "C:\\Users\\nilarghya\\AppData\\Local\\Temp\\ipykernel_19804\\1114577306.py:19: FutureWarning: suggest_loguniform has been deprecated in v3.0.0. This feature will be removed in v6.0.0. See https://github.com/optuna/optuna/releases/tag/v3.0.0. Use suggest_float(..., log=True) instead.\n",
      "  'lambda_l2': trial.suggest_loguniform('lambda_l2', 1e-8, 10.0),\n",
      "C:\\Users\\nilarghya\\AppData\\Local\\Temp\\ipykernel_19804\\1114577306.py:20: FutureWarning: suggest_uniform has been deprecated in v3.0.0. This feature will be removed in v6.0.0. See https://github.com/optuna/optuna/releases/tag/v3.0.0. Use suggest_float instead.\n",
      "  'feature_fraction': trial.suggest_uniform('feature_fraction', 0.5, 1.0),\n",
      "C:\\Users\\nilarghya\\AppData\\Local\\Temp\\ipykernel_19804\\1114577306.py:21: FutureWarning: suggest_uniform has been deprecated in v3.0.0. This feature will be removed in v6.0.0. See https://github.com/optuna/optuna/releases/tag/v3.0.0. Use suggest_float instead.\n",
      "  'bagging_fraction': trial.suggest_uniform('bagging_fraction', 0.5, 1.0),\n"
     ]
    },
    {
     "name": "stdout",
     "output_type": "stream",
     "text": [
      "Training until validation scores don't improve for 20 rounds\n",
      "[10]\tvalid_0's multi_logloss: 2.22476\n",
      "[20]\tvalid_0's multi_logloss: 2.149\n",
      "[30]\tvalid_0's multi_logloss: 2.08129\n",
      "[40]\tvalid_0's multi_logloss: 2.01738\n",
      "[50]\tvalid_0's multi_logloss: 1.95753\n",
      "[60]\tvalid_0's multi_logloss: 1.90145\n",
      "[70]\tvalid_0's multi_logloss: 1.84969\n",
      "[80]\tvalid_0's multi_logloss: 1.80003\n",
      "[90]\tvalid_0's multi_logloss: 1.75283\n",
      "[100]\tvalid_0's multi_logloss: 1.70815\n",
      "[110]\tvalid_0's multi_logloss: 1.66577\n",
      "[120]\tvalid_0's multi_logloss: 1.62616\n",
      "[130]\tvalid_0's multi_logloss: 1.58752\n",
      "[140]\tvalid_0's multi_logloss: 1.55117\n",
      "[150]\tvalid_0's multi_logloss: 1.51653\n",
      "[160]\tvalid_0's multi_logloss: 1.48305\n",
      "[170]\tvalid_0's multi_logloss: 1.45085\n",
      "[180]\tvalid_0's multi_logloss: 1.41962\n",
      "[190]\tvalid_0's multi_logloss: 1.38926\n",
      "[200]\tvalid_0's multi_logloss: 1.36066\n",
      "Did not meet early stopping. Best iteration is:\n",
      "[200]\tvalid_0's multi_logloss: 1.36066\n"
     ]
    },
    {
     "name": "stderr",
     "output_type": "stream",
     "text": [
      "[I 2024-10-05 14:58:25,018] Trial 9 finished with value: 0.08913043478260874 and parameters: {'learning_rate': 0.0012530291469528602, 'num_leaves': 211, 'max_depth': 9, 'min_data_in_leaf': 31, 'lambda_l1': 0.00027646919602435983, 'lambda_l2': 7.452674040255166e-06, 'feature_fraction': 0.6581693278932175, 'bagging_fraction': 0.5846854004006081, 'bagging_freq': 5}. Best is trial 5 with value: 0.06521739130434778.\n",
      "C:\\Users\\nilarghya\\AppData\\Local\\Temp\\ipykernel_19804\\1114577306.py:14: FutureWarning: suggest_loguniform has been deprecated in v3.0.0. This feature will be removed in v6.0.0. See https://github.com/optuna/optuna/releases/tag/v3.0.0. Use suggest_float(..., log=True) instead.\n",
      "  'learning_rate': trial.suggest_loguniform('learning_rate', 1e-3, 1e-1),\n",
      "C:\\Users\\nilarghya\\AppData\\Local\\Temp\\ipykernel_19804\\1114577306.py:18: FutureWarning: suggest_loguniform has been deprecated in v3.0.0. This feature will be removed in v6.0.0. See https://github.com/optuna/optuna/releases/tag/v3.0.0. Use suggest_float(..., log=True) instead.\n",
      "  'lambda_l1': trial.suggest_loguniform('lambda_l1', 1e-8, 10.0),\n",
      "C:\\Users\\nilarghya\\AppData\\Local\\Temp\\ipykernel_19804\\1114577306.py:19: FutureWarning: suggest_loguniform has been deprecated in v3.0.0. This feature will be removed in v6.0.0. See https://github.com/optuna/optuna/releases/tag/v3.0.0. Use suggest_float(..., log=True) instead.\n",
      "  'lambda_l2': trial.suggest_loguniform('lambda_l2', 1e-8, 10.0),\n",
      "C:\\Users\\nilarghya\\AppData\\Local\\Temp\\ipykernel_19804\\1114577306.py:20: FutureWarning: suggest_uniform has been deprecated in v3.0.0. This feature will be removed in v6.0.0. See https://github.com/optuna/optuna/releases/tag/v3.0.0. Use suggest_float instead.\n",
      "  'feature_fraction': trial.suggest_uniform('feature_fraction', 0.5, 1.0),\n",
      "C:\\Users\\nilarghya\\AppData\\Local\\Temp\\ipykernel_19804\\1114577306.py:21: FutureWarning: suggest_uniform has been deprecated in v3.0.0. This feature will be removed in v6.0.0. See https://github.com/optuna/optuna/releases/tag/v3.0.0. Use suggest_float instead.\n",
      "  'bagging_fraction': trial.suggest_uniform('bagging_fraction', 0.5, 1.0),\n"
     ]
    },
    {
     "name": "stdout",
     "output_type": "stream",
     "text": [
      "Training until validation scores don't improve for 20 rounds\n",
      "[10]\tvalid_0's multi_logloss: 0.793135\n",
      "[20]\tvalid_0's multi_logloss: 0.492053\n",
      "[30]\tvalid_0's multi_logloss: 0.385664\n",
      "[40]\tvalid_0's multi_logloss: 0.340835\n",
      "[50]\tvalid_0's multi_logloss: 0.318881\n",
      "[60]\tvalid_0's multi_logloss: 0.31015\n",
      "[70]\tvalid_0's multi_logloss: 0.301136\n",
      "[80]\tvalid_0's multi_logloss: 0.299233\n"
     ]
    },
    {
     "name": "stderr",
     "output_type": "stream",
     "text": [
      "[I 2024-10-05 14:58:25,805] Trial 10 finished with value: 0.09130434782608698 and parameters: {'learning_rate': 0.08440459196515236, 'num_leaves': 160, 'max_depth': 14, 'min_data_in_leaf': 98, 'lambda_l1': 3.607921743973365, 'lambda_l2': 3.187405090717807e-06, 'feature_fraction': 0.6872205373406766, 'bagging_fraction': 0.5115065117903348, 'bagging_freq': 3}. Best is trial 5 with value: 0.06521739130434778.\n"
     ]
    },
    {
     "name": "stdout",
     "output_type": "stream",
     "text": [
      "[90]\tvalid_0's multi_logloss: 0.296439\n",
      "[100]\tvalid_0's multi_logloss: 0.293591\n",
      "[110]\tvalid_0's multi_logloss: 0.29433\n",
      "[120]\tvalid_0's multi_logloss: 0.294172\n",
      "Early stopping, best iteration is:\n",
      "[102]\tvalid_0's multi_logloss: 0.292836\n"
     ]
    },
    {
     "name": "stderr",
     "output_type": "stream",
     "text": [
      "C:\\Users\\nilarghya\\AppData\\Local\\Temp\\ipykernel_19804\\1114577306.py:14: FutureWarning: suggest_loguniform has been deprecated in v3.0.0. This feature will be removed in v6.0.0. See https://github.com/optuna/optuna/releases/tag/v3.0.0. Use suggest_float(..., log=True) instead.\n",
      "  'learning_rate': trial.suggest_loguniform('learning_rate', 1e-3, 1e-1),\n",
      "C:\\Users\\nilarghya\\AppData\\Local\\Temp\\ipykernel_19804\\1114577306.py:18: FutureWarning: suggest_loguniform has been deprecated in v3.0.0. This feature will be removed in v6.0.0. See https://github.com/optuna/optuna/releases/tag/v3.0.0. Use suggest_float(..., log=True) instead.\n",
      "  'lambda_l1': trial.suggest_loguniform('lambda_l1', 1e-8, 10.0),\n",
      "C:\\Users\\nilarghya\\AppData\\Local\\Temp\\ipykernel_19804\\1114577306.py:19: FutureWarning: suggest_loguniform has been deprecated in v3.0.0. This feature will be removed in v6.0.0. See https://github.com/optuna/optuna/releases/tag/v3.0.0. Use suggest_float(..., log=True) instead.\n",
      "  'lambda_l2': trial.suggest_loguniform('lambda_l2', 1e-8, 10.0),\n",
      "C:\\Users\\nilarghya\\AppData\\Local\\Temp\\ipykernel_19804\\1114577306.py:20: FutureWarning: suggest_uniform has been deprecated in v3.0.0. This feature will be removed in v6.0.0. See https://github.com/optuna/optuna/releases/tag/v3.0.0. Use suggest_float instead.\n",
      "  'feature_fraction': trial.suggest_uniform('feature_fraction', 0.5, 1.0),\n",
      "C:\\Users\\nilarghya\\AppData\\Local\\Temp\\ipykernel_19804\\1114577306.py:21: FutureWarning: suggest_uniform has been deprecated in v3.0.0. This feature will be removed in v6.0.0. See https://github.com/optuna/optuna/releases/tag/v3.0.0. Use suggest_float instead.\n",
      "  'bagging_fraction': trial.suggest_uniform('bagging_fraction', 0.5, 1.0),\n"
     ]
    },
    {
     "name": "stdout",
     "output_type": "stream",
     "text": [
      "Training until validation scores don't improve for 20 rounds\n",
      "[10]\tvalid_0's multi_logloss: 1.11431\n",
      "[20]\tvalid_0's multi_logloss: 0.723022\n",
      "[30]\tvalid_0's multi_logloss: 0.52696\n",
      "[40]\tvalid_0's multi_logloss: 0.417306\n",
      "[50]\tvalid_0's multi_logloss: 0.354113\n",
      "[60]\tvalid_0's multi_logloss: 0.314517\n",
      "[70]\tvalid_0's multi_logloss: 0.289891\n",
      "[80]\tvalid_0's multi_logloss: 0.274367\n",
      "[90]\tvalid_0's multi_logloss: 0.267407\n",
      "[100]\tvalid_0's multi_logloss: 0.260686\n",
      "[110]\tvalid_0's multi_logloss: 0.259243\n",
      "[120]\tvalid_0's multi_logloss: 0.257021\n",
      "[130]\tvalid_0's multi_logloss: 0.256141\n"
     ]
    },
    {
     "name": "stderr",
     "output_type": "stream",
     "text": [
      "[I 2024-10-05 14:58:26,875] Trial 11 finished with value: 0.06956521739130439 and parameters: {'learning_rate': 0.038123835576093876, 'num_leaves': 156, 'max_depth': 3, 'min_data_in_leaf': 57, 'lambda_l1': 0.050938149335784264, 'lambda_l2': 0.0029121814810733515, 'feature_fraction': 0.5135722064166849, 'bagging_fraction': 0.7450650277382476, 'bagging_freq': 3}. Best is trial 5 with value: 0.06521739130434778.\n"
     ]
    },
    {
     "name": "stdout",
     "output_type": "stream",
     "text": [
      "[140]\tvalid_0's multi_logloss: 0.255628\n",
      "[150]\tvalid_0's multi_logloss: 0.257456\n",
      "Early stopping, best iteration is:\n",
      "[138]\tvalid_0's multi_logloss: 0.255146\n"
     ]
    },
    {
     "name": "stderr",
     "output_type": "stream",
     "text": [
      "C:\\Users\\nilarghya\\AppData\\Local\\Temp\\ipykernel_19804\\1114577306.py:14: FutureWarning: suggest_loguniform has been deprecated in v3.0.0. This feature will be removed in v6.0.0. See https://github.com/optuna/optuna/releases/tag/v3.0.0. Use suggest_float(..., log=True) instead.\n",
      "  'learning_rate': trial.suggest_loguniform('learning_rate', 1e-3, 1e-1),\n",
      "C:\\Users\\nilarghya\\AppData\\Local\\Temp\\ipykernel_19804\\1114577306.py:18: FutureWarning: suggest_loguniform has been deprecated in v3.0.0. This feature will be removed in v6.0.0. See https://github.com/optuna/optuna/releases/tag/v3.0.0. Use suggest_float(..., log=True) instead.\n",
      "  'lambda_l1': trial.suggest_loguniform('lambda_l1', 1e-8, 10.0),\n",
      "C:\\Users\\nilarghya\\AppData\\Local\\Temp\\ipykernel_19804\\1114577306.py:19: FutureWarning: suggest_loguniform has been deprecated in v3.0.0. This feature will be removed in v6.0.0. See https://github.com/optuna/optuna/releases/tag/v3.0.0. Use suggest_float(..., log=True) instead.\n",
      "  'lambda_l2': trial.suggest_loguniform('lambda_l2', 1e-8, 10.0),\n",
      "C:\\Users\\nilarghya\\AppData\\Local\\Temp\\ipykernel_19804\\1114577306.py:20: FutureWarning: suggest_uniform has been deprecated in v3.0.0. This feature will be removed in v6.0.0. See https://github.com/optuna/optuna/releases/tag/v3.0.0. Use suggest_float instead.\n",
      "  'feature_fraction': trial.suggest_uniform('feature_fraction', 0.5, 1.0),\n",
      "C:\\Users\\nilarghya\\AppData\\Local\\Temp\\ipykernel_19804\\1114577306.py:21: FutureWarning: suggest_uniform has been deprecated in v3.0.0. This feature will be removed in v6.0.0. See https://github.com/optuna/optuna/releases/tag/v3.0.0. Use suggest_float instead.\n",
      "  'bagging_fraction': trial.suggest_uniform('bagging_fraction', 0.5, 1.0),\n"
     ]
    },
    {
     "name": "stdout",
     "output_type": "stream",
     "text": [
      "Training until validation scores don't improve for 20 rounds\n",
      "[10]\tvalid_0's multi_logloss: 0.740892\n",
      "[20]\tvalid_0's multi_logloss: 0.439837\n",
      "[30]\tvalid_0's multi_logloss: 0.330912\n",
      "[40]\tvalid_0's multi_logloss: 0.286773\n",
      "[50]\tvalid_0's multi_logloss: 0.277981\n",
      "[60]\tvalid_0's multi_logloss: 0.277252\n",
      "[70]\tvalid_0's multi_logloss: 0.275334\n",
      "[80]\tvalid_0's multi_logloss: 0.275199\n",
      "[90]\tvalid_0's multi_logloss: 0.276556\n",
      "Early stopping, best iteration is:\n",
      "[79]\tvalid_0's multi_logloss: 0.27397\n"
     ]
    },
    {
     "name": "stderr",
     "output_type": "stream",
     "text": [
      "[I 2024-10-05 14:58:27,736] Trial 12 finished with value: 0.07173913043478264 and parameters: {'learning_rate': 0.07588086540774772, 'num_leaves': 105, 'max_depth': 6, 'min_data_in_leaf': 74, 'lambda_l1': 6.160569698004109e-06, 'lambda_l2': 0.04453739815240693, 'feature_fraction': 0.5045892129109948, 'bagging_fraction': 0.5138062662648932, 'bagging_freq': 2}. Best is trial 5 with value: 0.06521739130434778.\n",
      "C:\\Users\\nilarghya\\AppData\\Local\\Temp\\ipykernel_19804\\1114577306.py:14: FutureWarning: suggest_loguniform has been deprecated in v3.0.0. This feature will be removed in v6.0.0. See https://github.com/optuna/optuna/releases/tag/v3.0.0. Use suggest_float(..., log=True) instead.\n",
      "  'learning_rate': trial.suggest_loguniform('learning_rate', 1e-3, 1e-1),\n",
      "C:\\Users\\nilarghya\\AppData\\Local\\Temp\\ipykernel_19804\\1114577306.py:18: FutureWarning: suggest_loguniform has been deprecated in v3.0.0. This feature will be removed in v6.0.0. See https://github.com/optuna/optuna/releases/tag/v3.0.0. Use suggest_float(..., log=True) instead.\n",
      "  'lambda_l1': trial.suggest_loguniform('lambda_l1', 1e-8, 10.0),\n",
      "C:\\Users\\nilarghya\\AppData\\Local\\Temp\\ipykernel_19804\\1114577306.py:19: FutureWarning: suggest_loguniform has been deprecated in v3.0.0. This feature will be removed in v6.0.0. See https://github.com/optuna/optuna/releases/tag/v3.0.0. Use suggest_float(..., log=True) instead.\n",
      "  'lambda_l2': trial.suggest_loguniform('lambda_l2', 1e-8, 10.0),\n",
      "C:\\Users\\nilarghya\\AppData\\Local\\Temp\\ipykernel_19804\\1114577306.py:20: FutureWarning: suggest_uniform has been deprecated in v3.0.0. This feature will be removed in v6.0.0. See https://github.com/optuna/optuna/releases/tag/v3.0.0. Use suggest_float instead.\n",
      "  'feature_fraction': trial.suggest_uniform('feature_fraction', 0.5, 1.0),\n",
      "C:\\Users\\nilarghya\\AppData\\Local\\Temp\\ipykernel_19804\\1114577306.py:21: FutureWarning: suggest_uniform has been deprecated in v3.0.0. This feature will be removed in v6.0.0. See https://github.com/optuna/optuna/releases/tag/v3.0.0. Use suggest_float instead.\n",
      "  'bagging_fraction': trial.suggest_uniform('bagging_fraction', 0.5, 1.0),\n"
     ]
    },
    {
     "name": "stdout",
     "output_type": "stream",
     "text": [
      "Training until validation scores don't improve for 20 rounds\n",
      "[10]\tvalid_0's multi_logloss: 1.95375\n",
      "[20]\tvalid_0's multi_logloss: 1.70554\n",
      "[30]\tvalid_0's multi_logloss: 1.51435\n",
      "[40]\tvalid_0's multi_logloss: 1.36137\n",
      "[50]\tvalid_0's multi_logloss: 1.23215\n",
      "[60]\tvalid_0's multi_logloss: 1.12288\n",
      "[70]\tvalid_0's multi_logloss: 1.0289\n",
      "[80]\tvalid_0's multi_logloss: 0.946246\n",
      "[90]\tvalid_0's multi_logloss: 0.875487\n",
      "[100]\tvalid_0's multi_logloss: 0.81257\n",
      "[110]\tvalid_0's multi_logloss: 0.756468\n",
      "[120]\tvalid_0's multi_logloss: 0.706567\n",
      "[130]\tvalid_0's multi_logloss: 0.662869\n",
      "[140]\tvalid_0's multi_logloss: 0.623177\n",
      "[150]\tvalid_0's multi_logloss: 0.588204\n",
      "[160]\tvalid_0's multi_logloss: 0.555259\n",
      "[170]\tvalid_0's multi_logloss: 0.526103\n",
      "[180]\tvalid_0's multi_logloss: 0.499659\n",
      "[190]\tvalid_0's multi_logloss: 0.475253\n",
      "[200]\tvalid_0's multi_logloss: 0.453971\n",
      "Did not meet early stopping. Best iteration is:\n",
      "[200]\tvalid_0's multi_logloss: 0.453971\n"
     ]
    },
    {
     "name": "stderr",
     "output_type": "stream",
     "text": [
      "[I 2024-10-05 14:58:30,373] Trial 13 finished with value: 0.08695652173913049 and parameters: {'learning_rate': 0.006373340065961201, 'num_leaves': 252, 'max_depth': 8, 'min_data_in_leaf': 47, 'lambda_l1': 1.0243177616373423e-08, 'lambda_l2': 0.00022467097502303578, 'feature_fraction': 0.601934681042486, 'bagging_fraction': 0.6948918209619729, 'bagging_freq': 3}. Best is trial 5 with value: 0.06521739130434778.\n",
      "C:\\Users\\nilarghya\\AppData\\Local\\Temp\\ipykernel_19804\\1114577306.py:14: FutureWarning: suggest_loguniform has been deprecated in v3.0.0. This feature will be removed in v6.0.0. See https://github.com/optuna/optuna/releases/tag/v3.0.0. Use suggest_float(..., log=True) instead.\n",
      "  'learning_rate': trial.suggest_loguniform('learning_rate', 1e-3, 1e-1),\n",
      "C:\\Users\\nilarghya\\AppData\\Local\\Temp\\ipykernel_19804\\1114577306.py:18: FutureWarning: suggest_loguniform has been deprecated in v3.0.0. This feature will be removed in v6.0.0. See https://github.com/optuna/optuna/releases/tag/v3.0.0. Use suggest_float(..., log=True) instead.\n",
      "  'lambda_l1': trial.suggest_loguniform('lambda_l1', 1e-8, 10.0),\n",
      "C:\\Users\\nilarghya\\AppData\\Local\\Temp\\ipykernel_19804\\1114577306.py:19: FutureWarning: suggest_loguniform has been deprecated in v3.0.0. This feature will be removed in v6.0.0. See https://github.com/optuna/optuna/releases/tag/v3.0.0. Use suggest_float(..., log=True) instead.\n",
      "  'lambda_l2': trial.suggest_loguniform('lambda_l2', 1e-8, 10.0),\n",
      "C:\\Users\\nilarghya\\AppData\\Local\\Temp\\ipykernel_19804\\1114577306.py:20: FutureWarning: suggest_uniform has been deprecated in v3.0.0. This feature will be removed in v6.0.0. See https://github.com/optuna/optuna/releases/tag/v3.0.0. Use suggest_float instead.\n",
      "  'feature_fraction': trial.suggest_uniform('feature_fraction', 0.5, 1.0),\n",
      "C:\\Users\\nilarghya\\AppData\\Local\\Temp\\ipykernel_19804\\1114577306.py:21: FutureWarning: suggest_uniform has been deprecated in v3.0.0. This feature will be removed in v6.0.0. See https://github.com/optuna/optuna/releases/tag/v3.0.0. Use suggest_float instead.\n",
      "  'bagging_fraction': trial.suggest_uniform('bagging_fraction', 0.5, 1.0),\n"
     ]
    },
    {
     "name": "stdout",
     "output_type": "stream",
     "text": [
      "Training until validation scores don't improve for 20 rounds\n",
      "[10]\tvalid_0's multi_logloss: 1.27538\n",
      "[20]\tvalid_0's multi_logloss: 0.883802\n",
      "[30]\tvalid_0's multi_logloss: 0.671442\n",
      "[40]\tvalid_0's multi_logloss: 0.540891\n",
      "[50]\tvalid_0's multi_logloss: 0.459277\n",
      "[60]\tvalid_0's multi_logloss: 0.404352\n",
      "[70]\tvalid_0's multi_logloss: 0.368722\n",
      "[80]\tvalid_0's multi_logloss: 0.344574\n",
      "[90]\tvalid_0's multi_logloss: 0.327663\n",
      "[100]\tvalid_0's multi_logloss: 0.313998\n",
      "[110]\tvalid_0's multi_logloss: 0.30587\n",
      "[120]\tvalid_0's multi_logloss: 0.299627\n",
      "[130]\tvalid_0's multi_logloss: 0.295739\n",
      "[140]\tvalid_0's multi_logloss: 0.291943\n",
      "[150]\tvalid_0's multi_logloss: 0.290076\n",
      "[160]\tvalid_0's multi_logloss: 0.289095\n",
      "[170]\tvalid_0's multi_logloss: 0.287012\n",
      "[180]\tvalid_0's multi_logloss: 0.286018\n"
     ]
    },
    {
     "name": "stderr",
     "output_type": "stream",
     "text": [
      "[I 2024-10-05 14:58:31,868] Trial 14 finished with value: 0.08043478260869563 and parameters: {'learning_rate': 0.03142841493592995, 'num_leaves': 79, 'max_depth': 3, 'min_data_in_leaf': 73, 'lambda_l1': 4.440729369986351, 'lambda_l2': 0.00023068611257135723, 'feature_fraction': 0.7083446648928002, 'bagging_fraction': 0.8300351727856281, 'bagging_freq': 2}. Best is trial 5 with value: 0.06521739130434778.\n"
     ]
    },
    {
     "name": "stdout",
     "output_type": "stream",
     "text": [
      "[190]\tvalid_0's multi_logloss: 0.285059\n",
      "[200]\tvalid_0's multi_logloss: 0.284218\n",
      "Did not meet early stopping. Best iteration is:\n",
      "[200]\tvalid_0's multi_logloss: 0.284218\n"
     ]
    },
    {
     "name": "stderr",
     "output_type": "stream",
     "text": [
      "C:\\Users\\nilarghya\\AppData\\Local\\Temp\\ipykernel_19804\\1114577306.py:14: FutureWarning: suggest_loguniform has been deprecated in v3.0.0. This feature will be removed in v6.0.0. See https://github.com/optuna/optuna/releases/tag/v3.0.0. Use suggest_float(..., log=True) instead.\n",
      "  'learning_rate': trial.suggest_loguniform('learning_rate', 1e-3, 1e-1),\n",
      "C:\\Users\\nilarghya\\AppData\\Local\\Temp\\ipykernel_19804\\1114577306.py:18: FutureWarning: suggest_loguniform has been deprecated in v3.0.0. This feature will be removed in v6.0.0. See https://github.com/optuna/optuna/releases/tag/v3.0.0. Use suggest_float(..., log=True) instead.\n",
      "  'lambda_l1': trial.suggest_loguniform('lambda_l1', 1e-8, 10.0),\n",
      "C:\\Users\\nilarghya\\AppData\\Local\\Temp\\ipykernel_19804\\1114577306.py:19: FutureWarning: suggest_loguniform has been deprecated in v3.0.0. This feature will be removed in v6.0.0. See https://github.com/optuna/optuna/releases/tag/v3.0.0. Use suggest_float(..., log=True) instead.\n",
      "  'lambda_l2': trial.suggest_loguniform('lambda_l2', 1e-8, 10.0),\n",
      "C:\\Users\\nilarghya\\AppData\\Local\\Temp\\ipykernel_19804\\1114577306.py:20: FutureWarning: suggest_uniform has been deprecated in v3.0.0. This feature will be removed in v6.0.0. See https://github.com/optuna/optuna/releases/tag/v3.0.0. Use suggest_float instead.\n",
      "  'feature_fraction': trial.suggest_uniform('feature_fraction', 0.5, 1.0),\n",
      "C:\\Users\\nilarghya\\AppData\\Local\\Temp\\ipykernel_19804\\1114577306.py:21: FutureWarning: suggest_uniform has been deprecated in v3.0.0. This feature will be removed in v6.0.0. See https://github.com/optuna/optuna/releases/tag/v3.0.0. Use suggest_float instead.\n",
      "  'bagging_fraction': trial.suggest_uniform('bagging_fraction', 0.5, 1.0),\n"
     ]
    },
    {
     "name": "stdout",
     "output_type": "stream",
     "text": [
      "Training until validation scores don't improve for 20 rounds\n",
      "[10]\tvalid_0's multi_logloss: 1.44179\n",
      "[20]\tvalid_0's multi_logloss: 1.04595\n",
      "[30]\tvalid_0's multi_logloss: 0.802517\n",
      "[40]\tvalid_0's multi_logloss: 0.641293\n",
      "[50]\tvalid_0's multi_logloss: 0.526756\n",
      "[60]\tvalid_0's multi_logloss: 0.447207\n",
      "[70]\tvalid_0's multi_logloss: 0.391101\n",
      "[80]\tvalid_0's multi_logloss: 0.348946\n",
      "[90]\tvalid_0's multi_logloss: 0.318801\n",
      "[100]\tvalid_0's multi_logloss: 0.29849\n",
      "[110]\tvalid_0's multi_logloss: 0.282971\n",
      "[120]\tvalid_0's multi_logloss: 0.273248\n",
      "[130]\tvalid_0's multi_logloss: 0.266245\n",
      "[140]\tvalid_0's multi_logloss: 0.261349\n",
      "[150]\tvalid_0's multi_logloss: 0.256788\n",
      "[160]\tvalid_0's multi_logloss: 0.253833\n",
      "[170]\tvalid_0's multi_logloss: 0.253196\n",
      "[180]\tvalid_0's multi_logloss: 0.25291\n",
      "[190]\tvalid_0's multi_logloss: 0.253246\n",
      "Early stopping, best iteration is:\n",
      "[174]\tvalid_0's multi_logloss: 0.251817\n"
     ]
    },
    {
     "name": "stderr",
     "output_type": "stream",
     "text": [
      "[I 2024-10-05 14:58:35,241] Trial 15 finished with value: 0.07173913043478264 and parameters: {'learning_rate': 0.020184030295155832, 'num_leaves': 132, 'max_depth': 5, 'min_data_in_leaf': 24, 'lambda_l1': 0.0018364428158384074, 'lambda_l2': 0.10901229321934305, 'feature_fraction': 0.9992453755177375, 'bagging_fraction': 0.690649377950997, 'bagging_freq': 2}. Best is trial 5 with value: 0.06521739130434778.\n",
      "C:\\Users\\nilarghya\\AppData\\Local\\Temp\\ipykernel_19804\\1114577306.py:14: FutureWarning: suggest_loguniform has been deprecated in v3.0.0. This feature will be removed in v6.0.0. See https://github.com/optuna/optuna/releases/tag/v3.0.0. Use suggest_float(..., log=True) instead.\n",
      "  'learning_rate': trial.suggest_loguniform('learning_rate', 1e-3, 1e-1),\n",
      "C:\\Users\\nilarghya\\AppData\\Local\\Temp\\ipykernel_19804\\1114577306.py:18: FutureWarning: suggest_loguniform has been deprecated in v3.0.0. This feature will be removed in v6.0.0. See https://github.com/optuna/optuna/releases/tag/v3.0.0. Use suggest_float(..., log=True) instead.\n",
      "  'lambda_l1': trial.suggest_loguniform('lambda_l1', 1e-8, 10.0),\n",
      "C:\\Users\\nilarghya\\AppData\\Local\\Temp\\ipykernel_19804\\1114577306.py:19: FutureWarning: suggest_loguniform has been deprecated in v3.0.0. This feature will be removed in v6.0.0. See https://github.com/optuna/optuna/releases/tag/v3.0.0. Use suggest_float(..., log=True) instead.\n",
      "  'lambda_l2': trial.suggest_loguniform('lambda_l2', 1e-8, 10.0),\n",
      "C:\\Users\\nilarghya\\AppData\\Local\\Temp\\ipykernel_19804\\1114577306.py:20: FutureWarning: suggest_uniform has been deprecated in v3.0.0. This feature will be removed in v6.0.0. See https://github.com/optuna/optuna/releases/tag/v3.0.0. Use suggest_float instead.\n",
      "  'feature_fraction': trial.suggest_uniform('feature_fraction', 0.5, 1.0),\n",
      "C:\\Users\\nilarghya\\AppData\\Local\\Temp\\ipykernel_19804\\1114577306.py:21: FutureWarning: suggest_uniform has been deprecated in v3.0.0. This feature will be removed in v6.0.0. See https://github.com/optuna/optuna/releases/tag/v3.0.0. Use suggest_float instead.\n",
      "  'bagging_fraction': trial.suggest_uniform('bagging_fraction', 0.5, 1.0),\n"
     ]
    },
    {
     "name": "stdout",
     "output_type": "stream",
     "text": [
      "Training until validation scores don't improve for 20 rounds\n",
      "[10]\tvalid_0's multi_logloss: 0.867811\n",
      "[20]\tvalid_0's multi_logloss: 0.519188\n",
      "[30]\tvalid_0's multi_logloss: 0.371465\n",
      "[40]\tvalid_0's multi_logloss: 0.308293\n",
      "[50]\tvalid_0's multi_logloss: 0.284884\n",
      "[60]\tvalid_0's multi_logloss: 0.276697\n",
      "[70]\tvalid_0's multi_logloss: 0.275023\n",
      "[80]\tvalid_0's multi_logloss: 0.272962\n",
      "[90]\tvalid_0's multi_logloss: 0.282405\n",
      "Early stopping, best iteration is:\n",
      "[77]\tvalid_0's multi_logloss: 0.271517\n"
     ]
    },
    {
     "name": "stderr",
     "output_type": "stream",
     "text": [
      "[I 2024-10-05 14:58:36,159] Trial 16 finished with value: 0.07608695652173914 and parameters: {'learning_rate': 0.05951267882572226, 'num_leaves': 31, 'max_depth': 7, 'min_data_in_leaf': 62, 'lambda_l1': 0.010537049086239286, 'lambda_l2': 6.671099748539988e-07, 'feature_fraction': 0.6218515223496464, 'bagging_fraction': 0.5542127106990986, 'bagging_freq': 4}. Best is trial 5 with value: 0.06521739130434778.\n",
      "C:\\Users\\nilarghya\\AppData\\Local\\Temp\\ipykernel_19804\\1114577306.py:14: FutureWarning: suggest_loguniform has been deprecated in v3.0.0. This feature will be removed in v6.0.0. See https://github.com/optuna/optuna/releases/tag/v3.0.0. Use suggest_float(..., log=True) instead.\n",
      "  'learning_rate': trial.suggest_loguniform('learning_rate', 1e-3, 1e-1),\n",
      "C:\\Users\\nilarghya\\AppData\\Local\\Temp\\ipykernel_19804\\1114577306.py:18: FutureWarning: suggest_loguniform has been deprecated in v3.0.0. This feature will be removed in v6.0.0. See https://github.com/optuna/optuna/releases/tag/v3.0.0. Use suggest_float(..., log=True) instead.\n",
      "  'lambda_l1': trial.suggest_loguniform('lambda_l1', 1e-8, 10.0),\n",
      "C:\\Users\\nilarghya\\AppData\\Local\\Temp\\ipykernel_19804\\1114577306.py:19: FutureWarning: suggest_loguniform has been deprecated in v3.0.0. This feature will be removed in v6.0.0. See https://github.com/optuna/optuna/releases/tag/v3.0.0. Use suggest_float(..., log=True) instead.\n",
      "  'lambda_l2': trial.suggest_loguniform('lambda_l2', 1e-8, 10.0),\n",
      "C:\\Users\\nilarghya\\AppData\\Local\\Temp\\ipykernel_19804\\1114577306.py:20: FutureWarning: suggest_uniform has been deprecated in v3.0.0. This feature will be removed in v6.0.0. See https://github.com/optuna/optuna/releases/tag/v3.0.0. Use suggest_float instead.\n",
      "  'feature_fraction': trial.suggest_uniform('feature_fraction', 0.5, 1.0),\n",
      "C:\\Users\\nilarghya\\AppData\\Local\\Temp\\ipykernel_19804\\1114577306.py:21: FutureWarning: suggest_uniform has been deprecated in v3.0.0. This feature will be removed in v6.0.0. See https://github.com/optuna/optuna/releases/tag/v3.0.0. Use suggest_float instead.\n",
      "  'bagging_fraction': trial.suggest_uniform('bagging_fraction', 0.5, 1.0),\n"
     ]
    },
    {
     "name": "stdout",
     "output_type": "stream",
     "text": [
      "Training until validation scores don't improve for 20 rounds\n",
      "[10]\tvalid_0's multi_logloss: 0.54979\n",
      "[20]\tvalid_0's multi_logloss: 0.323693\n",
      "[30]\tvalid_0's multi_logloss: 0.272684\n",
      "[40]\tvalid_0's multi_logloss: 0.260008\n",
      "[50]\tvalid_0's multi_logloss: 0.256793\n"
     ]
    },
    {
     "name": "stderr",
     "output_type": "stream",
     "text": [
      "[I 2024-10-05 14:58:37,023] Trial 17 finished with value: 0.07391304347826089 and parameters: {'learning_rate': 0.09821743704406466, 'num_leaves': 181, 'max_depth': 5, 'min_data_in_leaf': 53, 'lambda_l1': 0.5216682507679745, 'lambda_l2': 0.001465241970064694, 'feature_fraction': 0.5756579872137015, 'bagging_fraction': 0.8334488597024228, 'bagging_freq': 2}. Best is trial 5 with value: 0.06521739130434778.\n"
     ]
    },
    {
     "name": "stdout",
     "output_type": "stream",
     "text": [
      "[60]\tvalid_0's multi_logloss: 0.25936\n",
      "Early stopping, best iteration is:\n",
      "[47]\tvalid_0's multi_logloss: 0.255798\n"
     ]
    },
    {
     "name": "stderr",
     "output_type": "stream",
     "text": [
      "C:\\Users\\nilarghya\\AppData\\Local\\Temp\\ipykernel_19804\\1114577306.py:14: FutureWarning: suggest_loguniform has been deprecated in v3.0.0. This feature will be removed in v6.0.0. See https://github.com/optuna/optuna/releases/tag/v3.0.0. Use suggest_float(..., log=True) instead.\n",
      "  'learning_rate': trial.suggest_loguniform('learning_rate', 1e-3, 1e-1),\n",
      "C:\\Users\\nilarghya\\AppData\\Local\\Temp\\ipykernel_19804\\1114577306.py:18: FutureWarning: suggest_loguniform has been deprecated in v3.0.0. This feature will be removed in v6.0.0. See https://github.com/optuna/optuna/releases/tag/v3.0.0. Use suggest_float(..., log=True) instead.\n",
      "  'lambda_l1': trial.suggest_loguniform('lambda_l1', 1e-8, 10.0),\n",
      "C:\\Users\\nilarghya\\AppData\\Local\\Temp\\ipykernel_19804\\1114577306.py:19: FutureWarning: suggest_loguniform has been deprecated in v3.0.0. This feature will be removed in v6.0.0. See https://github.com/optuna/optuna/releases/tag/v3.0.0. Use suggest_float(..., log=True) instead.\n",
      "  'lambda_l2': trial.suggest_loguniform('lambda_l2', 1e-8, 10.0),\n",
      "C:\\Users\\nilarghya\\AppData\\Local\\Temp\\ipykernel_19804\\1114577306.py:20: FutureWarning: suggest_uniform has been deprecated in v3.0.0. This feature will be removed in v6.0.0. See https://github.com/optuna/optuna/releases/tag/v3.0.0. Use suggest_float instead.\n",
      "  'feature_fraction': trial.suggest_uniform('feature_fraction', 0.5, 1.0),\n",
      "C:\\Users\\nilarghya\\AppData\\Local\\Temp\\ipykernel_19804\\1114577306.py:21: FutureWarning: suggest_uniform has been deprecated in v3.0.0. This feature will be removed in v6.0.0. See https://github.com/optuna/optuna/releases/tag/v3.0.0. Use suggest_float instead.\n",
      "  'bagging_fraction': trial.suggest_uniform('bagging_fraction', 0.5, 1.0),\n"
     ]
    },
    {
     "name": "stdout",
     "output_type": "stream",
     "text": [
      "Training until validation scores don't improve for 20 rounds\n",
      "[10]\tvalid_0's multi_logloss: 2.02225\n",
      "[20]\tvalid_0's multi_logloss: 1.80932\n",
      "[30]\tvalid_0's multi_logloss: 1.64016\n",
      "[40]\tvalid_0's multi_logloss: 1.49511\n",
      "[50]\tvalid_0's multi_logloss: 1.37489\n",
      "[60]\tvalid_0's multi_logloss: 1.27142\n",
      "[70]\tvalid_0's multi_logloss: 1.18124\n",
      "[80]\tvalid_0's multi_logloss: 1.10139\n",
      "[90]\tvalid_0's multi_logloss: 1.03191\n",
      "[100]\tvalid_0's multi_logloss: 0.969597\n",
      "[110]\tvalid_0's multi_logloss: 0.912334\n",
      "[120]\tvalid_0's multi_logloss: 0.86083\n",
      "[130]\tvalid_0's multi_logloss: 0.813506\n",
      "[140]\tvalid_0's multi_logloss: 0.771174\n",
      "[150]\tvalid_0's multi_logloss: 0.732839\n",
      "[160]\tvalid_0's multi_logloss: 0.697051\n",
      "[170]\tvalid_0's multi_logloss: 0.664906\n",
      "[180]\tvalid_0's multi_logloss: 0.634584\n",
      "[190]\tvalid_0's multi_logloss: 0.606441\n",
      "[200]\tvalid_0's multi_logloss: 0.580823\n",
      "Did not meet early stopping. Best iteration is:\n",
      "[200]\tvalid_0's multi_logloss: 0.580823\n"
     ]
    },
    {
     "name": "stderr",
     "output_type": "stream",
     "text": [
      "[I 2024-10-05 14:58:38,832] Trial 18 finished with value: 0.08913043478260874 and parameters: {'learning_rate': 0.00512949799323718, 'num_leaves': 167, 'max_depth': 3, 'min_data_in_leaf': 77, 'lambda_l1': 1.2028702701132833e-05, 'lambda_l2': 0.00010321768332013244, 'feature_fraction': 0.7446257624062675, 'bagging_fraction': 0.9508863031613687, 'bagging_freq': 4}. Best is trial 5 with value: 0.06521739130434778.\n",
      "C:\\Users\\nilarghya\\AppData\\Local\\Temp\\ipykernel_19804\\1114577306.py:14: FutureWarning: suggest_loguniform has been deprecated in v3.0.0. This feature will be removed in v6.0.0. See https://github.com/optuna/optuna/releases/tag/v3.0.0. Use suggest_float(..., log=True) instead.\n",
      "  'learning_rate': trial.suggest_loguniform('learning_rate', 1e-3, 1e-1),\n",
      "C:\\Users\\nilarghya\\AppData\\Local\\Temp\\ipykernel_19804\\1114577306.py:18: FutureWarning: suggest_loguniform has been deprecated in v3.0.0. This feature will be removed in v6.0.0. See https://github.com/optuna/optuna/releases/tag/v3.0.0. Use suggest_float(..., log=True) instead.\n",
      "  'lambda_l1': trial.suggest_loguniform('lambda_l1', 1e-8, 10.0),\n",
      "C:\\Users\\nilarghya\\AppData\\Local\\Temp\\ipykernel_19804\\1114577306.py:19: FutureWarning: suggest_loguniform has been deprecated in v3.0.0. This feature will be removed in v6.0.0. See https://github.com/optuna/optuna/releases/tag/v3.0.0. Use suggest_float(..., log=True) instead.\n",
      "  'lambda_l2': trial.suggest_loguniform('lambda_l2', 1e-8, 10.0),\n",
      "C:\\Users\\nilarghya\\AppData\\Local\\Temp\\ipykernel_19804\\1114577306.py:20: FutureWarning: suggest_uniform has been deprecated in v3.0.0. This feature will be removed in v6.0.0. See https://github.com/optuna/optuna/releases/tag/v3.0.0. Use suggest_float instead.\n",
      "  'feature_fraction': trial.suggest_uniform('feature_fraction', 0.5, 1.0),\n",
      "C:\\Users\\nilarghya\\AppData\\Local\\Temp\\ipykernel_19804\\1114577306.py:21: FutureWarning: suggest_uniform has been deprecated in v3.0.0. This feature will be removed in v6.0.0. See https://github.com/optuna/optuna/releases/tag/v3.0.0. Use suggest_float instead.\n",
      "  'bagging_fraction': trial.suggest_uniform('bagging_fraction', 0.5, 1.0),\n"
     ]
    },
    {
     "name": "stdout",
     "output_type": "stream",
     "text": [
      "Training until validation scores don't improve for 20 rounds\n",
      "[10]\tvalid_0's multi_logloss: 1.27671\n",
      "[20]\tvalid_0's multi_logloss: 0.870041\n",
      "[30]\tvalid_0's multi_logloss: 0.641587\n",
      "[40]\tvalid_0's multi_logloss: 0.50266\n",
      "[50]\tvalid_0's multi_logloss: 0.415223\n",
      "[60]\tvalid_0's multi_logloss: 0.360108\n",
      "[70]\tvalid_0's multi_logloss: 0.324665\n",
      "[80]\tvalid_0's multi_logloss: 0.301628\n",
      "[90]\tvalid_0's multi_logloss: 0.286416\n",
      "[100]\tvalid_0's multi_logloss: 0.274928\n",
      "[110]\tvalid_0's multi_logloss: 0.269297\n",
      "[120]\tvalid_0's multi_logloss: 0.265199\n",
      "[130]\tvalid_0's multi_logloss: 0.260804\n",
      "[140]\tvalid_0's multi_logloss: 0.259863\n",
      "[150]\tvalid_0's multi_logloss: 0.25989\n",
      "[160]\tvalid_0's multi_logloss: 0.260761\n",
      "[170]\tvalid_0's multi_logloss: 0.260288\n",
      "Early stopping, best iteration is:\n",
      "[152]\tvalid_0's multi_logloss: 0.259725\n"
     ]
    },
    {
     "name": "stderr",
     "output_type": "stream",
     "text": [
      "[I 2024-10-05 14:58:40,768] Trial 19 finished with value: 0.07173913043478264 and parameters: {'learning_rate': 0.027957098328944587, 'num_leaves': 80, 'max_depth': 15, 'min_data_in_leaf': 35, 'lambda_l1': 0.35061585627080366, 'lambda_l2': 1.0678936206573006e-08, 'feature_fraction': 0.5475451259570765, 'bagging_fraction': 0.6891048286358056, 'bagging_freq': 1}. Best is trial 5 with value: 0.06521739130434778.\n",
      "C:\\Users\\nilarghya\\AppData\\Local\\Temp\\ipykernel_19804\\1114577306.py:14: FutureWarning: suggest_loguniform has been deprecated in v3.0.0. This feature will be removed in v6.0.0. See https://github.com/optuna/optuna/releases/tag/v3.0.0. Use suggest_float(..., log=True) instead.\n",
      "  'learning_rate': trial.suggest_loguniform('learning_rate', 1e-3, 1e-1),\n",
      "C:\\Users\\nilarghya\\AppData\\Local\\Temp\\ipykernel_19804\\1114577306.py:18: FutureWarning: suggest_loguniform has been deprecated in v3.0.0. This feature will be removed in v6.0.0. See https://github.com/optuna/optuna/releases/tag/v3.0.0. Use suggest_float(..., log=True) instead.\n",
      "  'lambda_l1': trial.suggest_loguniform('lambda_l1', 1e-8, 10.0),\n",
      "C:\\Users\\nilarghya\\AppData\\Local\\Temp\\ipykernel_19804\\1114577306.py:19: FutureWarning: suggest_loguniform has been deprecated in v3.0.0. This feature will be removed in v6.0.0. See https://github.com/optuna/optuna/releases/tag/v3.0.0. Use suggest_float(..., log=True) instead.\n",
      "  'lambda_l2': trial.suggest_loguniform('lambda_l2', 1e-8, 10.0),\n",
      "C:\\Users\\nilarghya\\AppData\\Local\\Temp\\ipykernel_19804\\1114577306.py:20: FutureWarning: suggest_uniform has been deprecated in v3.0.0. This feature will be removed in v6.0.0. See https://github.com/optuna/optuna/releases/tag/v3.0.0. Use suggest_float instead.\n",
      "  'feature_fraction': trial.suggest_uniform('feature_fraction', 0.5, 1.0),\n",
      "C:\\Users\\nilarghya\\AppData\\Local\\Temp\\ipykernel_19804\\1114577306.py:21: FutureWarning: suggest_uniform has been deprecated in v3.0.0. This feature will be removed in v6.0.0. See https://github.com/optuna/optuna/releases/tag/v3.0.0. Use suggest_float instead.\n",
      "  'bagging_fraction': trial.suggest_uniform('bagging_fraction', 0.5, 1.0),\n"
     ]
    },
    {
     "name": "stdout",
     "output_type": "stream",
     "text": [
      "Training until validation scores don't improve for 20 rounds\n",
      "[10]\tvalid_0's multi_logloss: 0.933736\n",
      "[20]\tvalid_0's multi_logloss: 0.561786\n",
      "[30]\tvalid_0's multi_logloss: 0.39293\n",
      "[40]\tvalid_0's multi_logloss: 0.317441\n",
      "[50]\tvalid_0's multi_logloss: 0.281281\n",
      "[60]\tvalid_0's multi_logloss: 0.26464\n",
      "[70]\tvalid_0's multi_logloss: 0.262652\n",
      "[80]\tvalid_0's multi_logloss: 0.263277\n",
      "[90]\tvalid_0's multi_logloss: 0.269591\n"
     ]
    },
    {
     "name": "stderr",
     "output_type": "stream",
     "text": [
      "[I 2024-10-05 14:58:42,164] Trial 20 finished with value: 0.07826086956521738 and parameters: {'learning_rate': 0.050122122985105266, 'num_leaves': 139, 'max_depth': 7, 'min_data_in_leaf': 48, 'lambda_l1': 0.0019161749373259613, 'lambda_l2': 5.290301410525108e-05, 'feature_fraction': 0.8987252743338945, 'bagging_fraction': 0.5698904735853272, 'bagging_freq': 3}. Best is trial 5 with value: 0.06521739130434778.\n"
     ]
    },
    {
     "name": "stdout",
     "output_type": "stream",
     "text": [
      "Early stopping, best iteration is:\n",
      "[78]\tvalid_0's multi_logloss: 0.261919\n"
     ]
    },
    {
     "name": "stderr",
     "output_type": "stream",
     "text": [
      "C:\\Users\\nilarghya\\AppData\\Local\\Temp\\ipykernel_19804\\1114577306.py:14: FutureWarning: suggest_loguniform has been deprecated in v3.0.0. This feature will be removed in v6.0.0. See https://github.com/optuna/optuna/releases/tag/v3.0.0. Use suggest_float(..., log=True) instead.\n",
      "  'learning_rate': trial.suggest_loguniform('learning_rate', 1e-3, 1e-1),\n",
      "C:\\Users\\nilarghya\\AppData\\Local\\Temp\\ipykernel_19804\\1114577306.py:18: FutureWarning: suggest_loguniform has been deprecated in v3.0.0. This feature will be removed in v6.0.0. See https://github.com/optuna/optuna/releases/tag/v3.0.0. Use suggest_float(..., log=True) instead.\n",
      "  'lambda_l1': trial.suggest_loguniform('lambda_l1', 1e-8, 10.0),\n",
      "C:\\Users\\nilarghya\\AppData\\Local\\Temp\\ipykernel_19804\\1114577306.py:19: FutureWarning: suggest_loguniform has been deprecated in v3.0.0. This feature will be removed in v6.0.0. See https://github.com/optuna/optuna/releases/tag/v3.0.0. Use suggest_float(..., log=True) instead.\n",
      "  'lambda_l2': trial.suggest_loguniform('lambda_l2', 1e-8, 10.0),\n",
      "C:\\Users\\nilarghya\\AppData\\Local\\Temp\\ipykernel_19804\\1114577306.py:20: FutureWarning: suggest_uniform has been deprecated in v3.0.0. This feature will be removed in v6.0.0. See https://github.com/optuna/optuna/releases/tag/v3.0.0. Use suggest_float instead.\n",
      "  'feature_fraction': trial.suggest_uniform('feature_fraction', 0.5, 1.0),\n",
      "C:\\Users\\nilarghya\\AppData\\Local\\Temp\\ipykernel_19804\\1114577306.py:21: FutureWarning: suggest_uniform has been deprecated in v3.0.0. This feature will be removed in v6.0.0. See https://github.com/optuna/optuna/releases/tag/v3.0.0. Use suggest_float instead.\n",
      "  'bagging_fraction': trial.suggest_uniform('bagging_fraction', 0.5, 1.0),\n"
     ]
    },
    {
     "name": "stdout",
     "output_type": "stream",
     "text": [
      "Training until validation scores don't improve for 20 rounds\n",
      "[10]\tvalid_0's multi_logloss: 1.12799\n",
      "[20]\tvalid_0's multi_logloss: 0.735345\n",
      "[30]\tvalid_0's multi_logloss: 0.53698\n",
      "[40]\tvalid_0's multi_logloss: 0.424189\n",
      "[50]\tvalid_0's multi_logloss: 0.360984\n",
      "[60]\tvalid_0's multi_logloss: 0.320977\n",
      "[70]\tvalid_0's multi_logloss: 0.294931\n",
      "[80]\tvalid_0's multi_logloss: 0.277806\n",
      "[90]\tvalid_0's multi_logloss: 0.269997\n",
      "[100]\tvalid_0's multi_logloss: 0.260618\n",
      "[110]\tvalid_0's multi_logloss: 0.25741\n",
      "[120]\tvalid_0's multi_logloss: 0.254766\n",
      "[130]\tvalid_0's multi_logloss: 0.252999\n",
      "[140]\tvalid_0's multi_logloss: 0.252179\n",
      "[150]\tvalid_0's multi_logloss: 0.253166\n",
      "[160]\tvalid_0's multi_logloss: 0.253614\n",
      "Early stopping, best iteration is:\n",
      "[144]\tvalid_0's multi_logloss: 0.25191\n"
     ]
    },
    {
     "name": "stderr",
     "output_type": "stream",
     "text": [
      "[I 2024-10-05 14:58:43,526] Trial 21 finished with value: 0.06956521739130439 and parameters: {'learning_rate': 0.037260830277848905, 'num_leaves': 158, 'max_depth': 3, 'min_data_in_leaf': 57, 'lambda_l1': 0.12269274980328984, 'lambda_l2': 0.002606108872965964, 'feature_fraction': 0.5100374528665094, 'bagging_fraction': 0.7654991565826487, 'bagging_freq': 3}. Best is trial 5 with value: 0.06521739130434778.\n",
      "C:\\Users\\nilarghya\\AppData\\Local\\Temp\\ipykernel_19804\\1114577306.py:14: FutureWarning: suggest_loguniform has been deprecated in v3.0.0. This feature will be removed in v6.0.0. See https://github.com/optuna/optuna/releases/tag/v3.0.0. Use suggest_float(..., log=True) instead.\n",
      "  'learning_rate': trial.suggest_loguniform('learning_rate', 1e-3, 1e-1),\n",
      "C:\\Users\\nilarghya\\AppData\\Local\\Temp\\ipykernel_19804\\1114577306.py:18: FutureWarning: suggest_loguniform has been deprecated in v3.0.0. This feature will be removed in v6.0.0. See https://github.com/optuna/optuna/releases/tag/v3.0.0. Use suggest_float(..., log=True) instead.\n",
      "  'lambda_l1': trial.suggest_loguniform('lambda_l1', 1e-8, 10.0),\n",
      "C:\\Users\\nilarghya\\AppData\\Local\\Temp\\ipykernel_19804\\1114577306.py:19: FutureWarning: suggest_loguniform has been deprecated in v3.0.0. This feature will be removed in v6.0.0. See https://github.com/optuna/optuna/releases/tag/v3.0.0. Use suggest_float(..., log=True) instead.\n",
      "  'lambda_l2': trial.suggest_loguniform('lambda_l2', 1e-8, 10.0),\n",
      "C:\\Users\\nilarghya\\AppData\\Local\\Temp\\ipykernel_19804\\1114577306.py:20: FutureWarning: suggest_uniform has been deprecated in v3.0.0. This feature will be removed in v6.0.0. See https://github.com/optuna/optuna/releases/tag/v3.0.0. Use suggest_float instead.\n",
      "  'feature_fraction': trial.suggest_uniform('feature_fraction', 0.5, 1.0),\n",
      "C:\\Users\\nilarghya\\AppData\\Local\\Temp\\ipykernel_19804\\1114577306.py:21: FutureWarning: suggest_uniform has been deprecated in v3.0.0. This feature will be removed in v6.0.0. See https://github.com/optuna/optuna/releases/tag/v3.0.0. Use suggest_float instead.\n",
      "  'bagging_fraction': trial.suggest_uniform('bagging_fraction', 0.5, 1.0),\n"
     ]
    },
    {
     "name": "stdout",
     "output_type": "stream",
     "text": [
      "Training until validation scores don't improve for 20 rounds\n",
      "[10]\tvalid_0's multi_logloss: 1.59519\n",
      "[20]\tvalid_0's multi_logloss: 1.22136\n",
      "[30]\tvalid_0's multi_logloss: 0.981958\n",
      "[40]\tvalid_0's multi_logloss: 0.813294\n",
      "[50]\tvalid_0's multi_logloss: 0.688285\n",
      "[60]\tvalid_0's multi_logloss: 0.592913\n",
      "[70]\tvalid_0's multi_logloss: 0.519697\n",
      "[80]\tvalid_0's multi_logloss: 0.463475\n",
      "[90]\tvalid_0's multi_logloss: 0.421102\n",
      "[100]\tvalid_0's multi_logloss: 0.386769\n",
      "[110]\tvalid_0's multi_logloss: 0.357734\n",
      "[120]\tvalid_0's multi_logloss: 0.3355\n",
      "[130]\tvalid_0's multi_logloss: 0.316848\n",
      "[140]\tvalid_0's multi_logloss: 0.303749\n",
      "[150]\tvalid_0's multi_logloss: 0.29157\n",
      "[160]\tvalid_0's multi_logloss: 0.281562\n",
      "[170]\tvalid_0's multi_logloss: 0.274218\n",
      "[180]\tvalid_0's multi_logloss: 0.269101\n",
      "[190]\tvalid_0's multi_logloss: 0.266608\n"
     ]
    },
    {
     "name": "stderr",
     "output_type": "stream",
     "text": [
      "[I 2024-10-05 14:58:45,257] Trial 22 finished with value: 0.07173913043478264 and parameters: {'learning_rate': 0.01618789763012846, 'num_leaves': 117, 'max_depth': 4, 'min_data_in_leaf': 59, 'lambda_l1': 0.0066292698627219895, 'lambda_l2': 0.008335677625560698, 'feature_fraction': 0.5556595655704419, 'bagging_fraction': 0.7427766494194091, 'bagging_freq': 5}. Best is trial 5 with value: 0.06521739130434778.\n"
     ]
    },
    {
     "name": "stdout",
     "output_type": "stream",
     "text": [
      "[200]\tvalid_0's multi_logloss: 0.263406\n",
      "Did not meet early stopping. Best iteration is:\n",
      "[200]\tvalid_0's multi_logloss: 0.263406\n"
     ]
    },
    {
     "name": "stderr",
     "output_type": "stream",
     "text": [
      "C:\\Users\\nilarghya\\AppData\\Local\\Temp\\ipykernel_19804\\1114577306.py:14: FutureWarning: suggest_loguniform has been deprecated in v3.0.0. This feature will be removed in v6.0.0. See https://github.com/optuna/optuna/releases/tag/v3.0.0. Use suggest_float(..., log=True) instead.\n",
      "  'learning_rate': trial.suggest_loguniform('learning_rate', 1e-3, 1e-1),\n",
      "C:\\Users\\nilarghya\\AppData\\Local\\Temp\\ipykernel_19804\\1114577306.py:18: FutureWarning: suggest_loguniform has been deprecated in v3.0.0. This feature will be removed in v6.0.0. See https://github.com/optuna/optuna/releases/tag/v3.0.0. Use suggest_float(..., log=True) instead.\n",
      "  'lambda_l1': trial.suggest_loguniform('lambda_l1', 1e-8, 10.0),\n",
      "C:\\Users\\nilarghya\\AppData\\Local\\Temp\\ipykernel_19804\\1114577306.py:19: FutureWarning: suggest_loguniform has been deprecated in v3.0.0. This feature will be removed in v6.0.0. See https://github.com/optuna/optuna/releases/tag/v3.0.0. Use suggest_float(..., log=True) instead.\n",
      "  'lambda_l2': trial.suggest_loguniform('lambda_l2', 1e-8, 10.0),\n",
      "C:\\Users\\nilarghya\\AppData\\Local\\Temp\\ipykernel_19804\\1114577306.py:20: FutureWarning: suggest_uniform has been deprecated in v3.0.0. This feature will be removed in v6.0.0. See https://github.com/optuna/optuna/releases/tag/v3.0.0. Use suggest_float instead.\n",
      "  'feature_fraction': trial.suggest_uniform('feature_fraction', 0.5, 1.0),\n",
      "C:\\Users\\nilarghya\\AppData\\Local\\Temp\\ipykernel_19804\\1114577306.py:21: FutureWarning: suggest_uniform has been deprecated in v3.0.0. This feature will be removed in v6.0.0. See https://github.com/optuna/optuna/releases/tag/v3.0.0. Use suggest_float instead.\n",
      "  'bagging_fraction': trial.suggest_uniform('bagging_fraction', 0.5, 1.0),\n"
     ]
    },
    {
     "name": "stdout",
     "output_type": "stream",
     "text": [
      "Training until validation scores don't improve for 20 rounds\n",
      "[10]\tvalid_0's multi_logloss: 1.16577\n",
      "[20]\tvalid_0's multi_logloss: 0.760674\n",
      "[30]\tvalid_0's multi_logloss: 0.553737\n",
      "[40]\tvalid_0's multi_logloss: 0.431954\n",
      "[50]\tvalid_0's multi_logloss: 0.361653\n",
      "[60]\tvalid_0's multi_logloss: 0.317178\n",
      "[70]\tvalid_0's multi_logloss: 0.290962\n",
      "[80]\tvalid_0's multi_logloss: 0.274344\n",
      "[90]\tvalid_0's multi_logloss: 0.264625\n",
      "[100]\tvalid_0's multi_logloss: 0.256069\n",
      "[110]\tvalid_0's multi_logloss: 0.254287\n",
      "[120]\tvalid_0's multi_logloss: 0.253111\n",
      "[130]\tvalid_0's multi_logloss: 0.248722\n",
      "[140]\tvalid_0's multi_logloss: 0.251259\n"
     ]
    },
    {
     "name": "stderr",
     "output_type": "stream",
     "text": [
      "[I 2024-10-05 14:58:46,837] Trial 23 finished with value: 0.06739130434782614 and parameters: {'learning_rate': 0.03395351037299621, 'num_leaves': 181, 'max_depth': 4, 'min_data_in_leaf': 49, 'lambda_l1': 2.1785724904018867e-05, 'lambda_l2': 0.07827235929745663, 'feature_fraction': 0.6361416841082116, 'bagging_fraction': 0.6701310566594448, 'bagging_freq': 4}. Best is trial 5 with value: 0.06521739130434778.\n"
     ]
    },
    {
     "name": "stdout",
     "output_type": "stream",
     "text": [
      "[150]\tvalid_0's multi_logloss: 0.252625\n",
      "Early stopping, best iteration is:\n",
      "[132]\tvalid_0's multi_logloss: 0.24804\n"
     ]
    },
    {
     "name": "stderr",
     "output_type": "stream",
     "text": [
      "C:\\Users\\nilarghya\\AppData\\Local\\Temp\\ipykernel_19804\\1114577306.py:14: FutureWarning: suggest_loguniform has been deprecated in v3.0.0. This feature will be removed in v6.0.0. See https://github.com/optuna/optuna/releases/tag/v3.0.0. Use suggest_float(..., log=True) instead.\n",
      "  'learning_rate': trial.suggest_loguniform('learning_rate', 1e-3, 1e-1),\n",
      "C:\\Users\\nilarghya\\AppData\\Local\\Temp\\ipykernel_19804\\1114577306.py:18: FutureWarning: suggest_loguniform has been deprecated in v3.0.0. This feature will be removed in v6.0.0. See https://github.com/optuna/optuna/releases/tag/v3.0.0. Use suggest_float(..., log=True) instead.\n",
      "  'lambda_l1': trial.suggest_loguniform('lambda_l1', 1e-8, 10.0),\n",
      "C:\\Users\\nilarghya\\AppData\\Local\\Temp\\ipykernel_19804\\1114577306.py:19: FutureWarning: suggest_loguniform has been deprecated in v3.0.0. This feature will be removed in v6.0.0. See https://github.com/optuna/optuna/releases/tag/v3.0.0. Use suggest_float(..., log=True) instead.\n",
      "  'lambda_l2': trial.suggest_loguniform('lambda_l2', 1e-8, 10.0),\n",
      "C:\\Users\\nilarghya\\AppData\\Local\\Temp\\ipykernel_19804\\1114577306.py:20: FutureWarning: suggest_uniform has been deprecated in v3.0.0. This feature will be removed in v6.0.0. See https://github.com/optuna/optuna/releases/tag/v3.0.0. Use suggest_float instead.\n",
      "  'feature_fraction': trial.suggest_uniform('feature_fraction', 0.5, 1.0),\n",
      "C:\\Users\\nilarghya\\AppData\\Local\\Temp\\ipykernel_19804\\1114577306.py:21: FutureWarning: suggest_uniform has been deprecated in v3.0.0. This feature will be removed in v6.0.0. See https://github.com/optuna/optuna/releases/tag/v3.0.0. Use suggest_float instead.\n",
      "  'bagging_fraction': trial.suggest_uniform('bagging_fraction', 0.5, 1.0),\n"
     ]
    },
    {
     "name": "stdout",
     "output_type": "stream",
     "text": [
      "Training until validation scores don't improve for 20 rounds\n",
      "[10]\tvalid_0's multi_logloss: 1.76406\n",
      "[20]\tvalid_0's multi_logloss: 1.43331\n",
      "[30]\tvalid_0's multi_logloss: 1.20459\n",
      "[40]\tvalid_0's multi_logloss: 1.0342\n",
      "[50]\tvalid_0's multi_logloss: 0.903131\n",
      "[60]\tvalid_0's multi_logloss: 0.796803\n",
      "[70]\tvalid_0's multi_logloss: 0.711194\n",
      "[80]\tvalid_0's multi_logloss: 0.638317\n",
      "[90]\tvalid_0's multi_logloss: 0.577585\n",
      "[100]\tvalid_0's multi_logloss: 0.526926\n",
      "[110]\tvalid_0's multi_logloss: 0.482874\n",
      "[120]\tvalid_0's multi_logloss: 0.447309\n",
      "[130]\tvalid_0's multi_logloss: 0.416555\n",
      "[140]\tvalid_0's multi_logloss: 0.391117\n",
      "[150]\tvalid_0's multi_logloss: 0.369631\n",
      "[160]\tvalid_0's multi_logloss: 0.350118\n",
      "[170]\tvalid_0's multi_logloss: 0.334628\n",
      "[180]\tvalid_0's multi_logloss: 0.320265\n",
      "[190]\tvalid_0's multi_logloss: 0.308743\n"
     ]
    },
    {
     "name": "stderr",
     "output_type": "stream",
     "text": [
      "[I 2024-10-05 14:58:48,639] Trial 24 finished with value: 0.07608695652173914 and parameters: {'learning_rate': 0.011487360139386338, 'num_leaves': 188, 'max_depth': 6, 'min_data_in_leaf': 66, 'lambda_l1': 2.0032778189816125e-05, 'lambda_l2': 0.12487814430540761, 'feature_fraction': 0.642408550893235, 'bagging_fraction': 0.6535383068768206, 'bagging_freq': 4}. Best is trial 5 with value: 0.06521739130434778.\n"
     ]
    },
    {
     "name": "stdout",
     "output_type": "stream",
     "text": [
      "[200]\tvalid_0's multi_logloss: 0.299076\n",
      "Did not meet early stopping. Best iteration is:\n",
      "[200]\tvalid_0's multi_logloss: 0.299076\n"
     ]
    },
    {
     "name": "stderr",
     "output_type": "stream",
     "text": [
      "C:\\Users\\nilarghya\\AppData\\Local\\Temp\\ipykernel_19804\\1114577306.py:14: FutureWarning: suggest_loguniform has been deprecated in v3.0.0. This feature will be removed in v6.0.0. See https://github.com/optuna/optuna/releases/tag/v3.0.0. Use suggest_float(..., log=True) instead.\n",
      "  'learning_rate': trial.suggest_loguniform('learning_rate', 1e-3, 1e-1),\n",
      "C:\\Users\\nilarghya\\AppData\\Local\\Temp\\ipykernel_19804\\1114577306.py:18: FutureWarning: suggest_loguniform has been deprecated in v3.0.0. This feature will be removed in v6.0.0. See https://github.com/optuna/optuna/releases/tag/v3.0.0. Use suggest_float(..., log=True) instead.\n",
      "  'lambda_l1': trial.suggest_loguniform('lambda_l1', 1e-8, 10.0),\n",
      "C:\\Users\\nilarghya\\AppData\\Local\\Temp\\ipykernel_19804\\1114577306.py:19: FutureWarning: suggest_loguniform has been deprecated in v3.0.0. This feature will be removed in v6.0.0. See https://github.com/optuna/optuna/releases/tag/v3.0.0. Use suggest_float(..., log=True) instead.\n",
      "  'lambda_l2': trial.suggest_loguniform('lambda_l2', 1e-8, 10.0),\n",
      "C:\\Users\\nilarghya\\AppData\\Local\\Temp\\ipykernel_19804\\1114577306.py:20: FutureWarning: suggest_uniform has been deprecated in v3.0.0. This feature will be removed in v6.0.0. See https://github.com/optuna/optuna/releases/tag/v3.0.0. Use suggest_float instead.\n",
      "  'feature_fraction': trial.suggest_uniform('feature_fraction', 0.5, 1.0),\n",
      "C:\\Users\\nilarghya\\AppData\\Local\\Temp\\ipykernel_19804\\1114577306.py:21: FutureWarning: suggest_uniform has been deprecated in v3.0.0. This feature will be removed in v6.0.0. See https://github.com/optuna/optuna/releases/tag/v3.0.0. Use suggest_float instead.\n",
      "  'bagging_fraction': trial.suggest_uniform('bagging_fraction', 0.5, 1.0),\n"
     ]
    },
    {
     "name": "stdout",
     "output_type": "stream",
     "text": [
      "Training until validation scores don't improve for 20 rounds\n",
      "[10]\tvalid_0's multi_logloss: 1.44532\n",
      "[20]\tvalid_0's multi_logloss: 1.04735\n",
      "[30]\tvalid_0's multi_logloss: 0.810015\n",
      "[40]\tvalid_0's multi_logloss: 0.653055\n",
      "[50]\tvalid_0's multi_logloss: 0.546888\n",
      "[60]\tvalid_0's multi_logloss: 0.467649\n",
      "[70]\tvalid_0's multi_logloss: 0.413909\n",
      "[80]\tvalid_0's multi_logloss: 0.372337\n",
      "[90]\tvalid_0's multi_logloss: 0.343148\n",
      "[100]\tvalid_0's multi_logloss: 0.320909\n",
      "[110]\tvalid_0's multi_logloss: 0.304784\n",
      "[120]\tvalid_0's multi_logloss: 0.2945\n",
      "[130]\tvalid_0's multi_logloss: 0.284051\n",
      "[140]\tvalid_0's multi_logloss: 0.278189\n",
      "[150]\tvalid_0's multi_logloss: 0.273599\n",
      "[160]\tvalid_0's multi_logloss: 0.269214\n",
      "[170]\tvalid_0's multi_logloss: 0.266749\n",
      "[180]\tvalid_0's multi_logloss: 0.265325\n",
      "[190]\tvalid_0's multi_logloss: 0.265521\n",
      "[200]\tvalid_0's multi_logloss: 0.263954\n",
      "Did not meet early stopping. Best iteration is:\n",
      "[200]\tvalid_0's multi_logloss: 0.263954\n"
     ]
    },
    {
     "name": "stderr",
     "output_type": "stream",
     "text": [
      "[I 2024-10-05 14:58:50,498] Trial 25 finished with value: 0.08043478260869563 and parameters: {'learning_rate': 0.022711055528998613, 'num_leaves': 184, 'max_depth': 4, 'min_data_in_leaf': 50, 'lambda_l1': 1.7375960263892386e-06, 'lambda_l2': 0.5645034513874473, 'feature_fraction': 0.7343962105759152, 'bagging_fraction': 0.5473543090184392, 'bagging_freq': 6}. Best is trial 5 with value: 0.06521739130434778.\n",
      "C:\\Users\\nilarghya\\AppData\\Local\\Temp\\ipykernel_19804\\1114577306.py:14: FutureWarning: suggest_loguniform has been deprecated in v3.0.0. This feature will be removed in v6.0.0. See https://github.com/optuna/optuna/releases/tag/v3.0.0. Use suggest_float(..., log=True) instead.\n",
      "  'learning_rate': trial.suggest_loguniform('learning_rate', 1e-3, 1e-1),\n",
      "C:\\Users\\nilarghya\\AppData\\Local\\Temp\\ipykernel_19804\\1114577306.py:18: FutureWarning: suggest_loguniform has been deprecated in v3.0.0. This feature will be removed in v6.0.0. See https://github.com/optuna/optuna/releases/tag/v3.0.0. Use suggest_float(..., log=True) instead.\n",
      "  'lambda_l1': trial.suggest_loguniform('lambda_l1', 1e-8, 10.0),\n",
      "C:\\Users\\nilarghya\\AppData\\Local\\Temp\\ipykernel_19804\\1114577306.py:19: FutureWarning: suggest_loguniform has been deprecated in v3.0.0. This feature will be removed in v6.0.0. See https://github.com/optuna/optuna/releases/tag/v3.0.0. Use suggest_float(..., log=True) instead.\n",
      "  'lambda_l2': trial.suggest_loguniform('lambda_l2', 1e-8, 10.0),\n",
      "C:\\Users\\nilarghya\\AppData\\Local\\Temp\\ipykernel_19804\\1114577306.py:20: FutureWarning: suggest_uniform has been deprecated in v3.0.0. This feature will be removed in v6.0.0. See https://github.com/optuna/optuna/releases/tag/v3.0.0. Use suggest_float instead.\n",
      "  'feature_fraction': trial.suggest_uniform('feature_fraction', 0.5, 1.0),\n",
      "C:\\Users\\nilarghya\\AppData\\Local\\Temp\\ipykernel_19804\\1114577306.py:21: FutureWarning: suggest_uniform has been deprecated in v3.0.0. This feature will be removed in v6.0.0. See https://github.com/optuna/optuna/releases/tag/v3.0.0. Use suggest_float instead.\n",
      "  'bagging_fraction': trial.suggest_uniform('bagging_fraction', 0.5, 1.0),\n"
     ]
    },
    {
     "name": "stdout",
     "output_type": "stream",
     "text": [
      "Training until validation scores don't improve for 20 rounds\n",
      "[10]\tvalid_0's multi_logloss: 0.79131\n",
      "[20]\tvalid_0's multi_logloss: 0.453114\n",
      "[30]\tvalid_0's multi_logloss: 0.329972\n",
      "[40]\tvalid_0's multi_logloss: 0.279378\n",
      "[50]\tvalid_0's multi_logloss: 0.263\n",
      "[60]\tvalid_0's multi_logloss: 0.256836\n",
      "[70]\tvalid_0's multi_logloss: 0.255924\n"
     ]
    },
    {
     "name": "stderr",
     "output_type": "stream",
     "text": [
      "[I 2024-10-05 14:58:51,646] Trial 26 finished with value: 0.07173913043478264 and parameters: {'learning_rate': 0.060516778246624395, 'num_leaves': 230, 'max_depth': 6, 'min_data_in_leaf': 43, 'lambda_l1': 0.0004948399835579362, 'lambda_l2': 0.01760738202066538, 'feature_fraction': 0.6784409270486517, 'bagging_fraction': 0.668164458736822, 'bagging_freq': 2}. Best is trial 5 with value: 0.06521739130434778.\n"
     ]
    },
    {
     "name": "stdout",
     "output_type": "stream",
     "text": [
      "[80]\tvalid_0's multi_logloss: 0.259937\n",
      "Early stopping, best iteration is:\n",
      "[68]\tvalid_0's multi_logloss: 0.253636\n"
     ]
    },
    {
     "name": "stderr",
     "output_type": "stream",
     "text": [
      "C:\\Users\\nilarghya\\AppData\\Local\\Temp\\ipykernel_19804\\1114577306.py:14: FutureWarning: suggest_loguniform has been deprecated in v3.0.0. This feature will be removed in v6.0.0. See https://github.com/optuna/optuna/releases/tag/v3.0.0. Use suggest_float(..., log=True) instead.\n",
      "  'learning_rate': trial.suggest_loguniform('learning_rate', 1e-3, 1e-1),\n",
      "C:\\Users\\nilarghya\\AppData\\Local\\Temp\\ipykernel_19804\\1114577306.py:18: FutureWarning: suggest_loguniform has been deprecated in v3.0.0. This feature will be removed in v6.0.0. See https://github.com/optuna/optuna/releases/tag/v3.0.0. Use suggest_float(..., log=True) instead.\n",
      "  'lambda_l1': trial.suggest_loguniform('lambda_l1', 1e-8, 10.0),\n",
      "C:\\Users\\nilarghya\\AppData\\Local\\Temp\\ipykernel_19804\\1114577306.py:19: FutureWarning: suggest_loguniform has been deprecated in v3.0.0. This feature will be removed in v6.0.0. See https://github.com/optuna/optuna/releases/tag/v3.0.0. Use suggest_float(..., log=True) instead.\n",
      "  'lambda_l2': trial.suggest_loguniform('lambda_l2', 1e-8, 10.0),\n",
      "C:\\Users\\nilarghya\\AppData\\Local\\Temp\\ipykernel_19804\\1114577306.py:20: FutureWarning: suggest_uniform has been deprecated in v3.0.0. This feature will be removed in v6.0.0. See https://github.com/optuna/optuna/releases/tag/v3.0.0. Use suggest_float instead.\n",
      "  'feature_fraction': trial.suggest_uniform('feature_fraction', 0.5, 1.0),\n",
      "C:\\Users\\nilarghya\\AppData\\Local\\Temp\\ipykernel_19804\\1114577306.py:21: FutureWarning: suggest_uniform has been deprecated in v3.0.0. This feature will be removed in v6.0.0. See https://github.com/optuna/optuna/releases/tag/v3.0.0. Use suggest_float instead.\n",
      "  'bagging_fraction': trial.suggest_uniform('bagging_fraction', 0.5, 1.0),\n"
     ]
    },
    {
     "name": "stdout",
     "output_type": "stream",
     "text": [
      "Training until validation scores don't improve for 20 rounds\n",
      "[10]\tvalid_0's multi_logloss: 1.86339\n",
      "[20]\tvalid_0's multi_logloss: 1.57371\n",
      "[30]\tvalid_0's multi_logloss: 1.36101\n",
      "[40]\tvalid_0's multi_logloss: 1.19385\n",
      "[50]\tvalid_0's multi_logloss: 1.06347\n",
      "[60]\tvalid_0's multi_logloss: 0.954208\n",
      "[70]\tvalid_0's multi_logloss: 0.862804\n",
      "[80]\tvalid_0's multi_logloss: 0.784924\n",
      "[90]\tvalid_0's multi_logloss: 0.71864\n",
      "[100]\tvalid_0's multi_logloss: 0.662137\n",
      "[110]\tvalid_0's multi_logloss: 0.610522\n",
      "[120]\tvalid_0's multi_logloss: 0.567483\n",
      "[130]\tvalid_0's multi_logloss: 0.529666\n",
      "[140]\tvalid_0's multi_logloss: 0.49668\n",
      "[150]\tvalid_0's multi_logloss: 0.468422\n",
      "[160]\tvalid_0's multi_logloss: 0.441519\n",
      "[170]\tvalid_0's multi_logloss: 0.419658\n",
      "[180]\tvalid_0's multi_logloss: 0.3996\n",
      "[190]\tvalid_0's multi_logloss: 0.382086\n",
      "[200]\tvalid_0's multi_logloss: 0.367351\n",
      "Did not meet early stopping. Best iteration is:\n",
      "[200]\tvalid_0's multi_logloss: 0.367351\n"
     ]
    },
    {
     "name": "stderr",
     "output_type": "stream",
     "text": [
      "[I 2024-10-05 14:58:53,567] Trial 27 finished with value: 0.08043478260869563 and parameters: {'learning_rate': 0.008864945674897866, 'num_leaves': 177, 'max_depth': 5, 'min_data_in_leaf': 63, 'lambda_l1': 4.566513129947815e-08, 'lambda_l2': 0.0006610326808752749, 'feature_fraction': 0.6003471971976404, 'bagging_fraction': 0.5994376895780479, 'bagging_freq': 4}. Best is trial 5 with value: 0.06521739130434778.\n",
      "C:\\Users\\nilarghya\\AppData\\Local\\Temp\\ipykernel_19804\\1114577306.py:14: FutureWarning: suggest_loguniform has been deprecated in v3.0.0. This feature will be removed in v6.0.0. See https://github.com/optuna/optuna/releases/tag/v3.0.0. Use suggest_float(..., log=True) instead.\n",
      "  'learning_rate': trial.suggest_loguniform('learning_rate', 1e-3, 1e-1),\n",
      "C:\\Users\\nilarghya\\AppData\\Local\\Temp\\ipykernel_19804\\1114577306.py:18: FutureWarning: suggest_loguniform has been deprecated in v3.0.0. This feature will be removed in v6.0.0. See https://github.com/optuna/optuna/releases/tag/v3.0.0. Use suggest_float(..., log=True) instead.\n",
      "  'lambda_l1': trial.suggest_loguniform('lambda_l1', 1e-8, 10.0),\n",
      "C:\\Users\\nilarghya\\AppData\\Local\\Temp\\ipykernel_19804\\1114577306.py:19: FutureWarning: suggest_loguniform has been deprecated in v3.0.0. This feature will be removed in v6.0.0. See https://github.com/optuna/optuna/releases/tag/v3.0.0. Use suggest_float(..., log=True) instead.\n",
      "  'lambda_l2': trial.suggest_loguniform('lambda_l2', 1e-8, 10.0),\n",
      "C:\\Users\\nilarghya\\AppData\\Local\\Temp\\ipykernel_19804\\1114577306.py:20: FutureWarning: suggest_uniform has been deprecated in v3.0.0. This feature will be removed in v6.0.0. See https://github.com/optuna/optuna/releases/tag/v3.0.0. Use suggest_float instead.\n",
      "  'feature_fraction': trial.suggest_uniform('feature_fraction', 0.5, 1.0),\n",
      "C:\\Users\\nilarghya\\AppData\\Local\\Temp\\ipykernel_19804\\1114577306.py:21: FutureWarning: suggest_uniform has been deprecated in v3.0.0. This feature will be removed in v6.0.0. See https://github.com/optuna/optuna/releases/tag/v3.0.0. Use suggest_float instead.\n",
      "  'bagging_fraction': trial.suggest_uniform('bagging_fraction', 0.5, 1.0),\n"
     ]
    },
    {
     "name": "stdout",
     "output_type": "stream",
     "text": [
      "Training until validation scores don't improve for 20 rounds\n",
      "[10]\tvalid_0's multi_logloss: 1.18512\n",
      "[20]\tvalid_0's multi_logloss: 0.777096\n",
      "[30]\tvalid_0's multi_logloss: 0.563849\n",
      "[40]\tvalid_0's multi_logloss: 0.437951\n",
      "[50]\tvalid_0's multi_logloss: 0.365249\n",
      "[60]\tvalid_0's multi_logloss: 0.321806\n",
      "[70]\tvalid_0's multi_logloss: 0.293754\n",
      "[80]\tvalid_0's multi_logloss: 0.276845\n",
      "[90]\tvalid_0's multi_logloss: 0.264936\n",
      "[100]\tvalid_0's multi_logloss: 0.261604\n",
      "[110]\tvalid_0's multi_logloss: 0.260387\n",
      "[120]\tvalid_0's multi_logloss: 0.261987\n",
      "Early stopping, best iteration is:\n",
      "[109]\tvalid_0's multi_logloss: 0.260187\n"
     ]
    },
    {
     "name": "stderr",
     "output_type": "stream",
     "text": [
      "[I 2024-10-05 14:58:57,214] Trial 28 finished with value: 0.07608695652173914 and parameters: {'learning_rate': 0.0312867375239585, 'num_leaves': 143, 'max_depth': 8, 'min_data_in_leaf': 28, 'lambda_l1': 3.722621713006615e-05, 'lambda_l2': 1.0395229836672482e-07, 'feature_fraction': 0.7865836568526836, 'bagging_fraction': 0.7891876743327746, 'bagging_freq': 5}. Best is trial 5 with value: 0.06521739130434778.\n",
      "C:\\Users\\nilarghya\\AppData\\Local\\Temp\\ipykernel_19804\\1114577306.py:14: FutureWarning: suggest_loguniform has been deprecated in v3.0.0. This feature will be removed in v6.0.0. See https://github.com/optuna/optuna/releases/tag/v3.0.0. Use suggest_float(..., log=True) instead.\n",
      "  'learning_rate': trial.suggest_loguniform('learning_rate', 1e-3, 1e-1),\n",
      "C:\\Users\\nilarghya\\AppData\\Local\\Temp\\ipykernel_19804\\1114577306.py:18: FutureWarning: suggest_loguniform has been deprecated in v3.0.0. This feature will be removed in v6.0.0. See https://github.com/optuna/optuna/releases/tag/v3.0.0. Use suggest_float(..., log=True) instead.\n",
      "  'lambda_l1': trial.suggest_loguniform('lambda_l1', 1e-8, 10.0),\n",
      "C:\\Users\\nilarghya\\AppData\\Local\\Temp\\ipykernel_19804\\1114577306.py:19: FutureWarning: suggest_loguniform has been deprecated in v3.0.0. This feature will be removed in v6.0.0. See https://github.com/optuna/optuna/releases/tag/v3.0.0. Use suggest_float(..., log=True) instead.\n",
      "  'lambda_l2': trial.suggest_loguniform('lambda_l2', 1e-8, 10.0),\n",
      "C:\\Users\\nilarghya\\AppData\\Local\\Temp\\ipykernel_19804\\1114577306.py:20: FutureWarning: suggest_uniform has been deprecated in v3.0.0. This feature will be removed in v6.0.0. See https://github.com/optuna/optuna/releases/tag/v3.0.0. Use suggest_float instead.\n",
      "  'feature_fraction': trial.suggest_uniform('feature_fraction', 0.5, 1.0),\n",
      "C:\\Users\\nilarghya\\AppData\\Local\\Temp\\ipykernel_19804\\1114577306.py:21: FutureWarning: suggest_uniform has been deprecated in v3.0.0. This feature will be removed in v6.0.0. See https://github.com/optuna/optuna/releases/tag/v3.0.0. Use suggest_float instead.\n",
      "  'bagging_fraction': trial.suggest_uniform('bagging_fraction', 0.5, 1.0),\n"
     ]
    },
    {
     "name": "stdout",
     "output_type": "stream",
     "text": [
      "Training until validation scores don't improve for 20 rounds\n",
      "[10]\tvalid_0's multi_logloss: 1.58256\n",
      "[20]\tvalid_0's multi_logloss: 1.19739\n",
      "[30]\tvalid_0's multi_logloss: 0.95754\n",
      "[40]\tvalid_0's multi_logloss: 0.788918\n",
      "[50]\tvalid_0's multi_logloss: 0.664208\n",
      "[60]\tvalid_0's multi_logloss: 0.568893\n",
      "[70]\tvalid_0's multi_logloss: 0.499088\n",
      "[80]\tvalid_0's multi_logloss: 0.445635\n",
      "[90]\tvalid_0's multi_logloss: 0.403153\n",
      "[100]\tvalid_0's multi_logloss: 0.369267\n",
      "[110]\tvalid_0's multi_logloss: 0.344209\n",
      "[120]\tvalid_0's multi_logloss: 0.325071\n",
      "[130]\tvalid_0's multi_logloss: 0.308462\n",
      "[140]\tvalid_0's multi_logloss: 0.296679\n",
      "[150]\tvalid_0's multi_logloss: 0.286231\n",
      "[160]\tvalid_0's multi_logloss: 0.280037\n",
      "[170]\tvalid_0's multi_logloss: 0.275475\n",
      "[180]\tvalid_0's multi_logloss: 0.271616\n",
      "[190]\tvalid_0's multi_logloss: 0.266548\n",
      "[200]\tvalid_0's multi_logloss: 0.261695\n",
      "Did not meet early stopping. Best iteration is:\n",
      "[200]\tvalid_0's multi_logloss: 0.261695\n"
     ]
    },
    {
     "name": "stderr",
     "output_type": "stream",
     "text": [
      "[I 2024-10-05 14:58:59,707] Trial 29 finished with value: 0.07826086956521738 and parameters: {'learning_rate': 0.017692955877532446, 'num_leaves': 58, 'max_depth': 4, 'min_data_in_leaf': 69, 'lambda_l1': 1.5491896873611655e-07, 'lambda_l2': 0.7767369653997603, 'feature_fraction': 0.865962135709621, 'bagging_fraction': 0.7109121371625301, 'bagging_freq': 6}. Best is trial 5 with value: 0.06521739130434778.\n",
      "C:\\Users\\nilarghya\\AppData\\Local\\Temp\\ipykernel_19804\\1114577306.py:14: FutureWarning: suggest_loguniform has been deprecated in v3.0.0. This feature will be removed in v6.0.0. See https://github.com/optuna/optuna/releases/tag/v3.0.0. Use suggest_float(..., log=True) instead.\n",
      "  'learning_rate': trial.suggest_loguniform('learning_rate', 1e-3, 1e-1),\n",
      "C:\\Users\\nilarghya\\AppData\\Local\\Temp\\ipykernel_19804\\1114577306.py:18: FutureWarning: suggest_loguniform has been deprecated in v3.0.0. This feature will be removed in v6.0.0. See https://github.com/optuna/optuna/releases/tag/v3.0.0. Use suggest_float(..., log=True) instead.\n",
      "  'lambda_l1': trial.suggest_loguniform('lambda_l1', 1e-8, 10.0),\n",
      "C:\\Users\\nilarghya\\AppData\\Local\\Temp\\ipykernel_19804\\1114577306.py:19: FutureWarning: suggest_loguniform has been deprecated in v3.0.0. This feature will be removed in v6.0.0. See https://github.com/optuna/optuna/releases/tag/v3.0.0. Use suggest_float(..., log=True) instead.\n",
      "  'lambda_l2': trial.suggest_loguniform('lambda_l2', 1e-8, 10.0),\n",
      "C:\\Users\\nilarghya\\AppData\\Local\\Temp\\ipykernel_19804\\1114577306.py:20: FutureWarning: suggest_uniform has been deprecated in v3.0.0. This feature will be removed in v6.0.0. See https://github.com/optuna/optuna/releases/tag/v3.0.0. Use suggest_float instead.\n",
      "  'feature_fraction': trial.suggest_uniform('feature_fraction', 0.5, 1.0),\n",
      "C:\\Users\\nilarghya\\AppData\\Local\\Temp\\ipykernel_19804\\1114577306.py:21: FutureWarning: suggest_uniform has been deprecated in v3.0.0. This feature will be removed in v6.0.0. See https://github.com/optuna/optuna/releases/tag/v3.0.0. Use suggest_float instead.\n",
      "  'bagging_fraction': trial.suggest_uniform('bagging_fraction', 0.5, 1.0),\n"
     ]
    },
    {
     "name": "stdout",
     "output_type": "stream",
     "text": [
      "Training until validation scores don't improve for 20 rounds\n",
      "[10]\tvalid_0's multi_logloss: 0.903035\n",
      "[20]\tvalid_0's multi_logloss: 0.531097\n",
      "[30]\tvalid_0's multi_logloss: 0.373163\n",
      "[40]\tvalid_0's multi_logloss: 0.296395\n",
      "[50]\tvalid_0's multi_logloss: 0.264899\n",
      "[60]\tvalid_0's multi_logloss: 0.250528\n",
      "[70]\tvalid_0's multi_logloss: 0.245207\n",
      "[80]\tvalid_0's multi_logloss: 0.241323\n",
      "[90]\tvalid_0's multi_logloss: 0.246167\n"
     ]
    },
    {
     "name": "stderr",
     "output_type": "stream",
     "text": [
      "[I 2024-10-05 14:59:03,002] Trial 30 finished with value: 0.07391304347826089 and parameters: {'learning_rate': 0.053566644198569796, 'num_leaves': 243, 'max_depth': 9, 'min_data_in_leaf': 80, 'lambda_l1': 3.2158835659832638e-06, 'lambda_l2': 3.8323384475357976e-05, 'feature_fraction': 0.9832170058190425, 'bagging_fraction': 0.9026989323211511, 'bagging_freq': 7}. Best is trial 5 with value: 0.06521739130434778.\n"
     ]
    },
    {
     "name": "stdout",
     "output_type": "stream",
     "text": [
      "[100]\tvalid_0's multi_logloss: 0.249733\n",
      "Early stopping, best iteration is:\n",
      "[80]\tvalid_0's multi_logloss: 0.241323\n"
     ]
    },
    {
     "name": "stderr",
     "output_type": "stream",
     "text": [
      "C:\\Users\\nilarghya\\AppData\\Local\\Temp\\ipykernel_19804\\1114577306.py:14: FutureWarning: suggest_loguniform has been deprecated in v3.0.0. This feature will be removed in v6.0.0. See https://github.com/optuna/optuna/releases/tag/v3.0.0. Use suggest_float(..., log=True) instead.\n",
      "  'learning_rate': trial.suggest_loguniform('learning_rate', 1e-3, 1e-1),\n",
      "C:\\Users\\nilarghya\\AppData\\Local\\Temp\\ipykernel_19804\\1114577306.py:18: FutureWarning: suggest_loguniform has been deprecated in v3.0.0. This feature will be removed in v6.0.0. See https://github.com/optuna/optuna/releases/tag/v3.0.0. Use suggest_float(..., log=True) instead.\n",
      "  'lambda_l1': trial.suggest_loguniform('lambda_l1', 1e-8, 10.0),\n",
      "C:\\Users\\nilarghya\\AppData\\Local\\Temp\\ipykernel_19804\\1114577306.py:19: FutureWarning: suggest_loguniform has been deprecated in v3.0.0. This feature will be removed in v6.0.0. See https://github.com/optuna/optuna/releases/tag/v3.0.0. Use suggest_float(..., log=True) instead.\n",
      "  'lambda_l2': trial.suggest_loguniform('lambda_l2', 1e-8, 10.0),\n",
      "C:\\Users\\nilarghya\\AppData\\Local\\Temp\\ipykernel_19804\\1114577306.py:20: FutureWarning: suggest_uniform has been deprecated in v3.0.0. This feature will be removed in v6.0.0. See https://github.com/optuna/optuna/releases/tag/v3.0.0. Use suggest_float instead.\n",
      "  'feature_fraction': trial.suggest_uniform('feature_fraction', 0.5, 1.0),\n",
      "C:\\Users\\nilarghya\\AppData\\Local\\Temp\\ipykernel_19804\\1114577306.py:21: FutureWarning: suggest_uniform has been deprecated in v3.0.0. This feature will be removed in v6.0.0. See https://github.com/optuna/optuna/releases/tag/v3.0.0. Use suggest_float instead.\n",
      "  'bagging_fraction': trial.suggest_uniform('bagging_fraction', 0.5, 1.0),\n"
     ]
    },
    {
     "name": "stdout",
     "output_type": "stream",
     "text": [
      "Training until validation scores don't improve for 20 rounds\n",
      "[10]\tvalid_0's multi_logloss: 1.11981\n",
      "[20]\tvalid_0's multi_logloss: 0.722982\n",
      "[30]\tvalid_0's multi_logloss: 0.527742\n",
      "[40]\tvalid_0's multi_logloss: 0.417147\n",
      "[50]\tvalid_0's multi_logloss: 0.355037\n",
      "[60]\tvalid_0's multi_logloss: 0.314734\n",
      "[70]\tvalid_0's multi_logloss: 0.289873\n",
      "[80]\tvalid_0's multi_logloss: 0.275132\n",
      "[90]\tvalid_0's multi_logloss: 0.267536\n",
      "[100]\tvalid_0's multi_logloss: 0.261956\n",
      "[110]\tvalid_0's multi_logloss: 0.261656\n",
      "[120]\tvalid_0's multi_logloss: 0.260033\n",
      "[130]\tvalid_0's multi_logloss: 0.257622\n",
      "[140]\tvalid_0's multi_logloss: 0.255545\n",
      "[150]\tvalid_0's multi_logloss: 0.257465\n"
     ]
    },
    {
     "name": "stderr",
     "output_type": "stream",
     "text": [
      "[I 2024-10-05 14:59:04,502] Trial 31 finished with value: 0.07391304347826089 and parameters: {'learning_rate': 0.03825380226133927, 'num_leaves': 148, 'max_depth': 3, 'min_data_in_leaf': 55, 'lambda_l1': 0.0034790692923880344, 'lambda_l2': 0.0029488552836368256, 'feature_fraction': 0.5325069262806552, 'bagging_fraction': 0.6114861530641855, 'bagging_freq': 3}. Best is trial 5 with value: 0.06521739130434778.\n"
     ]
    },
    {
     "name": "stdout",
     "output_type": "stream",
     "text": [
      "[160]\tvalid_0's multi_logloss: 0.258364\n",
      "Early stopping, best iteration is:\n",
      "[142]\tvalid_0's multi_logloss: 0.255141\n"
     ]
    },
    {
     "name": "stderr",
     "output_type": "stream",
     "text": [
      "C:\\Users\\nilarghya\\AppData\\Local\\Temp\\ipykernel_19804\\1114577306.py:14: FutureWarning: suggest_loguniform has been deprecated in v3.0.0. This feature will be removed in v6.0.0. See https://github.com/optuna/optuna/releases/tag/v3.0.0. Use suggest_float(..., log=True) instead.\n",
      "  'learning_rate': trial.suggest_loguniform('learning_rate', 1e-3, 1e-1),\n",
      "C:\\Users\\nilarghya\\AppData\\Local\\Temp\\ipykernel_19804\\1114577306.py:18: FutureWarning: suggest_loguniform has been deprecated in v3.0.0. This feature will be removed in v6.0.0. See https://github.com/optuna/optuna/releases/tag/v3.0.0. Use suggest_float(..., log=True) instead.\n",
      "  'lambda_l1': trial.suggest_loguniform('lambda_l1', 1e-8, 10.0),\n",
      "C:\\Users\\nilarghya\\AppData\\Local\\Temp\\ipykernel_19804\\1114577306.py:19: FutureWarning: suggest_loguniform has been deprecated in v3.0.0. This feature will be removed in v6.0.0. See https://github.com/optuna/optuna/releases/tag/v3.0.0. Use suggest_float(..., log=True) instead.\n",
      "  'lambda_l2': trial.suggest_loguniform('lambda_l2', 1e-8, 10.0),\n",
      "C:\\Users\\nilarghya\\AppData\\Local\\Temp\\ipykernel_19804\\1114577306.py:20: FutureWarning: suggest_uniform has been deprecated in v3.0.0. This feature will be removed in v6.0.0. See https://github.com/optuna/optuna/releases/tag/v3.0.0. Use suggest_float instead.\n",
      "  'feature_fraction': trial.suggest_uniform('feature_fraction', 0.5, 1.0),\n",
      "C:\\Users\\nilarghya\\AppData\\Local\\Temp\\ipykernel_19804\\1114577306.py:21: FutureWarning: suggest_uniform has been deprecated in v3.0.0. This feature will be removed in v6.0.0. See https://github.com/optuna/optuna/releases/tag/v3.0.0. Use suggest_float instead.\n",
      "  'bagging_fraction': trial.suggest_uniform('bagging_fraction', 0.5, 1.0),\n"
     ]
    },
    {
     "name": "stdout",
     "output_type": "stream",
     "text": [
      "Training until validation scores don't improve for 20 rounds\n",
      "[10]\tvalid_0's multi_logloss: 1.34736\n",
      "[20]\tvalid_0's multi_logloss: 0.94135\n",
      "[30]\tvalid_0's multi_logloss: 0.710555\n",
      "[40]\tvalid_0's multi_logloss: 0.56042\n",
      "[50]\tvalid_0's multi_logloss: 0.464303\n",
      "[60]\tvalid_0's multi_logloss: 0.399563\n",
      "[70]\tvalid_0's multi_logloss: 0.353207\n",
      "[80]\tvalid_0's multi_logloss: 0.320243\n",
      "[90]\tvalid_0's multi_logloss: 0.300192\n",
      "[100]\tvalid_0's multi_logloss: 0.284663\n",
      "[110]\tvalid_0's multi_logloss: 0.274638\n",
      "[120]\tvalid_0's multi_logloss: 0.266477\n",
      "[130]\tvalid_0's multi_logloss: 0.260032\n",
      "[140]\tvalid_0's multi_logloss: 0.254585\n",
      "[150]\tvalid_0's multi_logloss: 0.25336\n",
      "[160]\tvalid_0's multi_logloss: 0.251006\n",
      "[170]\tvalid_0's multi_logloss: 0.250466\n",
      "[180]\tvalid_0's multi_logloss: 0.25065\n",
      "[190]\tvalid_0's multi_logloss: 0.250143\n",
      "Early stopping, best iteration is:\n",
      "[174]\tvalid_0's multi_logloss: 0.249345\n"
     ]
    },
    {
     "name": "stderr",
     "output_type": "stream",
     "text": [
      "[I 2024-10-05 14:59:06,463] Trial 32 finished with value: 0.07173913043478264 and parameters: {'learning_rate': 0.02574434232386735, 'num_leaves': 201, 'max_depth': 4, 'min_data_in_leaf': 59, 'lambda_l1': 0.053505970706940305, 'lambda_l2': 0.050962227120365175, 'feature_fraction': 0.5774280836151029, 'bagging_fraction': 0.7179526008825331, 'bagging_freq': 3}. Best is trial 5 with value: 0.06521739130434778.\n",
      "C:\\Users\\nilarghya\\AppData\\Local\\Temp\\ipykernel_19804\\1114577306.py:14: FutureWarning: suggest_loguniform has been deprecated in v3.0.0. This feature will be removed in v6.0.0. See https://github.com/optuna/optuna/releases/tag/v3.0.0. Use suggest_float(..., log=True) instead.\n",
      "  'learning_rate': trial.suggest_loguniform('learning_rate', 1e-3, 1e-1),\n",
      "C:\\Users\\nilarghya\\AppData\\Local\\Temp\\ipykernel_19804\\1114577306.py:18: FutureWarning: suggest_loguniform has been deprecated in v3.0.0. This feature will be removed in v6.0.0. See https://github.com/optuna/optuna/releases/tag/v3.0.0. Use suggest_float(..., log=True) instead.\n",
      "  'lambda_l1': trial.suggest_loguniform('lambda_l1', 1e-8, 10.0),\n",
      "C:\\Users\\nilarghya\\AppData\\Local\\Temp\\ipykernel_19804\\1114577306.py:19: FutureWarning: suggest_loguniform has been deprecated in v3.0.0. This feature will be removed in v6.0.0. See https://github.com/optuna/optuna/releases/tag/v3.0.0. Use suggest_float(..., log=True) instead.\n",
      "  'lambda_l2': trial.suggest_loguniform('lambda_l2', 1e-8, 10.0),\n",
      "C:\\Users\\nilarghya\\AppData\\Local\\Temp\\ipykernel_19804\\1114577306.py:20: FutureWarning: suggest_uniform has been deprecated in v3.0.0. This feature will be removed in v6.0.0. See https://github.com/optuna/optuna/releases/tag/v3.0.0. Use suggest_float instead.\n",
      "  'feature_fraction': trial.suggest_uniform('feature_fraction', 0.5, 1.0),\n",
      "C:\\Users\\nilarghya\\AppData\\Local\\Temp\\ipykernel_19804\\1114577306.py:21: FutureWarning: suggest_uniform has been deprecated in v3.0.0. This feature will be removed in v6.0.0. See https://github.com/optuna/optuna/releases/tag/v3.0.0. Use suggest_float instead.\n",
      "  'bagging_fraction': trial.suggest_uniform('bagging_fraction', 0.5, 1.0),\n"
     ]
    },
    {
     "name": "stdout",
     "output_type": "stream",
     "text": [
      "Training until validation scores don't improve for 20 rounds\n",
      "[10]\tvalid_0's multi_logloss: 1.1404\n",
      "[20]\tvalid_0's multi_logloss: 0.746071\n",
      "[30]\tvalid_0's multi_logloss: 0.54866\n",
      "[40]\tvalid_0's multi_logloss: 0.433902\n",
      "[50]\tvalid_0's multi_logloss: 0.365002\n",
      "[60]\tvalid_0's multi_logloss: 0.322454\n",
      "[70]\tvalid_0's multi_logloss: 0.295882\n",
      "[80]\tvalid_0's multi_logloss: 0.280452\n",
      "[90]\tvalid_0's multi_logloss: 0.270803\n",
      "[100]\tvalid_0's multi_logloss: 0.264482\n",
      "[110]\tvalid_0's multi_logloss: 0.262299\n",
      "[120]\tvalid_0's multi_logloss: 0.261257\n",
      "[130]\tvalid_0's multi_logloss: 0.260743\n",
      "[140]\tvalid_0's multi_logloss: 0.258698\n",
      "[150]\tvalid_0's multi_logloss: 0.259899\n",
      "[160]\tvalid_0's multi_logloss: 0.259811\n",
      "[170]\tvalid_0's multi_logloss: 0.261116\n",
      "Early stopping, best iteration is:\n",
      "[156]\tvalid_0's multi_logloss: 0.258092\n"
     ]
    },
    {
     "name": "stderr",
     "output_type": "stream",
     "text": [
      "[I 2024-10-05 14:59:08,119] Trial 33 finished with value: 0.08043478260869563 and parameters: {'learning_rate': 0.037276167483740345, 'num_leaves': 170, 'max_depth': 3, 'min_data_in_leaf': 65, 'lambda_l1': 0.0005332068117205311, 'lambda_l2': 0.017212911227942156, 'feature_fraction': 0.5303489678929025, 'bagging_fraction': 0.670596329331319, 'bagging_freq': 4}. Best is trial 5 with value: 0.06521739130434778.\n",
      "C:\\Users\\nilarghya\\AppData\\Local\\Temp\\ipykernel_19804\\1114577306.py:14: FutureWarning: suggest_loguniform has been deprecated in v3.0.0. This feature will be removed in v6.0.0. See https://github.com/optuna/optuna/releases/tag/v3.0.0. Use suggest_float(..., log=True) instead.\n",
      "  'learning_rate': trial.suggest_loguniform('learning_rate', 1e-3, 1e-1),\n",
      "C:\\Users\\nilarghya\\AppData\\Local\\Temp\\ipykernel_19804\\1114577306.py:18: FutureWarning: suggest_loguniform has been deprecated in v3.0.0. This feature will be removed in v6.0.0. See https://github.com/optuna/optuna/releases/tag/v3.0.0. Use suggest_float(..., log=True) instead.\n",
      "  'lambda_l1': trial.suggest_loguniform('lambda_l1', 1e-8, 10.0),\n",
      "C:\\Users\\nilarghya\\AppData\\Local\\Temp\\ipykernel_19804\\1114577306.py:19: FutureWarning: suggest_loguniform has been deprecated in v3.0.0. This feature will be removed in v6.0.0. See https://github.com/optuna/optuna/releases/tag/v3.0.0. Use suggest_float(..., log=True) instead.\n",
      "  'lambda_l2': trial.suggest_loguniform('lambda_l2', 1e-8, 10.0),\n",
      "C:\\Users\\nilarghya\\AppData\\Local\\Temp\\ipykernel_19804\\1114577306.py:20: FutureWarning: suggest_uniform has been deprecated in v3.0.0. This feature will be removed in v6.0.0. See https://github.com/optuna/optuna/releases/tag/v3.0.0. Use suggest_float instead.\n",
      "  'feature_fraction': trial.suggest_uniform('feature_fraction', 0.5, 1.0),\n",
      "C:\\Users\\nilarghya\\AppData\\Local\\Temp\\ipykernel_19804\\1114577306.py:21: FutureWarning: suggest_uniform has been deprecated in v3.0.0. This feature will be removed in v6.0.0. See https://github.com/optuna/optuna/releases/tag/v3.0.0. Use suggest_float instead.\n",
      "  'bagging_fraction': trial.suggest_uniform('bagging_fraction', 0.5, 1.0),\n"
     ]
    },
    {
     "name": "stdout",
     "output_type": "stream",
     "text": [
      "Training until validation scores don't improve for 20 rounds\n",
      "[10]\tvalid_0's multi_logloss: 0.70962\n",
      "[20]\tvalid_0's multi_logloss: 0.400483\n",
      "[30]\tvalid_0's multi_logloss: 0.302533\n",
      "[40]\tvalid_0's multi_logloss: 0.267529\n",
      "[50]\tvalid_0's multi_logloss: 0.252912\n",
      "[60]\tvalid_0's multi_logloss: 0.252572\n",
      "[70]\tvalid_0's multi_logloss: 0.257009\n",
      "Early stopping, best iteration is:\n",
      "[54]\tvalid_0's multi_logloss: 0.2498\n"
     ]
    },
    {
     "name": "stderr",
     "output_type": "stream",
     "text": [
      "[I 2024-10-05 14:59:09,077] Trial 34 finished with value: 0.06956521739130439 and parameters: {'learning_rate': 0.06868409707966809, 'num_leaves': 125, 'max_depth': 5, 'min_data_in_leaf': 45, 'lambda_l1': 0.02497306648333724, 'lambda_l2': 0.000554323885156001, 'feature_fraction': 0.7835696505145611, 'bagging_fraction': 0.9985081605450943, 'bagging_freq': 1}. Best is trial 5 with value: 0.06521739130434778.\n",
      "C:\\Users\\nilarghya\\AppData\\Local\\Temp\\ipykernel_19804\\1114577306.py:14: FutureWarning: suggest_loguniform has been deprecated in v3.0.0. This feature will be removed in v6.0.0. See https://github.com/optuna/optuna/releases/tag/v3.0.0. Use suggest_float(..., log=True) instead.\n",
      "  'learning_rate': trial.suggest_loguniform('learning_rate', 1e-3, 1e-1),\n",
      "C:\\Users\\nilarghya\\AppData\\Local\\Temp\\ipykernel_19804\\1114577306.py:18: FutureWarning: suggest_loguniform has been deprecated in v3.0.0. This feature will be removed in v6.0.0. See https://github.com/optuna/optuna/releases/tag/v3.0.0. Use suggest_float(..., log=True) instead.\n",
      "  'lambda_l1': trial.suggest_loguniform('lambda_l1', 1e-8, 10.0),\n",
      "C:\\Users\\nilarghya\\AppData\\Local\\Temp\\ipykernel_19804\\1114577306.py:19: FutureWarning: suggest_loguniform has been deprecated in v3.0.0. This feature will be removed in v6.0.0. See https://github.com/optuna/optuna/releases/tag/v3.0.0. Use suggest_float(..., log=True) instead.\n",
      "  'lambda_l2': trial.suggest_loguniform('lambda_l2', 1e-8, 10.0),\n",
      "C:\\Users\\nilarghya\\AppData\\Local\\Temp\\ipykernel_19804\\1114577306.py:20: FutureWarning: suggest_uniform has been deprecated in v3.0.0. This feature will be removed in v6.0.0. See https://github.com/optuna/optuna/releases/tag/v3.0.0. Use suggest_float instead.\n",
      "  'feature_fraction': trial.suggest_uniform('feature_fraction', 0.5, 1.0),\n",
      "C:\\Users\\nilarghya\\AppData\\Local\\Temp\\ipykernel_19804\\1114577306.py:21: FutureWarning: suggest_uniform has been deprecated in v3.0.0. This feature will be removed in v6.0.0. See https://github.com/optuna/optuna/releases/tag/v3.0.0. Use suggest_float instead.\n",
      "  'bagging_fraction': trial.suggest_uniform('bagging_fraction', 0.5, 1.0),\n"
     ]
    },
    {
     "name": "stdout",
     "output_type": "stream",
     "text": [
      "Training until validation scores don't improve for 20 rounds\n",
      "[10]\tvalid_0's multi_logloss: 1.05909\n",
      "[20]\tvalid_0's multi_logloss: 0.670691\n",
      "[30]\tvalid_0's multi_logloss: 0.487077\n",
      "[40]\tvalid_0's multi_logloss: 0.383076\n",
      "[50]\tvalid_0's multi_logloss: 0.328187\n",
      "[60]\tvalid_0's multi_logloss: 0.297986\n",
      "[70]\tvalid_0's multi_logloss: 0.279595\n",
      "[80]\tvalid_0's multi_logloss: 0.272957\n",
      "[90]\tvalid_0's multi_logloss: 0.267445\n",
      "[100]\tvalid_0's multi_logloss: 0.262494\n",
      "[110]\tvalid_0's multi_logloss: 0.26406\n",
      "[120]\tvalid_0's multi_logloss: 0.261637\n",
      "[130]\tvalid_0's multi_logloss: 0.263023\n"
     ]
    },
    {
     "name": "stderr",
     "output_type": "stream",
     "text": [
      "[I 2024-10-05 14:59:10,342] Trial 35 finished with value: 0.07826086956521738 and parameters: {'learning_rate': 0.04306347337889185, 'num_leaves': 149, 'max_depth': 4, 'min_data_in_leaf': 69, 'lambda_l1': 8.820071102404134e-05, 'lambda_l2': 0.19589607981515073, 'feature_fraction': 0.6375989833243494, 'bagging_fraction': 0.6241817329599966, 'bagging_freq': 2}. Best is trial 5 with value: 0.06521739130434778.\n"
     ]
    },
    {
     "name": "stdout",
     "output_type": "stream",
     "text": [
      "[140]\tvalid_0's multi_logloss: 0.265805\n",
      "Early stopping, best iteration is:\n",
      "[123]\tvalid_0's multi_logloss: 0.26136\n"
     ]
    },
    {
     "name": "stderr",
     "output_type": "stream",
     "text": [
      "C:\\Users\\nilarghya\\AppData\\Local\\Temp\\ipykernel_19804\\1114577306.py:14: FutureWarning: suggest_loguniform has been deprecated in v3.0.0. This feature will be removed in v6.0.0. See https://github.com/optuna/optuna/releases/tag/v3.0.0. Use suggest_float(..., log=True) instead.\n",
      "  'learning_rate': trial.suggest_loguniform('learning_rate', 1e-3, 1e-1),\n",
      "C:\\Users\\nilarghya\\AppData\\Local\\Temp\\ipykernel_19804\\1114577306.py:18: FutureWarning: suggest_loguniform has been deprecated in v3.0.0. This feature will be removed in v6.0.0. See https://github.com/optuna/optuna/releases/tag/v3.0.0. Use suggest_float(..., log=True) instead.\n",
      "  'lambda_l1': trial.suggest_loguniform('lambda_l1', 1e-8, 10.0),\n",
      "C:\\Users\\nilarghya\\AppData\\Local\\Temp\\ipykernel_19804\\1114577306.py:19: FutureWarning: suggest_loguniform has been deprecated in v3.0.0. This feature will be removed in v6.0.0. See https://github.com/optuna/optuna/releases/tag/v3.0.0. Use suggest_float(..., log=True) instead.\n",
      "  'lambda_l2': trial.suggest_loguniform('lambda_l2', 1e-8, 10.0),\n",
      "C:\\Users\\nilarghya\\AppData\\Local\\Temp\\ipykernel_19804\\1114577306.py:20: FutureWarning: suggest_uniform has been deprecated in v3.0.0. This feature will be removed in v6.0.0. See https://github.com/optuna/optuna/releases/tag/v3.0.0. Use suggest_float instead.\n",
      "  'feature_fraction': trial.suggest_uniform('feature_fraction', 0.5, 1.0),\n",
      "C:\\Users\\nilarghya\\AppData\\Local\\Temp\\ipykernel_19804\\1114577306.py:21: FutureWarning: suggest_uniform has been deprecated in v3.0.0. This feature will be removed in v6.0.0. See https://github.com/optuna/optuna/releases/tag/v3.0.0. Use suggest_float instead.\n",
      "  'bagging_fraction': trial.suggest_uniform('bagging_fraction', 0.5, 1.0),\n"
     ]
    },
    {
     "name": "stdout",
     "output_type": "stream",
     "text": [
      "Training until validation scores don't improve for 20 rounds\n",
      "[10]\tvalid_0's multi_logloss: 1.56239\n",
      "[20]\tvalid_0's multi_logloss: 1.17361\n",
      "[30]\tvalid_0's multi_logloss: 0.931825\n",
      "[40]\tvalid_0's multi_logloss: 0.76433\n",
      "[50]\tvalid_0's multi_logloss: 0.642233\n",
      "[60]\tvalid_0's multi_logloss: 0.552728\n",
      "[70]\tvalid_0's multi_logloss: 0.484707\n",
      "[80]\tvalid_0's multi_logloss: 0.433412\n",
      "[90]\tvalid_0's multi_logloss: 0.394791\n",
      "[100]\tvalid_0's multi_logloss: 0.365362\n",
      "[110]\tvalid_0's multi_logloss: 0.343061\n",
      "[120]\tvalid_0's multi_logloss: 0.325147\n",
      "[130]\tvalid_0's multi_logloss: 0.310301\n",
      "[140]\tvalid_0's multi_logloss: 0.299564\n",
      "[150]\tvalid_0's multi_logloss: 0.292334\n",
      "[160]\tvalid_0's multi_logloss: 0.285356\n",
      "[170]\tvalid_0's multi_logloss: 0.280178\n",
      "[180]\tvalid_0's multi_logloss: 0.275321\n",
      "[190]\tvalid_0's multi_logloss: 0.272649\n",
      "[200]\tvalid_0's multi_logloss: 0.270554\n",
      "Did not meet early stopping. Best iteration is:\n",
      "[200]\tvalid_0's multi_logloss: 0.270554\n"
     ]
    },
    {
     "name": "stderr",
     "output_type": "stream",
     "text": [
      "[I 2024-10-05 14:59:12,364] Trial 36 finished with value: 0.07173913043478264 and parameters: {'learning_rate': 0.01864035446595472, 'num_leaves': 196, 'max_depth': 6, 'min_data_in_leaf': 52, 'lambda_l1': 0.17722320571870803, 'lambda_l2': 1.7127451703028926, 'feature_fraction': 0.5815478368453489, 'bagging_fraction': 0.7646932135160458, 'bagging_freq': 5}. Best is trial 5 with value: 0.06521739130434778.\n",
      "C:\\Users\\nilarghya\\AppData\\Local\\Temp\\ipykernel_19804\\1114577306.py:14: FutureWarning: suggest_loguniform has been deprecated in v3.0.0. This feature will be removed in v6.0.0. See https://github.com/optuna/optuna/releases/tag/v3.0.0. Use suggest_float(..., log=True) instead.\n",
      "  'learning_rate': trial.suggest_loguniform('learning_rate', 1e-3, 1e-1),\n",
      "C:\\Users\\nilarghya\\AppData\\Local\\Temp\\ipykernel_19804\\1114577306.py:18: FutureWarning: suggest_loguniform has been deprecated in v3.0.0. This feature will be removed in v6.0.0. See https://github.com/optuna/optuna/releases/tag/v3.0.0. Use suggest_float(..., log=True) instead.\n",
      "  'lambda_l1': trial.suggest_loguniform('lambda_l1', 1e-8, 10.0),\n",
      "C:\\Users\\nilarghya\\AppData\\Local\\Temp\\ipykernel_19804\\1114577306.py:19: FutureWarning: suggest_loguniform has been deprecated in v3.0.0. This feature will be removed in v6.0.0. See https://github.com/optuna/optuna/releases/tag/v3.0.0. Use suggest_float(..., log=True) instead.\n",
      "  'lambda_l2': trial.suggest_loguniform('lambda_l2', 1e-8, 10.0),\n",
      "C:\\Users\\nilarghya\\AppData\\Local\\Temp\\ipykernel_19804\\1114577306.py:20: FutureWarning: suggest_uniform has been deprecated in v3.0.0. This feature will be removed in v6.0.0. See https://github.com/optuna/optuna/releases/tag/v3.0.0. Use suggest_float instead.\n",
      "  'feature_fraction': trial.suggest_uniform('feature_fraction', 0.5, 1.0),\n",
      "C:\\Users\\nilarghya\\AppData\\Local\\Temp\\ipykernel_19804\\1114577306.py:21: FutureWarning: suggest_uniform has been deprecated in v3.0.0. This feature will be removed in v6.0.0. See https://github.com/optuna/optuna/releases/tag/v3.0.0. Use suggest_float instead.\n",
      "  'bagging_fraction': trial.suggest_uniform('bagging_fraction', 0.5, 1.0),\n"
     ]
    },
    {
     "name": "stdout",
     "output_type": "stream",
     "text": [
      "Training until validation scores don't improve for 20 rounds\n",
      "[10]\tvalid_0's multi_logloss: 1.66447\n",
      "[20]\tvalid_0's multi_logloss: 1.31064\n",
      "[30]\tvalid_0's multi_logloss: 1.07388\n",
      "[40]\tvalid_0's multi_logloss: 0.901272\n",
      "[50]\tvalid_0's multi_logloss: 0.772625\n",
      "[60]\tvalid_0's multi_logloss: 0.672342\n",
      "[70]\tvalid_0's multi_logloss: 0.593594\n",
      "[80]\tvalid_0's multi_logloss: 0.531332\n",
      "[90]\tvalid_0's multi_logloss: 0.482584\n",
      "[100]\tvalid_0's multi_logloss: 0.442357\n",
      "[110]\tvalid_0's multi_logloss: 0.409293\n",
      "[120]\tvalid_0's multi_logloss: 0.381345\n",
      "[130]\tvalid_0's multi_logloss: 0.358557\n",
      "[140]\tvalid_0's multi_logloss: 0.340079\n",
      "[150]\tvalid_0's multi_logloss: 0.326658\n",
      "[160]\tvalid_0's multi_logloss: 0.312657\n",
      "[170]\tvalid_0's multi_logloss: 0.301754\n",
      "[180]\tvalid_0's multi_logloss: 0.292542\n",
      "[190]\tvalid_0's multi_logloss: 0.284852\n",
      "[200]\tvalid_0's multi_logloss: 0.279985\n",
      "Did not meet early stopping. Best iteration is:\n",
      "[200]\tvalid_0's multi_logloss: 0.279985\n"
     ]
    },
    {
     "name": "stderr",
     "output_type": "stream",
     "text": [
      "[I 2024-10-05 14:59:14,517] Trial 37 finished with value: 0.08478260869565213 and parameters: {'learning_rate': 0.01365604138519224, 'num_leaves': 112, 'max_depth': 3, 'min_data_in_leaf': 40, 'lambda_l1': 0.008559421461238793, 'lambda_l2': 0.008176339765584961, 'feature_fraction': 0.8175054179842053, 'bagging_fraction': 0.7193751397234451, 'bagging_freq': 3}. Best is trial 5 with value: 0.06521739130434778.\n",
      "C:\\Users\\nilarghya\\AppData\\Local\\Temp\\ipykernel_19804\\1114577306.py:14: FutureWarning: suggest_loguniform has been deprecated in v3.0.0. This feature will be removed in v6.0.0. See https://github.com/optuna/optuna/releases/tag/v3.0.0. Use suggest_float(..., log=True) instead.\n",
      "  'learning_rate': trial.suggest_loguniform('learning_rate', 1e-3, 1e-1),\n",
      "C:\\Users\\nilarghya\\AppData\\Local\\Temp\\ipykernel_19804\\1114577306.py:18: FutureWarning: suggest_loguniform has been deprecated in v3.0.0. This feature will be removed in v6.0.0. See https://github.com/optuna/optuna/releases/tag/v3.0.0. Use suggest_float(..., log=True) instead.\n",
      "  'lambda_l1': trial.suggest_loguniform('lambda_l1', 1e-8, 10.0),\n",
      "C:\\Users\\nilarghya\\AppData\\Local\\Temp\\ipykernel_19804\\1114577306.py:19: FutureWarning: suggest_loguniform has been deprecated in v3.0.0. This feature will be removed in v6.0.0. See https://github.com/optuna/optuna/releases/tag/v3.0.0. Use suggest_float(..., log=True) instead.\n",
      "  'lambda_l2': trial.suggest_loguniform('lambda_l2', 1e-8, 10.0),\n",
      "C:\\Users\\nilarghya\\AppData\\Local\\Temp\\ipykernel_19804\\1114577306.py:20: FutureWarning: suggest_uniform has been deprecated in v3.0.0. This feature will be removed in v6.0.0. See https://github.com/optuna/optuna/releases/tag/v3.0.0. Use suggest_float instead.\n",
      "  'feature_fraction': trial.suggest_uniform('feature_fraction', 0.5, 1.0),\n",
      "C:\\Users\\nilarghya\\AppData\\Local\\Temp\\ipykernel_19804\\1114577306.py:21: FutureWarning: suggest_uniform has been deprecated in v3.0.0. This feature will be removed in v6.0.0. See https://github.com/optuna/optuna/releases/tag/v3.0.0. Use suggest_float instead.\n",
      "  'bagging_fraction': trial.suggest_uniform('bagging_fraction', 0.5, 1.0),\n"
     ]
    },
    {
     "name": "stdout",
     "output_type": "stream",
     "text": [
      "Training until validation scores don't improve for 20 rounds\n",
      "[10]\tvalid_0's multi_logloss: 1.17448\n",
      "[20]\tvalid_0's multi_logloss: 0.77178\n",
      "[30]\tvalid_0's multi_logloss: 0.571259\n",
      "[40]\tvalid_0's multi_logloss: 0.461058\n",
      "[50]\tvalid_0's multi_logloss: 0.400196\n",
      "[60]\tvalid_0's multi_logloss: 0.364591\n",
      "[70]\tvalid_0's multi_logloss: 0.339176\n",
      "[80]\tvalid_0's multi_logloss: 0.323257\n",
      "[90]\tvalid_0's multi_logloss: 0.309574\n",
      "[100]\tvalid_0's multi_logloss: 0.300176\n",
      "[110]\tvalid_0's multi_logloss: 0.293811\n",
      "[120]\tvalid_0's multi_logloss: 0.289345\n",
      "[130]\tvalid_0's multi_logloss: 0.28388\n",
      "[140]\tvalid_0's multi_logloss: 0.280834\n",
      "[150]\tvalid_0's multi_logloss: 0.279548\n",
      "[160]\tvalid_0's multi_logloss: 0.276893\n",
      "[170]\tvalid_0's multi_logloss: 0.274299\n",
      "[180]\tvalid_0's multi_logloss: 0.273466\n",
      "[190]\tvalid_0's multi_logloss: 0.270543\n",
      "[200]\tvalid_0's multi_logloss: 0.269592\n",
      "Did not meet early stopping. Best iteration is:\n",
      "[200]\tvalid_0's multi_logloss: 0.269592\n"
     ]
    },
    {
     "name": "stderr",
     "output_type": "stream",
     "text": [
      "[I 2024-10-05 14:59:16,085] Trial 38 finished with value: 0.06521739130434778 and parameters: {'learning_rate': 0.04849441428111042, 'num_leaves': 218, 'max_depth': 11, 'min_data_in_leaf': 89, 'lambda_l1': 1.2511319156511598, 'lambda_l2': 6.814443532084981, 'feature_fraction': 0.614398138852211, 'bagging_fraction': 0.6407642608441315, 'bagging_freq': 4}. Best is trial 5 with value: 0.06521739130434778.\n",
      "C:\\Users\\nilarghya\\AppData\\Local\\Temp\\ipykernel_19804\\1114577306.py:14: FutureWarning: suggest_loguniform has been deprecated in v3.0.0. This feature will be removed in v6.0.0. See https://github.com/optuna/optuna/releases/tag/v3.0.0. Use suggest_float(..., log=True) instead.\n",
      "  'learning_rate': trial.suggest_loguniform('learning_rate', 1e-3, 1e-1),\n",
      "C:\\Users\\nilarghya\\AppData\\Local\\Temp\\ipykernel_19804\\1114577306.py:18: FutureWarning: suggest_loguniform has been deprecated in v3.0.0. This feature will be removed in v6.0.0. See https://github.com/optuna/optuna/releases/tag/v3.0.0. Use suggest_float(..., log=True) instead.\n",
      "  'lambda_l1': trial.suggest_loguniform('lambda_l1', 1e-8, 10.0),\n",
      "C:\\Users\\nilarghya\\AppData\\Local\\Temp\\ipykernel_19804\\1114577306.py:19: FutureWarning: suggest_loguniform has been deprecated in v3.0.0. This feature will be removed in v6.0.0. See https://github.com/optuna/optuna/releases/tag/v3.0.0. Use suggest_float(..., log=True) instead.\n",
      "  'lambda_l2': trial.suggest_loguniform('lambda_l2', 1e-8, 10.0),\n",
      "C:\\Users\\nilarghya\\AppData\\Local\\Temp\\ipykernel_19804\\1114577306.py:20: FutureWarning: suggest_uniform has been deprecated in v3.0.0. This feature will be removed in v6.0.0. See https://github.com/optuna/optuna/releases/tag/v3.0.0. Use suggest_float instead.\n",
      "  'feature_fraction': trial.suggest_uniform('feature_fraction', 0.5, 1.0),\n",
      "C:\\Users\\nilarghya\\AppData\\Local\\Temp\\ipykernel_19804\\1114577306.py:21: FutureWarning: suggest_uniform has been deprecated in v3.0.0. This feature will be removed in v6.0.0. See https://github.com/optuna/optuna/releases/tag/v3.0.0. Use suggest_float instead.\n",
      "  'bagging_fraction': trial.suggest_uniform('bagging_fraction', 0.5, 1.0),\n"
     ]
    },
    {
     "name": "stdout",
     "output_type": "stream",
     "text": [
      "Training until validation scores don't improve for 20 rounds\n",
      "[10]\tvalid_0's multi_logloss: 1.11716\n",
      "[20]\tvalid_0's multi_logloss: 0.714957\n",
      "[30]\tvalid_0's multi_logloss: 0.528454\n",
      "[40]\tvalid_0's multi_logloss: 0.422849\n",
      "[50]\tvalid_0's multi_logloss: 0.360275\n",
      "[60]\tvalid_0's multi_logloss: 0.331482\n",
      "[70]\tvalid_0's multi_logloss: 0.310314\n",
      "[80]\tvalid_0's multi_logloss: 0.298673\n",
      "[90]\tvalid_0's multi_logloss: 0.289809\n",
      "[100]\tvalid_0's multi_logloss: 0.284927\n",
      "[110]\tvalid_0's multi_logloss: 0.278376\n",
      "[120]\tvalid_0's multi_logloss: 0.274803\n",
      "[130]\tvalid_0's multi_logloss: 0.271968\n",
      "[140]\tvalid_0's multi_logloss: 0.272797\n",
      "[150]\tvalid_0's multi_logloss: 0.27141\n",
      "[160]\tvalid_0's multi_logloss: 0.268875\n",
      "[170]\tvalid_0's multi_logloss: 0.265935\n",
      "[180]\tvalid_0's multi_logloss: 0.266738\n",
      "[190]\tvalid_0's multi_logloss: 0.266879\n",
      "Early stopping, best iteration is:\n",
      "[170]\tvalid_0's multi_logloss: 0.265935\n"
     ]
    },
    {
     "name": "stderr",
     "output_type": "stream",
     "text": [
      "[I 2024-10-05 14:59:18,008] Trial 39 finished with value: 0.07391304347826089 and parameters: {'learning_rate': 0.04939500302243306, 'num_leaves': 224, 'max_depth': 12, 'min_data_in_leaf': 91, 'lambda_l1': 5.962467561589075e-07, 'lambda_l2': 5.274106217903136, 'feature_fraction': 0.7101872228780587, 'bagging_fraction': 0.6456246062576788, 'bagging_freq': 5}. Best is trial 5 with value: 0.06521739130434778.\n",
      "C:\\Users\\nilarghya\\AppData\\Local\\Temp\\ipykernel_19804\\1114577306.py:14: FutureWarning: suggest_loguniform has been deprecated in v3.0.0. This feature will be removed in v6.0.0. See https://github.com/optuna/optuna/releases/tag/v3.0.0. Use suggest_float(..., log=True) instead.\n",
      "  'learning_rate': trial.suggest_loguniform('learning_rate', 1e-3, 1e-1),\n",
      "C:\\Users\\nilarghya\\AppData\\Local\\Temp\\ipykernel_19804\\1114577306.py:18: FutureWarning: suggest_loguniform has been deprecated in v3.0.0. This feature will be removed in v6.0.0. See https://github.com/optuna/optuna/releases/tag/v3.0.0. Use suggest_float(..., log=True) instead.\n",
      "  'lambda_l1': trial.suggest_loguniform('lambda_l1', 1e-8, 10.0),\n",
      "C:\\Users\\nilarghya\\AppData\\Local\\Temp\\ipykernel_19804\\1114577306.py:19: FutureWarning: suggest_loguniform has been deprecated in v3.0.0. This feature will be removed in v6.0.0. See https://github.com/optuna/optuna/releases/tag/v3.0.0. Use suggest_float(..., log=True) instead.\n",
      "  'lambda_l2': trial.suggest_loguniform('lambda_l2', 1e-8, 10.0),\n",
      "C:\\Users\\nilarghya\\AppData\\Local\\Temp\\ipykernel_19804\\1114577306.py:20: FutureWarning: suggest_uniform has been deprecated in v3.0.0. This feature will be removed in v6.0.0. See https://github.com/optuna/optuna/releases/tag/v3.0.0. Use suggest_float instead.\n",
      "  'feature_fraction': trial.suggest_uniform('feature_fraction', 0.5, 1.0),\n",
      "C:\\Users\\nilarghya\\AppData\\Local\\Temp\\ipykernel_19804\\1114577306.py:21: FutureWarning: suggest_uniform has been deprecated in v3.0.0. This feature will be removed in v6.0.0. See https://github.com/optuna/optuna/releases/tag/v3.0.0. Use suggest_float instead.\n",
      "  'bagging_fraction': trial.suggest_uniform('bagging_fraction', 0.5, 1.0),\n"
     ]
    },
    {
     "name": "stdout",
     "output_type": "stream",
     "text": [
      "Training until validation scores don't improve for 20 rounds\n",
      "[10]\tvalid_0's multi_logloss: 0.700162\n",
      "[20]\tvalid_0's multi_logloss: 0.415417\n",
      "[30]\tvalid_0's multi_logloss: 0.329997\n",
      "[40]\tvalid_0's multi_logloss: 0.296384\n",
      "[50]\tvalid_0's multi_logloss: 0.285996\n",
      "[60]\tvalid_0's multi_logloss: 0.286905\n",
      "[70]\tvalid_0's multi_logloss: 0.280097\n",
      "[80]\tvalid_0's multi_logloss: 0.280082\n",
      "[90]\tvalid_0's multi_logloss: 0.277769\n",
      "[100]\tvalid_0's multi_logloss: 0.281018\n"
     ]
    },
    {
     "name": "stderr",
     "output_type": "stream",
     "text": [
      "[I 2024-10-05 14:59:19,010] Trial 40 finished with value: 0.08043478260869563 and parameters: {'learning_rate': 0.09599250410140477, 'num_leaves': 211, 'max_depth': 10, 'min_data_in_leaf': 100, 'lambda_l1': 0.00018406704573319986, 'lambda_l2': 2.3141135902999252, 'feature_fraction': 0.6698208356702862, 'bagging_fraction': 0.5955530003753466, 'bagging_freq': 4}. Best is trial 5 with value: 0.06521739130434778.\n"
     ]
    },
    {
     "name": "stdout",
     "output_type": "stream",
     "text": [
      "[110]\tvalid_0's multi_logloss: 0.282157\n",
      "Early stopping, best iteration is:\n",
      "[91]\tvalid_0's multi_logloss: 0.277729\n",
      "Training until validation scores don't improve for 20 rounds\n"
     ]
    },
    {
     "name": "stderr",
     "output_type": "stream",
     "text": [
      "C:\\Users\\nilarghya\\AppData\\Local\\Temp\\ipykernel_19804\\1114577306.py:14: FutureWarning: suggest_loguniform has been deprecated in v3.0.0. This feature will be removed in v6.0.0. See https://github.com/optuna/optuna/releases/tag/v3.0.0. Use suggest_float(..., log=True) instead.\n",
      "  'learning_rate': trial.suggest_loguniform('learning_rate', 1e-3, 1e-1),\n",
      "C:\\Users\\nilarghya\\AppData\\Local\\Temp\\ipykernel_19804\\1114577306.py:18: FutureWarning: suggest_loguniform has been deprecated in v3.0.0. This feature will be removed in v6.0.0. See https://github.com/optuna/optuna/releases/tag/v3.0.0. Use suggest_float(..., log=True) instead.\n",
      "  'lambda_l1': trial.suggest_loguniform('lambda_l1', 1e-8, 10.0),\n",
      "C:\\Users\\nilarghya\\AppData\\Local\\Temp\\ipykernel_19804\\1114577306.py:19: FutureWarning: suggest_loguniform has been deprecated in v3.0.0. This feature will be removed in v6.0.0. See https://github.com/optuna/optuna/releases/tag/v3.0.0. Use suggest_float(..., log=True) instead.\n",
      "  'lambda_l2': trial.suggest_loguniform('lambda_l2', 1e-8, 10.0),\n",
      "C:\\Users\\nilarghya\\AppData\\Local\\Temp\\ipykernel_19804\\1114577306.py:20: FutureWarning: suggest_uniform has been deprecated in v3.0.0. This feature will be removed in v6.0.0. See https://github.com/optuna/optuna/releases/tag/v3.0.0. Use suggest_float instead.\n",
      "  'feature_fraction': trial.suggest_uniform('feature_fraction', 0.5, 1.0),\n",
      "C:\\Users\\nilarghya\\AppData\\Local\\Temp\\ipykernel_19804\\1114577306.py:21: FutureWarning: suggest_uniform has been deprecated in v3.0.0. This feature will be removed in v6.0.0. See https://github.com/optuna/optuna/releases/tag/v3.0.0. Use suggest_float instead.\n",
      "  'bagging_fraction': trial.suggest_uniform('bagging_fraction', 0.5, 1.0),\n"
     ]
    },
    {
     "name": "stdout",
     "output_type": "stream",
     "text": [
      "[10]\tvalid_0's multi_logloss: 1.49955\n",
      "[20]\tvalid_0's multi_logloss: 1.09079\n",
      "[30]\tvalid_0's multi_logloss: 0.847541\n",
      "[40]\tvalid_0's multi_logloss: 0.6866\n",
      "[50]\tvalid_0's multi_logloss: 0.584732\n",
      "[60]\tvalid_0's multi_logloss: 0.511059\n",
      "[70]\tvalid_0's multi_logloss: 0.4586\n",
      "[80]\tvalid_0's multi_logloss: 0.421749\n",
      "[90]\tvalid_0's multi_logloss: 0.39171\n",
      "[100]\tvalid_0's multi_logloss: 0.370087\n",
      "[110]\tvalid_0's multi_logloss: 0.352326\n",
      "[120]\tvalid_0's multi_logloss: 0.338812\n",
      "[130]\tvalid_0's multi_logloss: 0.326754\n",
      "[140]\tvalid_0's multi_logloss: 0.318944\n",
      "[150]\tvalid_0's multi_logloss: 0.312861\n",
      "[160]\tvalid_0's multi_logloss: 0.306445\n",
      "[170]\tvalid_0's multi_logloss: 0.29984\n",
      "[180]\tvalid_0's multi_logloss: 0.295969\n",
      "[190]\tvalid_0's multi_logloss: 0.291531\n"
     ]
    },
    {
     "name": "stderr",
     "output_type": "stream",
     "text": [
      "[I 2024-10-05 14:59:20,875] Trial 41 finished with value: 0.07391304347826089 and parameters: {'learning_rate': 0.03040967826150734, 'num_leaves': 157, 'max_depth': 11, 'min_data_in_leaf': 85, 'lambda_l1': 0.7949336859670396, 'lambda_l2': 9.982272702127215, 'feature_fraction': 0.6091072737260659, 'bagging_fraction': 0.6349940552679307, 'bagging_freq': 4}. Best is trial 5 with value: 0.06521739130434778.\n"
     ]
    },
    {
     "name": "stdout",
     "output_type": "stream",
     "text": [
      "[200]\tvalid_0's multi_logloss: 0.287983\n",
      "Did not meet early stopping. Best iteration is:\n",
      "[200]\tvalid_0's multi_logloss: 0.287983\n"
     ]
    },
    {
     "name": "stderr",
     "output_type": "stream",
     "text": [
      "C:\\Users\\nilarghya\\AppData\\Local\\Temp\\ipykernel_19804\\1114577306.py:14: FutureWarning: suggest_loguniform has been deprecated in v3.0.0. This feature will be removed in v6.0.0. See https://github.com/optuna/optuna/releases/tag/v3.0.0. Use suggest_float(..., log=True) instead.\n",
      "  'learning_rate': trial.suggest_loguniform('learning_rate', 1e-3, 1e-1),\n",
      "C:\\Users\\nilarghya\\AppData\\Local\\Temp\\ipykernel_19804\\1114577306.py:18: FutureWarning: suggest_loguniform has been deprecated in v3.0.0. This feature will be removed in v6.0.0. See https://github.com/optuna/optuna/releases/tag/v3.0.0. Use suggest_float(..., log=True) instead.\n",
      "  'lambda_l1': trial.suggest_loguniform('lambda_l1', 1e-8, 10.0),\n",
      "C:\\Users\\nilarghya\\AppData\\Local\\Temp\\ipykernel_19804\\1114577306.py:19: FutureWarning: suggest_loguniform has been deprecated in v3.0.0. This feature will be removed in v6.0.0. See https://github.com/optuna/optuna/releases/tag/v3.0.0. Use suggest_float(..., log=True) instead.\n",
      "  'lambda_l2': trial.suggest_loguniform('lambda_l2', 1e-8, 10.0),\n",
      "C:\\Users\\nilarghya\\AppData\\Local\\Temp\\ipykernel_19804\\1114577306.py:20: FutureWarning: suggest_uniform has been deprecated in v3.0.0. This feature will be removed in v6.0.0. See https://github.com/optuna/optuna/releases/tag/v3.0.0. Use suggest_float instead.\n",
      "  'feature_fraction': trial.suggest_uniform('feature_fraction', 0.5, 1.0),\n",
      "C:\\Users\\nilarghya\\AppData\\Local\\Temp\\ipykernel_19804\\1114577306.py:21: FutureWarning: suggest_uniform has been deprecated in v3.0.0. This feature will be removed in v6.0.0. See https://github.com/optuna/optuna/releases/tag/v3.0.0. Use suggest_float instead.\n",
      "  'bagging_fraction': trial.suggest_uniform('bagging_fraction', 0.5, 1.0),\n"
     ]
    },
    {
     "name": "stdout",
     "output_type": "stream",
     "text": [
      "Training until validation scores don't improve for 20 rounds\n",
      "[10]\tvalid_0's multi_logloss: 0.788755\n",
      "[20]\tvalid_0's multi_logloss: 0.472364\n",
      "[30]\tvalid_0's multi_logloss: 0.349373\n",
      "[40]\tvalid_0's multi_logloss: 0.303465\n",
      "[50]\tvalid_0's multi_logloss: 0.281977\n",
      "[60]\tvalid_0's multi_logloss: 0.27319\n",
      "[70]\tvalid_0's multi_logloss: 0.267525\n",
      "[80]\tvalid_0's multi_logloss: 0.263833\n",
      "[90]\tvalid_0's multi_logloss: 0.262382\n",
      "[100]\tvalid_0's multi_logloss: 0.262731\n",
      "[110]\tvalid_0's multi_logloss: 0.262929\n",
      "[120]\tvalid_0's multi_logloss: 0.263071\n",
      "[130]\tvalid_0's multi_logloss: 0.261959\n"
     ]
    },
    {
     "name": "stderr",
     "output_type": "stream",
     "text": [
      "[I 2024-10-05 14:59:22,322] Trial 42 finished with value: 0.08043478260869563 and parameters: {'learning_rate': 0.06730242689424806, 'num_leaves': 170, 'max_depth': 10, 'min_data_in_leaf': 61, 'lambda_l1': 1.8091536990845332, 'lambda_l2': 1.282528011414159e-05, 'feature_fraction': 0.5703643470825146, 'bagging_fraction': 0.6585796670696005, 'bagging_freq': 3}. Best is trial 5 with value: 0.06521739130434778.\n"
     ]
    },
    {
     "name": "stdout",
     "output_type": "stream",
     "text": [
      "[140]\tvalid_0's multi_logloss: 0.261633\n",
      "[150]\tvalid_0's multi_logloss: 0.261883\n",
      "Early stopping, best iteration is:\n",
      "[134]\tvalid_0's multi_logloss: 0.261527\n"
     ]
    },
    {
     "name": "stderr",
     "output_type": "stream",
     "text": [
      "C:\\Users\\nilarghya\\AppData\\Local\\Temp\\ipykernel_19804\\1114577306.py:14: FutureWarning: suggest_loguniform has been deprecated in v3.0.0. This feature will be removed in v6.0.0. See https://github.com/optuna/optuna/releases/tag/v3.0.0. Use suggest_float(..., log=True) instead.\n",
      "  'learning_rate': trial.suggest_loguniform('learning_rate', 1e-3, 1e-1),\n",
      "C:\\Users\\nilarghya\\AppData\\Local\\Temp\\ipykernel_19804\\1114577306.py:18: FutureWarning: suggest_loguniform has been deprecated in v3.0.0. This feature will be removed in v6.0.0. See https://github.com/optuna/optuna/releases/tag/v3.0.0. Use suggest_float(..., log=True) instead.\n",
      "  'lambda_l1': trial.suggest_loguniform('lambda_l1', 1e-8, 10.0),\n",
      "C:\\Users\\nilarghya\\AppData\\Local\\Temp\\ipykernel_19804\\1114577306.py:19: FutureWarning: suggest_loguniform has been deprecated in v3.0.0. This feature will be removed in v6.0.0. See https://github.com/optuna/optuna/releases/tag/v3.0.0. Use suggest_float(..., log=True) instead.\n",
      "  'lambda_l2': trial.suggest_loguniform('lambda_l2', 1e-8, 10.0),\n",
      "C:\\Users\\nilarghya\\AppData\\Local\\Temp\\ipykernel_19804\\1114577306.py:20: FutureWarning: suggest_uniform has been deprecated in v3.0.0. This feature will be removed in v6.0.0. See https://github.com/optuna/optuna/releases/tag/v3.0.0. Use suggest_float instead.\n",
      "  'feature_fraction': trial.suggest_uniform('feature_fraction', 0.5, 1.0),\n",
      "C:\\Users\\nilarghya\\AppData\\Local\\Temp\\ipykernel_19804\\1114577306.py:21: FutureWarning: suggest_uniform has been deprecated in v3.0.0. This feature will be removed in v6.0.0. See https://github.com/optuna/optuna/releases/tag/v3.0.0. Use suggest_float instead.\n",
      "  'bagging_fraction': trial.suggest_uniform('bagging_fraction', 0.5, 1.0),\n"
     ]
    },
    {
     "name": "stdout",
     "output_type": "stream",
     "text": [
      "Training until validation scores don't improve for 20 rounds\n",
      "[10]\tvalid_0's multi_logloss: 1.16379\n",
      "[20]\tvalid_0's multi_logloss: 0.80212\n",
      "[30]\tvalid_0's multi_logloss: 0.6248\n",
      "[40]\tvalid_0's multi_logloss: 0.530837\n",
      "[50]\tvalid_0's multi_logloss: 0.478064\n",
      "[60]\tvalid_0's multi_logloss: 0.444129\n",
      "[70]\tvalid_0's multi_logloss: 0.422571\n",
      "[80]\tvalid_0's multi_logloss: 0.411077\n",
      "[90]\tvalid_0's multi_logloss: 0.403974\n",
      "[100]\tvalid_0's multi_logloss: 0.398597\n",
      "[110]\tvalid_0's multi_logloss: 0.394337\n",
      "[120]\tvalid_0's multi_logloss: 0.391409\n",
      "[130]\tvalid_0's multi_logloss: 0.388705\n",
      "[140]\tvalid_0's multi_logloss: 0.38688\n",
      "[150]\tvalid_0's multi_logloss: 0.384953\n",
      "[160]\tvalid_0's multi_logloss: 0.383203\n",
      "[170]\tvalid_0's multi_logloss: 0.381588\n",
      "[180]\tvalid_0's multi_logloss: 0.379626\n",
      "[190]\tvalid_0's multi_logloss: 0.37728\n"
     ]
    },
    {
     "name": "stderr",
     "output_type": "stream",
     "text": [
      "[I 2024-10-05 14:59:23,487] Trial 43 finished with value: 0.09565217391304348 and parameters: {'learning_rate': 0.04387359760418737, 'num_leaves': 196, 'max_depth': 12, 'min_data_in_leaf': 55, 'lambda_l1': 8.757841438485524, 'lambda_l2': 0.25111407217530035, 'feature_fraction': 0.5026605612527035, 'bagging_fraction': 0.5377824022684807, 'bagging_freq': 4}. Best is trial 5 with value: 0.06521739130434778.\n"
     ]
    },
    {
     "name": "stdout",
     "output_type": "stream",
     "text": [
      "[200]\tvalid_0's multi_logloss: 0.376154\n",
      "Did not meet early stopping. Best iteration is:\n",
      "[200]\tvalid_0's multi_logloss: 0.376154\n"
     ]
    },
    {
     "name": "stderr",
     "output_type": "stream",
     "text": [
      "C:\\Users\\nilarghya\\AppData\\Local\\Temp\\ipykernel_19804\\1114577306.py:14: FutureWarning: suggest_loguniform has been deprecated in v3.0.0. This feature will be removed in v6.0.0. See https://github.com/optuna/optuna/releases/tag/v3.0.0. Use suggest_float(..., log=True) instead.\n",
      "  'learning_rate': trial.suggest_loguniform('learning_rate', 1e-3, 1e-1),\n",
      "C:\\Users\\nilarghya\\AppData\\Local\\Temp\\ipykernel_19804\\1114577306.py:18: FutureWarning: suggest_loguniform has been deprecated in v3.0.0. This feature will be removed in v6.0.0. See https://github.com/optuna/optuna/releases/tag/v3.0.0. Use suggest_float(..., log=True) instead.\n",
      "  'lambda_l1': trial.suggest_loguniform('lambda_l1', 1e-8, 10.0),\n",
      "C:\\Users\\nilarghya\\AppData\\Local\\Temp\\ipykernel_19804\\1114577306.py:19: FutureWarning: suggest_loguniform has been deprecated in v3.0.0. This feature will be removed in v6.0.0. See https://github.com/optuna/optuna/releases/tag/v3.0.0. Use suggest_float(..., log=True) instead.\n",
      "  'lambda_l2': trial.suggest_loguniform('lambda_l2', 1e-8, 10.0),\n",
      "C:\\Users\\nilarghya\\AppData\\Local\\Temp\\ipykernel_19804\\1114577306.py:20: FutureWarning: suggest_uniform has been deprecated in v3.0.0. This feature will be removed in v6.0.0. See https://github.com/optuna/optuna/releases/tag/v3.0.0. Use suggest_float instead.\n",
      "  'feature_fraction': trial.suggest_uniform('feature_fraction', 0.5, 1.0),\n",
      "C:\\Users\\nilarghya\\AppData\\Local\\Temp\\ipykernel_19804\\1114577306.py:21: FutureWarning: suggest_uniform has been deprecated in v3.0.0. This feature will be removed in v6.0.0. See https://github.com/optuna/optuna/releases/tag/v3.0.0. Use suggest_float instead.\n",
      "  'bagging_fraction': trial.suggest_uniform('bagging_fraction', 0.5, 1.0),\n"
     ]
    },
    {
     "name": "stdout",
     "output_type": "stream",
     "text": [
      "Training until validation scores don't improve for 20 rounds\n",
      "[10]\tvalid_0's multi_logloss: 1.45745\n",
      "[20]\tvalid_0's multi_logloss: 1.06113\n",
      "[30]\tvalid_0's multi_logloss: 0.821359\n",
      "[40]\tvalid_0's multi_logloss: 0.659007\n",
      "[50]\tvalid_0's multi_logloss: 0.546138\n",
      "[60]\tvalid_0's multi_logloss: 0.464541\n",
      "[70]\tvalid_0's multi_logloss: 0.405227\n",
      "[80]\tvalid_0's multi_logloss: 0.360784\n",
      "[90]\tvalid_0's multi_logloss: 0.328576\n",
      "[100]\tvalid_0's multi_logloss: 0.30486\n",
      "[110]\tvalid_0's multi_logloss: 0.287363\n",
      "[120]\tvalid_0's multi_logloss: 0.274263\n",
      "[130]\tvalid_0's multi_logloss: 0.26485\n",
      "[140]\tvalid_0's multi_logloss: 0.259851\n",
      "[150]\tvalid_0's multi_logloss: 0.256265\n",
      "[160]\tvalid_0's multi_logloss: 0.252456\n",
      "[170]\tvalid_0's multi_logloss: 0.24999\n",
      "[180]\tvalid_0's multi_logloss: 0.249239\n",
      "[190]\tvalid_0's multi_logloss: 0.250112\n",
      "Early stopping, best iteration is:\n",
      "[179]\tvalid_0's multi_logloss: 0.249198\n"
     ]
    },
    {
     "name": "stderr",
     "output_type": "stream",
     "text": [
      "[I 2024-10-05 14:59:25,558] Trial 44 finished with value: 0.07391304347826089 and parameters: {'learning_rate': 0.021656981327822917, 'num_leaves': 93, 'max_depth': 13, 'min_data_in_leaf': 72, 'lambda_l1': 0.11738979519426368, 'lambda_l2': 3.727548574191337e-08, 'feature_fraction': 0.639092184549322, 'bagging_fraction': 0.7941067846407526, 'bagging_freq': 1}. Best is trial 5 with value: 0.06521739130434778.\n",
      "C:\\Users\\nilarghya\\AppData\\Local\\Temp\\ipykernel_19804\\1114577306.py:14: FutureWarning: suggest_loguniform has been deprecated in v3.0.0. This feature will be removed in v6.0.0. See https://github.com/optuna/optuna/releases/tag/v3.0.0. Use suggest_float(..., log=True) instead.\n",
      "  'learning_rate': trial.suggest_loguniform('learning_rate', 1e-3, 1e-1),\n",
      "C:\\Users\\nilarghya\\AppData\\Local\\Temp\\ipykernel_19804\\1114577306.py:18: FutureWarning: suggest_loguniform has been deprecated in v3.0.0. This feature will be removed in v6.0.0. See https://github.com/optuna/optuna/releases/tag/v3.0.0. Use suggest_float(..., log=True) instead.\n",
      "  'lambda_l1': trial.suggest_loguniform('lambda_l1', 1e-8, 10.0),\n",
      "C:\\Users\\nilarghya\\AppData\\Local\\Temp\\ipykernel_19804\\1114577306.py:19: FutureWarning: suggest_loguniform has been deprecated in v3.0.0. This feature will be removed in v6.0.0. See https://github.com/optuna/optuna/releases/tag/v3.0.0. Use suggest_float(..., log=True) instead.\n",
      "  'lambda_l2': trial.suggest_loguniform('lambda_l2', 1e-8, 10.0),\n",
      "C:\\Users\\nilarghya\\AppData\\Local\\Temp\\ipykernel_19804\\1114577306.py:20: FutureWarning: suggest_uniform has been deprecated in v3.0.0. This feature will be removed in v6.0.0. See https://github.com/optuna/optuna/releases/tag/v3.0.0. Use suggest_float instead.\n",
      "  'feature_fraction': trial.suggest_uniform('feature_fraction', 0.5, 1.0),\n",
      "C:\\Users\\nilarghya\\AppData\\Local\\Temp\\ipykernel_19804\\1114577306.py:21: FutureWarning: suggest_uniform has been deprecated in v3.0.0. This feature will be removed in v6.0.0. See https://github.com/optuna/optuna/releases/tag/v3.0.0. Use suggest_float instead.\n",
      "  'bagging_fraction': trial.suggest_uniform('bagging_fraction', 0.5, 1.0),\n"
     ]
    },
    {
     "name": "stdout",
     "output_type": "stream",
     "text": [
      "Training until validation scores don't improve for 20 rounds\n",
      "[10]\tvalid_0's multi_logloss: 0.674426\n",
      "[20]\tvalid_0's multi_logloss: 0.39474\n",
      "[30]\tvalid_0's multi_logloss: 0.302016\n",
      "[40]\tvalid_0's multi_logloss: 0.274461\n",
      "[50]\tvalid_0's multi_logloss: 0.26112\n",
      "[60]\tvalid_0's multi_logloss: 0.259848\n"
     ]
    },
    {
     "name": "stderr",
     "output_type": "stream",
     "text": [
      "[I 2024-10-05 14:59:26,621] Trial 45 finished with value: 0.07391304347826089 and parameters: {'learning_rate': 0.07679764178192514, 'num_leaves': 210, 'max_depth': 4, 'min_data_in_leaf': 36, 'lambda_l1': 0.04226234809622405, 'lambda_l2': 8.021605536573843e-07, 'feature_fraction': 0.5540574070034392, 'bagging_fraction': 0.5760520661728349, 'bagging_freq': 3}. Best is trial 5 with value: 0.06521739130434778.\n"
     ]
    },
    {
     "name": "stdout",
     "output_type": "stream",
     "text": [
      "[70]\tvalid_0's multi_logloss: 0.266722\n",
      "Early stopping, best iteration is:\n",
      "[56]\tvalid_0's multi_logloss: 0.258534\n"
     ]
    },
    {
     "name": "stderr",
     "output_type": "stream",
     "text": [
      "C:\\Users\\nilarghya\\AppData\\Local\\Temp\\ipykernel_19804\\1114577306.py:14: FutureWarning: suggest_loguniform has been deprecated in v3.0.0. This feature will be removed in v6.0.0. See https://github.com/optuna/optuna/releases/tag/v3.0.0. Use suggest_float(..., log=True) instead.\n",
      "  'learning_rate': trial.suggest_loguniform('learning_rate', 1e-3, 1e-1),\n",
      "C:\\Users\\nilarghya\\AppData\\Local\\Temp\\ipykernel_19804\\1114577306.py:18: FutureWarning: suggest_loguniform has been deprecated in v3.0.0. This feature will be removed in v6.0.0. See https://github.com/optuna/optuna/releases/tag/v3.0.0. Use suggest_float(..., log=True) instead.\n",
      "  'lambda_l1': trial.suggest_loguniform('lambda_l1', 1e-8, 10.0),\n",
      "C:\\Users\\nilarghya\\AppData\\Local\\Temp\\ipykernel_19804\\1114577306.py:19: FutureWarning: suggest_loguniform has been deprecated in v3.0.0. This feature will be removed in v6.0.0. See https://github.com/optuna/optuna/releases/tag/v3.0.0. Use suggest_float(..., log=True) instead.\n",
      "  'lambda_l2': trial.suggest_loguniform('lambda_l2', 1e-8, 10.0),\n",
      "C:\\Users\\nilarghya\\AppData\\Local\\Temp\\ipykernel_19804\\1114577306.py:20: FutureWarning: suggest_uniform has been deprecated in v3.0.0. This feature will be removed in v6.0.0. See https://github.com/optuna/optuna/releases/tag/v3.0.0. Use suggest_float instead.\n",
      "  'feature_fraction': trial.suggest_uniform('feature_fraction', 0.5, 1.0),\n",
      "C:\\Users\\nilarghya\\AppData\\Local\\Temp\\ipykernel_19804\\1114577306.py:21: FutureWarning: suggest_uniform has been deprecated in v3.0.0. This feature will be removed in v6.0.0. See https://github.com/optuna/optuna/releases/tag/v3.0.0. Use suggest_float instead.\n",
      "  'bagging_fraction': trial.suggest_uniform('bagging_fraction', 0.5, 1.0),\n"
     ]
    },
    {
     "name": "stdout",
     "output_type": "stream",
     "text": [
      "Training until validation scores don't improve for 20 rounds\n",
      "[10]\tvalid_0's multi_logloss: 1.21801\n",
      "[20]\tvalid_0's multi_logloss: 0.819733\n",
      "[30]\tvalid_0's multi_logloss: 0.609907\n",
      "[40]\tvalid_0's multi_logloss: 0.481116\n",
      "[50]\tvalid_0's multi_logloss: 0.404201\n",
      "[60]\tvalid_0's multi_logloss: 0.34894\n",
      "[70]\tvalid_0's multi_logloss: 0.316605\n",
      "[80]\tvalid_0's multi_logloss: 0.296501\n",
      "[90]\tvalid_0's multi_logloss: 0.281285\n",
      "[100]\tvalid_0's multi_logloss: 0.26868\n",
      "[110]\tvalid_0's multi_logloss: 0.262155\n",
      "[120]\tvalid_0's multi_logloss: 0.256913\n",
      "[130]\tvalid_0's multi_logloss: 0.253535\n",
      "[140]\tvalid_0's multi_logloss: 0.251341\n",
      "[150]\tvalid_0's multi_logloss: 0.252756\n",
      "Early stopping, best iteration is:\n",
      "[138]\tvalid_0's multi_logloss: 0.250726\n"
     ]
    },
    {
     "name": "stderr",
     "output_type": "stream",
     "text": [
      "[I 2024-10-05 14:59:28,019] Trial 46 finished with value: 0.06956521739130439 and parameters: {'learning_rate': 0.03447889385914323, 'num_leaves': 234, 'max_depth': 11, 'min_data_in_leaf': 92, 'lambda_l1': 4.967244536827159e-05, 'lambda_l2': 0.03285876722648589, 'feature_fraction': 0.530571040048665, 'bagging_fraction': 0.6173332389504119, 'bagging_freq': 2}. Best is trial 5 with value: 0.06521739130434778.\n",
      "C:\\Users\\nilarghya\\AppData\\Local\\Temp\\ipykernel_19804\\1114577306.py:14: FutureWarning: suggest_loguniform has been deprecated in v3.0.0. This feature will be removed in v6.0.0. See https://github.com/optuna/optuna/releases/tag/v3.0.0. Use suggest_float(..., log=True) instead.\n",
      "  'learning_rate': trial.suggest_loguniform('learning_rate', 1e-3, 1e-1),\n",
      "C:\\Users\\nilarghya\\AppData\\Local\\Temp\\ipykernel_19804\\1114577306.py:18: FutureWarning: suggest_loguniform has been deprecated in v3.0.0. This feature will be removed in v6.0.0. See https://github.com/optuna/optuna/releases/tag/v3.0.0. Use suggest_float(..., log=True) instead.\n",
      "  'lambda_l1': trial.suggest_loguniform('lambda_l1', 1e-8, 10.0),\n",
      "C:\\Users\\nilarghya\\AppData\\Local\\Temp\\ipykernel_19804\\1114577306.py:19: FutureWarning: suggest_loguniform has been deprecated in v3.0.0. This feature will be removed in v6.0.0. See https://github.com/optuna/optuna/releases/tag/v3.0.0. Use suggest_float(..., log=True) instead.\n",
      "  'lambda_l2': trial.suggest_loguniform('lambda_l2', 1e-8, 10.0),\n",
      "C:\\Users\\nilarghya\\AppData\\Local\\Temp\\ipykernel_19804\\1114577306.py:20: FutureWarning: suggest_uniform has been deprecated in v3.0.0. This feature will be removed in v6.0.0. See https://github.com/optuna/optuna/releases/tag/v3.0.0. Use suggest_float instead.\n",
      "  'feature_fraction': trial.suggest_uniform('feature_fraction', 0.5, 1.0),\n",
      "C:\\Users\\nilarghya\\AppData\\Local\\Temp\\ipykernel_19804\\1114577306.py:21: FutureWarning: suggest_uniform has been deprecated in v3.0.0. This feature will be removed in v6.0.0. See https://github.com/optuna/optuna/releases/tag/v3.0.0. Use suggest_float instead.\n",
      "  'bagging_fraction': trial.suggest_uniform('bagging_fraction', 0.5, 1.0),\n"
     ]
    },
    {
     "name": "stdout",
     "output_type": "stream",
     "text": [
      "Training until validation scores don't improve for 20 rounds\n",
      "[10]\tvalid_0's multi_logloss: 1.36878\n",
      "[20]\tvalid_0's multi_logloss: 0.963789\n",
      "[30]\tvalid_0's multi_logloss: 0.732216\n",
      "[40]\tvalid_0's multi_logloss: 0.579372\n",
      "[50]\tvalid_0's multi_logloss: 0.477111\n",
      "[60]\tvalid_0's multi_logloss: 0.408135\n",
      "[70]\tvalid_0's multi_logloss: 0.359059\n",
      "[80]\tvalid_0's multi_logloss: 0.324278\n",
      "[90]\tvalid_0's multi_logloss: 0.298139\n",
      "[100]\tvalid_0's multi_logloss: 0.282097\n",
      "[110]\tvalid_0's multi_logloss: 0.269949\n",
      "[120]\tvalid_0's multi_logloss: 0.263021\n",
      "[130]\tvalid_0's multi_logloss: 0.258418\n",
      "[140]\tvalid_0's multi_logloss: 0.255876\n",
      "[150]\tvalid_0's multi_logloss: 0.254922\n",
      "[160]\tvalid_0's multi_logloss: 0.253139\n",
      "[170]\tvalid_0's multi_logloss: 0.254976\n",
      "[180]\tvalid_0's multi_logloss: 0.256883\n"
     ]
    },
    {
     "name": "stderr",
     "output_type": "stream",
     "text": [
      "[I 2024-10-05 14:59:30,253] Trial 47 finished with value: 0.07391304347826089 and parameters: {'learning_rate': 0.023979901657605343, 'num_leaves': 132, 'max_depth': 8, 'min_data_in_leaf': 49, 'lambda_l1': 0.0013152022002518055, 'lambda_l2': 0.006765199353415429, 'feature_fraction': 0.6538830163647107, 'bagging_fraction': 0.7345029174226363, 'bagging_freq': 5}. Best is trial 5 with value: 0.06521739130434778.\n"
     ]
    },
    {
     "name": "stdout",
     "output_type": "stream",
     "text": [
      "Early stopping, best iteration is:\n",
      "[163]\tvalid_0's multi_logloss: 0.252823\n"
     ]
    },
    {
     "name": "stderr",
     "output_type": "stream",
     "text": [
      "C:\\Users\\nilarghya\\AppData\\Local\\Temp\\ipykernel_19804\\1114577306.py:14: FutureWarning: suggest_loguniform has been deprecated in v3.0.0. This feature will be removed in v6.0.0. See https://github.com/optuna/optuna/releases/tag/v3.0.0. Use suggest_float(..., log=True) instead.\n",
      "  'learning_rate': trial.suggest_loguniform('learning_rate', 1e-3, 1e-1),\n",
      "C:\\Users\\nilarghya\\AppData\\Local\\Temp\\ipykernel_19804\\1114577306.py:18: FutureWarning: suggest_loguniform has been deprecated in v3.0.0. This feature will be removed in v6.0.0. See https://github.com/optuna/optuna/releases/tag/v3.0.0. Use suggest_float(..., log=True) instead.\n",
      "  'lambda_l1': trial.suggest_loguniform('lambda_l1', 1e-8, 10.0),\n",
      "C:\\Users\\nilarghya\\AppData\\Local\\Temp\\ipykernel_19804\\1114577306.py:19: FutureWarning: suggest_loguniform has been deprecated in v3.0.0. This feature will be removed in v6.0.0. See https://github.com/optuna/optuna/releases/tag/v3.0.0. Use suggest_float(..., log=True) instead.\n",
      "  'lambda_l2': trial.suggest_loguniform('lambda_l2', 1e-8, 10.0),\n",
      "C:\\Users\\nilarghya\\AppData\\Local\\Temp\\ipykernel_19804\\1114577306.py:20: FutureWarning: suggest_uniform has been deprecated in v3.0.0. This feature will be removed in v6.0.0. See https://github.com/optuna/optuna/releases/tag/v3.0.0. Use suggest_float instead.\n",
      "  'feature_fraction': trial.suggest_uniform('feature_fraction', 0.5, 1.0),\n",
      "C:\\Users\\nilarghya\\AppData\\Local\\Temp\\ipykernel_19804\\1114577306.py:21: FutureWarning: suggest_uniform has been deprecated in v3.0.0. This feature will be removed in v6.0.0. See https://github.com/optuna/optuna/releases/tag/v3.0.0. Use suggest_float instead.\n",
      "  'bagging_fraction': trial.suggest_uniform('bagging_fraction', 0.5, 1.0),\n"
     ]
    },
    {
     "name": "stdout",
     "output_type": "stream",
     "text": [
      "Training until validation scores don't improve for 20 rounds\n",
      "[10]\tvalid_0's multi_logloss: 2.15903\n",
      "[20]\tvalid_0's multi_logloss: 2.0332\n",
      "[30]\tvalid_0's multi_logloss: 1.92335\n",
      "[40]\tvalid_0's multi_logloss: 1.82622\n",
      "[50]\tvalid_0's multi_logloss: 1.7388\n",
      "[60]\tvalid_0's multi_logloss: 1.65877\n",
      "[70]\tvalid_0's multi_logloss: 1.58669\n",
      "[80]\tvalid_0's multi_logloss: 1.51989\n",
      "[90]\tvalid_0's multi_logloss: 1.45772\n",
      "[100]\tvalid_0's multi_logloss: 1.40044\n",
      "[110]\tvalid_0's multi_logloss: 1.3464\n",
      "[120]\tvalid_0's multi_logloss: 1.296\n",
      "[130]\tvalid_0's multi_logloss: 1.24884\n",
      "[140]\tvalid_0's multi_logloss: 1.20488\n",
      "[150]\tvalid_0's multi_logloss: 1.16344\n",
      "[160]\tvalid_0's multi_logloss: 1.12447\n",
      "[170]\tvalid_0's multi_logloss: 1.0877\n",
      "[180]\tvalid_0's multi_logloss: 1.05313\n",
      "[190]\tvalid_0's multi_logloss: 1.01966\n"
     ]
    },
    {
     "name": "stderr",
     "output_type": "stream",
     "text": [
      "[I 2024-10-05 14:59:32,145] Trial 48 finished with value: 0.09347826086956523 and parameters: {'learning_rate': 0.002423567856313379, 'num_leaves': 42, 'max_depth': 13, 'min_data_in_leaf': 56, 'lambda_l1': 0.0009690586414934401, 'lambda_l2': 0.0013281687459431664, 'feature_fraction': 0.7051065062000642, 'bagging_fraction': 0.6816848338603795, 'bagging_freq': 3}. Best is trial 5 with value: 0.06521739130434778.\n"
     ]
    },
    {
     "name": "stdout",
     "output_type": "stream",
     "text": [
      "[200]\tvalid_0's multi_logloss: 0.988378\n",
      "Did not meet early stopping. Best iteration is:\n",
      "[200]\tvalid_0's multi_logloss: 0.988378\n"
     ]
    },
    {
     "name": "stderr",
     "output_type": "stream",
     "text": [
      "C:\\Users\\nilarghya\\AppData\\Local\\Temp\\ipykernel_19804\\1114577306.py:14: FutureWarning: suggest_loguniform has been deprecated in v3.0.0. This feature will be removed in v6.0.0. See https://github.com/optuna/optuna/releases/tag/v3.0.0. Use suggest_float(..., log=True) instead.\n",
      "  'learning_rate': trial.suggest_loguniform('learning_rate', 1e-3, 1e-1),\n",
      "C:\\Users\\nilarghya\\AppData\\Local\\Temp\\ipykernel_19804\\1114577306.py:18: FutureWarning: suggest_loguniform has been deprecated in v3.0.0. This feature will be removed in v6.0.0. See https://github.com/optuna/optuna/releases/tag/v3.0.0. Use suggest_float(..., log=True) instead.\n",
      "  'lambda_l1': trial.suggest_loguniform('lambda_l1', 1e-8, 10.0),\n",
      "C:\\Users\\nilarghya\\AppData\\Local\\Temp\\ipykernel_19804\\1114577306.py:19: FutureWarning: suggest_loguniform has been deprecated in v3.0.0. This feature will be removed in v6.0.0. See https://github.com/optuna/optuna/releases/tag/v3.0.0. Use suggest_float(..., log=True) instead.\n",
      "  'lambda_l2': trial.suggest_loguniform('lambda_l2', 1e-8, 10.0),\n",
      "C:\\Users\\nilarghya\\AppData\\Local\\Temp\\ipykernel_19804\\1114577306.py:20: FutureWarning: suggest_uniform has been deprecated in v3.0.0. This feature will be removed in v6.0.0. See https://github.com/optuna/optuna/releases/tag/v3.0.0. Use suggest_float instead.\n",
      "  'feature_fraction': trial.suggest_uniform('feature_fraction', 0.5, 1.0),\n",
      "C:\\Users\\nilarghya\\AppData\\Local\\Temp\\ipykernel_19804\\1114577306.py:21: FutureWarning: suggest_uniform has been deprecated in v3.0.0. This feature will be removed in v6.0.0. See https://github.com/optuna/optuna/releases/tag/v3.0.0. Use suggest_float instead.\n",
      "  'bagging_fraction': trial.suggest_uniform('bagging_fraction', 0.5, 1.0),\n"
     ]
    },
    {
     "name": "stdout",
     "output_type": "stream",
     "text": [
      "Training until validation scores don't improve for 20 rounds\n",
      "[10]\tvalid_0's multi_logloss: 0.865968\n",
      "[20]\tvalid_0's multi_logloss: 0.502155\n",
      "[30]\tvalid_0's multi_logloss: 0.354264\n",
      "[40]\tvalid_0's multi_logloss: 0.294519\n",
      "[50]\tvalid_0's multi_logloss: 0.270137\n",
      "[60]\tvalid_0's multi_logloss: 0.255813\n",
      "[70]\tvalid_0's multi_logloss: 0.253851\n",
      "[80]\tvalid_0's multi_logloss: 0.254472\n",
      "[90]\tvalid_0's multi_logloss: 0.256985\n",
      "Early stopping, best iteration is:\n",
      "[76]\tvalid_0's multi_logloss: 0.252759\n"
     ]
    },
    {
     "name": "stderr",
     "output_type": "stream",
     "text": [
      "[I 2024-10-05 14:59:33,372] Trial 49 finished with value: 0.07391304347826089 and parameters: {'learning_rate': 0.05663557670952577, 'num_leaves': 254, 'max_depth': 5, 'min_data_in_leaf': 63, 'lambda_l1': 0.019326227313891903, 'lambda_l2': 0.07050958563583778, 'feature_fraction': 0.6199765348530857, 'bagging_fraction': 0.8392923201877263, 'bagging_freq': 1}. Best is trial 5 with value: 0.06521739130434778.\n",
      "C:\\Users\\nilarghya\\AppData\\Local\\Temp\\ipykernel_19804\\1114577306.py:14: FutureWarning: suggest_loguniform has been deprecated in v3.0.0. This feature will be removed in v6.0.0. See https://github.com/optuna/optuna/releases/tag/v3.0.0. Use suggest_float(..., log=True) instead.\n",
      "  'learning_rate': trial.suggest_loguniform('learning_rate', 1e-3, 1e-1),\n",
      "C:\\Users\\nilarghya\\AppData\\Local\\Temp\\ipykernel_19804\\1114577306.py:18: FutureWarning: suggest_loguniform has been deprecated in v3.0.0. This feature will be removed in v6.0.0. See https://github.com/optuna/optuna/releases/tag/v3.0.0. Use suggest_float(..., log=True) instead.\n",
      "  'lambda_l1': trial.suggest_loguniform('lambda_l1', 1e-8, 10.0),\n",
      "C:\\Users\\nilarghya\\AppData\\Local\\Temp\\ipykernel_19804\\1114577306.py:19: FutureWarning: suggest_loguniform has been deprecated in v3.0.0. This feature will be removed in v6.0.0. See https://github.com/optuna/optuna/releases/tag/v3.0.0. Use suggest_float(..., log=True) instead.\n",
      "  'lambda_l2': trial.suggest_loguniform('lambda_l2', 1e-8, 10.0),\n",
      "C:\\Users\\nilarghya\\AppData\\Local\\Temp\\ipykernel_19804\\1114577306.py:20: FutureWarning: suggest_uniform has been deprecated in v3.0.0. This feature will be removed in v6.0.0. See https://github.com/optuna/optuna/releases/tag/v3.0.0. Use suggest_float instead.\n",
      "  'feature_fraction': trial.suggest_uniform('feature_fraction', 0.5, 1.0),\n",
      "C:\\Users\\nilarghya\\AppData\\Local\\Temp\\ipykernel_19804\\1114577306.py:21: FutureWarning: suggest_uniform has been deprecated in v3.0.0. This feature will be removed in v6.0.0. See https://github.com/optuna/optuna/releases/tag/v3.0.0. Use suggest_float instead.\n",
      "  'bagging_fraction': trial.suggest_uniform('bagging_fraction', 0.5, 1.0),\n"
     ]
    },
    {
     "name": "stdout",
     "output_type": "stream",
     "text": [
      "Training until validation scores don't improve for 20 rounds\n",
      "[10]\tvalid_0's multi_logloss: 1.34598\n",
      "[20]\tvalid_0's multi_logloss: 0.945938\n",
      "[30]\tvalid_0's multi_logloss: 0.713854\n",
      "[40]\tvalid_0's multi_logloss: 0.565029\n",
      "[50]\tvalid_0's multi_logloss: 0.464564\n",
      "[60]\tvalid_0's multi_logloss: 0.395325\n",
      "[70]\tvalid_0's multi_logloss: 0.348884\n",
      "[80]\tvalid_0's multi_logloss: 0.315845\n",
      "[90]\tvalid_0's multi_logloss: 0.293569\n",
      "[100]\tvalid_0's multi_logloss: 0.278942\n",
      "[110]\tvalid_0's multi_logloss: 0.265743\n",
      "[120]\tvalid_0's multi_logloss: 0.259003\n",
      "[130]\tvalid_0's multi_logloss: 0.25331\n",
      "[140]\tvalid_0's multi_logloss: 0.250789\n",
      "[150]\tvalid_0's multi_logloss: 0.250515\n",
      "[160]\tvalid_0's multi_logloss: 0.249841\n",
      "[170]\tvalid_0's multi_logloss: 0.248314\n",
      "[180]\tvalid_0's multi_logloss: 0.248729\n",
      "[190]\tvalid_0's multi_logloss: 0.248244\n",
      "Early stopping, best iteration is:\n",
      "[174]\tvalid_0's multi_logloss: 0.247026\n"
     ]
    },
    {
     "name": "stderr",
     "output_type": "stream",
     "text": [
      "[I 2024-10-05 14:59:35,467] Trial 50 finished with value: 0.06521739130434778 and parameters: {'learning_rate': 0.02602541719480618, 'num_leaves': 218, 'max_depth': 7, 'min_data_in_leaf': 69, 'lambda_l1': 0.004034800614068044, 'lambda_l2': 0.003544431892145116, 'feature_fraction': 0.5925434866982521, 'bagging_fraction': 0.7048683642112787, 'bagging_freq': 2}. Best is trial 5 with value: 0.06521739130434778.\n",
      "C:\\Users\\nilarghya\\AppData\\Local\\Temp\\ipykernel_19804\\1114577306.py:14: FutureWarning: suggest_loguniform has been deprecated in v3.0.0. This feature will be removed in v6.0.0. See https://github.com/optuna/optuna/releases/tag/v3.0.0. Use suggest_float(..., log=True) instead.\n",
      "  'learning_rate': trial.suggest_loguniform('learning_rate', 1e-3, 1e-1),\n",
      "C:\\Users\\nilarghya\\AppData\\Local\\Temp\\ipykernel_19804\\1114577306.py:18: FutureWarning: suggest_loguniform has been deprecated in v3.0.0. This feature will be removed in v6.0.0. See https://github.com/optuna/optuna/releases/tag/v3.0.0. Use suggest_float(..., log=True) instead.\n",
      "  'lambda_l1': trial.suggest_loguniform('lambda_l1', 1e-8, 10.0),\n",
      "C:\\Users\\nilarghya\\AppData\\Local\\Temp\\ipykernel_19804\\1114577306.py:19: FutureWarning: suggest_loguniform has been deprecated in v3.0.0. This feature will be removed in v6.0.0. See https://github.com/optuna/optuna/releases/tag/v3.0.0. Use suggest_float(..., log=True) instead.\n",
      "  'lambda_l2': trial.suggest_loguniform('lambda_l2', 1e-8, 10.0),\n",
      "C:\\Users\\nilarghya\\AppData\\Local\\Temp\\ipykernel_19804\\1114577306.py:20: FutureWarning: suggest_uniform has been deprecated in v3.0.0. This feature will be removed in v6.0.0. See https://github.com/optuna/optuna/releases/tag/v3.0.0. Use suggest_float instead.\n",
      "  'feature_fraction': trial.suggest_uniform('feature_fraction', 0.5, 1.0),\n",
      "C:\\Users\\nilarghya\\AppData\\Local\\Temp\\ipykernel_19804\\1114577306.py:21: FutureWarning: suggest_uniform has been deprecated in v3.0.0. This feature will be removed in v6.0.0. See https://github.com/optuna/optuna/releases/tag/v3.0.0. Use suggest_float instead.\n",
      "  'bagging_fraction': trial.suggest_uniform('bagging_fraction', 0.5, 1.0),\n"
     ]
    },
    {
     "name": "stdout",
     "output_type": "stream",
     "text": [
      "Training until validation scores don't improve for 20 rounds\n",
      "[10]\tvalid_0's multi_logloss: 1.05855\n",
      "[20]\tvalid_0's multi_logloss: 0.674429\n",
      "[30]\tvalid_0's multi_logloss: 0.482172\n",
      "[40]\tvalid_0's multi_logloss: 0.376611\n",
      "[50]\tvalid_0's multi_logloss: 0.317605\n",
      "[60]\tvalid_0's multi_logloss: 0.285971\n",
      "[70]\tvalid_0's multi_logloss: 0.265894\n",
      "[80]\tvalid_0's multi_logloss: 0.257842\n",
      "[90]\tvalid_0's multi_logloss: 0.251633\n",
      "[100]\tvalid_0's multi_logloss: 0.249739\n"
     ]
    },
    {
     "name": "stderr",
     "output_type": "stream",
     "text": [
      "[I 2024-10-05 14:59:36,462] Trial 51 finished with value: 0.07173913043478264 and parameters: {'learning_rate': 0.04302768854112176, 'num_leaves': 189, 'max_depth': 7, 'min_data_in_leaf': 85, 'lambda_l1': 0.0052359856350069145, 'lambda_l2': 0.003355316958126609, 'feature_fraction': 0.5971965764945771, 'bagging_fraction': 0.699592025032261, 'bagging_freq': 2}. Best is trial 5 with value: 0.06521739130434778.\n"
     ]
    },
    {
     "name": "stdout",
     "output_type": "stream",
     "text": [
      "[110]\tvalid_0's multi_logloss: 0.25206\n",
      "Early stopping, best iteration is:\n",
      "[92]\tvalid_0's multi_logloss: 0.249695\n",
      "Training until validation scores don't improve for 20 rounds\n"
     ]
    },
    {
     "name": "stderr",
     "output_type": "stream",
     "text": [
      "C:\\Users\\nilarghya\\AppData\\Local\\Temp\\ipykernel_19804\\1114577306.py:14: FutureWarning: suggest_loguniform has been deprecated in v3.0.0. This feature will be removed in v6.0.0. See https://github.com/optuna/optuna/releases/tag/v3.0.0. Use suggest_float(..., log=True) instead.\n",
      "  'learning_rate': trial.suggest_loguniform('learning_rate', 1e-3, 1e-1),\n",
      "C:\\Users\\nilarghya\\AppData\\Local\\Temp\\ipykernel_19804\\1114577306.py:18: FutureWarning: suggest_loguniform has been deprecated in v3.0.0. This feature will be removed in v6.0.0. See https://github.com/optuna/optuna/releases/tag/v3.0.0. Use suggest_float(..., log=True) instead.\n",
      "  'lambda_l1': trial.suggest_loguniform('lambda_l1', 1e-8, 10.0),\n",
      "C:\\Users\\nilarghya\\AppData\\Local\\Temp\\ipykernel_19804\\1114577306.py:19: FutureWarning: suggest_loguniform has been deprecated in v3.0.0. This feature will be removed in v6.0.0. See https://github.com/optuna/optuna/releases/tag/v3.0.0. Use suggest_float(..., log=True) instead.\n",
      "  'lambda_l2': trial.suggest_loguniform('lambda_l2', 1e-8, 10.0),\n",
      "C:\\Users\\nilarghya\\AppData\\Local\\Temp\\ipykernel_19804\\1114577306.py:20: FutureWarning: suggest_uniform has been deprecated in v3.0.0. This feature will be removed in v6.0.0. See https://github.com/optuna/optuna/releases/tag/v3.0.0. Use suggest_float instead.\n",
      "  'feature_fraction': trial.suggest_uniform('feature_fraction', 0.5, 1.0),\n",
      "C:\\Users\\nilarghya\\AppData\\Local\\Temp\\ipykernel_19804\\1114577306.py:21: FutureWarning: suggest_uniform has been deprecated in v3.0.0. This feature will be removed in v6.0.0. See https://github.com/optuna/optuna/releases/tag/v3.0.0. Use suggest_float instead.\n",
      "  'bagging_fraction': trial.suggest_uniform('bagging_fraction', 0.5, 1.0),\n"
     ]
    },
    {
     "name": "stdout",
     "output_type": "stream",
     "text": [
      "[10]\tvalid_0's multi_logloss: 1.33066\n",
      "[20]\tvalid_0's multi_logloss: 0.927483\n",
      "[30]\tvalid_0's multi_logloss: 0.693044\n",
      "[40]\tvalid_0's multi_logloss: 0.54731\n",
      "[50]\tvalid_0's multi_logloss: 0.450209\n",
      "[60]\tvalid_0's multi_logloss: 0.382826\n",
      "[70]\tvalid_0's multi_logloss: 0.338294\n",
      "[80]\tvalid_0's multi_logloss: 0.307714\n",
      "[90]\tvalid_0's multi_logloss: 0.286228\n",
      "[100]\tvalid_0's multi_logloss: 0.27209\n",
      "[110]\tvalid_0's multi_logloss: 0.262358\n",
      "[120]\tvalid_0's multi_logloss: 0.256851\n",
      "[130]\tvalid_0's multi_logloss: 0.252987\n",
      "[140]\tvalid_0's multi_logloss: 0.25105\n",
      "[150]\tvalid_0's multi_logloss: 0.250664\n",
      "[160]\tvalid_0's multi_logloss: 0.249743\n",
      "[170]\tvalid_0's multi_logloss: 0.250066\n",
      "[180]\tvalid_0's multi_logloss: 0.25048\n",
      "Early stopping, best iteration is:\n",
      "[164]\tvalid_0's multi_logloss: 0.248723\n"
     ]
    },
    {
     "name": "stderr",
     "output_type": "stream",
     "text": [
      "[I 2024-10-05 14:59:38,334] Trial 52 finished with value: 0.06739130434782614 and parameters: {'learning_rate': 0.027293800011978148, 'num_leaves': 224, 'max_depth': 9, 'min_data_in_leaf': 78, 'lambda_l1': 0.00026503380369763044, 'lambda_l2': 0.01846595295885872, 'feature_fraction': 0.5934332580596506, 'bagging_fraction': 0.7623228597144898, 'bagging_freq': 2}. Best is trial 5 with value: 0.06521739130434778.\n",
      "C:\\Users\\nilarghya\\AppData\\Local\\Temp\\ipykernel_19804\\1114577306.py:14: FutureWarning: suggest_loguniform has been deprecated in v3.0.0. This feature will be removed in v6.0.0. See https://github.com/optuna/optuna/releases/tag/v3.0.0. Use suggest_float(..., log=True) instead.\n",
      "  'learning_rate': trial.suggest_loguniform('learning_rate', 1e-3, 1e-1),\n",
      "C:\\Users\\nilarghya\\AppData\\Local\\Temp\\ipykernel_19804\\1114577306.py:18: FutureWarning: suggest_loguniform has been deprecated in v3.0.0. This feature will be removed in v6.0.0. See https://github.com/optuna/optuna/releases/tag/v3.0.0. Use suggest_float(..., log=True) instead.\n",
      "  'lambda_l1': trial.suggest_loguniform('lambda_l1', 1e-8, 10.0),\n",
      "C:\\Users\\nilarghya\\AppData\\Local\\Temp\\ipykernel_19804\\1114577306.py:19: FutureWarning: suggest_loguniform has been deprecated in v3.0.0. This feature will be removed in v6.0.0. See https://github.com/optuna/optuna/releases/tag/v3.0.0. Use suggest_float(..., log=True) instead.\n",
      "  'lambda_l2': trial.suggest_loguniform('lambda_l2', 1e-8, 10.0),\n",
      "C:\\Users\\nilarghya\\AppData\\Local\\Temp\\ipykernel_19804\\1114577306.py:20: FutureWarning: suggest_uniform has been deprecated in v3.0.0. This feature will be removed in v6.0.0. See https://github.com/optuna/optuna/releases/tag/v3.0.0. Use suggest_float instead.\n",
      "  'feature_fraction': trial.suggest_uniform('feature_fraction', 0.5, 1.0),\n",
      "C:\\Users\\nilarghya\\AppData\\Local\\Temp\\ipykernel_19804\\1114577306.py:21: FutureWarning: suggest_uniform has been deprecated in v3.0.0. This feature will be removed in v6.0.0. See https://github.com/optuna/optuna/releases/tag/v3.0.0. Use suggest_float instead.\n",
      "  'bagging_fraction': trial.suggest_uniform('bagging_fraction', 0.5, 1.0),\n"
     ]
    },
    {
     "name": "stdout",
     "output_type": "stream",
     "text": [
      "Training until validation scores don't improve for 20 rounds\n",
      "[10]\tvalid_0's multi_logloss: 1.67243\n",
      "[20]\tvalid_0's multi_logloss: 1.31477\n",
      "[30]\tvalid_0's multi_logloss: 1.07644\n",
      "[40]\tvalid_0's multi_logloss: 0.904201\n",
      "[50]\tvalid_0's multi_logloss: 0.773686\n",
      "[60]\tvalid_0's multi_logloss: 0.670065\n",
      "[70]\tvalid_0's multi_logloss: 0.588622\n",
      "[80]\tvalid_0's multi_logloss: 0.52361\n",
      "[90]\tvalid_0's multi_logloss: 0.471991\n",
      "[100]\tvalid_0's multi_logloss: 0.42885\n",
      "[110]\tvalid_0's multi_logloss: 0.393483\n",
      "[120]\tvalid_0's multi_logloss: 0.365309\n",
      "[130]\tvalid_0's multi_logloss: 0.342269\n",
      "[140]\tvalid_0's multi_logloss: 0.323035\n",
      "[150]\tvalid_0's multi_logloss: 0.309004\n",
      "[160]\tvalid_0's multi_logloss: 0.296252\n",
      "[170]\tvalid_0's multi_logloss: 0.28497\n",
      "[180]\tvalid_0's multi_logloss: 0.275921\n",
      "[190]\tvalid_0's multi_logloss: 0.269773\n",
      "[200]\tvalid_0's multi_logloss: 0.264878\n",
      "Did not meet early stopping. Best iteration is:\n",
      "[200]\tvalid_0's multi_logloss: 0.264878\n"
     ]
    },
    {
     "name": "stderr",
     "output_type": "stream",
     "text": [
      "[I 2024-10-05 14:59:40,199] Trial 53 finished with value: 0.07173913043478264 and parameters: {'learning_rate': 0.014362281709084806, 'num_leaves': 219, 'max_depth': 9, 'min_data_in_leaf': 78, 'lambda_l1': 0.00029262495233654384, 'lambda_l2': 0.02362192542465032, 'feature_fraction': 0.618429891416963, 'bagging_fraction': 0.7657855619682916, 'bagging_freq': 1}. Best is trial 5 with value: 0.06521739130434778.\n",
      "C:\\Users\\nilarghya\\AppData\\Local\\Temp\\ipykernel_19804\\1114577306.py:14: FutureWarning: suggest_loguniform has been deprecated in v3.0.0. This feature will be removed in v6.0.0. See https://github.com/optuna/optuna/releases/tag/v3.0.0. Use suggest_float(..., log=True) instead.\n",
      "  'learning_rate': trial.suggest_loguniform('learning_rate', 1e-3, 1e-1),\n",
      "C:\\Users\\nilarghya\\AppData\\Local\\Temp\\ipykernel_19804\\1114577306.py:18: FutureWarning: suggest_loguniform has been deprecated in v3.0.0. This feature will be removed in v6.0.0. See https://github.com/optuna/optuna/releases/tag/v3.0.0. Use suggest_float(..., log=True) instead.\n",
      "  'lambda_l1': trial.suggest_loguniform('lambda_l1', 1e-8, 10.0),\n",
      "C:\\Users\\nilarghya\\AppData\\Local\\Temp\\ipykernel_19804\\1114577306.py:19: FutureWarning: suggest_loguniform has been deprecated in v3.0.0. This feature will be removed in v6.0.0. See https://github.com/optuna/optuna/releases/tag/v3.0.0. Use suggest_float(..., log=True) instead.\n",
      "  'lambda_l2': trial.suggest_loguniform('lambda_l2', 1e-8, 10.0),\n",
      "C:\\Users\\nilarghya\\AppData\\Local\\Temp\\ipykernel_19804\\1114577306.py:20: FutureWarning: suggest_uniform has been deprecated in v3.0.0. This feature will be removed in v6.0.0. See https://github.com/optuna/optuna/releases/tag/v3.0.0. Use suggest_float instead.\n",
      "  'feature_fraction': trial.suggest_uniform('feature_fraction', 0.5, 1.0),\n",
      "C:\\Users\\nilarghya\\AppData\\Local\\Temp\\ipykernel_19804\\1114577306.py:21: FutureWarning: suggest_uniform has been deprecated in v3.0.0. This feature will be removed in v6.0.0. See https://github.com/optuna/optuna/releases/tag/v3.0.0. Use suggest_float instead.\n",
      "  'bagging_fraction': trial.suggest_uniform('bagging_fraction', 0.5, 1.0),\n"
     ]
    },
    {
     "name": "stdout",
     "output_type": "stream",
     "text": [
      "Training until validation scores don't improve for 20 rounds\n",
      "[10]\tvalid_0's multi_logloss: 1.37989\n",
      "[20]\tvalid_0's multi_logloss: 0.98628\n",
      "[30]\tvalid_0's multi_logloss: 0.755052\n",
      "[40]\tvalid_0's multi_logloss: 0.603875\n",
      "[50]\tvalid_0's multi_logloss: 0.503652\n",
      "[60]\tvalid_0's multi_logloss: 0.431686\n",
      "[70]\tvalid_0's multi_logloss: 0.38041\n",
      "[80]\tvalid_0's multi_logloss: 0.343813\n",
      "[90]\tvalid_0's multi_logloss: 0.317507\n",
      "[100]\tvalid_0's multi_logloss: 0.296377\n",
      "[110]\tvalid_0's multi_logloss: 0.282464\n",
      "[120]\tvalid_0's multi_logloss: 0.271219\n",
      "[130]\tvalid_0's multi_logloss: 0.263298\n",
      "[140]\tvalid_0's multi_logloss: 0.259799\n",
      "[150]\tvalid_0's multi_logloss: 0.25718\n",
      "[160]\tvalid_0's multi_logloss: 0.254648\n",
      "[170]\tvalid_0's multi_logloss: 0.252349\n",
      "[180]\tvalid_0's multi_logloss: 0.250452\n",
      "[190]\tvalid_0's multi_logloss: 0.249306\n",
      "[200]\tvalid_0's multi_logloss: 0.24823\n",
      "Did not meet early stopping. Best iteration is:\n",
      "[200]\tvalid_0's multi_logloss: 0.24823\n"
     ]
    },
    {
     "name": "stderr",
     "output_type": "stream",
     "text": [
      "[I 2024-10-05 14:59:41,784] Trial 54 finished with value: 0.06956521739130439 and parameters: {'learning_rate': 0.026185597194478105, 'num_leaves': 219, 'max_depth': 8, 'min_data_in_leaf': 96, 'lambda_l1': 0.00010890279874822407, 'lambda_l2': 0.31518004103630654, 'feature_fraction': 0.5917943050633138, 'bagging_fraction': 0.6789369236733955, 'bagging_freq': 2}. Best is trial 5 with value: 0.06521739130434778.\n",
      "C:\\Users\\nilarghya\\AppData\\Local\\Temp\\ipykernel_19804\\1114577306.py:14: FutureWarning: suggest_loguniform has been deprecated in v3.0.0. This feature will be removed in v6.0.0. See https://github.com/optuna/optuna/releases/tag/v3.0.0. Use suggest_float(..., log=True) instead.\n",
      "  'learning_rate': trial.suggest_loguniform('learning_rate', 1e-3, 1e-1),\n",
      "C:\\Users\\nilarghya\\AppData\\Local\\Temp\\ipykernel_19804\\1114577306.py:18: FutureWarning: suggest_loguniform has been deprecated in v3.0.0. This feature will be removed in v6.0.0. See https://github.com/optuna/optuna/releases/tag/v3.0.0. Use suggest_float(..., log=True) instead.\n",
      "  'lambda_l1': trial.suggest_loguniform('lambda_l1', 1e-8, 10.0),\n",
      "C:\\Users\\nilarghya\\AppData\\Local\\Temp\\ipykernel_19804\\1114577306.py:19: FutureWarning: suggest_loguniform has been deprecated in v3.0.0. This feature will be removed in v6.0.0. See https://github.com/optuna/optuna/releases/tag/v3.0.0. Use suggest_float(..., log=True) instead.\n",
      "  'lambda_l2': trial.suggest_loguniform('lambda_l2', 1e-8, 10.0),\n",
      "C:\\Users\\nilarghya\\AppData\\Local\\Temp\\ipykernel_19804\\1114577306.py:20: FutureWarning: suggest_uniform has been deprecated in v3.0.0. This feature will be removed in v6.0.0. See https://github.com/optuna/optuna/releases/tag/v3.0.0. Use suggest_float instead.\n",
      "  'feature_fraction': trial.suggest_uniform('feature_fraction', 0.5, 1.0),\n",
      "C:\\Users\\nilarghya\\AppData\\Local\\Temp\\ipykernel_19804\\1114577306.py:21: FutureWarning: suggest_uniform has been deprecated in v3.0.0. This feature will be removed in v6.0.0. See https://github.com/optuna/optuna/releases/tag/v3.0.0. Use suggest_float instead.\n",
      "  'bagging_fraction': trial.suggest_uniform('bagging_fraction', 0.5, 1.0),\n"
     ]
    },
    {
     "name": "stdout",
     "output_type": "stream",
     "text": [
      "Training until validation scores don't improve for 20 rounds\n",
      "[10]\tvalid_0's multi_logloss: 2.24628\n",
      "[20]\tvalid_0's multi_logloss: 2.19003\n",
      "[30]\tvalid_0's multi_logloss: 2.13646\n",
      "[40]\tvalid_0's multi_logloss: 2.08567\n",
      "[50]\tvalid_0's multi_logloss: 2.03748\n",
      "[60]\tvalid_0's multi_logloss: 1.99172\n",
      "[70]\tvalid_0's multi_logloss: 1.94855\n",
      "[80]\tvalid_0's multi_logloss: 1.90649\n",
      "[90]\tvalid_0's multi_logloss: 1.86665\n",
      "[100]\tvalid_0's multi_logloss: 1.82783\n",
      "[110]\tvalid_0's multi_logloss: 1.79111\n",
      "[120]\tvalid_0's multi_logloss: 1.75513\n",
      "[130]\tvalid_0's multi_logloss: 1.72109\n",
      "[140]\tvalid_0's multi_logloss: 1.68806\n",
      "[150]\tvalid_0's multi_logloss: 1.65666\n",
      "[160]\tvalid_0's multi_logloss: 1.62626\n",
      "[170]\tvalid_0's multi_logloss: 1.597\n",
      "[180]\tvalid_0's multi_logloss: 1.56866\n",
      "[190]\tvalid_0's multi_logloss: 1.5415\n"
     ]
    },
    {
     "name": "stderr",
     "output_type": "stream",
     "text": [
      "[I 2024-10-05 14:59:43,808] Trial 55 finished with value: 0.11521739130434783 and parameters: {'learning_rate': 0.0010721324037914434, 'num_leaves': 239, 'max_depth': 9, 'min_data_in_leaf': 75, 'lambda_l1': 2.55494033013041e-05, 'lambda_l2': 1.0546912770211452, 'feature_fraction': 0.8978216775836878, 'bagging_fraction': 0.6407382864380875, 'bagging_freq': 1}. Best is trial 5 with value: 0.06521739130434778.\n"
     ]
    },
    {
     "name": "stdout",
     "output_type": "stream",
     "text": [
      "[200]\tvalid_0's multi_logloss: 1.51486\n",
      "Did not meet early stopping. Best iteration is:\n",
      "[200]\tvalid_0's multi_logloss: 1.51486\n"
     ]
    },
    {
     "name": "stderr",
     "output_type": "stream",
     "text": [
      "C:\\Users\\nilarghya\\AppData\\Local\\Temp\\ipykernel_19804\\1114577306.py:14: FutureWarning: suggest_loguniform has been deprecated in v3.0.0. This feature will be removed in v6.0.0. See https://github.com/optuna/optuna/releases/tag/v3.0.0. Use suggest_float(..., log=True) instead.\n",
      "  'learning_rate': trial.suggest_loguniform('learning_rate', 1e-3, 1e-1),\n",
      "C:\\Users\\nilarghya\\AppData\\Local\\Temp\\ipykernel_19804\\1114577306.py:18: FutureWarning: suggest_loguniform has been deprecated in v3.0.0. This feature will be removed in v6.0.0. See https://github.com/optuna/optuna/releases/tag/v3.0.0. Use suggest_float(..., log=True) instead.\n",
      "  'lambda_l1': trial.suggest_loguniform('lambda_l1', 1e-8, 10.0),\n",
      "C:\\Users\\nilarghya\\AppData\\Local\\Temp\\ipykernel_19804\\1114577306.py:19: FutureWarning: suggest_loguniform has been deprecated in v3.0.0. This feature will be removed in v6.0.0. See https://github.com/optuna/optuna/releases/tag/v3.0.0. Use suggest_float(..., log=True) instead.\n",
      "  'lambda_l2': trial.suggest_loguniform('lambda_l2', 1e-8, 10.0),\n",
      "C:\\Users\\nilarghya\\AppData\\Local\\Temp\\ipykernel_19804\\1114577306.py:20: FutureWarning: suggest_uniform has been deprecated in v3.0.0. This feature will be removed in v6.0.0. See https://github.com/optuna/optuna/releases/tag/v3.0.0. Use suggest_float instead.\n",
      "  'feature_fraction': trial.suggest_uniform('feature_fraction', 0.5, 1.0),\n",
      "C:\\Users\\nilarghya\\AppData\\Local\\Temp\\ipykernel_19804\\1114577306.py:21: FutureWarning: suggest_uniform has been deprecated in v3.0.0. This feature will be removed in v6.0.0. See https://github.com/optuna/optuna/releases/tag/v3.0.0. Use suggest_float instead.\n",
      "  'bagging_fraction': trial.suggest_uniform('bagging_fraction', 0.5, 1.0),\n"
     ]
    },
    {
     "name": "stdout",
     "output_type": "stream",
     "text": [
      "Training until validation scores don't improve for 20 rounds\n",
      "[10]\tvalid_0's multi_logloss: 1.79511\n",
      "[20]\tvalid_0's multi_logloss: 1.48002\n",
      "[30]\tvalid_0's multi_logloss: 1.25463\n",
      "[40]\tvalid_0's multi_logloss: 1.08596\n",
      "[50]\tvalid_0's multi_logloss: 0.954491\n",
      "[60]\tvalid_0's multi_logloss: 0.846642\n",
      "[70]\tvalid_0's multi_logloss: 0.759547\n",
      "[80]\tvalid_0's multi_logloss: 0.685946\n",
      "[90]\tvalid_0's multi_logloss: 0.62422\n",
      "[100]\tvalid_0's multi_logloss: 0.571934\n",
      "[110]\tvalid_0's multi_logloss: 0.525525\n",
      "[120]\tvalid_0's multi_logloss: 0.487729\n",
      "[130]\tvalid_0's multi_logloss: 0.453548\n",
      "[140]\tvalid_0's multi_logloss: 0.424868\n",
      "[150]\tvalid_0's multi_logloss: 0.400866\n",
      "[160]\tvalid_0's multi_logloss: 0.378503\n",
      "[170]\tvalid_0's multi_logloss: 0.360566\n",
      "[180]\tvalid_0's multi_logloss: 0.343093\n",
      "[190]\tvalid_0's multi_logloss: 0.327901\n",
      "[200]\tvalid_0's multi_logloss: 0.316041\n",
      "Did not meet early stopping. Best iteration is:\n",
      "[200]\tvalid_0's multi_logloss: 0.316041\n"
     ]
    },
    {
     "name": "stderr",
     "output_type": "stream",
     "text": [
      "[I 2024-10-05 14:59:45,524] Trial 56 finished with value: 0.08478260869565213 and parameters: {'learning_rate': 0.01069719301716702, 'num_leaves': 245, 'max_depth': 10, 'min_data_in_leaf': 81, 'lambda_l1': 5.863476121280851e-06, 'lambda_l2': 0.0008825144470350699, 'feature_fraction': 0.5634086304399358, 'bagging_fraction': 0.7291294257870075, 'bagging_freq': 2}. Best is trial 5 with value: 0.06521739130434778.\n",
      "C:\\Users\\nilarghya\\AppData\\Local\\Temp\\ipykernel_19804\\1114577306.py:14: FutureWarning: suggest_loguniform has been deprecated in v3.0.0. This feature will be removed in v6.0.0. See https://github.com/optuna/optuna/releases/tag/v3.0.0. Use suggest_float(..., log=True) instead.\n",
      "  'learning_rate': trial.suggest_loguniform('learning_rate', 1e-3, 1e-1),\n",
      "C:\\Users\\nilarghya\\AppData\\Local\\Temp\\ipykernel_19804\\1114577306.py:18: FutureWarning: suggest_loguniform has been deprecated in v3.0.0. This feature will be removed in v6.0.0. See https://github.com/optuna/optuna/releases/tag/v3.0.0. Use suggest_float(..., log=True) instead.\n",
      "  'lambda_l1': trial.suggest_loguniform('lambda_l1', 1e-8, 10.0),\n",
      "C:\\Users\\nilarghya\\AppData\\Local\\Temp\\ipykernel_19804\\1114577306.py:19: FutureWarning: suggest_loguniform has been deprecated in v3.0.0. This feature will be removed in v6.0.0. See https://github.com/optuna/optuna/releases/tag/v3.0.0. Use suggest_float(..., log=True) instead.\n",
      "  'lambda_l2': trial.suggest_loguniform('lambda_l2', 1e-8, 10.0),\n",
      "C:\\Users\\nilarghya\\AppData\\Local\\Temp\\ipykernel_19804\\1114577306.py:20: FutureWarning: suggest_uniform has been deprecated in v3.0.0. This feature will be removed in v6.0.0. See https://github.com/optuna/optuna/releases/tag/v3.0.0. Use suggest_float instead.\n",
      "  'feature_fraction': trial.suggest_uniform('feature_fraction', 0.5, 1.0),\n",
      "C:\\Users\\nilarghya\\AppData\\Local\\Temp\\ipykernel_19804\\1114577306.py:21: FutureWarning: suggest_uniform has been deprecated in v3.0.0. This feature will be removed in v6.0.0. See https://github.com/optuna/optuna/releases/tag/v3.0.0. Use suggest_float instead.\n",
      "  'bagging_fraction': trial.suggest_uniform('bagging_fraction', 0.5, 1.0),\n"
     ]
    },
    {
     "name": "stdout",
     "output_type": "stream",
     "text": [
      "Training until validation scores don't improve for 20 rounds\n",
      "[10]\tvalid_0's multi_logloss: 1.47522\n",
      "[20]\tvalid_0's multi_logloss: 1.08303\n",
      "[30]\tvalid_0's multi_logloss: 0.844524\n",
      "[40]\tvalid_0's multi_logloss: 0.68129\n",
      "[50]\tvalid_0's multi_logloss: 0.564369\n",
      "[60]\tvalid_0's multi_logloss: 0.479672\n",
      "[70]\tvalid_0's multi_logloss: 0.420699\n",
      "[80]\tvalid_0's multi_logloss: 0.375237\n",
      "[90]\tvalid_0's multi_logloss: 0.340214\n",
      "[100]\tvalid_0's multi_logloss: 0.313587\n",
      "[110]\tvalid_0's multi_logloss: 0.292662\n",
      "[120]\tvalid_0's multi_logloss: 0.27988\n",
      "[130]\tvalid_0's multi_logloss: 0.269014\n",
      "[140]\tvalid_0's multi_logloss: 0.262262\n",
      "[150]\tvalid_0's multi_logloss: 0.256603\n",
      "[160]\tvalid_0's multi_logloss: 0.252113\n",
      "[170]\tvalid_0's multi_logloss: 0.249468\n",
      "[180]\tvalid_0's multi_logloss: 0.248025\n",
      "[190]\tvalid_0's multi_logloss: 0.245615\n",
      "[200]\tvalid_0's multi_logloss: 0.246354\n",
      "Did not meet early stopping. Best iteration is:\n",
      "[188]\tvalid_0's multi_logloss: 0.245328\n"
     ]
    },
    {
     "name": "stderr",
     "output_type": "stream",
     "text": [
      "[I 2024-10-05 14:59:47,776] Trial 57 finished with value: 0.07173913043478264 and parameters: {'learning_rate': 0.02070386536728611, 'num_leaves': 203, 'max_depth': 6, 'min_data_in_leaf': 68, 'lambda_l1': 0.0005063036577106631, 'lambda_l2': 0.0003905806631232668, 'feature_fraction': 0.6575866509340212, 'bagging_fraction': 0.7030365975974959, 'bagging_freq': 2}. Best is trial 5 with value: 0.06521739130434778.\n",
      "C:\\Users\\nilarghya\\AppData\\Local\\Temp\\ipykernel_19804\\1114577306.py:14: FutureWarning: suggest_loguniform has been deprecated in v3.0.0. This feature will be removed in v6.0.0. See https://github.com/optuna/optuna/releases/tag/v3.0.0. Use suggest_float(..., log=True) instead.\n",
      "  'learning_rate': trial.suggest_loguniform('learning_rate', 1e-3, 1e-1),\n",
      "C:\\Users\\nilarghya\\AppData\\Local\\Temp\\ipykernel_19804\\1114577306.py:18: FutureWarning: suggest_loguniform has been deprecated in v3.0.0. This feature will be removed in v6.0.0. See https://github.com/optuna/optuna/releases/tag/v3.0.0. Use suggest_float(..., log=True) instead.\n",
      "  'lambda_l1': trial.suggest_loguniform('lambda_l1', 1e-8, 10.0),\n",
      "C:\\Users\\nilarghya\\AppData\\Local\\Temp\\ipykernel_19804\\1114577306.py:19: FutureWarning: suggest_loguniform has been deprecated in v3.0.0. This feature will be removed in v6.0.0. See https://github.com/optuna/optuna/releases/tag/v3.0.0. Use suggest_float(..., log=True) instead.\n",
      "  'lambda_l2': trial.suggest_loguniform('lambda_l2', 1e-8, 10.0),\n",
      "C:\\Users\\nilarghya\\AppData\\Local\\Temp\\ipykernel_19804\\1114577306.py:20: FutureWarning: suggest_uniform has been deprecated in v3.0.0. This feature will be removed in v6.0.0. See https://github.com/optuna/optuna/releases/tag/v3.0.0. Use suggest_float instead.\n",
      "  'feature_fraction': trial.suggest_uniform('feature_fraction', 0.5, 1.0),\n",
      "C:\\Users\\nilarghya\\AppData\\Local\\Temp\\ipykernel_19804\\1114577306.py:21: FutureWarning: suggest_uniform has been deprecated in v3.0.0. This feature will be removed in v6.0.0. See https://github.com/optuna/optuna/releases/tag/v3.0.0. Use suggest_float instead.\n",
      "  'bagging_fraction': trial.suggest_uniform('bagging_fraction', 0.5, 1.0),\n"
     ]
    },
    {
     "name": "stdout",
     "output_type": "stream",
     "text": [
      "Training until validation scores don't improve for 20 rounds\n",
      "[10]\tvalid_0's multi_logloss: 2.11985\n",
      "[20]\tvalid_0's multi_logloss: 1.95814\n",
      "[30]\tvalid_0's multi_logloss: 1.81814\n",
      "[40]\tvalid_0's multi_logloss: 1.69485\n",
      "[50]\tvalid_0's multi_logloss: 1.58517\n",
      "[60]\tvalid_0's multi_logloss: 1.48797\n",
      "[70]\tvalid_0's multi_logloss: 1.40214\n",
      "[80]\tvalid_0's multi_logloss: 1.32472\n",
      "[90]\tvalid_0's multi_logloss: 1.25496\n",
      "[100]\tvalid_0's multi_logloss: 1.19097\n",
      "[110]\tvalid_0's multi_logloss: 1.13228\n",
      "[120]\tvalid_0's multi_logloss: 1.07864\n",
      "[130]\tvalid_0's multi_logloss: 1.03041\n",
      "[140]\tvalid_0's multi_logloss: 0.984861\n",
      "[150]\tvalid_0's multi_logloss: 0.943053\n",
      "[160]\tvalid_0's multi_logloss: 0.90407\n",
      "[170]\tvalid_0's multi_logloss: 0.86814\n",
      "[180]\tvalid_0's multi_logloss: 0.83442\n",
      "[190]\tvalid_0's multi_logloss: 0.803349\n",
      "[200]\tvalid_0's multi_logloss: 0.773852\n",
      "Did not meet early stopping. Best iteration is:\n",
      "[200]\tvalid_0's multi_logloss: 0.773852\n"
     ]
    },
    {
     "name": "stderr",
     "output_type": "stream",
     "text": [
      "[I 2024-10-05 14:59:49,354] Trial 58 finished with value: 0.10869565217391308 and parameters: {'learning_rate': 0.00436915793057787, 'num_leaves': 229, 'max_depth': 7, 'min_data_in_leaf': 71, 'lambda_l1': 0.002834431528981793, 'lambda_l2': 4.412883947079959, 'feature_fraction': 0.628637026683811, 'bagging_fraction': 0.5933803119894676, 'bagging_freq': 1}. Best is trial 5 with value: 0.06521739130434778.\n",
      "C:\\Users\\nilarghya\\AppData\\Local\\Temp\\ipykernel_19804\\1114577306.py:14: FutureWarning: suggest_loguniform has been deprecated in v3.0.0. This feature will be removed in v6.0.0. See https://github.com/optuna/optuna/releases/tag/v3.0.0. Use suggest_float(..., log=True) instead.\n",
      "  'learning_rate': trial.suggest_loguniform('learning_rate', 1e-3, 1e-1),\n",
      "C:\\Users\\nilarghya\\AppData\\Local\\Temp\\ipykernel_19804\\1114577306.py:18: FutureWarning: suggest_loguniform has been deprecated in v3.0.0. This feature will be removed in v6.0.0. See https://github.com/optuna/optuna/releases/tag/v3.0.0. Use suggest_float(..., log=True) instead.\n",
      "  'lambda_l1': trial.suggest_loguniform('lambda_l1', 1e-8, 10.0),\n",
      "C:\\Users\\nilarghya\\AppData\\Local\\Temp\\ipykernel_19804\\1114577306.py:19: FutureWarning: suggest_loguniform has been deprecated in v3.0.0. This feature will be removed in v6.0.0. See https://github.com/optuna/optuna/releases/tag/v3.0.0. Use suggest_float(..., log=True) instead.\n",
      "  'lambda_l2': trial.suggest_loguniform('lambda_l2', 1e-8, 10.0),\n",
      "C:\\Users\\nilarghya\\AppData\\Local\\Temp\\ipykernel_19804\\1114577306.py:20: FutureWarning: suggest_uniform has been deprecated in v3.0.0. This feature will be removed in v6.0.0. See https://github.com/optuna/optuna/releases/tag/v3.0.0. Use suggest_float instead.\n",
      "  'feature_fraction': trial.suggest_uniform('feature_fraction', 0.5, 1.0),\n",
      "C:\\Users\\nilarghya\\AppData\\Local\\Temp\\ipykernel_19804\\1114577306.py:21: FutureWarning: suggest_uniform has been deprecated in v3.0.0. This feature will be removed in v6.0.0. See https://github.com/optuna/optuna/releases/tag/v3.0.0. Use suggest_float instead.\n",
      "  'bagging_fraction': trial.suggest_uniform('bagging_fraction', 0.5, 1.0),\n"
     ]
    },
    {
     "name": "stdout",
     "output_type": "stream",
     "text": [
      "Training until validation scores don't improve for 20 rounds\n",
      "[10]\tvalid_0's multi_logloss: 1.66211\n",
      "[20]\tvalid_0's multi_logloss: 1.31659\n",
      "[30]\tvalid_0's multi_logloss: 1.08355\n",
      "[40]\tvalid_0's multi_logloss: 0.916344\n",
      "[50]\tvalid_0's multi_logloss: 0.784359\n",
      "[60]\tvalid_0's multi_logloss: 0.685934\n",
      "[70]\tvalid_0's multi_logloss: 0.60835\n",
      "[80]\tvalid_0's multi_logloss: 0.5419\n",
      "[90]\tvalid_0's multi_logloss: 0.488917\n",
      "[100]\tvalid_0's multi_logloss: 0.442901\n",
      "[110]\tvalid_0's multi_logloss: 0.406036\n",
      "[120]\tvalid_0's multi_logloss: 0.374356\n",
      "[130]\tvalid_0's multi_logloss: 0.349526\n",
      "[140]\tvalid_0's multi_logloss: 0.329439\n",
      "[150]\tvalid_0's multi_logloss: 0.314738\n",
      "[160]\tvalid_0's multi_logloss: 0.300168\n",
      "[170]\tvalid_0's multi_logloss: 0.290333\n",
      "[180]\tvalid_0's multi_logloss: 0.280627\n",
      "[190]\tvalid_0's multi_logloss: 0.272074\n"
     ]
    },
    {
     "name": "stderr",
     "output_type": "stream",
     "text": [
      "[I 2024-10-05 14:59:51,937] Trial 59 finished with value: 0.07173913043478264 and parameters: {'learning_rate': 0.01589489867566953, 'num_leaves': 214, 'max_depth': 8, 'min_data_in_leaf': 89, 'lambda_l1': 7.611834767881379e-05, 'lambda_l2': 0.0001400075132278896, 'feature_fraction': 0.9554510194585403, 'bagging_fraction': 0.5012481699773044, 'bagging_freq': 2}. Best is trial 5 with value: 0.06521739130434778.\n"
     ]
    },
    {
     "name": "stdout",
     "output_type": "stream",
     "text": [
      "[200]\tvalid_0's multi_logloss: 0.264873\n",
      "Did not meet early stopping. Best iteration is:\n",
      "[200]\tvalid_0's multi_logloss: 0.264873\n"
     ]
    },
    {
     "name": "stderr",
     "output_type": "stream",
     "text": [
      "C:\\Users\\nilarghya\\AppData\\Local\\Temp\\ipykernel_19804\\1114577306.py:14: FutureWarning: suggest_loguniform has been deprecated in v3.0.0. This feature will be removed in v6.0.0. See https://github.com/optuna/optuna/releases/tag/v3.0.0. Use suggest_float(..., log=True) instead.\n",
      "  'learning_rate': trial.suggest_loguniform('learning_rate', 1e-3, 1e-1),\n",
      "C:\\Users\\nilarghya\\AppData\\Local\\Temp\\ipykernel_19804\\1114577306.py:18: FutureWarning: suggest_loguniform has been deprecated in v3.0.0. This feature will be removed in v6.0.0. See https://github.com/optuna/optuna/releases/tag/v3.0.0. Use suggest_float(..., log=True) instead.\n",
      "  'lambda_l1': trial.suggest_loguniform('lambda_l1', 1e-8, 10.0),\n",
      "C:\\Users\\nilarghya\\AppData\\Local\\Temp\\ipykernel_19804\\1114577306.py:19: FutureWarning: suggest_loguniform has been deprecated in v3.0.0. This feature will be removed in v6.0.0. See https://github.com/optuna/optuna/releases/tag/v3.0.0. Use suggest_float(..., log=True) instead.\n",
      "  'lambda_l2': trial.suggest_loguniform('lambda_l2', 1e-8, 10.0),\n",
      "C:\\Users\\nilarghya\\AppData\\Local\\Temp\\ipykernel_19804\\1114577306.py:20: FutureWarning: suggest_uniform has been deprecated in v3.0.0. This feature will be removed in v6.0.0. See https://github.com/optuna/optuna/releases/tag/v3.0.0. Use suggest_float instead.\n",
      "  'feature_fraction': trial.suggest_uniform('feature_fraction', 0.5, 1.0),\n",
      "C:\\Users\\nilarghya\\AppData\\Local\\Temp\\ipykernel_19804\\1114577306.py:21: FutureWarning: suggest_uniform has been deprecated in v3.0.0. This feature will be removed in v6.0.0. See https://github.com/optuna/optuna/releases/tag/v3.0.0. Use suggest_float instead.\n",
      "  'bagging_fraction': trial.suggest_uniform('bagging_fraction', 0.5, 1.0),\n"
     ]
    },
    {
     "name": "stdout",
     "output_type": "stream",
     "text": [
      "Training until validation scores don't improve for 20 rounds\n",
      "[10]\tvalid_0's multi_logloss: 1.31187\n",
      "[20]\tvalid_0's multi_logloss: 0.914666\n",
      "[30]\tvalid_0's multi_logloss: 0.693878\n",
      "[40]\tvalid_0's multi_logloss: 0.548566\n",
      "[50]\tvalid_0's multi_logloss: 0.453703\n",
      "[60]\tvalid_0's multi_logloss: 0.388646\n",
      "[70]\tvalid_0's multi_logloss: 0.346524\n",
      "[80]\tvalid_0's multi_logloss: 0.317875\n",
      "[90]\tvalid_0's multi_logloss: 0.299245\n",
      "[100]\tvalid_0's multi_logloss: 0.287106\n",
      "[110]\tvalid_0's multi_logloss: 0.27965\n",
      "[120]\tvalid_0's multi_logloss: 0.271921\n",
      "[130]\tvalid_0's multi_logloss: 0.267384\n",
      "[140]\tvalid_0's multi_logloss: 0.261564\n",
      "[150]\tvalid_0's multi_logloss: 0.262427\n",
      "[160]\tvalid_0's multi_logloss: 0.259692\n",
      "[170]\tvalid_0's multi_logloss: 0.261096\n",
      "[180]\tvalid_0's multi_logloss: 0.261031\n",
      "Early stopping, best iteration is:\n",
      "[162]\tvalid_0's multi_logloss: 0.259301\n"
     ]
    },
    {
     "name": "stderr",
     "output_type": "stream",
     "text": [
      "[I 2024-10-05 14:59:53,612] Trial 60 finished with value: 0.06956521739130439 and parameters: {'learning_rate': 0.02829526555786939, 'num_leaves': 176, 'max_depth': 7, 'min_data_in_leaf': 66, 'lambda_l1': 0.0008807959042687267, 'lambda_l2': 0.1433832754450705, 'feature_fraction': 0.7000288006703539, 'bagging_fraction': 0.5642330563381394, 'bagging_freq': 3}. Best is trial 5 with value: 0.06521739130434778.\n",
      "C:\\Users\\nilarghya\\AppData\\Local\\Temp\\ipykernel_19804\\1114577306.py:14: FutureWarning: suggest_loguniform has been deprecated in v3.0.0. This feature will be removed in v6.0.0. See https://github.com/optuna/optuna/releases/tag/v3.0.0. Use suggest_float(..., log=True) instead.\n",
      "  'learning_rate': trial.suggest_loguniform('learning_rate', 1e-3, 1e-1),\n",
      "C:\\Users\\nilarghya\\AppData\\Local\\Temp\\ipykernel_19804\\1114577306.py:18: FutureWarning: suggest_loguniform has been deprecated in v3.0.0. This feature will be removed in v6.0.0. See https://github.com/optuna/optuna/releases/tag/v3.0.0. Use suggest_float(..., log=True) instead.\n",
      "  'lambda_l1': trial.suggest_loguniform('lambda_l1', 1e-8, 10.0),\n",
      "C:\\Users\\nilarghya\\AppData\\Local\\Temp\\ipykernel_19804\\1114577306.py:19: FutureWarning: suggest_loguniform has been deprecated in v3.0.0. This feature will be removed in v6.0.0. See https://github.com/optuna/optuna/releases/tag/v3.0.0. Use suggest_float(..., log=True) instead.\n",
      "  'lambda_l2': trial.suggest_loguniform('lambda_l2', 1e-8, 10.0),\n",
      "C:\\Users\\nilarghya\\AppData\\Local\\Temp\\ipykernel_19804\\1114577306.py:20: FutureWarning: suggest_uniform has been deprecated in v3.0.0. This feature will be removed in v6.0.0. See https://github.com/optuna/optuna/releases/tag/v3.0.0. Use suggest_float instead.\n",
      "  'feature_fraction': trial.suggest_uniform('feature_fraction', 0.5, 1.0),\n",
      "C:\\Users\\nilarghya\\AppData\\Local\\Temp\\ipykernel_19804\\1114577306.py:21: FutureWarning: suggest_uniform has been deprecated in v3.0.0. This feature will be removed in v6.0.0. See https://github.com/optuna/optuna/releases/tag/v3.0.0. Use suggest_float instead.\n",
      "  'bagging_fraction': trial.suggest_uniform('bagging_fraction', 0.5, 1.0),\n"
     ]
    },
    {
     "name": "stdout",
     "output_type": "stream",
     "text": [
      "Training until validation scores don't improve for 20 rounds\n",
      "[10]\tvalid_0's multi_logloss: 1.21585\n",
      "[20]\tvalid_0's multi_logloss: 0.819785\n",
      "[30]\tvalid_0's multi_logloss: 0.610767\n",
      "[40]\tvalid_0's multi_logloss: 0.48789\n",
      "[50]\tvalid_0's multi_logloss: 0.412294\n",
      "[60]\tvalid_0's multi_logloss: 0.360885\n",
      "[70]\tvalid_0's multi_logloss: 0.329144\n",
      "[80]\tvalid_0's multi_logloss: 0.308543\n",
      "[90]\tvalid_0's multi_logloss: 0.294273\n",
      "[100]\tvalid_0's multi_logloss: 0.283809\n",
      "[110]\tvalid_0's multi_logloss: 0.276752\n",
      "[120]\tvalid_0's multi_logloss: 0.272489\n",
      "[130]\tvalid_0's multi_logloss: 0.269801\n",
      "[140]\tvalid_0's multi_logloss: 0.267415\n",
      "[150]\tvalid_0's multi_logloss: 0.265934\n",
      "[160]\tvalid_0's multi_logloss: 0.264716\n",
      "[170]\tvalid_0's multi_logloss: 0.263266\n",
      "[180]\tvalid_0's multi_logloss: 0.262399\n"
     ]
    },
    {
     "name": "stderr",
     "output_type": "stream",
     "text": [
      "[I 2024-10-05 14:59:54,839] Trial 61 finished with value: 0.07391304347826089 and parameters: {'learning_rate': 0.032840127184865495, 'num_leaves': 161, 'max_depth': 3, 'min_data_in_leaf': 51, 'lambda_l1': 1.6091669545350542, 'lambda_l2': 0.004612830048767413, 'feature_fraction': 0.545294144831864, 'bagging_fraction': 0.8151990706305907, 'bagging_freq': 4}. Best is trial 5 with value: 0.06521739130434778.\n"
     ]
    },
    {
     "name": "stdout",
     "output_type": "stream",
     "text": [
      "[190]\tvalid_0's multi_logloss: 0.261346\n",
      "[200]\tvalid_0's multi_logloss: 0.260881\n",
      "Did not meet early stopping. Best iteration is:\n",
      "[199]\tvalid_0's multi_logloss: 0.260837\n"
     ]
    },
    {
     "name": "stderr",
     "output_type": "stream",
     "text": [
      "C:\\Users\\nilarghya\\AppData\\Local\\Temp\\ipykernel_19804\\1114577306.py:14: FutureWarning: suggest_loguniform has been deprecated in v3.0.0. This feature will be removed in v6.0.0. See https://github.com/optuna/optuna/releases/tag/v3.0.0. Use suggest_float(..., log=True) instead.\n",
      "  'learning_rate': trial.suggest_loguniform('learning_rate', 1e-3, 1e-1),\n",
      "C:\\Users\\nilarghya\\AppData\\Local\\Temp\\ipykernel_19804\\1114577306.py:18: FutureWarning: suggest_loguniform has been deprecated in v3.0.0. This feature will be removed in v6.0.0. See https://github.com/optuna/optuna/releases/tag/v3.0.0. Use suggest_float(..., log=True) instead.\n",
      "  'lambda_l1': trial.suggest_loguniform('lambda_l1', 1e-8, 10.0),\n",
      "C:\\Users\\nilarghya\\AppData\\Local\\Temp\\ipykernel_19804\\1114577306.py:19: FutureWarning: suggest_loguniform has been deprecated in v3.0.0. This feature will be removed in v6.0.0. See https://github.com/optuna/optuna/releases/tag/v3.0.0. Use suggest_float(..., log=True) instead.\n",
      "  'lambda_l2': trial.suggest_loguniform('lambda_l2', 1e-8, 10.0),\n",
      "C:\\Users\\nilarghya\\AppData\\Local\\Temp\\ipykernel_19804\\1114577306.py:20: FutureWarning: suggest_uniform has been deprecated in v3.0.0. This feature will be removed in v6.0.0. See https://github.com/optuna/optuna/releases/tag/v3.0.0. Use suggest_float instead.\n",
      "  'feature_fraction': trial.suggest_uniform('feature_fraction', 0.5, 1.0),\n",
      "C:\\Users\\nilarghya\\AppData\\Local\\Temp\\ipykernel_19804\\1114577306.py:21: FutureWarning: suggest_uniform has been deprecated in v3.0.0. This feature will be removed in v6.0.0. See https://github.com/optuna/optuna/releases/tag/v3.0.0. Use suggest_float instead.\n",
      "  'bagging_fraction': trial.suggest_uniform('bagging_fraction', 0.5, 1.0),\n"
     ]
    },
    {
     "name": "stdout",
     "output_type": "stream",
     "text": [
      "Training until validation scores don't improve for 20 rounds\n",
      "[10]\tvalid_0's multi_logloss: 1.08674\n",
      "[20]\tvalid_0's multi_logloss: 0.688703\n",
      "[30]\tvalid_0's multi_logloss: 0.490942\n",
      "[40]\tvalid_0's multi_logloss: 0.384454\n",
      "[50]\tvalid_0's multi_logloss: 0.326839\n",
      "[60]\tvalid_0's multi_logloss: 0.290608\n",
      "[70]\tvalid_0's multi_logloss: 0.272626\n",
      "[80]\tvalid_0's multi_logloss: 0.260857\n",
      "[90]\tvalid_0's multi_logloss: 0.259056\n",
      "[100]\tvalid_0's multi_logloss: 0.255119\n",
      "[110]\tvalid_0's multi_logloss: 0.255218\n"
     ]
    },
    {
     "name": "stderr",
     "output_type": "stream",
     "text": [
      "[I 2024-10-05 14:59:55,781] Trial 62 finished with value: 0.07173913043478264 and parameters: {'learning_rate': 0.03936778807600613, 'num_leaves': 190, 'max_depth': 5, 'min_data_in_leaf': 58, 'lambda_l1': 0.01608867729724658, 'lambda_l2': 0.0015104832899053592, 'feature_fraction': 0.518055364734446, 'bagging_fraction': 0.7544917274064598, 'bagging_freq': 3}. Best is trial 5 with value: 0.06521739130434778.\n"
     ]
    },
    {
     "name": "stdout",
     "output_type": "stream",
     "text": [
      "Early stopping, best iteration is:\n",
      "[99]\tvalid_0's multi_logloss: 0.25453\n"
     ]
    },
    {
     "name": "stderr",
     "output_type": "stream",
     "text": [
      "C:\\Users\\nilarghya\\AppData\\Local\\Temp\\ipykernel_19804\\1114577306.py:14: FutureWarning: suggest_loguniform has been deprecated in v3.0.0. This feature will be removed in v6.0.0. See https://github.com/optuna/optuna/releases/tag/v3.0.0. Use suggest_float(..., log=True) instead.\n",
      "  'learning_rate': trial.suggest_loguniform('learning_rate', 1e-3, 1e-1),\n",
      "C:\\Users\\nilarghya\\AppData\\Local\\Temp\\ipykernel_19804\\1114577306.py:18: FutureWarning: suggest_loguniform has been deprecated in v3.0.0. This feature will be removed in v6.0.0. See https://github.com/optuna/optuna/releases/tag/v3.0.0. Use suggest_float(..., log=True) instead.\n",
      "  'lambda_l1': trial.suggest_loguniform('lambda_l1', 1e-8, 10.0),\n",
      "C:\\Users\\nilarghya\\AppData\\Local\\Temp\\ipykernel_19804\\1114577306.py:19: FutureWarning: suggest_loguniform has been deprecated in v3.0.0. This feature will be removed in v6.0.0. See https://github.com/optuna/optuna/releases/tag/v3.0.0. Use suggest_float(..., log=True) instead.\n",
      "  'lambda_l2': trial.suggest_loguniform('lambda_l2', 1e-8, 10.0),\n",
      "C:\\Users\\nilarghya\\AppData\\Local\\Temp\\ipykernel_19804\\1114577306.py:20: FutureWarning: suggest_uniform has been deprecated in v3.0.0. This feature will be removed in v6.0.0. See https://github.com/optuna/optuna/releases/tag/v3.0.0. Use suggest_float instead.\n",
      "  'feature_fraction': trial.suggest_uniform('feature_fraction', 0.5, 1.0),\n",
      "C:\\Users\\nilarghya\\AppData\\Local\\Temp\\ipykernel_19804\\1114577306.py:21: FutureWarning: suggest_uniform has been deprecated in v3.0.0. This feature will be removed in v6.0.0. See https://github.com/optuna/optuna/releases/tag/v3.0.0. Use suggest_float instead.\n",
      "  'bagging_fraction': trial.suggest_uniform('bagging_fraction', 0.5, 1.0),\n"
     ]
    },
    {
     "name": "stdout",
     "output_type": "stream",
     "text": [
      "Training until validation scores don't improve for 20 rounds\n",
      "[10]\tvalid_0's multi_logloss: 0.993179\n",
      "[20]\tvalid_0's multi_logloss: 0.615283\n",
      "[30]\tvalid_0's multi_logloss: 0.437233\n",
      "[40]\tvalid_0's multi_logloss: 0.346784\n",
      "[50]\tvalid_0's multi_logloss: 0.301193\n",
      "[60]\tvalid_0's multi_logloss: 0.277059\n",
      "[70]\tvalid_0's multi_logloss: 0.263476\n",
      "[80]\tvalid_0's multi_logloss: 0.257362\n",
      "[90]\tvalid_0's multi_logloss: 0.253067\n",
      "[100]\tvalid_0's multi_logloss: 0.251832\n",
      "[110]\tvalid_0's multi_logloss: 0.253457\n",
      "[120]\tvalid_0's multi_logloss: 0.25393\n",
      "Early stopping, best iteration is:\n",
      "[101]\tvalid_0's multi_logloss: 0.251078\n"
     ]
    },
    {
     "name": "stderr",
     "output_type": "stream",
     "text": [
      "[I 2024-10-05 14:59:56,858] Trial 63 finished with value: 0.06739130434782614 and parameters: {'learning_rate': 0.04738546796344821, 'num_leaves': 135, 'max_depth': 4, 'min_data_in_leaf': 75, 'lambda_l1': 0.0038537620622194047, 'lambda_l2': 0.01287682188516336, 'feature_fraction': 0.5956704177788, 'bagging_fraction': 0.6641104458406597, 'bagging_freq': 3}. Best is trial 5 with value: 0.06521739130434778.\n",
      "C:\\Users\\nilarghya\\AppData\\Local\\Temp\\ipykernel_19804\\1114577306.py:14: FutureWarning: suggest_loguniform has been deprecated in v3.0.0. This feature will be removed in v6.0.0. See https://github.com/optuna/optuna/releases/tag/v3.0.0. Use suggest_float(..., log=True) instead.\n",
      "  'learning_rate': trial.suggest_loguniform('learning_rate', 1e-3, 1e-1),\n",
      "C:\\Users\\nilarghya\\AppData\\Local\\Temp\\ipykernel_19804\\1114577306.py:18: FutureWarning: suggest_loguniform has been deprecated in v3.0.0. This feature will be removed in v6.0.0. See https://github.com/optuna/optuna/releases/tag/v3.0.0. Use suggest_float(..., log=True) instead.\n",
      "  'lambda_l1': trial.suggest_loguniform('lambda_l1', 1e-8, 10.0),\n",
      "C:\\Users\\nilarghya\\AppData\\Local\\Temp\\ipykernel_19804\\1114577306.py:19: FutureWarning: suggest_loguniform has been deprecated in v3.0.0. This feature will be removed in v6.0.0. See https://github.com/optuna/optuna/releases/tag/v3.0.0. Use suggest_float(..., log=True) instead.\n",
      "  'lambda_l2': trial.suggest_loguniform('lambda_l2', 1e-8, 10.0),\n",
      "C:\\Users\\nilarghya\\AppData\\Local\\Temp\\ipykernel_19804\\1114577306.py:20: FutureWarning: suggest_uniform has been deprecated in v3.0.0. This feature will be removed in v6.0.0. See https://github.com/optuna/optuna/releases/tag/v3.0.0. Use suggest_float instead.\n",
      "  'feature_fraction': trial.suggest_uniform('feature_fraction', 0.5, 1.0),\n",
      "C:\\Users\\nilarghya\\AppData\\Local\\Temp\\ipykernel_19804\\1114577306.py:21: FutureWarning: suggest_uniform has been deprecated in v3.0.0. This feature will be removed in v6.0.0. See https://github.com/optuna/optuna/releases/tag/v3.0.0. Use suggest_float instead.\n",
      "  'bagging_fraction': trial.suggest_uniform('bagging_fraction', 0.5, 1.0),\n"
     ]
    },
    {
     "name": "stdout",
     "output_type": "stream",
     "text": [
      "Training until validation scores don't improve for 20 rounds\n",
      "[10]\tvalid_0's multi_logloss: 0.967203\n",
      "[20]\tvalid_0's multi_logloss: 0.594548\n",
      "[30]\tvalid_0's multi_logloss: 0.422087\n",
      "[40]\tvalid_0's multi_logloss: 0.338401\n",
      "[50]\tvalid_0's multi_logloss: 0.294582\n",
      "[60]\tvalid_0's multi_logloss: 0.27424\n",
      "[70]\tvalid_0's multi_logloss: 0.26215\n",
      "[80]\tvalid_0's multi_logloss: 0.25924\n",
      "[90]\tvalid_0's multi_logloss: 0.258099\n",
      "[100]\tvalid_0's multi_logloss: 0.259534\n",
      "Early stopping, best iteration is:\n",
      "[87]\tvalid_0's multi_logloss: 0.256915\n"
     ]
    },
    {
     "name": "stderr",
     "output_type": "stream",
     "text": [
      "[I 2024-10-05 14:59:57,619] Trial 64 finished with value: 0.07608695652173914 and parameters: {'learning_rate': 0.049560048942437054, 'num_leaves': 81, 'max_depth': 6, 'min_data_in_leaf': 75, 'lambda_l1': 1.6846291954544393e-05, 'lambda_l2': 0.01396589011036303, 'feature_fraction': 0.5844691569128386, 'bagging_fraction': 0.6677260775868777, 'bagging_freq': 3}. Best is trial 5 with value: 0.06521739130434778.\n",
      "C:\\Users\\nilarghya\\AppData\\Local\\Temp\\ipykernel_19804\\1114577306.py:14: FutureWarning: suggest_loguniform has been deprecated in v3.0.0. This feature will be removed in v6.0.0. See https://github.com/optuna/optuna/releases/tag/v3.0.0. Use suggest_float(..., log=True) instead.\n",
      "  'learning_rate': trial.suggest_loguniform('learning_rate', 1e-3, 1e-1),\n",
      "C:\\Users\\nilarghya\\AppData\\Local\\Temp\\ipykernel_19804\\1114577306.py:18: FutureWarning: suggest_loguniform has been deprecated in v3.0.0. This feature will be removed in v6.0.0. See https://github.com/optuna/optuna/releases/tag/v3.0.0. Use suggest_float(..., log=True) instead.\n",
      "  'lambda_l1': trial.suggest_loguniform('lambda_l1', 1e-8, 10.0),\n",
      "C:\\Users\\nilarghya\\AppData\\Local\\Temp\\ipykernel_19804\\1114577306.py:19: FutureWarning: suggest_loguniform has been deprecated in v3.0.0. This feature will be removed in v6.0.0. See https://github.com/optuna/optuna/releases/tag/v3.0.0. Use suggest_float(..., log=True) instead.\n",
      "  'lambda_l2': trial.suggest_loguniform('lambda_l2', 1e-8, 10.0),\n",
      "C:\\Users\\nilarghya\\AppData\\Local\\Temp\\ipykernel_19804\\1114577306.py:20: FutureWarning: suggest_uniform has been deprecated in v3.0.0. This feature will be removed in v6.0.0. See https://github.com/optuna/optuna/releases/tag/v3.0.0. Use suggest_float instead.\n",
      "  'feature_fraction': trial.suggest_uniform('feature_fraction', 0.5, 1.0),\n",
      "C:\\Users\\nilarghya\\AppData\\Local\\Temp\\ipykernel_19804\\1114577306.py:21: FutureWarning: suggest_uniform has been deprecated in v3.0.0. This feature will be removed in v6.0.0. See https://github.com/optuna/optuna/releases/tag/v3.0.0. Use suggest_float instead.\n",
      "  'bagging_fraction': trial.suggest_uniform('bagging_fraction', 0.5, 1.0),\n"
     ]
    },
    {
     "name": "stdout",
     "output_type": "stream",
     "text": [
      "Training until validation scores don't improve for 20 rounds\n",
      "[10]\tvalid_0's multi_logloss: 0.844193\n",
      "[20]\tvalid_0's multi_logloss: 0.504977\n",
      "[30]\tvalid_0's multi_logloss: 0.363072\n",
      "[40]\tvalid_0's multi_logloss: 0.299213\n",
      "[50]\tvalid_0's multi_logloss: 0.269095\n",
      "[60]\tvalid_0's multi_logloss: 0.257695\n",
      "[70]\tvalid_0's multi_logloss: 0.25348\n",
      "[80]\tvalid_0's multi_logloss: 0.258664\n"
     ]
    },
    {
     "name": "stderr",
     "output_type": "stream",
     "text": [
      "[I 2024-10-05 14:59:58,248] Trial 65 finished with value: 0.07391304347826089 and parameters: {'learning_rate': 0.06295757090705591, 'num_leaves': 67, 'max_depth': 5, 'min_data_in_leaf': 83, 'lambda_l1': 0.0002104302598921071, 'lambda_l2': 0.048586479461131094, 'feature_fraction': 0.6004734514871103, 'bagging_fraction': 0.6586622263557705, 'bagging_freq': 4}. Best is trial 5 with value: 0.06521739130434778.\n"
     ]
    },
    {
     "name": "stdout",
     "output_type": "stream",
     "text": [
      "Early stopping, best iteration is:\n",
      "[68]\tvalid_0's multi_logloss: 0.252029\n",
      "Training until validation scores don't improve for 20 rounds\n",
      "[10]\tvalid_0's multi_logloss: 1.92336\n"
     ]
    },
    {
     "name": "stderr",
     "output_type": "stream",
     "text": [
      "C:\\Users\\nilarghya\\AppData\\Local\\Temp\\ipykernel_19804\\1114577306.py:14: FutureWarning: suggest_loguniform has been deprecated in v3.0.0. This feature will be removed in v6.0.0. See https://github.com/optuna/optuna/releases/tag/v3.0.0. Use suggest_float(..., log=True) instead.\n",
      "  'learning_rate': trial.suggest_loguniform('learning_rate', 1e-3, 1e-1),\n",
      "C:\\Users\\nilarghya\\AppData\\Local\\Temp\\ipykernel_19804\\1114577306.py:18: FutureWarning: suggest_loguniform has been deprecated in v3.0.0. This feature will be removed in v6.0.0. See https://github.com/optuna/optuna/releases/tag/v3.0.0. Use suggest_float(..., log=True) instead.\n",
      "  'lambda_l1': trial.suggest_loguniform('lambda_l1', 1e-8, 10.0),\n",
      "C:\\Users\\nilarghya\\AppData\\Local\\Temp\\ipykernel_19804\\1114577306.py:19: FutureWarning: suggest_loguniform has been deprecated in v3.0.0. This feature will be removed in v6.0.0. See https://github.com/optuna/optuna/releases/tag/v3.0.0. Use suggest_float(..., log=True) instead.\n",
      "  'lambda_l2': trial.suggest_loguniform('lambda_l2', 1e-8, 10.0),\n",
      "C:\\Users\\nilarghya\\AppData\\Local\\Temp\\ipykernel_19804\\1114577306.py:20: FutureWarning: suggest_uniform has been deprecated in v3.0.0. This feature will be removed in v6.0.0. See https://github.com/optuna/optuna/releases/tag/v3.0.0. Use suggest_float instead.\n",
      "  'feature_fraction': trial.suggest_uniform('feature_fraction', 0.5, 1.0),\n",
      "C:\\Users\\nilarghya\\AppData\\Local\\Temp\\ipykernel_19804\\1114577306.py:21: FutureWarning: suggest_uniform has been deprecated in v3.0.0. This feature will be removed in v6.0.0. See https://github.com/optuna/optuna/releases/tag/v3.0.0. Use suggest_float instead.\n",
      "  'bagging_fraction': trial.suggest_uniform('bagging_fraction', 0.5, 1.0),\n"
     ]
    },
    {
     "name": "stdout",
     "output_type": "stream",
     "text": [
      "[20]\tvalid_0's multi_logloss: 1.66022\n",
      "[30]\tvalid_0's multi_logloss: 1.46092\n",
      "[40]\tvalid_0's multi_logloss: 1.30107\n",
      "[50]\tvalid_0's multi_logloss: 1.17347\n",
      "[60]\tvalid_0's multi_logloss: 1.06661\n",
      "[70]\tvalid_0's multi_logloss: 0.976201\n",
      "[80]\tvalid_0's multi_logloss: 0.897531\n",
      "[90]\tvalid_0's multi_logloss: 0.829487\n",
      "[100]\tvalid_0's multi_logloss: 0.769728\n",
      "[110]\tvalid_0's multi_logloss: 0.715906\n",
      "[120]\tvalid_0's multi_logloss: 0.669617\n",
      "[130]\tvalid_0's multi_logloss: 0.629428\n",
      "[140]\tvalid_0's multi_logloss: 0.593162\n",
      "[150]\tvalid_0's multi_logloss: 0.559823\n",
      "[160]\tvalid_0's multi_logloss: 0.529473\n",
      "[170]\tvalid_0's multi_logloss: 0.502824\n",
      "[180]\tvalid_0's multi_logloss: 0.478369\n",
      "[190]\tvalid_0's multi_logloss: 0.456743\n",
      "[200]\tvalid_0's multi_logloss: 0.43701\n",
      "Did not meet early stopping. Best iteration is:\n",
      "[200]\tvalid_0's multi_logloss: 0.43701\n"
     ]
    },
    {
     "name": "stderr",
     "output_type": "stream",
     "text": [
      "[I 2024-10-05 14:59:59,626] Trial 66 finished with value: 0.09347826086956523 and parameters: {'learning_rate': 0.007510968661671172, 'num_leaves': 100, 'max_depth': 4, 'min_data_in_leaf': 77, 'lambda_l1': 0.0028639404772069954, 'lambda_l2': 0.08252499773531387, 'feature_fraction': 0.6171798427694032, 'bagging_fraction': 0.630588579603031, 'bagging_freq': 4}. Best is trial 5 with value: 0.06521739130434778.\n",
      "C:\\Users\\nilarghya\\AppData\\Local\\Temp\\ipykernel_19804\\1114577306.py:14: FutureWarning: suggest_loguniform has been deprecated in v3.0.0. This feature will be removed in v6.0.0. See https://github.com/optuna/optuna/releases/tag/v3.0.0. Use suggest_float(..., log=True) instead.\n",
      "  'learning_rate': trial.suggest_loguniform('learning_rate', 1e-3, 1e-1),\n",
      "C:\\Users\\nilarghya\\AppData\\Local\\Temp\\ipykernel_19804\\1114577306.py:18: FutureWarning: suggest_loguniform has been deprecated in v3.0.0. This feature will be removed in v6.0.0. See https://github.com/optuna/optuna/releases/tag/v3.0.0. Use suggest_float(..., log=True) instead.\n",
      "  'lambda_l1': trial.suggest_loguniform('lambda_l1', 1e-8, 10.0),\n",
      "C:\\Users\\nilarghya\\AppData\\Local\\Temp\\ipykernel_19804\\1114577306.py:19: FutureWarning: suggest_loguniform has been deprecated in v3.0.0. This feature will be removed in v6.0.0. See https://github.com/optuna/optuna/releases/tag/v3.0.0. Use suggest_float(..., log=True) instead.\n",
      "  'lambda_l2': trial.suggest_loguniform('lambda_l2', 1e-8, 10.0),\n",
      "C:\\Users\\nilarghya\\AppData\\Local\\Temp\\ipykernel_19804\\1114577306.py:20: FutureWarning: suggest_uniform has been deprecated in v3.0.0. This feature will be removed in v6.0.0. See https://github.com/optuna/optuna/releases/tag/v3.0.0. Use suggest_float instead.\n",
      "  'feature_fraction': trial.suggest_uniform('feature_fraction', 0.5, 1.0),\n",
      "C:\\Users\\nilarghya\\AppData\\Local\\Temp\\ipykernel_19804\\1114577306.py:21: FutureWarning: suggest_uniform has been deprecated in v3.0.0. This feature will be removed in v6.0.0. See https://github.com/optuna/optuna/releases/tag/v3.0.0. Use suggest_float instead.\n",
      "  'bagging_fraction': trial.suggest_uniform('bagging_fraction', 0.5, 1.0),\n"
     ]
    },
    {
     "name": "stdout",
     "output_type": "stream",
     "text": [
      "Training until validation scores don't improve for 20 rounds\n",
      "[10]\tvalid_0's multi_logloss: 1.18071\n",
      "[20]\tvalid_0's multi_logloss: 0.781696\n",
      "[30]\tvalid_0's multi_logloss: 0.567036\n",
      "[40]\tvalid_0's multi_logloss: 0.442671\n",
      "[50]\tvalid_0's multi_logloss: 0.365407\n",
      "[60]\tvalid_0's multi_logloss: 0.317739\n",
      "[70]\tvalid_0's multi_logloss: 0.28994\n",
      "[80]\tvalid_0's multi_logloss: 0.274211\n",
      "[90]\tvalid_0's multi_logloss: 0.260494\n",
      "[100]\tvalid_0's multi_logloss: 0.251842\n",
      "[110]\tvalid_0's multi_logloss: 0.247225\n",
      "[120]\tvalid_0's multi_logloss: 0.244832\n",
      "[130]\tvalid_0's multi_logloss: 0.242318\n"
     ]
    },
    {
     "name": "stderr",
     "output_type": "stream",
     "text": [
      "[I 2024-10-05 15:00:00,923] Trial 67 finished with value: 0.06521739130434778 and parameters: {'learning_rate': 0.033973918212447905, 'num_leaves': 133, 'max_depth': 4, 'min_data_in_leaf': 64, 'lambda_l1': 9.729297869422868e-06, 'lambda_l2': 0.014106603725848876, 'feature_fraction': 0.7246713763213419, 'bagging_fraction': 0.6924114179704606, 'bagging_freq': 2}. Best is trial 5 with value: 0.06521739130434778.\n"
     ]
    },
    {
     "name": "stdout",
     "output_type": "stream",
     "text": [
      "[140]\tvalid_0's multi_logloss: 0.244491\n",
      "[150]\tvalid_0's multi_logloss: 0.244775\n",
      "Early stopping, best iteration is:\n",
      "[131]\tvalid_0's multi_logloss: 0.242146\n"
     ]
    },
    {
     "name": "stderr",
     "output_type": "stream",
     "text": [
      "C:\\Users\\nilarghya\\AppData\\Local\\Temp\\ipykernel_19804\\1114577306.py:14: FutureWarning: suggest_loguniform has been deprecated in v3.0.0. This feature will be removed in v6.0.0. See https://github.com/optuna/optuna/releases/tag/v3.0.0. Use suggest_float(..., log=True) instead.\n",
      "  'learning_rate': trial.suggest_loguniform('learning_rate', 1e-3, 1e-1),\n",
      "C:\\Users\\nilarghya\\AppData\\Local\\Temp\\ipykernel_19804\\1114577306.py:18: FutureWarning: suggest_loguniform has been deprecated in v3.0.0. This feature will be removed in v6.0.0. See https://github.com/optuna/optuna/releases/tag/v3.0.0. Use suggest_float(..., log=True) instead.\n",
      "  'lambda_l1': trial.suggest_loguniform('lambda_l1', 1e-8, 10.0),\n",
      "C:\\Users\\nilarghya\\AppData\\Local\\Temp\\ipykernel_19804\\1114577306.py:19: FutureWarning: suggest_loguniform has been deprecated in v3.0.0. This feature will be removed in v6.0.0. See https://github.com/optuna/optuna/releases/tag/v3.0.0. Use suggest_float(..., log=True) instead.\n",
      "  'lambda_l2': trial.suggest_loguniform('lambda_l2', 1e-8, 10.0),\n",
      "C:\\Users\\nilarghya\\AppData\\Local\\Temp\\ipykernel_19804\\1114577306.py:20: FutureWarning: suggest_uniform has been deprecated in v3.0.0. This feature will be removed in v6.0.0. See https://github.com/optuna/optuna/releases/tag/v3.0.0. Use suggest_float instead.\n",
      "  'feature_fraction': trial.suggest_uniform('feature_fraction', 0.5, 1.0),\n",
      "C:\\Users\\nilarghya\\AppData\\Local\\Temp\\ipykernel_19804\\1114577306.py:21: FutureWarning: suggest_uniform has been deprecated in v3.0.0. This feature will be removed in v6.0.0. See https://github.com/optuna/optuna/releases/tag/v3.0.0. Use suggest_float instead.\n",
      "  'bagging_fraction': trial.suggest_uniform('bagging_fraction', 0.5, 1.0),\n"
     ]
    },
    {
     "name": "stdout",
     "output_type": "stream",
     "text": [
      "Training until validation scores don't improve for 20 rounds\n",
      "[10]\tvalid_0's multi_logloss: 0.684343\n",
      "[20]\tvalid_0's multi_logloss: 0.385897\n",
      "[30]\tvalid_0's multi_logloss: 0.286609\n",
      "[40]\tvalid_0's multi_logloss: 0.254299\n",
      "[50]\tvalid_0's multi_logloss: 0.250787\n",
      "[60]\tvalid_0's multi_logloss: 0.249116\n"
     ]
    },
    {
     "name": "stderr",
     "output_type": "stream",
     "text": [
      "[I 2024-10-05 15:00:01,854] Trial 68 finished with value: 0.06956521739130439 and parameters: {'learning_rate': 0.07801993157755656, 'num_leaves': 134, 'max_depth': 11, 'min_data_in_leaf': 70, 'lambda_l1': 5.200998109379017e-07, 'lambda_l2': 0.012734121587200154, 'feature_fraction': 0.7287744886658075, 'bagging_fraction': 0.685276604894841, 'bagging_freq': 2}. Best is trial 5 with value: 0.06521739130434778.\n"
     ]
    },
    {
     "name": "stdout",
     "output_type": "stream",
     "text": [
      "[70]\tvalid_0's multi_logloss: 0.253829\n",
      "Early stopping, best iteration is:\n",
      "[57]\tvalid_0's multi_logloss: 0.248477\n"
     ]
    },
    {
     "name": "stderr",
     "output_type": "stream",
     "text": [
      "C:\\Users\\nilarghya\\AppData\\Local\\Temp\\ipykernel_19804\\1114577306.py:14: FutureWarning: suggest_loguniform has been deprecated in v3.0.0. This feature will be removed in v6.0.0. See https://github.com/optuna/optuna/releases/tag/v3.0.0. Use suggest_float(..., log=True) instead.\n",
      "  'learning_rate': trial.suggest_loguniform('learning_rate', 1e-3, 1e-1),\n",
      "C:\\Users\\nilarghya\\AppData\\Local\\Temp\\ipykernel_19804\\1114577306.py:18: FutureWarning: suggest_loguniform has been deprecated in v3.0.0. This feature will be removed in v6.0.0. See https://github.com/optuna/optuna/releases/tag/v3.0.0. Use suggest_float(..., log=True) instead.\n",
      "  'lambda_l1': trial.suggest_loguniform('lambda_l1', 1e-8, 10.0),\n",
      "C:\\Users\\nilarghya\\AppData\\Local\\Temp\\ipykernel_19804\\1114577306.py:19: FutureWarning: suggest_loguniform has been deprecated in v3.0.0. This feature will be removed in v6.0.0. See https://github.com/optuna/optuna/releases/tag/v3.0.0. Use suggest_float(..., log=True) instead.\n",
      "  'lambda_l2': trial.suggest_loguniform('lambda_l2', 1e-8, 10.0),\n",
      "C:\\Users\\nilarghya\\AppData\\Local\\Temp\\ipykernel_19804\\1114577306.py:20: FutureWarning: suggest_uniform has been deprecated in v3.0.0. This feature will be removed in v6.0.0. See https://github.com/optuna/optuna/releases/tag/v3.0.0. Use suggest_float instead.\n",
      "  'feature_fraction': trial.suggest_uniform('feature_fraction', 0.5, 1.0),\n",
      "C:\\Users\\nilarghya\\AppData\\Local\\Temp\\ipykernel_19804\\1114577306.py:21: FutureWarning: suggest_uniform has been deprecated in v3.0.0. This feature will be removed in v6.0.0. See https://github.com/optuna/optuna/releases/tag/v3.0.0. Use suggest_float instead.\n",
      "  'bagging_fraction': trial.suggest_uniform('bagging_fraction', 0.5, 1.0),\n"
     ]
    },
    {
     "name": "stdout",
     "output_type": "stream",
     "text": [
      "Training until validation scores don't improve for 20 rounds\n",
      "[10]\tvalid_0's multi_logloss: 0.974119\n",
      "[20]\tvalid_0's multi_logloss: 0.595887\n",
      "[30]\tvalid_0's multi_logloss: 0.427637\n",
      "[40]\tvalid_0's multi_logloss: 0.338766\n",
      "[50]\tvalid_0's multi_logloss: 0.293906\n",
      "[60]\tvalid_0's multi_logloss: 0.27439\n",
      "[70]\tvalid_0's multi_logloss: 0.264558\n",
      "[80]\tvalid_0's multi_logloss: 0.260843\n",
      "[90]\tvalid_0's multi_logloss: 0.260977\n",
      "[100]\tvalid_0's multi_logloss: 0.259118\n",
      "[110]\tvalid_0's multi_logloss: 0.258805\n",
      "[120]\tvalid_0's multi_logloss: 0.257478\n"
     ]
    },
    {
     "name": "stderr",
     "output_type": "stream",
     "text": [
      "[I 2024-10-05 15:00:03,109] Trial 69 finished with value: 0.07391304347826089 and parameters: {'learning_rate': 0.048408018480671444, 'num_leaves': 148, 'max_depth': 4, 'min_data_in_leaf': 73, 'lambda_l1': 6.224689095016931e-06, 'lambda_l2': 0.4215835157438176, 'feature_fraction': 0.7678964753576122, 'bagging_fraction': 0.7161749933410736, 'bagging_freq': 2}. Best is trial 5 with value: 0.06521739130434778.\n"
     ]
    },
    {
     "name": "stdout",
     "output_type": "stream",
     "text": [
      "[130]\tvalid_0's multi_logloss: 0.26074\n",
      "Early stopping, best iteration is:\n",
      "[116]\tvalid_0's multi_logloss: 0.256939\n"
     ]
    },
    {
     "name": "stderr",
     "output_type": "stream",
     "text": [
      "C:\\Users\\nilarghya\\AppData\\Local\\Temp\\ipykernel_19804\\1114577306.py:14: FutureWarning: suggest_loguniform has been deprecated in v3.0.0. This feature will be removed in v6.0.0. See https://github.com/optuna/optuna/releases/tag/v3.0.0. Use suggest_float(..., log=True) instead.\n",
      "  'learning_rate': trial.suggest_loguniform('learning_rate', 1e-3, 1e-1),\n",
      "C:\\Users\\nilarghya\\AppData\\Local\\Temp\\ipykernel_19804\\1114577306.py:18: FutureWarning: suggest_loguniform has been deprecated in v3.0.0. This feature will be removed in v6.0.0. See https://github.com/optuna/optuna/releases/tag/v3.0.0. Use suggest_float(..., log=True) instead.\n",
      "  'lambda_l1': trial.suggest_loguniform('lambda_l1', 1e-8, 10.0),\n",
      "C:\\Users\\nilarghya\\AppData\\Local\\Temp\\ipykernel_19804\\1114577306.py:19: FutureWarning: suggest_loguniform has been deprecated in v3.0.0. This feature will be removed in v6.0.0. See https://github.com/optuna/optuna/releases/tag/v3.0.0. Use suggest_float(..., log=True) instead.\n",
      "  'lambda_l2': trial.suggest_loguniform('lambda_l2', 1e-8, 10.0),\n",
      "C:\\Users\\nilarghya\\AppData\\Local\\Temp\\ipykernel_19804\\1114577306.py:20: FutureWarning: suggest_uniform has been deprecated in v3.0.0. This feature will be removed in v6.0.0. See https://github.com/optuna/optuna/releases/tag/v3.0.0. Use suggest_float instead.\n",
      "  'feature_fraction': trial.suggest_uniform('feature_fraction', 0.5, 1.0),\n",
      "C:\\Users\\nilarghya\\AppData\\Local\\Temp\\ipykernel_19804\\1114577306.py:21: FutureWarning: suggest_uniform has been deprecated in v3.0.0. This feature will be removed in v6.0.0. See https://github.com/optuna/optuna/releases/tag/v3.0.0. Use suggest_float instead.\n",
      "  'bagging_fraction': trial.suggest_uniform('bagging_fraction', 0.5, 1.0),\n"
     ]
    },
    {
     "name": "stdout",
     "output_type": "stream",
     "text": [
      "Training until validation scores don't improve for 20 rounds\n",
      "[10]\tvalid_0's multi_logloss: 1.19928\n",
      "[20]\tvalid_0's multi_logloss: 0.792754\n",
      "[30]\tvalid_0's multi_logloss: 0.578808\n",
      "[40]\tvalid_0's multi_logloss: 0.457313\n",
      "[50]\tvalid_0's multi_logloss: 0.38006\n",
      "[60]\tvalid_0's multi_logloss: 0.332849\n",
      "[70]\tvalid_0's multi_logloss: 0.303224\n",
      "[80]\tvalid_0's multi_logloss: 0.286115\n",
      "[90]\tvalid_0's multi_logloss: 0.274404\n",
      "[100]\tvalid_0's multi_logloss: 0.267278\n",
      "[110]\tvalid_0's multi_logloss: 0.26187\n",
      "[120]\tvalid_0's multi_logloss: 0.257754\n",
      "[130]\tvalid_0's multi_logloss: 0.254798\n",
      "[140]\tvalid_0's multi_logloss: 0.25499\n",
      "[150]\tvalid_0's multi_logloss: 0.254385\n",
      "[160]\tvalid_0's multi_logloss: 0.25479\n",
      "[170]\tvalid_0's multi_logloss: 0.255511\n",
      "Early stopping, best iteration is:\n",
      "[154]\tvalid_0's multi_logloss: 0.253991\n"
     ]
    },
    {
     "name": "stderr",
     "output_type": "stream",
     "text": [
      "[I 2024-10-05 15:00:04,246] Trial 70 finished with value: 0.07173913043478264 and parameters: {'learning_rate': 0.03393445419355024, 'num_leaves': 124, 'max_depth': 3, 'min_data_in_leaf': 64, 'lambda_l1': 1.9171247802433483e-06, 'lambda_l2': 0.030777843345912742, 'feature_fraction': 0.6858918837879302, 'bagging_fraction': 0.6988404392144125, 'bagging_freq': 1}. Best is trial 5 with value: 0.06521739130434778.\n",
      "C:\\Users\\nilarghya\\AppData\\Local\\Temp\\ipykernel_19804\\1114577306.py:14: FutureWarning: suggest_loguniform has been deprecated in v3.0.0. This feature will be removed in v6.0.0. See https://github.com/optuna/optuna/releases/tag/v3.0.0. Use suggest_float(..., log=True) instead.\n",
      "  'learning_rate': trial.suggest_loguniform('learning_rate', 1e-3, 1e-1),\n",
      "C:\\Users\\nilarghya\\AppData\\Local\\Temp\\ipykernel_19804\\1114577306.py:18: FutureWarning: suggest_loguniform has been deprecated in v3.0.0. This feature will be removed in v6.0.0. See https://github.com/optuna/optuna/releases/tag/v3.0.0. Use suggest_float(..., log=True) instead.\n",
      "  'lambda_l1': trial.suggest_loguniform('lambda_l1', 1e-8, 10.0),\n",
      "C:\\Users\\nilarghya\\AppData\\Local\\Temp\\ipykernel_19804\\1114577306.py:19: FutureWarning: suggest_loguniform has been deprecated in v3.0.0. This feature will be removed in v6.0.0. See https://github.com/optuna/optuna/releases/tag/v3.0.0. Use suggest_float(..., log=True) instead.\n",
      "  'lambda_l2': trial.suggest_loguniform('lambda_l2', 1e-8, 10.0),\n",
      "C:\\Users\\nilarghya\\AppData\\Local\\Temp\\ipykernel_19804\\1114577306.py:20: FutureWarning: suggest_uniform has been deprecated in v3.0.0. This feature will be removed in v6.0.0. See https://github.com/optuna/optuna/releases/tag/v3.0.0. Use suggest_float instead.\n",
      "  'feature_fraction': trial.suggest_uniform('feature_fraction', 0.5, 1.0),\n",
      "C:\\Users\\nilarghya\\AppData\\Local\\Temp\\ipykernel_19804\\1114577306.py:21: FutureWarning: suggest_uniform has been deprecated in v3.0.0. This feature will be removed in v6.0.0. See https://github.com/optuna/optuna/releases/tag/v3.0.0. Use suggest_float instead.\n",
      "  'bagging_fraction': trial.suggest_uniform('bagging_fraction', 0.5, 1.0),\n"
     ]
    },
    {
     "name": "stdout",
     "output_type": "stream",
     "text": [
      "Training until validation scores don't improve for 20 rounds\n",
      "[10]\tvalid_0's multi_logloss: 1.32384\n",
      "[20]\tvalid_0's multi_logloss: 0.921565\n",
      "[30]\tvalid_0's multi_logloss: 0.693789\n",
      "[40]\tvalid_0's multi_logloss: 0.549652\n",
      "[50]\tvalid_0's multi_logloss: 0.453673\n",
      "[60]\tvalid_0's multi_logloss: 0.385842\n",
      "[70]\tvalid_0's multi_logloss: 0.342118\n",
      "[80]\tvalid_0's multi_logloss: 0.312369\n",
      "[90]\tvalid_0's multi_logloss: 0.290018\n",
      "[100]\tvalid_0's multi_logloss: 0.274532\n",
      "[110]\tvalid_0's multi_logloss: 0.263409\n",
      "[120]\tvalid_0's multi_logloss: 0.256993\n",
      "[130]\tvalid_0's multi_logloss: 0.251424\n",
      "[140]\tvalid_0's multi_logloss: 0.249218\n",
      "[150]\tvalid_0's multi_logloss: 0.249562\n",
      "[160]\tvalid_0's multi_logloss: 0.249104\n",
      "Early stopping, best iteration is:\n",
      "[145]\tvalid_0's multi_logloss: 0.248915\n"
     ]
    },
    {
     "name": "stderr",
     "output_type": "stream",
     "text": [
      "[I 2024-10-05 15:00:05,879] Trial 71 finished with value: 0.07391304347826089 and parameters: {'learning_rate': 0.027110005551144265, 'num_leaves': 115, 'max_depth': 5, 'min_data_in_leaf': 67, 'lambda_l1': 8.289729210815036e-06, 'lambda_l2': 0.00174055582676243, 'feature_fraction': 0.669763821429007, 'bagging_fraction': 0.6482823886952067, 'bagging_freq': 2}. Best is trial 5 with value: 0.06521739130434778.\n",
      "C:\\Users\\nilarghya\\AppData\\Local\\Temp\\ipykernel_19804\\1114577306.py:14: FutureWarning: suggest_loguniform has been deprecated in v3.0.0. This feature will be removed in v6.0.0. See https://github.com/optuna/optuna/releases/tag/v3.0.0. Use suggest_float(..., log=True) instead.\n",
      "  'learning_rate': trial.suggest_loguniform('learning_rate', 1e-3, 1e-1),\n",
      "C:\\Users\\nilarghya\\AppData\\Local\\Temp\\ipykernel_19804\\1114577306.py:18: FutureWarning: suggest_loguniform has been deprecated in v3.0.0. This feature will be removed in v6.0.0. See https://github.com/optuna/optuna/releases/tag/v3.0.0. Use suggest_float(..., log=True) instead.\n",
      "  'lambda_l1': trial.suggest_loguniform('lambda_l1', 1e-8, 10.0),\n",
      "C:\\Users\\nilarghya\\AppData\\Local\\Temp\\ipykernel_19804\\1114577306.py:19: FutureWarning: suggest_loguniform has been deprecated in v3.0.0. This feature will be removed in v6.0.0. See https://github.com/optuna/optuna/releases/tag/v3.0.0. Use suggest_float(..., log=True) instead.\n",
      "  'lambda_l2': trial.suggest_loguniform('lambda_l2', 1e-8, 10.0),\n",
      "C:\\Users\\nilarghya\\AppData\\Local\\Temp\\ipykernel_19804\\1114577306.py:20: FutureWarning: suggest_uniform has been deprecated in v3.0.0. This feature will be removed in v6.0.0. See https://github.com/optuna/optuna/releases/tag/v3.0.0. Use suggest_float instead.\n",
      "  'feature_fraction': trial.suggest_uniform('feature_fraction', 0.5, 1.0),\n",
      "C:\\Users\\nilarghya\\AppData\\Local\\Temp\\ipykernel_19804\\1114577306.py:21: FutureWarning: suggest_uniform has been deprecated in v3.0.0. This feature will be removed in v6.0.0. See https://github.com/optuna/optuna/releases/tag/v3.0.0. Use suggest_float instead.\n",
      "  'bagging_fraction': trial.suggest_uniform('bagging_fraction', 0.5, 1.0),\n"
     ]
    },
    {
     "name": "stdout",
     "output_type": "stream",
     "text": [
      "Training until validation scores don't improve for 20 rounds\n",
      "[10]\tvalid_0's multi_logloss: 0.859018\n",
      "[20]\tvalid_0's multi_logloss: 0.50627\n",
      "[30]\tvalid_0's multi_logloss: 0.363416\n",
      "[40]\tvalid_0's multi_logloss: 0.300542\n",
      "[50]\tvalid_0's multi_logloss: 0.270917\n",
      "[60]\tvalid_0's multi_logloss: 0.259064\n",
      "[70]\tvalid_0's multi_logloss: 0.25444\n",
      "[80]\tvalid_0's multi_logloss: 0.254508\n",
      "[90]\tvalid_0's multi_logloss: 0.258134\n",
      "[100]\tvalid_0's multi_logloss: 0.258163\n",
      "Early stopping, best iteration is:\n",
      "[84]\tvalid_0's multi_logloss: 0.253102\n"
     ]
    },
    {
     "name": "stderr",
     "output_type": "stream",
     "text": [
      "[I 2024-10-05 15:00:06,838] Trial 72 finished with value: 0.07826086956521738 and parameters: {'learning_rate': 0.055874400540013795, 'num_leaves': 226, 'max_depth': 4, 'min_data_in_leaf': 46, 'lambda_l1': 0.0006875616561296892, 'lambda_l2': 0.005306585468468894, 'feature_fraction': 0.8084752216166653, 'bagging_fraction': 0.6075678565849304, 'bagging_freq': 3}. Best is trial 5 with value: 0.06521739130434778.\n",
      "C:\\Users\\nilarghya\\AppData\\Local\\Temp\\ipykernel_19804\\1114577306.py:14: FutureWarning: suggest_loguniform has been deprecated in v3.0.0. This feature will be removed in v6.0.0. See https://github.com/optuna/optuna/releases/tag/v3.0.0. Use suggest_float(..., log=True) instead.\n",
      "  'learning_rate': trial.suggest_loguniform('learning_rate', 1e-3, 1e-1),\n",
      "C:\\Users\\nilarghya\\AppData\\Local\\Temp\\ipykernel_19804\\1114577306.py:18: FutureWarning: suggest_loguniform has been deprecated in v3.0.0. This feature will be removed in v6.0.0. See https://github.com/optuna/optuna/releases/tag/v3.0.0. Use suggest_float(..., log=True) instead.\n",
      "  'lambda_l1': trial.suggest_loguniform('lambda_l1', 1e-8, 10.0),\n",
      "C:\\Users\\nilarghya\\AppData\\Local\\Temp\\ipykernel_19804\\1114577306.py:19: FutureWarning: suggest_loguniform has been deprecated in v3.0.0. This feature will be removed in v6.0.0. See https://github.com/optuna/optuna/releases/tag/v3.0.0. Use suggest_float(..., log=True) instead.\n",
      "  'lambda_l2': trial.suggest_loguniform('lambda_l2', 1e-8, 10.0),\n",
      "C:\\Users\\nilarghya\\AppData\\Local\\Temp\\ipykernel_19804\\1114577306.py:20: FutureWarning: suggest_uniform has been deprecated in v3.0.0. This feature will be removed in v6.0.0. See https://github.com/optuna/optuna/releases/tag/v3.0.0. Use suggest_float instead.\n",
      "  'feature_fraction': trial.suggest_uniform('feature_fraction', 0.5, 1.0),\n",
      "C:\\Users\\nilarghya\\AppData\\Local\\Temp\\ipykernel_19804\\1114577306.py:21: FutureWarning: suggest_uniform has been deprecated in v3.0.0. This feature will be removed in v6.0.0. See https://github.com/optuna/optuna/releases/tag/v3.0.0. Use suggest_float instead.\n",
      "  'bagging_fraction': trial.suggest_uniform('bagging_fraction', 0.5, 1.0),\n"
     ]
    },
    {
     "name": "stdout",
     "output_type": "stream",
     "text": [
      "Training until validation scores don't improve for 20 rounds\n",
      "[10]\tvalid_0's multi_logloss: 1.40123\n",
      "[20]\tvalid_0's multi_logloss: 0.997836\n",
      "[30]\tvalid_0's multi_logloss: 0.761525\n",
      "[40]\tvalid_0's multi_logloss: 0.607468\n",
      "[50]\tvalid_0's multi_logloss: 0.498971\n",
      "[60]\tvalid_0's multi_logloss: 0.424033\n",
      "[70]\tvalid_0's multi_logloss: 0.372787\n",
      "[80]\tvalid_0's multi_logloss: 0.334955\n",
      "[90]\tvalid_0's multi_logloss: 0.307246\n",
      "[100]\tvalid_0's multi_logloss: 0.288145\n",
      "[110]\tvalid_0's multi_logloss: 0.273774\n",
      "[120]\tvalid_0's multi_logloss: 0.261997\n",
      "[130]\tvalid_0's multi_logloss: 0.256011\n",
      "[140]\tvalid_0's multi_logloss: 0.251882\n",
      "[150]\tvalid_0's multi_logloss: 0.250327\n",
      "[160]\tvalid_0's multi_logloss: 0.249014\n",
      "[170]\tvalid_0's multi_logloss: 0.248545\n",
      "[180]\tvalid_0's multi_logloss: 0.248204\n"
     ]
    },
    {
     "name": "stderr",
     "output_type": "stream",
     "text": [
      "[I 2024-10-05 15:00:08,701] Trial 73 finished with value: 0.06956521739130439 and parameters: {'learning_rate': 0.02371457712642145, 'num_leaves': 139, 'max_depth': 6, 'min_data_in_leaf': 61, 'lambda_l1': 4.708696938012757e-05, 'lambda_l2': 0.01128001901731495, 'feature_fraction': 0.6479262190363645, 'bagging_fraction': 0.664256171033482, 'bagging_freq': 2}. Best is trial 5 with value: 0.06521739130434778.\n"
     ]
    },
    {
     "name": "stdout",
     "output_type": "stream",
     "text": [
      "[190]\tvalid_0's multi_logloss: 0.2481\n",
      "Early stopping, best iteration is:\n",
      "[174]\tvalid_0's multi_logloss: 0.24682\n"
     ]
    },
    {
     "name": "stderr",
     "output_type": "stream",
     "text": [
      "C:\\Users\\nilarghya\\AppData\\Local\\Temp\\ipykernel_19804\\1114577306.py:14: FutureWarning: suggest_loguniform has been deprecated in v3.0.0. This feature will be removed in v6.0.0. See https://github.com/optuna/optuna/releases/tag/v3.0.0. Use suggest_float(..., log=True) instead.\n",
      "  'learning_rate': trial.suggest_loguniform('learning_rate', 1e-3, 1e-1),\n",
      "C:\\Users\\nilarghya\\AppData\\Local\\Temp\\ipykernel_19804\\1114577306.py:18: FutureWarning: suggest_loguniform has been deprecated in v3.0.0. This feature will be removed in v6.0.0. See https://github.com/optuna/optuna/releases/tag/v3.0.0. Use suggest_float(..., log=True) instead.\n",
      "  'lambda_l1': trial.suggest_loguniform('lambda_l1', 1e-8, 10.0),\n",
      "C:\\Users\\nilarghya\\AppData\\Local\\Temp\\ipykernel_19804\\1114577306.py:19: FutureWarning: suggest_loguniform has been deprecated in v3.0.0. This feature will be removed in v6.0.0. See https://github.com/optuna/optuna/releases/tag/v3.0.0. Use suggest_float(..., log=True) instead.\n",
      "  'lambda_l2': trial.suggest_loguniform('lambda_l2', 1e-8, 10.0),\n",
      "C:\\Users\\nilarghya\\AppData\\Local\\Temp\\ipykernel_19804\\1114577306.py:20: FutureWarning: suggest_uniform has been deprecated in v3.0.0. This feature will be removed in v6.0.0. See https://github.com/optuna/optuna/releases/tag/v3.0.0. Use suggest_float instead.\n",
      "  'feature_fraction': trial.suggest_uniform('feature_fraction', 0.5, 1.0),\n",
      "C:\\Users\\nilarghya\\AppData\\Local\\Temp\\ipykernel_19804\\1114577306.py:21: FutureWarning: suggest_uniform has been deprecated in v3.0.0. This feature will be removed in v6.0.0. See https://github.com/optuna/optuna/releases/tag/v3.0.0. Use suggest_float instead.\n",
      "  'bagging_fraction': trial.suggest_uniform('bagging_fraction', 0.5, 1.0),\n"
     ]
    },
    {
     "name": "stdout",
     "output_type": "stream",
     "text": [
      "Training until validation scores don't improve for 20 rounds\n",
      "[10]\tvalid_0's multi_logloss: 1.02841\n",
      "[20]\tvalid_0's multi_logloss: 0.644164\n",
      "[30]\tvalid_0's multi_logloss: 0.46758\n",
      "[40]\tvalid_0's multi_logloss: 0.371583\n",
      "[50]\tvalid_0's multi_logloss: 0.321636\n",
      "[60]\tvalid_0's multi_logloss: 0.291536\n",
      "[70]\tvalid_0's multi_logloss: 0.274872\n",
      "[80]\tvalid_0's multi_logloss: 0.264346\n",
      "[90]\tvalid_0's multi_logloss: 0.258371\n"
     ]
    },
    {
     "name": "stderr",
     "output_type": "stream",
     "text": [
      "[I 2024-10-05 15:00:09,431] Trial 74 finished with value: 0.07173913043478264 and parameters: {'learning_rate': 0.043526704865849336, 'num_leaves': 177, 'max_depth': 3, 'min_data_in_leaf': 53, 'lambda_l1': 0.001892424827502309, 'lambda_l2': 0.0929323680179435, 'feature_fraction': 0.5742634074797364, 'bagging_fraction': 0.7290262109457054, 'bagging_freq': 3}. Best is trial 5 with value: 0.06521739130434778.\n"
     ]
    },
    {
     "name": "stdout",
     "output_type": "stream",
     "text": [
      "[100]\tvalid_0's multi_logloss: 0.256082\n",
      "[110]\tvalid_0's multi_logloss: 0.258551\n",
      "Early stopping, best iteration is:\n",
      "[98]\tvalid_0's multi_logloss: 0.255729\n"
     ]
    },
    {
     "name": "stderr",
     "output_type": "stream",
     "text": [
      "C:\\Users\\nilarghya\\AppData\\Local\\Temp\\ipykernel_19804\\1114577306.py:14: FutureWarning: suggest_loguniform has been deprecated in v3.0.0. This feature will be removed in v6.0.0. See https://github.com/optuna/optuna/releases/tag/v3.0.0. Use suggest_float(..., log=True) instead.\n",
      "  'learning_rate': trial.suggest_loguniform('learning_rate', 1e-3, 1e-1),\n",
      "C:\\Users\\nilarghya\\AppData\\Local\\Temp\\ipykernel_19804\\1114577306.py:18: FutureWarning: suggest_loguniform has been deprecated in v3.0.0. This feature will be removed in v6.0.0. See https://github.com/optuna/optuna/releases/tag/v3.0.0. Use suggest_float(..., log=True) instead.\n",
      "  'lambda_l1': trial.suggest_loguniform('lambda_l1', 1e-8, 10.0),\n",
      "C:\\Users\\nilarghya\\AppData\\Local\\Temp\\ipykernel_19804\\1114577306.py:19: FutureWarning: suggest_loguniform has been deprecated in v3.0.0. This feature will be removed in v6.0.0. See https://github.com/optuna/optuna/releases/tag/v3.0.0. Use suggest_float(..., log=True) instead.\n",
      "  'lambda_l2': trial.suggest_loguniform('lambda_l2', 1e-8, 10.0),\n",
      "C:\\Users\\nilarghya\\AppData\\Local\\Temp\\ipykernel_19804\\1114577306.py:20: FutureWarning: suggest_uniform has been deprecated in v3.0.0. This feature will be removed in v6.0.0. See https://github.com/optuna/optuna/releases/tag/v3.0.0. Use suggest_float instead.\n",
      "  'feature_fraction': trial.suggest_uniform('feature_fraction', 0.5, 1.0),\n",
      "C:\\Users\\nilarghya\\AppData\\Local\\Temp\\ipykernel_19804\\1114577306.py:21: FutureWarning: suggest_uniform has been deprecated in v3.0.0. This feature will be removed in v6.0.0. See https://github.com/optuna/optuna/releases/tag/v3.0.0. Use suggest_float instead.\n",
      "  'bagging_fraction': trial.suggest_uniform('bagging_fraction', 0.5, 1.0),\n"
     ]
    },
    {
     "name": "stdout",
     "output_type": "stream",
     "text": [
      "Training until validation scores don't improve for 20 rounds\n",
      "[10]\tvalid_0's multi_logloss: 1.74469\n",
      "[20]\tvalid_0's multi_logloss: 1.40906\n",
      "[30]\tvalid_0's multi_logloss: 1.18011\n",
      "[40]\tvalid_0's multi_logloss: 1.00624\n",
      "[50]\tvalid_0's multi_logloss: 0.872209\n",
      "[60]\tvalid_0's multi_logloss: 0.765833\n",
      "[70]\tvalid_0's multi_logloss: 0.679386\n",
      "[80]\tvalid_0's multi_logloss: 0.607716\n",
      "[90]\tvalid_0's multi_logloss: 0.548709\n",
      "[100]\tvalid_0's multi_logloss: 0.5002\n",
      "[110]\tvalid_0's multi_logloss: 0.459056\n",
      "[120]\tvalid_0's multi_logloss: 0.42374\n",
      "[130]\tvalid_0's multi_logloss: 0.39307\n",
      "[140]\tvalid_0's multi_logloss: 0.366927\n",
      "[150]\tvalid_0's multi_logloss: 0.346051\n",
      "[160]\tvalid_0's multi_logloss: 0.327333\n",
      "[170]\tvalid_0's multi_logloss: 0.312583\n",
      "[180]\tvalid_0's multi_logloss: 0.300885\n",
      "[190]\tvalid_0's multi_logloss: 0.29059\n"
     ]
    },
    {
     "name": "stderr",
     "output_type": "stream",
     "text": [
      "[I 2024-10-05 15:00:11,365] Trial 75 finished with value: 0.06956521739130439 and parameters: {'learning_rate': 0.012119637519361752, 'num_leaves': 110, 'max_depth': 9, 'min_data_in_leaf': 79, 'lambda_l1': 0.0050911109528543426, 'lambda_l2': 0.025234566854917897, 'feature_fraction': 0.8453657753227197, 'bagging_fraction': 0.7515022822069896, 'bagging_freq': 5}. Best is trial 5 with value: 0.06521739130434778.\n"
     ]
    },
    {
     "name": "stdout",
     "output_type": "stream",
     "text": [
      "[200]\tvalid_0's multi_logloss: 0.280869\n",
      "Did not meet early stopping. Best iteration is:\n",
      "[200]\tvalid_0's multi_logloss: 0.280869\n"
     ]
    },
    {
     "name": "stderr",
     "output_type": "stream",
     "text": [
      "C:\\Users\\nilarghya\\AppData\\Local\\Temp\\ipykernel_19804\\1114577306.py:14: FutureWarning: suggest_loguniform has been deprecated in v3.0.0. This feature will be removed in v6.0.0. See https://github.com/optuna/optuna/releases/tag/v3.0.0. Use suggest_float(..., log=True) instead.\n",
      "  'learning_rate': trial.suggest_loguniform('learning_rate', 1e-3, 1e-1),\n",
      "C:\\Users\\nilarghya\\AppData\\Local\\Temp\\ipykernel_19804\\1114577306.py:18: FutureWarning: suggest_loguniform has been deprecated in v3.0.0. This feature will be removed in v6.0.0. See https://github.com/optuna/optuna/releases/tag/v3.0.0. Use suggest_float(..., log=True) instead.\n",
      "  'lambda_l1': trial.suggest_loguniform('lambda_l1', 1e-8, 10.0),\n",
      "C:\\Users\\nilarghya\\AppData\\Local\\Temp\\ipykernel_19804\\1114577306.py:19: FutureWarning: suggest_loguniform has been deprecated in v3.0.0. This feature will be removed in v6.0.0. See https://github.com/optuna/optuna/releases/tag/v3.0.0. Use suggest_float(..., log=True) instead.\n",
      "  'lambda_l2': trial.suggest_loguniform('lambda_l2', 1e-8, 10.0),\n",
      "C:\\Users\\nilarghya\\AppData\\Local\\Temp\\ipykernel_19804\\1114577306.py:20: FutureWarning: suggest_uniform has been deprecated in v3.0.0. This feature will be removed in v6.0.0. See https://github.com/optuna/optuna/releases/tag/v3.0.0. Use suggest_float instead.\n",
      "  'feature_fraction': trial.suggest_uniform('feature_fraction', 0.5, 1.0),\n",
      "C:\\Users\\nilarghya\\AppData\\Local\\Temp\\ipykernel_19804\\1114577306.py:21: FutureWarning: suggest_uniform has been deprecated in v3.0.0. This feature will be removed in v6.0.0. See https://github.com/optuna/optuna/releases/tag/v3.0.0. Use suggest_float instead.\n",
      "  'bagging_fraction': trial.suggest_uniform('bagging_fraction', 0.5, 1.0),\n"
     ]
    },
    {
     "name": "stdout",
     "output_type": "stream",
     "text": [
      "Training until validation scores don't improve for 20 rounds\n",
      "[10]\tvalid_0's multi_logloss: 1.25127\n",
      "[20]\tvalid_0's multi_logloss: 0.84392\n",
      "[30]\tvalid_0's multi_logloss: 0.626718\n",
      "[40]\tvalid_0's multi_logloss: 0.493894\n",
      "[50]\tvalid_0's multi_logloss: 0.410717\n",
      "[60]\tvalid_0's multi_logloss: 0.357848\n",
      "[70]\tvalid_0's multi_logloss: 0.321188\n",
      "[80]\tvalid_0's multi_logloss: 0.296689\n",
      "[90]\tvalid_0's multi_logloss: 0.278143\n",
      "[100]\tvalid_0's multi_logloss: 0.264485\n",
      "[110]\tvalid_0's multi_logloss: 0.257728\n",
      "[120]\tvalid_0's multi_logloss: 0.255874\n",
      "[130]\tvalid_0's multi_logloss: 0.249354\n",
      "[140]\tvalid_0's multi_logloss: 0.248375\n",
      "[150]\tvalid_0's multi_logloss: 0.248388\n",
      "Early stopping, best iteration is:\n",
      "[135]\tvalid_0's multi_logloss: 0.246973\n"
     ]
    },
    {
     "name": "stderr",
     "output_type": "stream",
     "text": [
      "[I 2024-10-05 15:00:12,781] Trial 76 finished with value: 0.07173913043478264 and parameters: {'learning_rate': 0.0302321935114303, 'num_leaves': 198, 'max_depth': 4, 'min_data_in_leaf': 59, 'lambda_l1': 0.0003430885897726126, 'lambda_l2': 0.0024359528760037434, 'feature_fraction': 0.8653011658519871, 'bagging_fraction': 0.6228976532574926, 'bagging_freq': 4}. Best is trial 5 with value: 0.06521739130434778.\n",
      "C:\\Users\\nilarghya\\AppData\\Local\\Temp\\ipykernel_19804\\1114577306.py:14: FutureWarning: suggest_loguniform has been deprecated in v3.0.0. This feature will be removed in v6.0.0. See https://github.com/optuna/optuna/releases/tag/v3.0.0. Use suggest_float(..., log=True) instead.\n",
      "  'learning_rate': trial.suggest_loguniform('learning_rate', 1e-3, 1e-1),\n",
      "C:\\Users\\nilarghya\\AppData\\Local\\Temp\\ipykernel_19804\\1114577306.py:18: FutureWarning: suggest_loguniform has been deprecated in v3.0.0. This feature will be removed in v6.0.0. See https://github.com/optuna/optuna/releases/tag/v3.0.0. Use suggest_float(..., log=True) instead.\n",
      "  'lambda_l1': trial.suggest_loguniform('lambda_l1', 1e-8, 10.0),\n",
      "C:\\Users\\nilarghya\\AppData\\Local\\Temp\\ipykernel_19804\\1114577306.py:19: FutureWarning: suggest_loguniform has been deprecated in v3.0.0. This feature will be removed in v6.0.0. See https://github.com/optuna/optuna/releases/tag/v3.0.0. Use suggest_float(..., log=True) instead.\n",
      "  'lambda_l2': trial.suggest_loguniform('lambda_l2', 1e-8, 10.0),\n",
      "C:\\Users\\nilarghya\\AppData\\Local\\Temp\\ipykernel_19804\\1114577306.py:20: FutureWarning: suggest_uniform has been deprecated in v3.0.0. This feature will be removed in v6.0.0. See https://github.com/optuna/optuna/releases/tag/v3.0.0. Use suggest_float instead.\n",
      "  'feature_fraction': trial.suggest_uniform('feature_fraction', 0.5, 1.0),\n",
      "C:\\Users\\nilarghya\\AppData\\Local\\Temp\\ipykernel_19804\\1114577306.py:21: FutureWarning: suggest_uniform has been deprecated in v3.0.0. This feature will be removed in v6.0.0. See https://github.com/optuna/optuna/releases/tag/v3.0.0. Use suggest_float instead.\n",
      "  'bagging_fraction': trial.suggest_uniform('bagging_fraction', 0.5, 1.0),\n"
     ]
    },
    {
     "name": "stdout",
     "output_type": "stream",
     "text": [
      "Training until validation scores don't improve for 20 rounds\n",
      "[10]\tvalid_0's multi_logloss: 1.55306\n",
      "[20]\tvalid_0's multi_logloss: 1.17367\n",
      "[30]\tvalid_0's multi_logloss: 0.935341\n",
      "[40]\tvalid_0's multi_logloss: 0.769922\n",
      "[50]\tvalid_0's multi_logloss: 0.649398\n",
      "[60]\tvalid_0's multi_logloss: 0.555763\n",
      "[70]\tvalid_0's multi_logloss: 0.48733\n",
      "[80]\tvalid_0's multi_logloss: 0.432913\n",
      "[90]\tvalid_0's multi_logloss: 0.391547\n",
      "[100]\tvalid_0's multi_logloss: 0.357483\n",
      "[110]\tvalid_0's multi_logloss: 0.330787\n",
      "[120]\tvalid_0's multi_logloss: 0.311647\n",
      "[130]\tvalid_0's multi_logloss: 0.294885\n",
      "[140]\tvalid_0's multi_logloss: 0.283071\n",
      "[150]\tvalid_0's multi_logloss: 0.274502\n",
      "[160]\tvalid_0's multi_logloss: 0.268521\n",
      "[170]\tvalid_0's multi_logloss: 0.262451\n",
      "[180]\tvalid_0's multi_logloss: 0.257644\n",
      "[190]\tvalid_0's multi_logloss: 0.252958\n",
      "[200]\tvalid_0's multi_logloss: 0.251615\n",
      "Did not meet early stopping. Best iteration is:\n",
      "[200]\tvalid_0's multi_logloss: 0.251615\n"
     ]
    },
    {
     "name": "stderr",
     "output_type": "stream",
     "text": [
      "[I 2024-10-05 15:00:14,631] Trial 77 finished with value: 0.06956521739130439 and parameters: {'learning_rate': 0.018035883558932368, 'num_leaves': 154, 'max_depth': 15, 'min_data_in_leaf': 83, 'lambda_l1': 0.010601908471221028, 'lambda_l2': 2.0438483392686576e-06, 'feature_fraction': 0.6308424232494287, 'bagging_fraction': 0.7874587202783898, 'bagging_freq': 2}. Best is trial 5 with value: 0.06521739130434778.\n",
      "C:\\Users\\nilarghya\\AppData\\Local\\Temp\\ipykernel_19804\\1114577306.py:14: FutureWarning: suggest_loguniform has been deprecated in v3.0.0. This feature will be removed in v6.0.0. See https://github.com/optuna/optuna/releases/tag/v3.0.0. Use suggest_float(..., log=True) instead.\n",
      "  'learning_rate': trial.suggest_loguniform('learning_rate', 1e-3, 1e-1),\n",
      "C:\\Users\\nilarghya\\AppData\\Local\\Temp\\ipykernel_19804\\1114577306.py:18: FutureWarning: suggest_loguniform has been deprecated in v3.0.0. This feature will be removed in v6.0.0. See https://github.com/optuna/optuna/releases/tag/v3.0.0. Use suggest_float(..., log=True) instead.\n",
      "  'lambda_l1': trial.suggest_loguniform('lambda_l1', 1e-8, 10.0),\n",
      "C:\\Users\\nilarghya\\AppData\\Local\\Temp\\ipykernel_19804\\1114577306.py:19: FutureWarning: suggest_loguniform has been deprecated in v3.0.0. This feature will be removed in v6.0.0. See https://github.com/optuna/optuna/releases/tag/v3.0.0. Use suggest_float(..., log=True) instead.\n",
      "  'lambda_l2': trial.suggest_loguniform('lambda_l2', 1e-8, 10.0),\n",
      "C:\\Users\\nilarghya\\AppData\\Local\\Temp\\ipykernel_19804\\1114577306.py:20: FutureWarning: suggest_uniform has been deprecated in v3.0.0. This feature will be removed in v6.0.0. See https://github.com/optuna/optuna/releases/tag/v3.0.0. Use suggest_float instead.\n",
      "  'feature_fraction': trial.suggest_uniform('feature_fraction', 0.5, 1.0),\n",
      "C:\\Users\\nilarghya\\AppData\\Local\\Temp\\ipykernel_19804\\1114577306.py:21: FutureWarning: suggest_uniform has been deprecated in v3.0.0. This feature will be removed in v6.0.0. See https://github.com/optuna/optuna/releases/tag/v3.0.0. Use suggest_float instead.\n",
      "  'bagging_fraction': trial.suggest_uniform('bagging_fraction', 0.5, 1.0),\n"
     ]
    },
    {
     "name": "stdout",
     "output_type": "stream",
     "text": [
      "Training until validation scores don't improve for 20 rounds\n",
      "[10]\tvalid_0's multi_logloss: 0.616314\n",
      "[20]\tvalid_0's multi_logloss: 0.355495\n",
      "[30]\tvalid_0's multi_logloss: 0.281662\n",
      "[40]\tvalid_0's multi_logloss: 0.26039\n",
      "[50]\tvalid_0's multi_logloss: 0.258549\n"
     ]
    },
    {
     "name": "stderr",
     "output_type": "stream",
     "text": [
      "[I 2024-10-05 15:00:15,273] Trial 78 finished with value: 0.07391304347826089 and parameters: {'learning_rate': 0.08753612012914423, 'num_leaves': 165, 'max_depth': 8, 'min_data_in_leaf': 65, 'lambda_l1': 0.00015391061266196526, 'lambda_l2': 0.005197769406166147, 'feature_fraction': 0.6058278393720958, 'bagging_fraction': 0.6757747883839945, 'bagging_freq': 1}. Best is trial 5 with value: 0.06521739130434778.\n"
     ]
    },
    {
     "name": "stdout",
     "output_type": "stream",
     "text": [
      "[60]\tvalid_0's multi_logloss: 0.258572\n",
      "Early stopping, best iteration is:\n",
      "[46]\tvalid_0's multi_logloss: 0.256261\n",
      "Training until validation scores don't improve for 20 rounds\n"
     ]
    },
    {
     "name": "stderr",
     "output_type": "stream",
     "text": [
      "C:\\Users\\nilarghya\\AppData\\Local\\Temp\\ipykernel_19804\\1114577306.py:14: FutureWarning: suggest_loguniform has been deprecated in v3.0.0. This feature will be removed in v6.0.0. See https://github.com/optuna/optuna/releases/tag/v3.0.0. Use suggest_float(..., log=True) instead.\n",
      "  'learning_rate': trial.suggest_loguniform('learning_rate', 1e-3, 1e-1),\n",
      "C:\\Users\\nilarghya\\AppData\\Local\\Temp\\ipykernel_19804\\1114577306.py:18: FutureWarning: suggest_loguniform has been deprecated in v3.0.0. This feature will be removed in v6.0.0. See https://github.com/optuna/optuna/releases/tag/v3.0.0. Use suggest_float(..., log=True) instead.\n",
      "  'lambda_l1': trial.suggest_loguniform('lambda_l1', 1e-8, 10.0),\n",
      "C:\\Users\\nilarghya\\AppData\\Local\\Temp\\ipykernel_19804\\1114577306.py:19: FutureWarning: suggest_loguniform has been deprecated in v3.0.0. This feature will be removed in v6.0.0. See https://github.com/optuna/optuna/releases/tag/v3.0.0. Use suggest_float(..., log=True) instead.\n",
      "  'lambda_l2': trial.suggest_loguniform('lambda_l2', 1e-8, 10.0),\n",
      "C:\\Users\\nilarghya\\AppData\\Local\\Temp\\ipykernel_19804\\1114577306.py:20: FutureWarning: suggest_uniform has been deprecated in v3.0.0. This feature will be removed in v6.0.0. See https://github.com/optuna/optuna/releases/tag/v3.0.0. Use suggest_float instead.\n",
      "  'feature_fraction': trial.suggest_uniform('feature_fraction', 0.5, 1.0),\n",
      "C:\\Users\\nilarghya\\AppData\\Local\\Temp\\ipykernel_19804\\1114577306.py:21: FutureWarning: suggest_uniform has been deprecated in v3.0.0. This feature will be removed in v6.0.0. See https://github.com/optuna/optuna/releases/tag/v3.0.0. Use suggest_float instead.\n",
      "  'bagging_fraction': trial.suggest_uniform('bagging_fraction', 0.5, 1.0),\n"
     ]
    },
    {
     "name": "stdout",
     "output_type": "stream",
     "text": [
      "[10]\tvalid_0's multi_logloss: 1.18548\n",
      "[20]\tvalid_0's multi_logloss: 0.79038\n",
      "[30]\tvalid_0's multi_logloss: 0.586791\n",
      "[40]\tvalid_0's multi_logloss: 0.463319\n",
      "[50]\tvalid_0's multi_logloss: 0.387318\n",
      "[60]\tvalid_0's multi_logloss: 0.334439\n",
      "[70]\tvalid_0's multi_logloss: 0.303868\n",
      "[80]\tvalid_0's multi_logloss: 0.28581\n",
      "[90]\tvalid_0's multi_logloss: 0.274606\n",
      "[100]\tvalid_0's multi_logloss: 0.265551\n",
      "[110]\tvalid_0's multi_logloss: 0.262619\n",
      "[120]\tvalid_0's multi_logloss: 0.259925\n",
      "[130]\tvalid_0's multi_logloss: 0.257388\n",
      "[140]\tvalid_0's multi_logloss: 0.254402\n"
     ]
    },
    {
     "name": "stderr",
     "output_type": "stream",
     "text": [
      "[I 2024-10-05 15:00:16,247] Trial 79 finished with value: 0.07391304347826089 and parameters: {'learning_rate': 0.03759230268263812, 'num_leaves': 204, 'max_depth': 5, 'min_data_in_leaf': 88, 'lambda_l1': 0.08020832232670903, 'lambda_l2': 0.0002653439584648452, 'feature_fraction': 0.5631775344175369, 'bagging_fraction': 0.5282438996291561, 'bagging_freq': 3}. Best is trial 5 with value: 0.06521739130434778.\n"
     ]
    },
    {
     "name": "stdout",
     "output_type": "stream",
     "text": [
      "[150]\tvalid_0's multi_logloss: 0.256036\n",
      "Early stopping, best iteration is:\n",
      "[136]\tvalid_0's multi_logloss: 0.253702\n"
     ]
    },
    {
     "name": "stderr",
     "output_type": "stream",
     "text": [
      "C:\\Users\\nilarghya\\AppData\\Local\\Temp\\ipykernel_19804\\1114577306.py:14: FutureWarning: suggest_loguniform has been deprecated in v3.0.0. This feature will be removed in v6.0.0. See https://github.com/optuna/optuna/releases/tag/v3.0.0. Use suggest_float(..., log=True) instead.\n",
      "  'learning_rate': trial.suggest_loguniform('learning_rate', 1e-3, 1e-1),\n",
      "C:\\Users\\nilarghya\\AppData\\Local\\Temp\\ipykernel_19804\\1114577306.py:18: FutureWarning: suggest_loguniform has been deprecated in v3.0.0. This feature will be removed in v6.0.0. See https://github.com/optuna/optuna/releases/tag/v3.0.0. Use suggest_float(..., log=True) instead.\n",
      "  'lambda_l1': trial.suggest_loguniform('lambda_l1', 1e-8, 10.0),\n",
      "C:\\Users\\nilarghya\\AppData\\Local\\Temp\\ipykernel_19804\\1114577306.py:19: FutureWarning: suggest_loguniform has been deprecated in v3.0.0. This feature will be removed in v6.0.0. See https://github.com/optuna/optuna/releases/tag/v3.0.0. Use suggest_float(..., log=True) instead.\n",
      "  'lambda_l2': trial.suggest_loguniform('lambda_l2', 1e-8, 10.0),\n",
      "C:\\Users\\nilarghya\\AppData\\Local\\Temp\\ipykernel_19804\\1114577306.py:20: FutureWarning: suggest_uniform has been deprecated in v3.0.0. This feature will be removed in v6.0.0. See https://github.com/optuna/optuna/releases/tag/v3.0.0. Use suggest_float instead.\n",
      "  'feature_fraction': trial.suggest_uniform('feature_fraction', 0.5, 1.0),\n",
      "C:\\Users\\nilarghya\\AppData\\Local\\Temp\\ipykernel_19804\\1114577306.py:21: FutureWarning: suggest_uniform has been deprecated in v3.0.0. This feature will be removed in v6.0.0. See https://github.com/optuna/optuna/releases/tag/v3.0.0. Use suggest_float instead.\n",
      "  'bagging_fraction': trial.suggest_uniform('bagging_fraction', 0.5, 1.0),\n"
     ]
    },
    {
     "name": "stdout",
     "output_type": "stream",
     "text": [
      "Training until validation scores don't improve for 20 rounds\n",
      "[10]\tvalid_0's multi_logloss: 0.806145\n",
      "[20]\tvalid_0's multi_logloss: 0.477066\n",
      "[30]\tvalid_0's multi_logloss: 0.346119\n",
      "[40]\tvalid_0's multi_logloss: 0.29604\n",
      "[50]\tvalid_0's multi_logloss: 0.271687\n",
      "[60]\tvalid_0's multi_logloss: 0.261658\n",
      "[70]\tvalid_0's multi_logloss: 0.256905\n",
      "[80]\tvalid_0's multi_logloss: 0.252213\n",
      "[90]\tvalid_0's multi_logloss: 0.254823\n",
      "[100]\tvalid_0's multi_logloss: 0.254446\n",
      "Early stopping, best iteration is:\n",
      "[84]\tvalid_0's multi_logloss: 0.251102\n"
     ]
    },
    {
     "name": "stderr",
     "output_type": "stream",
     "text": [
      "[I 2024-10-05 15:00:17,170] Trial 80 finished with value: 0.06739130434782614 and parameters: {'learning_rate': 0.06507644751411017, 'num_leaves': 247, 'max_depth': 3, 'min_data_in_leaf': 76, 'lambda_l1': 3.057621359877354e-06, 'lambda_l2': 1.9153818059027907e-07, 'feature_fraction': 0.5413242508066253, 'bagging_fraction': 0.8665681141287623, 'bagging_freq': 7}. Best is trial 5 with value: 0.06521739130434778.\n",
      "C:\\Users\\nilarghya\\AppData\\Local\\Temp\\ipykernel_19804\\1114577306.py:14: FutureWarning: suggest_loguniform has been deprecated in v3.0.0. This feature will be removed in v6.0.0. See https://github.com/optuna/optuna/releases/tag/v3.0.0. Use suggest_float(..., log=True) instead.\n",
      "  'learning_rate': trial.suggest_loguniform('learning_rate', 1e-3, 1e-1),\n",
      "C:\\Users\\nilarghya\\AppData\\Local\\Temp\\ipykernel_19804\\1114577306.py:18: FutureWarning: suggest_loguniform has been deprecated in v3.0.0. This feature will be removed in v6.0.0. See https://github.com/optuna/optuna/releases/tag/v3.0.0. Use suggest_float(..., log=True) instead.\n",
      "  'lambda_l1': trial.suggest_loguniform('lambda_l1', 1e-8, 10.0),\n",
      "C:\\Users\\nilarghya\\AppData\\Local\\Temp\\ipykernel_19804\\1114577306.py:19: FutureWarning: suggest_loguniform has been deprecated in v3.0.0. This feature will be removed in v6.0.0. See https://github.com/optuna/optuna/releases/tag/v3.0.0. Use suggest_float(..., log=True) instead.\n",
      "  'lambda_l2': trial.suggest_loguniform('lambda_l2', 1e-8, 10.0),\n",
      "C:\\Users\\nilarghya\\AppData\\Local\\Temp\\ipykernel_19804\\1114577306.py:20: FutureWarning: suggest_uniform has been deprecated in v3.0.0. This feature will be removed in v6.0.0. See https://github.com/optuna/optuna/releases/tag/v3.0.0. Use suggest_float instead.\n",
      "  'feature_fraction': trial.suggest_uniform('feature_fraction', 0.5, 1.0),\n",
      "C:\\Users\\nilarghya\\AppData\\Local\\Temp\\ipykernel_19804\\1114577306.py:21: FutureWarning: suggest_uniform has been deprecated in v3.0.0. This feature will be removed in v6.0.0. See https://github.com/optuna/optuna/releases/tag/v3.0.0. Use suggest_float instead.\n",
      "  'bagging_fraction': trial.suggest_uniform('bagging_fraction', 0.5, 1.0),\n"
     ]
    },
    {
     "name": "stdout",
     "output_type": "stream",
     "text": [
      "Training until validation scores don't improve for 20 rounds\n",
      "[10]\tvalid_0's multi_logloss: 0.764432\n",
      "[20]\tvalid_0's multi_logloss: 0.448003\n",
      "[30]\tvalid_0's multi_logloss: 0.329385\n",
      "[40]\tvalid_0's multi_logloss: 0.28163\n",
      "[50]\tvalid_0's multi_logloss: 0.260562\n",
      "[60]\tvalid_0's multi_logloss: 0.253834\n",
      "[70]\tvalid_0's multi_logloss: 0.253188\n",
      "[80]\tvalid_0's multi_logloss: 0.250576\n"
     ]
    },
    {
     "name": "stderr",
     "output_type": "stream",
     "text": [
      "[I 2024-10-05 15:00:17,926] Trial 81 finished with value: 0.07391304347826089 and parameters: {'learning_rate': 0.0693326031892292, 'num_leaves': 248, 'max_depth': 3, 'min_data_in_leaf': 76, 'lambda_l1': 1.3737979872255095e-06, 'lambda_l2': 4.770995560369972e-08, 'feature_fraction': 0.5432566467749731, 'bagging_fraction': 0.935835075539442, 'bagging_freq': 7}. Best is trial 5 with value: 0.06521739130434778.\n"
     ]
    },
    {
     "name": "stdout",
     "output_type": "stream",
     "text": [
      "[90]\tvalid_0's multi_logloss: 0.255021\n",
      "[100]\tvalid_0's multi_logloss: 0.259625\n",
      "Early stopping, best iteration is:\n",
      "[82]\tvalid_0's multi_logloss: 0.250224\n"
     ]
    },
    {
     "name": "stderr",
     "output_type": "stream",
     "text": [
      "C:\\Users\\nilarghya\\AppData\\Local\\Temp\\ipykernel_19804\\1114577306.py:14: FutureWarning: suggest_loguniform has been deprecated in v3.0.0. This feature will be removed in v6.0.0. See https://github.com/optuna/optuna/releases/tag/v3.0.0. Use suggest_float(..., log=True) instead.\n",
      "  'learning_rate': trial.suggest_loguniform('learning_rate', 1e-3, 1e-1),\n",
      "C:\\Users\\nilarghya\\AppData\\Local\\Temp\\ipykernel_19804\\1114577306.py:18: FutureWarning: suggest_loguniform has been deprecated in v3.0.0. This feature will be removed in v6.0.0. See https://github.com/optuna/optuna/releases/tag/v3.0.0. Use suggest_float(..., log=True) instead.\n",
      "  'lambda_l1': trial.suggest_loguniform('lambda_l1', 1e-8, 10.0),\n",
      "C:\\Users\\nilarghya\\AppData\\Local\\Temp\\ipykernel_19804\\1114577306.py:19: FutureWarning: suggest_loguniform has been deprecated in v3.0.0. This feature will be removed in v6.0.0. See https://github.com/optuna/optuna/releases/tag/v3.0.0. Use suggest_float(..., log=True) instead.\n",
      "  'lambda_l2': trial.suggest_loguniform('lambda_l2', 1e-8, 10.0),\n",
      "C:\\Users\\nilarghya\\AppData\\Local\\Temp\\ipykernel_19804\\1114577306.py:20: FutureWarning: suggest_uniform has been deprecated in v3.0.0. This feature will be removed in v6.0.0. See https://github.com/optuna/optuna/releases/tag/v3.0.0. Use suggest_float instead.\n",
      "  'feature_fraction': trial.suggest_uniform('feature_fraction', 0.5, 1.0),\n",
      "C:\\Users\\nilarghya\\AppData\\Local\\Temp\\ipykernel_19804\\1114577306.py:21: FutureWarning: suggest_uniform has been deprecated in v3.0.0. This feature will be removed in v6.0.0. See https://github.com/optuna/optuna/releases/tag/v3.0.0. Use suggest_float instead.\n",
      "  'bagging_fraction': trial.suggest_uniform('bagging_fraction', 0.5, 1.0),\n"
     ]
    },
    {
     "name": "stdout",
     "output_type": "stream",
     "text": [
      "Training until validation scores don't improve for 20 rounds\n",
      "[10]\tvalid_0's multi_logloss: 0.92635\n",
      "[20]\tvalid_0's multi_logloss: 0.562844\n",
      "[30]\tvalid_0's multi_logloss: 0.407689\n",
      "[40]\tvalid_0's multi_logloss: 0.331691\n",
      "[50]\tvalid_0's multi_logloss: 0.295877\n",
      "[60]\tvalid_0's multi_logloss: 0.271755\n",
      "[70]\tvalid_0's multi_logloss: 0.266774\n"
     ]
    },
    {
     "name": "stderr",
     "output_type": "stream",
     "text": [
      "[I 2024-10-05 15:00:18,765] Trial 82 finished with value: 0.07608695652173914 and parameters: {'learning_rate': 0.05261150009926291, 'num_leaves': 235, 'max_depth': 3, 'min_data_in_leaf': 72, 'lambda_l1': 4.237155525485509e-06, 'lambda_l2': 1.6730964092421897e-08, 'feature_fraction': 0.5879077936773905, 'bagging_fraction': 0.8611331332975501, 'bagging_freq': 6}. Best is trial 5 with value: 0.06521739130434778.\n"
     ]
    },
    {
     "name": "stdout",
     "output_type": "stream",
     "text": [
      "[80]\tvalid_0's multi_logloss: 0.264088\n",
      "[90]\tvalid_0's multi_logloss: 0.263852\n",
      "[100]\tvalid_0's multi_logloss: 0.263855\n",
      "Early stopping, best iteration is:\n",
      "[87]\tvalid_0's multi_logloss: 0.263319\n"
     ]
    },
    {
     "name": "stderr",
     "output_type": "stream",
     "text": [
      "C:\\Users\\nilarghya\\AppData\\Local\\Temp\\ipykernel_19804\\1114577306.py:14: FutureWarning: suggest_loguniform has been deprecated in v3.0.0. This feature will be removed in v6.0.0. See https://github.com/optuna/optuna/releases/tag/v3.0.0. Use suggest_float(..., log=True) instead.\n",
      "  'learning_rate': trial.suggest_loguniform('learning_rate', 1e-3, 1e-1),\n",
      "C:\\Users\\nilarghya\\AppData\\Local\\Temp\\ipykernel_19804\\1114577306.py:18: FutureWarning: suggest_loguniform has been deprecated in v3.0.0. This feature will be removed in v6.0.0. See https://github.com/optuna/optuna/releases/tag/v3.0.0. Use suggest_float(..., log=True) instead.\n",
      "  'lambda_l1': trial.suggest_loguniform('lambda_l1', 1e-8, 10.0),\n",
      "C:\\Users\\nilarghya\\AppData\\Local\\Temp\\ipykernel_19804\\1114577306.py:19: FutureWarning: suggest_loguniform has been deprecated in v3.0.0. This feature will be removed in v6.0.0. See https://github.com/optuna/optuna/releases/tag/v3.0.0. Use suggest_float(..., log=True) instead.\n",
      "  'lambda_l2': trial.suggest_loguniform('lambda_l2', 1e-8, 10.0),\n",
      "C:\\Users\\nilarghya\\AppData\\Local\\Temp\\ipykernel_19804\\1114577306.py:20: FutureWarning: suggest_uniform has been deprecated in v3.0.0. This feature will be removed in v6.0.0. See https://github.com/optuna/optuna/releases/tag/v3.0.0. Use suggest_float instead.\n",
      "  'feature_fraction': trial.suggest_uniform('feature_fraction', 0.5, 1.0),\n",
      "C:\\Users\\nilarghya\\AppData\\Local\\Temp\\ipykernel_19804\\1114577306.py:21: FutureWarning: suggest_uniform has been deprecated in v3.0.0. This feature will be removed in v6.0.0. See https://github.com/optuna/optuna/releases/tag/v3.0.0. Use suggest_float instead.\n",
      "  'bagging_fraction': trial.suggest_uniform('bagging_fraction', 0.5, 1.0),\n"
     ]
    },
    {
     "name": "stdout",
     "output_type": "stream",
     "text": [
      "Training until validation scores don't improve for 20 rounds\n",
      "[10]\tvalid_0's multi_logloss: 0.826281\n",
      "[20]\tvalid_0's multi_logloss: 0.47429\n",
      "[30]\tvalid_0's multi_logloss: 0.341988\n",
      "[40]\tvalid_0's multi_logloss: 0.28491\n",
      "[50]\tvalid_0's multi_logloss: 0.259534\n",
      "[60]\tvalid_0's multi_logloss: 0.252969\n",
      "[70]\tvalid_0's multi_logloss: 0.253014\n",
      "[80]\tvalid_0's multi_logloss: 0.247576\n"
     ]
    },
    {
     "name": "stderr",
     "output_type": "stream",
     "text": [
      "[I 2024-10-05 15:00:19,755] Trial 83 finished with value: 0.06956521739130439 and parameters: {'learning_rate': 0.06106493233675119, 'num_leaves': 215, 'max_depth': 4, 'min_data_in_leaf': 68, 'lambda_l1': 2.698269350510505e-05, 'lambda_l2': 1.0012939991890928e-07, 'feature_fraction': 0.5199820155749135, 'bagging_fraction': 0.883765852512875, 'bagging_freq': 7}. Best is trial 5 with value: 0.06521739130434778.\n"
     ]
    },
    {
     "name": "stdout",
     "output_type": "stream",
     "text": [
      "[90]\tvalid_0's multi_logloss: 0.250604\n",
      "Early stopping, best iteration is:\n",
      "[78]\tvalid_0's multi_logloss: 0.246997\n"
     ]
    },
    {
     "name": "stderr",
     "output_type": "stream",
     "text": [
      "C:\\Users\\nilarghya\\AppData\\Local\\Temp\\ipykernel_19804\\1114577306.py:14: FutureWarning: suggest_loguniform has been deprecated in v3.0.0. This feature will be removed in v6.0.0. See https://github.com/optuna/optuna/releases/tag/v3.0.0. Use suggest_float(..., log=True) instead.\n",
      "  'learning_rate': trial.suggest_loguniform('learning_rate', 1e-3, 1e-1),\n",
      "C:\\Users\\nilarghya\\AppData\\Local\\Temp\\ipykernel_19804\\1114577306.py:18: FutureWarning: suggest_loguniform has been deprecated in v3.0.0. This feature will be removed in v6.0.0. See https://github.com/optuna/optuna/releases/tag/v3.0.0. Use suggest_float(..., log=True) instead.\n",
      "  'lambda_l1': trial.suggest_loguniform('lambda_l1', 1e-8, 10.0),\n",
      "C:\\Users\\nilarghya\\AppData\\Local\\Temp\\ipykernel_19804\\1114577306.py:19: FutureWarning: suggest_loguniform has been deprecated in v3.0.0. This feature will be removed in v6.0.0. See https://github.com/optuna/optuna/releases/tag/v3.0.0. Use suggest_float(..., log=True) instead.\n",
      "  'lambda_l2': trial.suggest_loguniform('lambda_l2', 1e-8, 10.0),\n",
      "C:\\Users\\nilarghya\\AppData\\Local\\Temp\\ipykernel_19804\\1114577306.py:20: FutureWarning: suggest_uniform has been deprecated in v3.0.0. This feature will be removed in v6.0.0. See https://github.com/optuna/optuna/releases/tag/v3.0.0. Use suggest_float instead.\n",
      "  'feature_fraction': trial.suggest_uniform('feature_fraction', 0.5, 1.0),\n",
      "C:\\Users\\nilarghya\\AppData\\Local\\Temp\\ipykernel_19804\\1114577306.py:21: FutureWarning: suggest_uniform has been deprecated in v3.0.0. This feature will be removed in v6.0.0. See https://github.com/optuna/optuna/releases/tag/v3.0.0. Use suggest_float instead.\n",
      "  'bagging_fraction': trial.suggest_uniform('bagging_fraction', 0.5, 1.0),\n"
     ]
    },
    {
     "name": "stdout",
     "output_type": "stream",
     "text": [
      "Training until validation scores don't improve for 20 rounds\n",
      "[10]\tvalid_0's multi_logloss: 1.11248\n",
      "[20]\tvalid_0's multi_logloss: 0.71648\n",
      "[30]\tvalid_0's multi_logloss: 0.518648\n",
      "[40]\tvalid_0's multi_logloss: 0.404873\n",
      "[50]\tvalid_0's multi_logloss: 0.337307\n",
      "[60]\tvalid_0's multi_logloss: 0.30173\n",
      "[70]\tvalid_0's multi_logloss: 0.279814\n",
      "[80]\tvalid_0's multi_logloss: 0.266061\n",
      "[90]\tvalid_0's multi_logloss: 0.25877\n",
      "[100]\tvalid_0's multi_logloss: 0.253075\n",
      "[110]\tvalid_0's multi_logloss: 0.252781\n",
      "[120]\tvalid_0's multi_logloss: 0.251801\n",
      "[130]\tvalid_0's multi_logloss: 0.24971\n"
     ]
    },
    {
     "name": "stderr",
     "output_type": "stream",
     "text": [
      "[I 2024-10-05 15:00:21,051] Trial 84 finished with value: 0.06521739130434778 and parameters: {'learning_rate': 0.039090450556964126, 'num_leaves': 236, 'max_depth': 4, 'min_data_in_leaf': 74, 'lambda_l1': 1.2529077534084377e-05, 'lambda_l2': 3.030608307618238e-07, 'feature_fraction': 0.5604280251804584, 'bagging_fraction': 0.6887191065311915, 'bagging_freq': 4}. Best is trial 5 with value: 0.06521739130434778.\n"
     ]
    },
    {
     "name": "stdout",
     "output_type": "stream",
     "text": [
      "[140]\tvalid_0's multi_logloss: 0.250658\n",
      "[150]\tvalid_0's multi_logloss: 0.251819\n",
      "Early stopping, best iteration is:\n",
      "[133]\tvalid_0's multi_logloss: 0.248973\n"
     ]
    },
    {
     "name": "stderr",
     "output_type": "stream",
     "text": [
      "C:\\Users\\nilarghya\\AppData\\Local\\Temp\\ipykernel_19804\\1114577306.py:14: FutureWarning: suggest_loguniform has been deprecated in v3.0.0. This feature will be removed in v6.0.0. See https://github.com/optuna/optuna/releases/tag/v3.0.0. Use suggest_float(..., log=True) instead.\n",
      "  'learning_rate': trial.suggest_loguniform('learning_rate', 1e-3, 1e-1),\n",
      "C:\\Users\\nilarghya\\AppData\\Local\\Temp\\ipykernel_19804\\1114577306.py:18: FutureWarning: suggest_loguniform has been deprecated in v3.0.0. This feature will be removed in v6.0.0. See https://github.com/optuna/optuna/releases/tag/v3.0.0. Use suggest_float(..., log=True) instead.\n",
      "  'lambda_l1': trial.suggest_loguniform('lambda_l1', 1e-8, 10.0),\n",
      "C:\\Users\\nilarghya\\AppData\\Local\\Temp\\ipykernel_19804\\1114577306.py:19: FutureWarning: suggest_loguniform has been deprecated in v3.0.0. This feature will be removed in v6.0.0. See https://github.com/optuna/optuna/releases/tag/v3.0.0. Use suggest_float(..., log=True) instead.\n",
      "  'lambda_l2': trial.suggest_loguniform('lambda_l2', 1e-8, 10.0),\n",
      "C:\\Users\\nilarghya\\AppData\\Local\\Temp\\ipykernel_19804\\1114577306.py:20: FutureWarning: suggest_uniform has been deprecated in v3.0.0. This feature will be removed in v6.0.0. See https://github.com/optuna/optuna/releases/tag/v3.0.0. Use suggest_float instead.\n",
      "  'feature_fraction': trial.suggest_uniform('feature_fraction', 0.5, 1.0),\n",
      "C:\\Users\\nilarghya\\AppData\\Local\\Temp\\ipykernel_19804\\1114577306.py:21: FutureWarning: suggest_uniform has been deprecated in v3.0.0. This feature will be removed in v6.0.0. See https://github.com/optuna/optuna/releases/tag/v3.0.0. Use suggest_float instead.\n",
      "  'bagging_fraction': trial.suggest_uniform('bagging_fraction', 0.5, 1.0),\n"
     ]
    },
    {
     "name": "stdout",
     "output_type": "stream",
     "text": [
      "Training until validation scores don't improve for 20 rounds\n",
      "[10]\tvalid_0's multi_logloss: 1.08258\n",
      "[20]\tvalid_0's multi_logloss: 0.694063\n",
      "[30]\tvalid_0's multi_logloss: 0.506704\n",
      "[40]\tvalid_0's multi_logloss: 0.400677\n",
      "[50]\tvalid_0's multi_logloss: 0.337562\n",
      "[60]\tvalid_0's multi_logloss: 0.303597\n",
      "[70]\tvalid_0's multi_logloss: 0.284016\n",
      "[80]\tvalid_0's multi_logloss: 0.273805\n",
      "[90]\tvalid_0's multi_logloss: 0.269064\n",
      "[100]\tvalid_0's multi_logloss: 0.264751\n",
      "[110]\tvalid_0's multi_logloss: 0.264039\n",
      "[120]\tvalid_0's multi_logloss: 0.263857\n",
      "Early stopping, best iteration is:\n",
      "[104]\tvalid_0's multi_logloss: 0.263506\n"
     ]
    },
    {
     "name": "stderr",
     "output_type": "stream",
     "text": [
      "[I 2024-10-05 15:00:21,906] Trial 85 finished with value: 0.07391304347826089 and parameters: {'learning_rate': 0.04138319562894679, 'num_leaves': 256, 'max_depth': 3, 'min_data_in_leaf': 73, 'lambda_l1': 1.067346404174891e-05, 'lambda_l2': 2.0461402576220082e-07, 'feature_fraction': 0.5391449518196639, 'bagging_fraction': 0.7090434372996435, 'bagging_freq': 4}. Best is trial 5 with value: 0.06521739130434778.\n",
      "C:\\Users\\nilarghya\\AppData\\Local\\Temp\\ipykernel_19804\\1114577306.py:14: FutureWarning: suggest_loguniform has been deprecated in v3.0.0. This feature will be removed in v6.0.0. See https://github.com/optuna/optuna/releases/tag/v3.0.0. Use suggest_float(..., log=True) instead.\n",
      "  'learning_rate': trial.suggest_loguniform('learning_rate', 1e-3, 1e-1),\n",
      "C:\\Users\\nilarghya\\AppData\\Local\\Temp\\ipykernel_19804\\1114577306.py:18: FutureWarning: suggest_loguniform has been deprecated in v3.0.0. This feature will be removed in v6.0.0. See https://github.com/optuna/optuna/releases/tag/v3.0.0. Use suggest_float(..., log=True) instead.\n",
      "  'lambda_l1': trial.suggest_loguniform('lambda_l1', 1e-8, 10.0),\n",
      "C:\\Users\\nilarghya\\AppData\\Local\\Temp\\ipykernel_19804\\1114577306.py:19: FutureWarning: suggest_loguniform has been deprecated in v3.0.0. This feature will be removed in v6.0.0. See https://github.com/optuna/optuna/releases/tag/v3.0.0. Use suggest_float(..., log=True) instead.\n",
      "  'lambda_l2': trial.suggest_loguniform('lambda_l2', 1e-8, 10.0),\n",
      "C:\\Users\\nilarghya\\AppData\\Local\\Temp\\ipykernel_19804\\1114577306.py:20: FutureWarning: suggest_uniform has been deprecated in v3.0.0. This feature will be removed in v6.0.0. See https://github.com/optuna/optuna/releases/tag/v3.0.0. Use suggest_float instead.\n",
      "  'feature_fraction': trial.suggest_uniform('feature_fraction', 0.5, 1.0),\n",
      "C:\\Users\\nilarghya\\AppData\\Local\\Temp\\ipykernel_19804\\1114577306.py:21: FutureWarning: suggest_uniform has been deprecated in v3.0.0. This feature will be removed in v6.0.0. See https://github.com/optuna/optuna/releases/tag/v3.0.0. Use suggest_float instead.\n",
      "  'bagging_fraction': trial.suggest_uniform('bagging_fraction', 0.5, 1.0),\n"
     ]
    },
    {
     "name": "stdout",
     "output_type": "stream",
     "text": [
      "Training until validation scores don't improve for 20 rounds\n",
      "[10]\tvalid_0's multi_logloss: 1.12496\n",
      "[20]\tvalid_0's multi_logloss: 0.720443\n",
      "[30]\tvalid_0's multi_logloss: 0.518938\n",
      "[40]\tvalid_0's multi_logloss: 0.407135\n",
      "[50]\tvalid_0's multi_logloss: 0.343663\n",
      "[60]\tvalid_0's multi_logloss: 0.307121\n",
      "[70]\tvalid_0's multi_logloss: 0.282992\n",
      "[80]\tvalid_0's multi_logloss: 0.269516\n",
      "[90]\tvalid_0's multi_logloss: 0.260627\n",
      "[100]\tvalid_0's multi_logloss: 0.255322\n",
      "[110]\tvalid_0's multi_logloss: 0.25376\n",
      "[120]\tvalid_0's multi_logloss: 0.255067\n"
     ]
    },
    {
     "name": "stderr",
     "output_type": "stream",
     "text": [
      "[I 2024-10-05 15:00:23,435] Trial 86 finished with value: 0.07826086956521738 and parameters: {'learning_rate': 0.03468851594422957, 'num_leaves': 238, 'max_depth': 4, 'min_data_in_leaf': 20, 'lambda_l1': 2.790293183632252e-06, 'lambda_l2': 4.3487046268255356e-07, 'feature_fraction': 0.5578566309524255, 'bagging_fraction': 0.6934768483799963, 'bagging_freq': 6}. Best is trial 5 with value: 0.06521739130434778.\n"
     ]
    },
    {
     "name": "stdout",
     "output_type": "stream",
     "text": [
      "[130]\tvalid_0's multi_logloss: 0.254443\n",
      "Early stopping, best iteration is:\n",
      "[112]\tvalid_0's multi_logloss: 0.253329\n"
     ]
    },
    {
     "name": "stderr",
     "output_type": "stream",
     "text": [
      "C:\\Users\\nilarghya\\AppData\\Local\\Temp\\ipykernel_19804\\1114577306.py:14: FutureWarning: suggest_loguniform has been deprecated in v3.0.0. This feature will be removed in v6.0.0. See https://github.com/optuna/optuna/releases/tag/v3.0.0. Use suggest_float(..., log=True) instead.\n",
      "  'learning_rate': trial.suggest_loguniform('learning_rate', 1e-3, 1e-1),\n",
      "C:\\Users\\nilarghya\\AppData\\Local\\Temp\\ipykernel_19804\\1114577306.py:18: FutureWarning: suggest_loguniform has been deprecated in v3.0.0. This feature will be removed in v6.0.0. See https://github.com/optuna/optuna/releases/tag/v3.0.0. Use suggest_float(..., log=True) instead.\n",
      "  'lambda_l1': trial.suggest_loguniform('lambda_l1', 1e-8, 10.0),\n",
      "C:\\Users\\nilarghya\\AppData\\Local\\Temp\\ipykernel_19804\\1114577306.py:19: FutureWarning: suggest_loguniform has been deprecated in v3.0.0. This feature will be removed in v6.0.0. See https://github.com/optuna/optuna/releases/tag/v3.0.0. Use suggest_float(..., log=True) instead.\n",
      "  'lambda_l2': trial.suggest_loguniform('lambda_l2', 1e-8, 10.0),\n",
      "C:\\Users\\nilarghya\\AppData\\Local\\Temp\\ipykernel_19804\\1114577306.py:20: FutureWarning: suggest_uniform has been deprecated in v3.0.0. This feature will be removed in v6.0.0. See https://github.com/optuna/optuna/releases/tag/v3.0.0. Use suggest_float instead.\n",
      "  'feature_fraction': trial.suggest_uniform('feature_fraction', 0.5, 1.0),\n",
      "C:\\Users\\nilarghya\\AppData\\Local\\Temp\\ipykernel_19804\\1114577306.py:21: FutureWarning: suggest_uniform has been deprecated in v3.0.0. This feature will be removed in v6.0.0. See https://github.com/optuna/optuna/releases/tag/v3.0.0. Use suggest_float instead.\n",
      "  'bagging_fraction': trial.suggest_uniform('bagging_fraction', 0.5, 1.0),\n"
     ]
    },
    {
     "name": "stdout",
     "output_type": "stream",
     "text": [
      "Training until validation scores don't improve for 20 rounds\n",
      "[10]\tvalid_0's multi_logloss: 0.963159\n",
      "[20]\tvalid_0's multi_logloss: 0.579832\n",
      "[30]\tvalid_0's multi_logloss: 0.407952\n",
      "[40]\tvalid_0's multi_logloss: 0.326117\n",
      "[50]\tvalid_0's multi_logloss: 0.284276\n",
      "[60]\tvalid_0's multi_logloss: 0.262018\n",
      "[70]\tvalid_0's multi_logloss: 0.254078\n",
      "[80]\tvalid_0's multi_logloss: 0.251781\n"
     ]
    },
    {
     "name": "stderr",
     "output_type": "stream",
     "text": [
      "[I 2024-10-05 15:00:24,519] Trial 87 finished with value: 0.07391304347826089 and parameters: {'learning_rate': 0.04893515237444854, 'num_leaves': 250, 'max_depth': 4, 'min_data_in_leaf': 81, 'lambda_l1': 3.475479821312876e-07, 'lambda_l2': 2.820162416002283e-08, 'feature_fraction': 0.6124792857689516, 'bagging_fraction': 0.9974216456380881, 'bagging_freq': 4}. Best is trial 5 with value: 0.06521739130434778.\n"
     ]
    },
    {
     "name": "stdout",
     "output_type": "stream",
     "text": [
      "[90]\tvalid_0's multi_logloss: 0.251584\n",
      "[100]\tvalid_0's multi_logloss: 0.251\n",
      "Early stopping, best iteration is:\n",
      "[88]\tvalid_0's multi_logloss: 0.250741\n"
     ]
    },
    {
     "name": "stderr",
     "output_type": "stream",
     "text": [
      "C:\\Users\\nilarghya\\AppData\\Local\\Temp\\ipykernel_19804\\1114577306.py:14: FutureWarning: suggest_loguniform has been deprecated in v3.0.0. This feature will be removed in v6.0.0. See https://github.com/optuna/optuna/releases/tag/v3.0.0. Use suggest_float(..., log=True) instead.\n",
      "  'learning_rate': trial.suggest_loguniform('learning_rate', 1e-3, 1e-1),\n",
      "C:\\Users\\nilarghya\\AppData\\Local\\Temp\\ipykernel_19804\\1114577306.py:18: FutureWarning: suggest_loguniform has been deprecated in v3.0.0. This feature will be removed in v6.0.0. See https://github.com/optuna/optuna/releases/tag/v3.0.0. Use suggest_float(..., log=True) instead.\n",
      "  'lambda_l1': trial.suggest_loguniform('lambda_l1', 1e-8, 10.0),\n",
      "C:\\Users\\nilarghya\\AppData\\Local\\Temp\\ipykernel_19804\\1114577306.py:19: FutureWarning: suggest_loguniform has been deprecated in v3.0.0. This feature will be removed in v6.0.0. See https://github.com/optuna/optuna/releases/tag/v3.0.0. Use suggest_float(..., log=True) instead.\n",
      "  'lambda_l2': trial.suggest_loguniform('lambda_l2', 1e-8, 10.0),\n",
      "C:\\Users\\nilarghya\\AppData\\Local\\Temp\\ipykernel_19804\\1114577306.py:20: FutureWarning: suggest_uniform has been deprecated in v3.0.0. This feature will be removed in v6.0.0. See https://github.com/optuna/optuna/releases/tag/v3.0.0. Use suggest_float instead.\n",
      "  'feature_fraction': trial.suggest_uniform('feature_fraction', 0.5, 1.0),\n",
      "C:\\Users\\nilarghya\\AppData\\Local\\Temp\\ipykernel_19804\\1114577306.py:21: FutureWarning: suggest_uniform has been deprecated in v3.0.0. This feature will be removed in v6.0.0. See https://github.com/optuna/optuna/releases/tag/v3.0.0. Use suggest_float instead.\n",
      "  'bagging_fraction': trial.suggest_uniform('bagging_fraction', 0.5, 1.0),\n"
     ]
    },
    {
     "name": "stdout",
     "output_type": "stream",
     "text": [
      "Training until validation scores don't improve for 20 rounds\n",
      "[10]\tvalid_0's multi_logloss: 0.791141\n",
      "[20]\tvalid_0's multi_logloss: 0.469339\n",
      "[30]\tvalid_0's multi_logloss: 0.343312\n",
      "[40]\tvalid_0's multi_logloss: 0.290731\n",
      "[50]\tvalid_0's multi_logloss: 0.269822\n",
      "[60]\tvalid_0's multi_logloss: 0.260571\n",
      "[70]\tvalid_0's multi_logloss: 0.257187\n",
      "[80]\tvalid_0's multi_logloss: 0.258917\n",
      "Early stopping, best iteration is:\n",
      "[67]\tvalid_0's multi_logloss: 0.256458\n"
     ]
    },
    {
     "name": "stderr",
     "output_type": "stream",
     "text": [
      "[I 2024-10-05 15:00:25,092] Trial 88 finished with value: 0.08260869565217388 and parameters: {'learning_rate': 0.06797696213624589, 'num_leaves': 243, 'max_depth': 3, 'min_data_in_leaf': 70, 'lambda_l1': 9.620696054174806e-07, 'lambda_l2': 2.8323715521443766e-07, 'feature_fraction': 0.5669953925158785, 'bagging_fraction': 0.6518728162712332, 'bagging_freq': 4}. Best is trial 5 with value: 0.06521739130434778.\n",
      "C:\\Users\\nilarghya\\AppData\\Local\\Temp\\ipykernel_19804\\1114577306.py:14: FutureWarning: suggest_loguniform has been deprecated in v3.0.0. This feature will be removed in v6.0.0. See https://github.com/optuna/optuna/releases/tag/v3.0.0. Use suggest_float(..., log=True) instead.\n",
      "  'learning_rate': trial.suggest_loguniform('learning_rate', 1e-3, 1e-1),\n",
      "C:\\Users\\nilarghya\\AppData\\Local\\Temp\\ipykernel_19804\\1114577306.py:18: FutureWarning: suggest_loguniform has been deprecated in v3.0.0. This feature will be removed in v6.0.0. See https://github.com/optuna/optuna/releases/tag/v3.0.0. Use suggest_float(..., log=True) instead.\n",
      "  'lambda_l1': trial.suggest_loguniform('lambda_l1', 1e-8, 10.0),\n",
      "C:\\Users\\nilarghya\\AppData\\Local\\Temp\\ipykernel_19804\\1114577306.py:19: FutureWarning: suggest_loguniform has been deprecated in v3.0.0. This feature will be removed in v6.0.0. See https://github.com/optuna/optuna/releases/tag/v3.0.0. Use suggest_float(..., log=True) instead.\n",
      "  'lambda_l2': trial.suggest_loguniform('lambda_l2', 1e-8, 10.0),\n",
      "C:\\Users\\nilarghya\\AppData\\Local\\Temp\\ipykernel_19804\\1114577306.py:20: FutureWarning: suggest_uniform has been deprecated in v3.0.0. This feature will be removed in v6.0.0. See https://github.com/optuna/optuna/releases/tag/v3.0.0. Use suggest_float instead.\n",
      "  'feature_fraction': trial.suggest_uniform('feature_fraction', 0.5, 1.0),\n",
      "C:\\Users\\nilarghya\\AppData\\Local\\Temp\\ipykernel_19804\\1114577306.py:21: FutureWarning: suggest_uniform has been deprecated in v3.0.0. This feature will be removed in v6.0.0. See https://github.com/optuna/optuna/releases/tag/v3.0.0. Use suggest_float instead.\n",
      "  'bagging_fraction': trial.suggest_uniform('bagging_fraction', 0.5, 1.0),\n"
     ]
    },
    {
     "name": "stdout",
     "output_type": "stream",
     "text": [
      "Training until validation scores don't improve for 20 rounds\n",
      "[10]\tvalid_0's multi_logloss: 0.651215\n",
      "[20]\tvalid_0's multi_logloss: 0.376948\n",
      "[30]\tvalid_0's multi_logloss: 0.300132\n",
      "[40]\tvalid_0's multi_logloss: 0.274261\n",
      "[50]\tvalid_0's multi_logloss: 0.269095\n"
     ]
    },
    {
     "name": "stderr",
     "output_type": "stream",
     "text": [
      "[I 2024-10-05 15:00:26,002] Trial 89 finished with value: 0.06739130434782614 and parameters: {'learning_rate': 0.08786431948041155, 'num_leaves': 230, 'max_depth': 5, 'min_data_in_leaf': 86, 'lambda_l1': 1.518928576187001e-05, 'lambda_l2': 1.3493550856544862e-06, 'feature_fraction': 0.7550786021588802, 'bagging_fraction': 0.6892747466203863, 'bagging_freq': 5}. Best is trial 5 with value: 0.06521739130434778.\n"
     ]
    },
    {
     "name": "stdout",
     "output_type": "stream",
     "text": [
      "[60]\tvalid_0's multi_logloss: 0.269186\n",
      "[70]\tvalid_0's multi_logloss: 0.274475\n",
      "Early stopping, best iteration is:\n",
      "[54]\tvalid_0's multi_logloss: 0.265244\n"
     ]
    },
    {
     "name": "stderr",
     "output_type": "stream",
     "text": [
      "C:\\Users\\nilarghya\\AppData\\Local\\Temp\\ipykernel_19804\\1114577306.py:14: FutureWarning: suggest_loguniform has been deprecated in v3.0.0. This feature will be removed in v6.0.0. See https://github.com/optuna/optuna/releases/tag/v3.0.0. Use suggest_float(..., log=True) instead.\n",
      "  'learning_rate': trial.suggest_loguniform('learning_rate', 1e-3, 1e-1),\n",
      "C:\\Users\\nilarghya\\AppData\\Local\\Temp\\ipykernel_19804\\1114577306.py:18: FutureWarning: suggest_loguniform has been deprecated in v3.0.0. This feature will be removed in v6.0.0. See https://github.com/optuna/optuna/releases/tag/v3.0.0. Use suggest_float(..., log=True) instead.\n",
      "  'lambda_l1': trial.suggest_loguniform('lambda_l1', 1e-8, 10.0),\n",
      "C:\\Users\\nilarghya\\AppData\\Local\\Temp\\ipykernel_19804\\1114577306.py:19: FutureWarning: suggest_loguniform has been deprecated in v3.0.0. This feature will be removed in v6.0.0. See https://github.com/optuna/optuna/releases/tag/v3.0.0. Use suggest_float(..., log=True) instead.\n",
      "  'lambda_l2': trial.suggest_loguniform('lambda_l2', 1e-8, 10.0),\n",
      "C:\\Users\\nilarghya\\AppData\\Local\\Temp\\ipykernel_19804\\1114577306.py:20: FutureWarning: suggest_uniform has been deprecated in v3.0.0. This feature will be removed in v6.0.0. See https://github.com/optuna/optuna/releases/tag/v3.0.0. Use suggest_float instead.\n",
      "  'feature_fraction': trial.suggest_uniform('feature_fraction', 0.5, 1.0),\n",
      "C:\\Users\\nilarghya\\AppData\\Local\\Temp\\ipykernel_19804\\1114577306.py:21: FutureWarning: suggest_uniform has been deprecated in v3.0.0. This feature will be removed in v6.0.0. See https://github.com/optuna/optuna/releases/tag/v3.0.0. Use suggest_float instead.\n",
      "  'bagging_fraction': trial.suggest_uniform('bagging_fraction', 0.5, 1.0),\n"
     ]
    },
    {
     "name": "stdout",
     "output_type": "stream",
     "text": [
      "Training until validation scores don't improve for 20 rounds\n",
      "[10]\tvalid_0's multi_logloss: 1.02833\n",
      "[20]\tvalid_0's multi_logloss: 0.636725\n",
      "[30]\tvalid_0's multi_logloss: 0.456597\n",
      "[40]\tvalid_0's multi_logloss: 0.358489\n",
      "[50]\tvalid_0's multi_logloss: 0.309167\n",
      "[60]\tvalid_0's multi_logloss: 0.280814\n",
      "[70]\tvalid_0's multi_logloss: 0.265869\n",
      "[80]\tvalid_0's multi_logloss: 0.260676\n",
      "[90]\tvalid_0's multi_logloss: 0.255439\n"
     ]
    },
    {
     "name": "stderr",
     "output_type": "stream",
     "text": [
      "[I 2024-10-05 15:00:27,019] Trial 90 finished with value: 0.07173913043478264 and parameters: {'learning_rate': 0.04547707514127931, 'num_leaves': 222, 'max_depth': 4, 'min_data_in_leaf': 78, 'lambda_l1': 7.513995678724444e-05, 'lambda_l2': 1.252131768280028e-07, 'feature_fraction': 0.5810756687591402, 'bagging_fraction': 0.7250499039291336, 'bagging_freq': 5}. Best is trial 5 with value: 0.06521739130434778.\n"
     ]
    },
    {
     "name": "stdout",
     "output_type": "stream",
     "text": [
      "[100]\tvalid_0's multi_logloss: 0.257496\n",
      "[110]\tvalid_0's multi_logloss: 0.258258\n",
      "Early stopping, best iteration is:\n",
      "[93]\tvalid_0's multi_logloss: 0.254107\n"
     ]
    },
    {
     "name": "stderr",
     "output_type": "stream",
     "text": [
      "C:\\Users\\nilarghya\\AppData\\Local\\Temp\\ipykernel_19804\\1114577306.py:14: FutureWarning: suggest_loguniform has been deprecated in v3.0.0. This feature will be removed in v6.0.0. See https://github.com/optuna/optuna/releases/tag/v3.0.0. Use suggest_float(..., log=True) instead.\n",
      "  'learning_rate': trial.suggest_loguniform('learning_rate', 1e-3, 1e-1),\n",
      "C:\\Users\\nilarghya\\AppData\\Local\\Temp\\ipykernel_19804\\1114577306.py:18: FutureWarning: suggest_loguniform has been deprecated in v3.0.0. This feature will be removed in v6.0.0. See https://github.com/optuna/optuna/releases/tag/v3.0.0. Use suggest_float(..., log=True) instead.\n",
      "  'lambda_l1': trial.suggest_loguniform('lambda_l1', 1e-8, 10.0),\n",
      "C:\\Users\\nilarghya\\AppData\\Local\\Temp\\ipykernel_19804\\1114577306.py:19: FutureWarning: suggest_loguniform has been deprecated in v3.0.0. This feature will be removed in v6.0.0. See https://github.com/optuna/optuna/releases/tag/v3.0.0. Use suggest_float(..., log=True) instead.\n",
      "  'lambda_l2': trial.suggest_loguniform('lambda_l2', 1e-8, 10.0),\n",
      "C:\\Users\\nilarghya\\AppData\\Local\\Temp\\ipykernel_19804\\1114577306.py:20: FutureWarning: suggest_uniform has been deprecated in v3.0.0. This feature will be removed in v6.0.0. See https://github.com/optuna/optuna/releases/tag/v3.0.0. Use suggest_float instead.\n",
      "  'feature_fraction': trial.suggest_uniform('feature_fraction', 0.5, 1.0),\n",
      "C:\\Users\\nilarghya\\AppData\\Local\\Temp\\ipykernel_19804\\1114577306.py:21: FutureWarning: suggest_uniform has been deprecated in v3.0.0. This feature will be removed in v6.0.0. See https://github.com/optuna/optuna/releases/tag/v3.0.0. Use suggest_float instead.\n",
      "  'bagging_fraction': trial.suggest_uniform('bagging_fraction', 0.5, 1.0),\n"
     ]
    },
    {
     "name": "stdout",
     "output_type": "stream",
     "text": [
      "Training until validation scores don't improve for 20 rounds\n",
      "[10]\tvalid_0's multi_logloss: 0.669699\n",
      "[20]\tvalid_0's multi_logloss: 0.384107\n",
      "[30]\tvalid_0's multi_logloss: 0.30265\n",
      "[40]\tvalid_0's multi_logloss: 0.273124\n",
      "[50]\tvalid_0's multi_logloss: 0.263105\n",
      "[60]\tvalid_0's multi_logloss: 0.25634\n"
     ]
    },
    {
     "name": "stderr",
     "output_type": "stream",
     "text": [
      "[I 2024-10-05 15:00:27,732] Trial 91 finished with value: 0.07826086956521738 and parameters: {'learning_rate': 0.08608640762908394, 'num_leaves': 231, 'max_depth': 5, 'min_data_in_leaf': 93, 'lambda_l1': 1.624900651526302e-05, 'lambda_l2': 3.0683839011990825e-06, 'feature_fraction': 0.5936155822758531, 'bagging_fraction': 0.6902449809211595, 'bagging_freq': 5}. Best is trial 5 with value: 0.06521739130434778.\n"
     ]
    },
    {
     "name": "stdout",
     "output_type": "stream",
     "text": [
      "[70]\tvalid_0's multi_logloss: 0.262167\n",
      "Early stopping, best iteration is:\n",
      "[59]\tvalid_0's multi_logloss: 0.255183\n"
     ]
    },
    {
     "name": "stderr",
     "output_type": "stream",
     "text": [
      "C:\\Users\\nilarghya\\AppData\\Local\\Temp\\ipykernel_19804\\1114577306.py:14: FutureWarning: suggest_loguniform has been deprecated in v3.0.0. This feature will be removed in v6.0.0. See https://github.com/optuna/optuna/releases/tag/v3.0.0. Use suggest_float(..., log=True) instead.\n",
      "  'learning_rate': trial.suggest_loguniform('learning_rate', 1e-3, 1e-1),\n",
      "C:\\Users\\nilarghya\\AppData\\Local\\Temp\\ipykernel_19804\\1114577306.py:18: FutureWarning: suggest_loguniform has been deprecated in v3.0.0. This feature will be removed in v6.0.0. See https://github.com/optuna/optuna/releases/tag/v3.0.0. Use suggest_float(..., log=True) instead.\n",
      "  'lambda_l1': trial.suggest_loguniform('lambda_l1', 1e-8, 10.0),\n",
      "C:\\Users\\nilarghya\\AppData\\Local\\Temp\\ipykernel_19804\\1114577306.py:19: FutureWarning: suggest_loguniform has been deprecated in v3.0.0. This feature will be removed in v6.0.0. See https://github.com/optuna/optuna/releases/tag/v3.0.0. Use suggest_float(..., log=True) instead.\n",
      "  'lambda_l2': trial.suggest_loguniform('lambda_l2', 1e-8, 10.0),\n",
      "C:\\Users\\nilarghya\\AppData\\Local\\Temp\\ipykernel_19804\\1114577306.py:20: FutureWarning: suggest_uniform has been deprecated in v3.0.0. This feature will be removed in v6.0.0. See https://github.com/optuna/optuna/releases/tag/v3.0.0. Use suggest_float instead.\n",
      "  'feature_fraction': trial.suggest_uniform('feature_fraction', 0.5, 1.0),\n",
      "C:\\Users\\nilarghya\\AppData\\Local\\Temp\\ipykernel_19804\\1114577306.py:21: FutureWarning: suggest_uniform has been deprecated in v3.0.0. This feature will be removed in v6.0.0. See https://github.com/optuna/optuna/releases/tag/v3.0.0. Use suggest_float instead.\n",
      "  'bagging_fraction': trial.suggest_uniform('bagging_fraction', 0.5, 1.0),\n"
     ]
    },
    {
     "name": "stdout",
     "output_type": "stream",
     "text": [
      "Training until validation scores don't improve for 20 rounds\n",
      "[10]\tvalid_0's multi_logloss: 0.604936\n",
      "[20]\tvalid_0's multi_logloss: 0.349123\n",
      "[30]\tvalid_0's multi_logloss: 0.292487\n",
      "[40]\tvalid_0's multi_logloss: 0.278653\n",
      "[50]\tvalid_0's multi_logloss: 0.282856\n"
     ]
    },
    {
     "name": "stderr",
     "output_type": "stream",
     "text": [
      "[I 2024-10-05 15:00:28,386] Trial 92 finished with value: 0.08478260869565213 and parameters: {'learning_rate': 0.09944061629996759, 'num_leaves': 227, 'max_depth': 3, 'min_data_in_leaf': 86, 'lambda_l1': 4.341202963551818e-06, 'lambda_l2': 9.95100093895181e-07, 'feature_fraction': 0.9011204658217057, 'bagging_fraction': 0.6752696705565018, 'bagging_freq': 7}. Best is trial 5 with value: 0.06521739130434778.\n"
     ]
    },
    {
     "name": "stdout",
     "output_type": "stream",
     "text": [
      "[60]\tvalid_0's multi_logloss: 0.280033\n",
      "Early stopping, best iteration is:\n",
      "[40]\tvalid_0's multi_logloss: 0.278653\n",
      "Training until validation scores don't improve for 20 rounds\n"
     ]
    },
    {
     "name": "stderr",
     "output_type": "stream",
     "text": [
      "C:\\Users\\nilarghya\\AppData\\Local\\Temp\\ipykernel_19804\\1114577306.py:14: FutureWarning: suggest_loguniform has been deprecated in v3.0.0. This feature will be removed in v6.0.0. See https://github.com/optuna/optuna/releases/tag/v3.0.0. Use suggest_float(..., log=True) instead.\n",
      "  'learning_rate': trial.suggest_loguniform('learning_rate', 1e-3, 1e-1),\n",
      "C:\\Users\\nilarghya\\AppData\\Local\\Temp\\ipykernel_19804\\1114577306.py:18: FutureWarning: suggest_loguniform has been deprecated in v3.0.0. This feature will be removed in v6.0.0. See https://github.com/optuna/optuna/releases/tag/v3.0.0. Use suggest_float(..., log=True) instead.\n",
      "  'lambda_l1': trial.suggest_loguniform('lambda_l1', 1e-8, 10.0),\n",
      "C:\\Users\\nilarghya\\AppData\\Local\\Temp\\ipykernel_19804\\1114577306.py:19: FutureWarning: suggest_loguniform has been deprecated in v3.0.0. This feature will be removed in v6.0.0. See https://github.com/optuna/optuna/releases/tag/v3.0.0. Use suggest_float(..., log=True) instead.\n",
      "  'lambda_l2': trial.suggest_loguniform('lambda_l2', 1e-8, 10.0),\n",
      "C:\\Users\\nilarghya\\AppData\\Local\\Temp\\ipykernel_19804\\1114577306.py:20: FutureWarning: suggest_uniform has been deprecated in v3.0.0. This feature will be removed in v6.0.0. See https://github.com/optuna/optuna/releases/tag/v3.0.0. Use suggest_float instead.\n",
      "  'feature_fraction': trial.suggest_uniform('feature_fraction', 0.5, 1.0),\n",
      "C:\\Users\\nilarghya\\AppData\\Local\\Temp\\ipykernel_19804\\1114577306.py:21: FutureWarning: suggest_uniform has been deprecated in v3.0.0. This feature will be removed in v6.0.0. See https://github.com/optuna/optuna/releases/tag/v3.0.0. Use suggest_float instead.\n",
      "  'bagging_fraction': trial.suggest_uniform('bagging_fraction', 0.5, 1.0),\n"
     ]
    },
    {
     "name": "stdout",
     "output_type": "stream",
     "text": [
      "[10]\tvalid_0's multi_logloss: 0.730923\n",
      "[20]\tvalid_0's multi_logloss: 0.424675\n",
      "[30]\tvalid_0's multi_logloss: 0.31726\n",
      "[40]\tvalid_0's multi_logloss: 0.279043\n",
      "[50]\tvalid_0's multi_logloss: 0.267623\n"
     ]
    },
    {
     "name": "stderr",
     "output_type": "stream",
     "text": [
      "[I 2024-10-05 15:00:29,302] Trial 93 finished with value: 0.07826086956521738 and parameters: {'learning_rate': 0.07776453009731632, 'num_leaves': 237, 'max_depth': 4, 'min_data_in_leaf': 80, 'lambda_l1': 1.3627070178929676e-05, 'lambda_l2': 1.0581802324007798e-05, 'feature_fraction': 0.7339912540843517, 'bagging_fraction': 0.6385742843400515, 'bagging_freq': 4}. Best is trial 5 with value: 0.06521739130434778.\n"
     ]
    },
    {
     "name": "stdout",
     "output_type": "stream",
     "text": [
      "[60]\tvalid_0's multi_logloss: 0.262904\n",
      "[70]\tvalid_0's multi_logloss: 0.262412\n",
      "[80]\tvalid_0's multi_logloss: 0.266015\n",
      "Early stopping, best iteration is:\n",
      "[64]\tvalid_0's multi_logloss: 0.258965\n"
     ]
    },
    {
     "name": "stderr",
     "output_type": "stream",
     "text": [
      "C:\\Users\\nilarghya\\AppData\\Local\\Temp\\ipykernel_19804\\1114577306.py:14: FutureWarning: suggest_loguniform has been deprecated in v3.0.0. This feature will be removed in v6.0.0. See https://github.com/optuna/optuna/releases/tag/v3.0.0. Use suggest_float(..., log=True) instead.\n",
      "  'learning_rate': trial.suggest_loguniform('learning_rate', 1e-3, 1e-1),\n",
      "C:\\Users\\nilarghya\\AppData\\Local\\Temp\\ipykernel_19804\\1114577306.py:18: FutureWarning: suggest_loguniform has been deprecated in v3.0.0. This feature will be removed in v6.0.0. See https://github.com/optuna/optuna/releases/tag/v3.0.0. Use suggest_float(..., log=True) instead.\n",
      "  'lambda_l1': trial.suggest_loguniform('lambda_l1', 1e-8, 10.0),\n",
      "C:\\Users\\nilarghya\\AppData\\Local\\Temp\\ipykernel_19804\\1114577306.py:19: FutureWarning: suggest_loguniform has been deprecated in v3.0.0. This feature will be removed in v6.0.0. See https://github.com/optuna/optuna/releases/tag/v3.0.0. Use suggest_float(..., log=True) instead.\n",
      "  'lambda_l2': trial.suggest_loguniform('lambda_l2', 1e-8, 10.0),\n",
      "C:\\Users\\nilarghya\\AppData\\Local\\Temp\\ipykernel_19804\\1114577306.py:20: FutureWarning: suggest_uniform has been deprecated in v3.0.0. This feature will be removed in v6.0.0. See https://github.com/optuna/optuna/releases/tag/v3.0.0. Use suggest_float instead.\n",
      "  'feature_fraction': trial.suggest_uniform('feature_fraction', 0.5, 1.0),\n",
      "C:\\Users\\nilarghya\\AppData\\Local\\Temp\\ipykernel_19804\\1114577306.py:21: FutureWarning: suggest_uniform has been deprecated in v3.0.0. This feature will be removed in v6.0.0. See https://github.com/optuna/optuna/releases/tag/v3.0.0. Use suggest_float instead.\n",
      "  'bagging_fraction': trial.suggest_uniform('bagging_fraction', 0.5, 1.0),\n"
     ]
    },
    {
     "name": "stdout",
     "output_type": "stream",
     "text": [
      "Training until validation scores don't improve for 20 rounds\n",
      "[10]\tvalid_0's multi_logloss: 0.881604\n",
      "[20]\tvalid_0's multi_logloss: 0.527054\n",
      "[30]\tvalid_0's multi_logloss: 0.379423\n",
      "[40]\tvalid_0's multi_logloss: 0.311273\n",
      "[50]\tvalid_0's multi_logloss: 0.277336\n",
      "[60]\tvalid_0's multi_logloss: 0.263967\n",
      "[70]\tvalid_0's multi_logloss: 0.2555\n",
      "[80]\tvalid_0's multi_logloss: 0.255588\n"
     ]
    },
    {
     "name": "stderr",
     "output_type": "stream",
     "text": [
      "[I 2024-10-05 15:00:30,617] Trial 94 finished with value: 0.06739130434782614 and parameters: {'learning_rate': 0.05945650949278674, 'num_leaves': 219, 'max_depth': 5, 'min_data_in_leaf': 95, 'lambda_l1': 3.06019612010097e-05, 'lambda_l2': 1.5317462274676538e-06, 'feature_fraction': 0.7588739600970724, 'bagging_fraction': 0.7076040963866862, 'bagging_freq': 5}. Best is trial 5 with value: 0.06521739130434778.\n"
     ]
    },
    {
     "name": "stdout",
     "output_type": "stream",
     "text": [
      "[90]\tvalid_0's multi_logloss: 0.257917\n",
      "[100]\tvalid_0's multi_logloss: 0.262108\n",
      "Early stopping, best iteration is:\n",
      "[84]\tvalid_0's multi_logloss: 0.254628\n"
     ]
    },
    {
     "name": "stderr",
     "output_type": "stream",
     "text": [
      "C:\\Users\\nilarghya\\AppData\\Local\\Temp\\ipykernel_19804\\1114577306.py:14: FutureWarning: suggest_loguniform has been deprecated in v3.0.0. This feature will be removed in v6.0.0. See https://github.com/optuna/optuna/releases/tag/v3.0.0. Use suggest_float(..., log=True) instead.\n",
      "  'learning_rate': trial.suggest_loguniform('learning_rate', 1e-3, 1e-1),\n",
      "C:\\Users\\nilarghya\\AppData\\Local\\Temp\\ipykernel_19804\\1114577306.py:18: FutureWarning: suggest_loguniform has been deprecated in v3.0.0. This feature will be removed in v6.0.0. See https://github.com/optuna/optuna/releases/tag/v3.0.0. Use suggest_float(..., log=True) instead.\n",
      "  'lambda_l1': trial.suggest_loguniform('lambda_l1', 1e-8, 10.0),\n",
      "C:\\Users\\nilarghya\\AppData\\Local\\Temp\\ipykernel_19804\\1114577306.py:19: FutureWarning: suggest_loguniform has been deprecated in v3.0.0. This feature will be removed in v6.0.0. See https://github.com/optuna/optuna/releases/tag/v3.0.0. Use suggest_float(..., log=True) instead.\n",
      "  'lambda_l2': trial.suggest_loguniform('lambda_l2', 1e-8, 10.0),\n",
      "C:\\Users\\nilarghya\\AppData\\Local\\Temp\\ipykernel_19804\\1114577306.py:20: FutureWarning: suggest_uniform has been deprecated in v3.0.0. This feature will be removed in v6.0.0. See https://github.com/optuna/optuna/releases/tag/v3.0.0. Use suggest_float instead.\n",
      "  'feature_fraction': trial.suggest_uniform('feature_fraction', 0.5, 1.0),\n",
      "C:\\Users\\nilarghya\\AppData\\Local\\Temp\\ipykernel_19804\\1114577306.py:21: FutureWarning: suggest_uniform has been deprecated in v3.0.0. This feature will be removed in v6.0.0. See https://github.com/optuna/optuna/releases/tag/v3.0.0. Use suggest_float instead.\n",
      "  'bagging_fraction': trial.suggest_uniform('bagging_fraction', 0.5, 1.0),\n"
     ]
    },
    {
     "name": "stdout",
     "output_type": "stream",
     "text": [
      "Training until validation scores don't improve for 20 rounds\n",
      "[10]\tvalid_0's multi_logloss: 1.2697\n",
      "[20]\tvalid_0's multi_logloss: 0.868894\n",
      "[30]\tvalid_0's multi_logloss: 0.643261\n",
      "[40]\tvalid_0's multi_logloss: 0.504204\n",
      "[50]\tvalid_0's multi_logloss: 0.413423\n",
      "[60]\tvalid_0's multi_logloss: 0.351302\n",
      "[70]\tvalid_0's multi_logloss: 0.310851\n",
      "[80]\tvalid_0's multi_logloss: 0.285127\n",
      "[90]\tvalid_0's multi_logloss: 0.267127\n",
      "[100]\tvalid_0's multi_logloss: 0.256759\n",
      "[110]\tvalid_0's multi_logloss: 0.24846\n",
      "[120]\tvalid_0's multi_logloss: 0.245354\n",
      "[130]\tvalid_0's multi_logloss: 0.241621\n",
      "[140]\tvalid_0's multi_logloss: 0.24095\n",
      "[150]\tvalid_0's multi_logloss: 0.24185\n",
      "[160]\tvalid_0's multi_logloss: 0.242605\n",
      "Early stopping, best iteration is:\n",
      "[143]\tvalid_0's multi_logloss: 0.240262\n"
     ]
    },
    {
     "name": "stderr",
     "output_type": "stream",
     "text": [
      "[I 2024-10-05 15:00:33,170] Trial 95 finished with value: 0.06739130434782614 and parameters: {'learning_rate': 0.03059722637845046, 'num_leaves': 142, 'max_depth': 13, 'min_data_in_leaf': 83, 'lambda_l1': 1.5434170835424844e-07, 'lambda_l2': 6.987726221805992e-08, 'feature_fraction': 0.8295142456493688, 'bagging_fraction': 0.6858015154980207, 'bagging_freq': 1}. Best is trial 5 with value: 0.06521739130434778.\n",
      "C:\\Users\\nilarghya\\AppData\\Local\\Temp\\ipykernel_19804\\1114577306.py:14: FutureWarning: suggest_loguniform has been deprecated in v3.0.0. This feature will be removed in v6.0.0. See https://github.com/optuna/optuna/releases/tag/v3.0.0. Use suggest_float(..., log=True) instead.\n",
      "  'learning_rate': trial.suggest_loguniform('learning_rate', 1e-3, 1e-1),\n",
      "C:\\Users\\nilarghya\\AppData\\Local\\Temp\\ipykernel_19804\\1114577306.py:18: FutureWarning: suggest_loguniform has been deprecated in v3.0.0. This feature will be removed in v6.0.0. See https://github.com/optuna/optuna/releases/tag/v3.0.0. Use suggest_float(..., log=True) instead.\n",
      "  'lambda_l1': trial.suggest_loguniform('lambda_l1', 1e-8, 10.0),\n",
      "C:\\Users\\nilarghya\\AppData\\Local\\Temp\\ipykernel_19804\\1114577306.py:19: FutureWarning: suggest_loguniform has been deprecated in v3.0.0. This feature will be removed in v6.0.0. See https://github.com/optuna/optuna/releases/tag/v3.0.0. Use suggest_float(..., log=True) instead.\n",
      "  'lambda_l2': trial.suggest_loguniform('lambda_l2', 1e-8, 10.0),\n",
      "C:\\Users\\nilarghya\\AppData\\Local\\Temp\\ipykernel_19804\\1114577306.py:20: FutureWarning: suggest_uniform has been deprecated in v3.0.0. This feature will be removed in v6.0.0. See https://github.com/optuna/optuna/releases/tag/v3.0.0. Use suggest_float instead.\n",
      "  'feature_fraction': trial.suggest_uniform('feature_fraction', 0.5, 1.0),\n",
      "C:\\Users\\nilarghya\\AppData\\Local\\Temp\\ipykernel_19804\\1114577306.py:21: FutureWarning: suggest_uniform has been deprecated in v3.0.0. This feature will be removed in v6.0.0. See https://github.com/optuna/optuna/releases/tag/v3.0.0. Use suggest_float instead.\n",
      "  'bagging_fraction': trial.suggest_uniform('bagging_fraction', 0.5, 1.0),\n"
     ]
    },
    {
     "name": "stdout",
     "output_type": "stream",
     "text": [
      "Training until validation scores don't improve for 20 rounds\n",
      "[10]\tvalid_0's multi_logloss: 1.14576\n",
      "[20]\tvalid_0's multi_logloss: 0.738566\n",
      "[30]\tvalid_0's multi_logloss: 0.528216\n",
      "[40]\tvalid_0's multi_logloss: 0.412453\n",
      "[50]\tvalid_0's multi_logloss: 0.338609\n",
      "[60]\tvalid_0's multi_logloss: 0.295798\n",
      "[70]\tvalid_0's multi_logloss: 0.268863\n",
      "[80]\tvalid_0's multi_logloss: 0.253448\n",
      "[90]\tvalid_0's multi_logloss: 0.246575\n",
      "[100]\tvalid_0's multi_logloss: 0.244547\n",
      "[110]\tvalid_0's multi_logloss: 0.243518\n",
      "[120]\tvalid_0's multi_logloss: 0.247069\n",
      "Early stopping, best iteration is:\n",
      "[106]\tvalid_0's multi_logloss: 0.242946\n"
     ]
    },
    {
     "name": "stderr",
     "output_type": "stream",
     "text": [
      "[I 2024-10-05 15:00:35,073] Trial 96 finished with value: 0.06956521739130439 and parameters: {'learning_rate': 0.03676795564428096, 'num_leaves': 128, 'max_depth': 12, 'min_data_in_leaf': 75, 'lambda_l1': 4.993065539591487e-05, 'lambda_l2': 1.919091968207755e-08, 'feature_fraction': 0.9788694621105121, 'bagging_fraction': 0.7377067462888068, 'bagging_freq': 6}. Best is trial 5 with value: 0.06521739130434778.\n",
      "C:\\Users\\nilarghya\\AppData\\Local\\Temp\\ipykernel_19804\\1114577306.py:14: FutureWarning: suggest_loguniform has been deprecated in v3.0.0. This feature will be removed in v6.0.0. See https://github.com/optuna/optuna/releases/tag/v3.0.0. Use suggest_float(..., log=True) instead.\n",
      "  'learning_rate': trial.suggest_loguniform('learning_rate', 1e-3, 1e-1),\n",
      "C:\\Users\\nilarghya\\AppData\\Local\\Temp\\ipykernel_19804\\1114577306.py:18: FutureWarning: suggest_loguniform has been deprecated in v3.0.0. This feature will be removed in v6.0.0. See https://github.com/optuna/optuna/releases/tag/v3.0.0. Use suggest_float(..., log=True) instead.\n",
      "  'lambda_l1': trial.suggest_loguniform('lambda_l1', 1e-8, 10.0),\n",
      "C:\\Users\\nilarghya\\AppData\\Local\\Temp\\ipykernel_19804\\1114577306.py:19: FutureWarning: suggest_loguniform has been deprecated in v3.0.0. This feature will be removed in v6.0.0. See https://github.com/optuna/optuna/releases/tag/v3.0.0. Use suggest_float(..., log=True) instead.\n",
      "  'lambda_l2': trial.suggest_loguniform('lambda_l2', 1e-8, 10.0),\n",
      "C:\\Users\\nilarghya\\AppData\\Local\\Temp\\ipykernel_19804\\1114577306.py:20: FutureWarning: suggest_uniform has been deprecated in v3.0.0. This feature will be removed in v6.0.0. See https://github.com/optuna/optuna/releases/tag/v3.0.0. Use suggest_float instead.\n",
      "  'feature_fraction': trial.suggest_uniform('feature_fraction', 0.5, 1.0),\n",
      "C:\\Users\\nilarghya\\AppData\\Local\\Temp\\ipykernel_19804\\1114577306.py:21: FutureWarning: suggest_uniform has been deprecated in v3.0.0. This feature will be removed in v6.0.0. See https://github.com/optuna/optuna/releases/tag/v3.0.0. Use suggest_float instead.\n",
      "  'bagging_fraction': trial.suggest_uniform('bagging_fraction', 0.5, 1.0),\n"
     ]
    },
    {
     "name": "stdout",
     "output_type": "stream",
     "text": [
      "Training until validation scores don't improve for 20 rounds\n",
      "[10]\tvalid_0's multi_logloss: 0.954989\n",
      "[20]\tvalid_0's multi_logloss: 0.594083\n",
      "[30]\tvalid_0's multi_logloss: 0.429499\n",
      "[40]\tvalid_0's multi_logloss: 0.343652\n",
      "[50]\tvalid_0's multi_logloss: 0.302769\n",
      "[60]\tvalid_0's multi_logloss: 0.278701\n",
      "[70]\tvalid_0's multi_logloss: 0.2659\n",
      "[80]\tvalid_0's multi_logloss: 0.262374\n",
      "[90]\tvalid_0's multi_logloss: 0.260078\n",
      "[100]\tvalid_0's multi_logloss: 0.256347\n",
      "[110]\tvalid_0's multi_logloss: 0.257593\n",
      "[120]\tvalid_0's multi_logloss: 0.258305\n"
     ]
    },
    {
     "name": "stderr",
     "output_type": "stream",
     "text": [
      "[I 2024-10-05 15:00:35,933] Trial 97 finished with value: 0.07826086956521738 and parameters: {'learning_rate': 0.0532320536829053, 'num_leaves': 208, 'max_depth': 3, 'min_data_in_leaf': 88, 'lambda_l1': 2.1287661726844966e-06, 'lambda_l2': 4.1982233153450494e-07, 'feature_fraction': 0.5529378294594071, 'bagging_fraction': 0.6583346006238968, 'bagging_freq': 4}. Best is trial 5 with value: 0.06521739130434778.\n"
     ]
    },
    {
     "name": "stdout",
     "output_type": "stream",
     "text": [
      "Early stopping, best iteration is:\n",
      "[102]\tvalid_0's multi_logloss: 0.25475\n"
     ]
    },
    {
     "name": "stderr",
     "output_type": "stream",
     "text": [
      "C:\\Users\\nilarghya\\AppData\\Local\\Temp\\ipykernel_19804\\1114577306.py:14: FutureWarning: suggest_loguniform has been deprecated in v3.0.0. This feature will be removed in v6.0.0. See https://github.com/optuna/optuna/releases/tag/v3.0.0. Use suggest_float(..., log=True) instead.\n",
      "  'learning_rate': trial.suggest_loguniform('learning_rate', 1e-3, 1e-1),\n",
      "C:\\Users\\nilarghya\\AppData\\Local\\Temp\\ipykernel_19804\\1114577306.py:18: FutureWarning: suggest_loguniform has been deprecated in v3.0.0. This feature will be removed in v6.0.0. See https://github.com/optuna/optuna/releases/tag/v3.0.0. Use suggest_float(..., log=True) instead.\n",
      "  'lambda_l1': trial.suggest_loguniform('lambda_l1', 1e-8, 10.0),\n",
      "C:\\Users\\nilarghya\\AppData\\Local\\Temp\\ipykernel_19804\\1114577306.py:19: FutureWarning: suggest_loguniform has been deprecated in v3.0.0. This feature will be removed in v6.0.0. See https://github.com/optuna/optuna/releases/tag/v3.0.0. Use suggest_float(..., log=True) instead.\n",
      "  'lambda_l2': trial.suggest_loguniform('lambda_l2', 1e-8, 10.0),\n",
      "C:\\Users\\nilarghya\\AppData\\Local\\Temp\\ipykernel_19804\\1114577306.py:20: FutureWarning: suggest_uniform has been deprecated in v3.0.0. This feature will be removed in v6.0.0. See https://github.com/optuna/optuna/releases/tag/v3.0.0. Use suggest_float instead.\n",
      "  'feature_fraction': trial.suggest_uniform('feature_fraction', 0.5, 1.0),\n",
      "C:\\Users\\nilarghya\\AppData\\Local\\Temp\\ipykernel_19804\\1114577306.py:21: FutureWarning: suggest_uniform has been deprecated in v3.0.0. This feature will be removed in v6.0.0. See https://github.com/optuna/optuna/releases/tag/v3.0.0. Use suggest_float instead.\n",
      "  'bagging_fraction': trial.suggest_uniform('bagging_fraction', 0.5, 1.0),\n"
     ]
    },
    {
     "name": "stdout",
     "output_type": "stream",
     "text": [
      "Training until validation scores don't improve for 20 rounds\n",
      "[10]\tvalid_0's multi_logloss: 0.729322\n",
      "[20]\tvalid_0's multi_logloss: 0.421658\n",
      "[30]\tvalid_0's multi_logloss: 0.315234\n",
      "[40]\tvalid_0's multi_logloss: 0.276401\n",
      "[50]\tvalid_0's multi_logloss: 0.261737\n",
      "[60]\tvalid_0's multi_logloss: 0.25924\n",
      "[70]\tvalid_0's multi_logloss: 0.259123\n"
     ]
    },
    {
     "name": "stderr",
     "output_type": "stream",
     "text": [
      "[I 2024-10-05 15:00:36,720] Trial 98 finished with value: 0.07608695652173914 and parameters: {'learning_rate': 0.0728549935934275, 'num_leaves': 244, 'max_depth': 4, 'min_data_in_leaf': 71, 'lambda_l1': 8.746646391016458e-06, 'lambda_l2': 1.860758084493001e-07, 'feature_fraction': 0.6278369008674947, 'bagging_fraction': 0.6705900130795044, 'bagging_freq': 2}. Best is trial 5 with value: 0.06521739130434778.\n"
     ]
    },
    {
     "name": "stdout",
     "output_type": "stream",
     "text": [
      "[80]\tvalid_0's multi_logloss: 0.260695\n",
      "Early stopping, best iteration is:\n",
      "[68]\tvalid_0's multi_logloss: 0.258522\n"
     ]
    },
    {
     "name": "stderr",
     "output_type": "stream",
     "text": [
      "C:\\Users\\nilarghya\\AppData\\Local\\Temp\\ipykernel_19804\\1114577306.py:14: FutureWarning: suggest_loguniform has been deprecated in v3.0.0. This feature will be removed in v6.0.0. See https://github.com/optuna/optuna/releases/tag/v3.0.0. Use suggest_float(..., log=True) instead.\n",
      "  'learning_rate': trial.suggest_loguniform('learning_rate', 1e-3, 1e-1),\n",
      "C:\\Users\\nilarghya\\AppData\\Local\\Temp\\ipykernel_19804\\1114577306.py:18: FutureWarning: suggest_loguniform has been deprecated in v3.0.0. This feature will be removed in v6.0.0. See https://github.com/optuna/optuna/releases/tag/v3.0.0. Use suggest_float(..., log=True) instead.\n",
      "  'lambda_l1': trial.suggest_loguniform('lambda_l1', 1e-8, 10.0),\n",
      "C:\\Users\\nilarghya\\AppData\\Local\\Temp\\ipykernel_19804\\1114577306.py:19: FutureWarning: suggest_loguniform has been deprecated in v3.0.0. This feature will be removed in v6.0.0. See https://github.com/optuna/optuna/releases/tag/v3.0.0. Use suggest_float(..., log=True) instead.\n",
      "  'lambda_l2': trial.suggest_loguniform('lambda_l2', 1e-8, 10.0),\n",
      "C:\\Users\\nilarghya\\AppData\\Local\\Temp\\ipykernel_19804\\1114577306.py:20: FutureWarning: suggest_uniform has been deprecated in v3.0.0. This feature will be removed in v6.0.0. See https://github.com/optuna/optuna/releases/tag/v3.0.0. Use suggest_float instead.\n",
      "  'feature_fraction': trial.suggest_uniform('feature_fraction', 0.5, 1.0),\n",
      "C:\\Users\\nilarghya\\AppData\\Local\\Temp\\ipykernel_19804\\1114577306.py:21: FutureWarning: suggest_uniform has been deprecated in v3.0.0. This feature will be removed in v6.0.0. See https://github.com/optuna/optuna/releases/tag/v3.0.0. Use suggest_float instead.\n",
      "  'bagging_fraction': trial.suggest_uniform('bagging_fraction', 0.5, 1.0),\n"
     ]
    },
    {
     "name": "stdout",
     "output_type": "stream",
     "text": [
      "Training until validation scores don't improve for 20 rounds\n",
      "[10]\tvalid_0's multi_logloss: 1.03866\n",
      "[20]\tvalid_0's multi_logloss: 0.643976\n",
      "[30]\tvalid_0's multi_logloss: 0.457585\n",
      "[40]\tvalid_0's multi_logloss: 0.35803\n",
      "[50]\tvalid_0's multi_logloss: 0.305111\n",
      "[60]\tvalid_0's multi_logloss: 0.276942\n",
      "[70]\tvalid_0's multi_logloss: 0.259842\n",
      "[80]\tvalid_0's multi_logloss: 0.251688\n",
      "[90]\tvalid_0's multi_logloss: 0.252367\n"
     ]
    },
    {
     "name": "stderr",
     "output_type": "stream",
     "text": [
      "[I 2024-10-05 15:00:38,359] Trial 99 finished with value: 0.07173913043478264 and parameters: {'learning_rate': 0.04102463252362221, 'num_leaves': 233, 'max_depth': 10, 'min_data_in_leaf': 42, 'lambda_l1': 0.00011082714498874595, 'lambda_l2': 1.0573179587530582e-08, 'feature_fraction': 0.7992057670795863, 'bagging_fraction': 0.6453419177703942, 'bagging_freq': 3}. Best is trial 5 with value: 0.06521739130434778.\n"
     ]
    },
    {
     "name": "stdout",
     "output_type": "stream",
     "text": [
      "[100]\tvalid_0's multi_logloss: 0.252061\n",
      "Early stopping, best iteration is:\n",
      "[85]\tvalid_0's multi_logloss: 0.249945\n",
      "Best trial:\n",
      "  Accuracy: 0.9347826086956522\n",
      "  Params: \n",
      "    learning_rate: 0.053579200419262236\n",
      "    num_leaves: 164\n",
      "    max_depth: 3\n",
      "    min_data_in_leaf: 60\n",
      "    lambda_l1: 0.0004248085758851102\n",
      "    lambda_l2: 2.365336284824762e-08\n",
      "    feature_fraction: 0.9536606109774236\n",
      "    bagging_fraction: 0.6708056640477734\n",
      "    bagging_freq: 1\n"
     ]
    }
   ],
   "source": [
    "import optuna\n",
    "import lightgbm as lgb\n",
    "from lightgbm import early_stopping, log_evaluation\n",
    "from sklearn.metrics import accuracy_score\n",
    "import numpy as np\n",
    "\n",
    "def objective(trial):\n",
    "    params = {\n",
    "        'objective': 'multiclass',\n",
    "        'num_class': len(np.unique(y_train)),\n",
    "        'metric': 'multi_logloss',\n",
    "        'verbosity': -1,\n",
    "        'boosting_type': 'gbdt',\n",
    "        'learning_rate': trial.suggest_loguniform('learning_rate', 1e-3, 1e-1),\n",
    "        'num_leaves': trial.suggest_int('num_leaves', 31, 256),\n",
    "        'max_depth': trial.suggest_int('max_depth', 3, 15),\n",
    "        'min_data_in_leaf': trial.suggest_int('min_data_in_leaf', 20, 100),\n",
    "        'lambda_l1': trial.suggest_loguniform('lambda_l1', 1e-8, 10.0),\n",
    "        'lambda_l2': trial.suggest_loguniform('lambda_l2', 1e-8, 10.0),\n",
    "        'feature_fraction': trial.suggest_uniform('feature_fraction', 0.5, 1.0),\n",
    "        'bagging_fraction': trial.suggest_uniform('bagging_fraction', 0.5, 1.0),\n",
    "        'bagging_freq': trial.suggest_int('bagging_freq', 1, 7),\n",
    "    }\n",
    "\n",
    "    # Ensure that X_train, y_train, X_test, y_test are accessible here\n",
    "    gbm = lgb.train(\n",
    "        params,\n",
    "        lgb.Dataset(X_train, label=y_train),\n",
    "        num_boost_round=200,\n",
    "        valid_sets=[lgb.Dataset(X_test, label=y_test)],\n",
    "        callbacks=[early_stopping(stopping_rounds=20), log_evaluation(10)]  # Verbose every 10 iterations\n",
    "    )\n",
    "\n",
    "    preds = gbm.predict(X_test, num_iteration=gbm.best_iteration)\n",
    "    pred_labels = np.argmax(preds, axis=1)\n",
    "    accuracy = accuracy_score(y_test, pred_labels)\n",
    "    return 1 - accuracy  # Minimize the error\n",
    "\n",
    "# Now run the optimization\n",
    "study = optuna.create_study(direction='minimize')\n",
    "study.optimize(objective, n_trials=100)\n",
    "\n",
    "print('Best trial:')\n",
    "trial = study.best_trial\n",
    "print(f'  Accuracy: {1 - trial.value}')\n",
    "print('  Params: ')\n",
    "for key, value in trial.params.items():\n",
    "    print(f'    {key}: {value}')\n"
   ]
  },
  {
   "cell_type": "markdown",
   "metadata": {},
   "source": [
    "import pywt\n",
    "\n",
    "def extract_features_wpd(signal):\n",
    "    wp = pywt.WaveletPacket(data=signal, wavelet='db4', mode='symmetric', maxlevel=5)\n",
    "    nodes = wp.get_level(5)\n",
    "    features = []\n",
    "    for node in nodes:\n",
    "        coeff = node.data\n",
    "        # Extract statistical features\n",
    "        features.extend([\n",
    "            np.mean(coeff),\n",
    "            np.std(coeff),\n",
    "            np.max(coeff),\n",
    "            np.min(coeff),\n",
    "            np.sum(np.abs(coeff)),\n",
    "            np.sqrt(np.mean(coeff ** 2))  # Root mean square\n",
    "        ])\n",
    "    return features\n",
    "\n",
    "# Apply to dataset\n",
    "X_train = np.array([extract_features_wpd(sig) for sig in X_train])\n",
    "X_test = np.array([extract_features_wpd(sig) for sig in X_test])\n"
   ]
  },
  {
   "cell_type": "markdown",
   "metadata": {},
   "source": [
    "\n",
    "\n",
    "\n",
    "\n",
    "\n",
    "\n",
    "\n",
    "\n",
    "\n",
    "\n",
    "\n",
    "\n",
    "\n",
    "\n",
    "\n",
    "\n",
    "\n",
    "\n",
    "\n",
    "\n",
    "\n",
    "\n",
    "\n",
    "\n",
    "\n",
    "\n",
    "\n",
    "\n",
    "\n",
    "\n",
    "\n",
    "\n",
    "\n",
    "\n",
    "\n",
    "\n",
    "\n",
    "\n",
    "\n",
    "\n",
    "\n",
    "\n",
    "\n",
    "\n",
    "\n",
    "\n",
    "\n",
    "\n",
    "\n",
    "\n",
    "\n",
    "\n",
    "\n",
    "\n",
    "\n",
    "\n",
    "\n",
    "\n",
    "\n",
    "\n",
    "\n",
    "\n",
    "\n",
    "\n",
    "\n",
    "\n",
    "\n",
    "\n",
    "\n",
    "\n",
    "\n",
    "\n",
    "\n",
    "\n",
    "\n",
    "\n",
    "\n",
    "\n",
    "\n",
    "\n",
    "\n",
    "\n",
    "\n",
    "\n",
    "\n",
    "\n",
    "\n",
    "\n",
    "\n",
    "\n",
    "\n",
    "\n",
    "\n",
    "\n",
    "\n",
    "\n",
    "\n",
    "\n",
    "\n",
    "\n",
    "\n",
    "\n",
    "\n",
    "\n",
    "\n",
    "\n",
    "\n",
    "\n",
    "\n",
    "\n",
    "\n",
    "\n",
    "\n",
    "\n",
    "\n",
    "\n",
    "\n",
    "\n",
    "\n",
    "\n",
    "\n",
    "\n",
    "\n",
    "\n",
    "\n",
    "\n",
    "\n",
    "\n",
    "\n",
    "\n",
    "\n",
    "\n",
    "\n",
    "\n",
    "\n",
    "\n",
    "\n",
    "\n",
    "\n",
    "\n",
    "\n",
    "\n",
    "\n",
    "\n",
    "\n",
    "\n",
    "\n",
    "\n",
    "\n",
    "\n",
    "\n",
    "\n",
    "\n",
    "\n",
    "\n",
    "\n",
    "\n",
    "\n",
    "\n",
    "\n",
    "\n",
    "\n",
    "\n",
    "\n",
    "\n",
    "\n",
    "\n",
    "\n",
    "\n",
    "\n",
    "\n",
    "\n",
    "\n",
    "\n",
    "\n",
    "\n",
    "\n",
    "\n",
    "\n",
    "\n",
    "\n",
    "\n",
    "\n",
    "\n",
    "\n",
    "\n",
    "\n",
    "\n",
    "\n",
    "\n",
    "\n",
    "\n",
    "\n",
    "\n",
    "\n",
    "\n",
    "\n",
    "\n",
    "\n",
    "\n",
    "\n",
    "\n",
    "\n",
    "\n",
    "\n",
    "\n",
    "\n",
    "\n",
    "\n",
    "\n",
    "\n",
    "\n",
    "\n",
    "\n",
    "\n",
    "\n",
    "\n",
    "\n",
    "\n",
    "\n",
    "\n",
    "\n",
    "\n",
    "\n",
    "\n",
    "\n",
    "\n",
    "\n",
    "\n",
    "\n",
    "\n",
    "\n",
    "m,,,,,,,,,,,,,,,,,,,,,,,,,,,,,,,,,,,,,,"
   ]
  }
 ],
 "metadata": {
  "kernelspec": {
   "display_name": "Python 3",
   "language": "python",
   "name": "python3"
  },
  "language_info": {
   "codemirror_mode": {
    "name": "ipython",
    "version": 3
   },
   "file_extension": ".py",
   "mimetype": "text/x-python",
   "name": "python",
   "nbconvert_exporter": "python",
   "pygments_lexer": "ipython3",
   "version": "3.10.1"
  }
 },
 "nbformat": 4,
 "nbformat_minor": 2
}
